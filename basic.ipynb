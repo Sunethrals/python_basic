{
 "cells": [
  {
   "cell_type": "code",
   "execution_count": 1,
   "metadata": {},
   "outputs": [
    {
     "data": {
      "text/plain": [
       "'Hello World'"
      ]
     },
     "execution_count": 1,
     "metadata": {},
     "output_type": "execute_result"
    }
   ],
   "source": [
    "#1) was to print \"hello World\" by using shell\n",
    "\n",
    "\"Hello World\""
   ]
  },
  {
   "cell_type": "code",
   "execution_count": 1,
   "metadata": {},
   "outputs": [
    {
     "name": "stdout",
     "output_type": "stream",
     "text": [
      "hello wrold\n"
     ]
    }
   ],
   "source": [
    "#2)wap to print hello world bu sing print function\n",
    "print(\"hello wrold\")\n"
   ]
  },
  {
   "cell_type": "code",
   "execution_count": 8,
   "metadata": {},
   "outputs": [
    {
     "name": "stdout",
     "output_type": "stream",
     "text": [
      "50\n"
     ]
    }
   ],
   "source": [
    "#3) was to intialize the variable and value as 50\n",
    "a=50\n",
    "print(a)"
   ]
  },
  {
   "cell_type": "code",
   "execution_count": 22,
   "metadata": {},
   "outputs": [
    {
     "name": "stdout",
     "output_type": "stream",
     "text": [
      "150\n",
      "120\n",
      "250\n"
     ]
    }
   ],
   "source": [
    "#4) was to intialize multible values are 150,120,250(take your own variable names)\n",
    "a,b,c=150,120,250\n",
    "print(a)\n",
    "print( b)\n",
    "print( c)"
   ]
  },
  {
   "cell_type": "code",
   "execution_count": 10,
   "metadata": {},
   "outputs": [
    {
     "data": {
      "text/plain": [
       "set"
      ]
     },
     "execution_count": 10,
     "metadata": {},
     "output_type": "execute_result"
    }
   ],
   "source": [
    "#5) was to print the type of the data in given values\n",
    "a={10,20}\n",
    "type(a)"
   ]
  },
  {
   "cell_type": "code",
   "execution_count": 18,
   "metadata": {},
   "outputs": [
    {
     "name": "stdout",
     "output_type": "stream",
     "text": [
      "1986661671520\n",
      "1986661669728\n"
     ]
    }
   ],
   "source": [
    "#6) was to print the address of the memory block in given value\n",
    "a={10,20}\n",
    "print(id(a))\n",
    "\n",
    "print(\n",
    "id({10,20}))\n"
   ]
  },
  {
   "cell_type": "code",
   "execution_count": 23,
   "metadata": {},
   "outputs": [
    {
     "name": "stdout",
     "output_type": "stream",
     "text": [
      "Name=sunethra\n",
      "21\n",
      "7396929629\n",
      "sunethra@gmail.com\n"
     ]
    }
   ],
   "source": [
    "#7) was to print your details first store your details,extract the values and display it.\n",
    "name=\"sunethra\"\n",
    "age=21\n",
    "phone=7396929629\n",
    "email=\"sunethra@gmail.com\"\n",
    "print(\"Name=\" + name)\n",
    "print(age)\n",
    "print(phone)\n",
    "print(email)"
   ]
  },
  {
   "cell_type": "code",
   "execution_count": 24,
   "metadata": {},
   "outputs": [
    {
     "name": "stdout",
     "output_type": "stream",
     "text": [
      "sunethra\n",
      "sai\n"
     ]
    }
   ],
   "source": [
    "#8) was to swap the two values with a temp variable\n",
    "a=\"sai\"\n",
    "b=\"sunethra\"\n",
    "temp=a\n",
    "a=b\n",
    "b=temp\n",
    "print(a)\n",
    "print(b)"
   ]
  },
  {
   "cell_type": "code",
   "execution_count": 25,
   "metadata": {},
   "outputs": [
    {
     "name": "stdout",
     "output_type": "stream",
     "text": [
      "sunethra\n",
      "sai\n"
     ]
    }
   ],
   "source": [
    "#9) was to swap the two values with a temp variable\n",
    "a=\"sai\"\n",
    "b=\"sunethra\"\n",
    "a,b=b,a\n",
    "print(a)\n",
    "print(b)"
   ]
  },
  {
   "cell_type": "code",
   "execution_count": 27,
   "metadata": {},
   "outputs": [
    {
     "name": "stdout",
     "output_type": "stream",
     "text": [
      "{'a': 'sunethra'}\n",
      "{'a': 'lakshmi'}\n",
      "[10, 20, 30]\n",
      "[10, 20, 30, 40, 50, 60]\n"
     ]
    },
    {
     "ename": "NameError",
     "evalue": "name 'a' is not defined",
     "output_type": "error",
     "traceback": [
      "\u001b[1;31m---------------------------------------------------------------------------\u001b[0m",
      "\u001b[1;31mNameError\u001b[0m                                 Traceback (most recent call last)",
      "Cell \u001b[1;32mIn[27], line 11\u001b[0m\n\u001b[0;32m      9\u001b[0m \u001b[39mprint\u001b[39m(a)\n\u001b[0;32m     10\u001b[0m \u001b[39mdel\u001b[39;00m a\n\u001b[1;32m---> 11\u001b[0m \u001b[39mprint\u001b[39m(a)\n",
      "\u001b[1;31mNameError\u001b[0m: name 'a' is not defined"
     ]
    }
   ],
   "source": [
    "#10) was to intialixe a value and print the value, after print the value, then reintialize the new value to the existing variable and display the value\n",
    "a={'a':\"sunethra\"} #intialization\n",
    "print(a) #fetch\n",
    "a['a']=\"lakshmi\"#modification\n",
    "print(a)\n",
    "a=[10,20,30]#reintialization\n",
    "print(a)\n",
    "a+=[40,50,60]\n",
    "print(a)\n",
    "del a\n",
    "print(a)\n",
    "\n"
   ]
  },
  {
   "cell_type": "code",
   "execution_count": 29,
   "metadata": {},
   "outputs": [
    {
     "name": "stdout",
     "output_type": "stream",
     "text": [
      "['1', '0']\n"
     ]
    },
    {
     "data": {
      "text/plain": [
       "['2', '0']"
      ]
     },
     "execution_count": 29,
     "metadata": {},
     "output_type": "execute_result"
    }
   ],
   "source": [
    "# 11) was to convert single to multi value data type I/P==> a=10 o/p==>[1,0]\n",
    "a=10\n",
    "a=str(a)\n",
    "a=list(a)\n",
    "print(a)\n",
    "\n",
    "b=20\n",
    "list(str(b))"
   ]
  },
  {
   "cell_type": "code",
   "execution_count": 35,
   "metadata": {},
   "outputs": [
    {
     "name": "stdout",
     "output_type": "stream",
     "text": [
      "sunethrasai\n",
      "[10, 20, 30, 400, 5, 60]\n",
      "[10, 20, 30, 'h', 'a', 'i']\n",
      "[10, 20, 30, 1, 2, 3]\n",
      "[10, 20, 30, 'a', 'b', 'c']\n",
      "[10, 20, 30, 'a', 'c']\n",
      "('a', 'b', 'c', 1, 2, 3)\n",
      "{50, 20, 40, 10, 30}\n",
      "{10: 20, 30: 40, 50: 60, 70: 80}\n"
     ]
    }
   ],
   "source": [
    "#12) was to concat the two multip values data types (str,list,tuple,set,dict)\n",
    "str=\"sunethra\"\n",
    "str+=\"sai\"\n",
    "print(str)\n",
    "list=[10,20,30]\n",
    "list+=[400,5,60]\n",
    "print(list)\n",
    "liststr=[10,20,30]\n",
    "liststr+='hai'\n",
    "print(liststr)\n",
    "listtuple=[10,20,30]\n",
    "listtuple+=(1,2,3)\n",
    "print(listtuple)\n",
    "listset=[10,20,30]\n",
    "listset+={'a','b','c'}\n",
    "print(listset)\n",
    "listdict=[10,20,30]\n",
    "listdict+={'a':'b','c':'d'}\n",
    "print(listdict)\n",
    "listlist=[10,20]\n",
    "listlist+=[30,40]\n",
    "tuple=('a','b','c')\n",
    "tuple+=(1,2,3)\n",
    "print(tuple)\n",
    "set={10,20,30}\n",
    "set|={40,50}\n",
    "print(set)\n",
    "dict={10:20,30:40}\n",
    "dict|={50:60,70:80}\n",
    "print(dict)\n"
   ]
  },
  {
   "cell_type": "code",
   "execution_count": 36,
   "metadata": {},
   "outputs": [
    {
     "data": {
      "text/plain": [
       "2"
      ]
     },
     "execution_count": 36,
     "metadata": {},
     "output_type": "execute_result"
    }
   ],
   "source": [
    "#13) was to check the length of the collection\n",
    "t=910,20\n",
    "len(t)"
   ]
  },
  {
   "cell_type": "code",
   "execution_count": 37,
   "metadata": {},
   "outputs": [
    {
     "data": {
      "text/plain": [
       "40"
      ]
     },
     "execution_count": 37,
     "metadata": {},
     "output_type": "execute_result"
    }
   ],
   "source": [
    "#14) wae to equation to send find out the middle value of the given collection\n",
    "d=[10,20,30,40,50,60]\n",
    "d[len(d)//2]\n"
   ]
  },
  {
   "cell_type": "code",
   "execution_count": 38,
   "metadata": {},
   "outputs": [
    {
     "name": "stdout",
     "output_type": "stream",
     "text": [
      "haiihow are you\n"
     ]
    }
   ],
   "source": [
    "#15) was to concat the dnew string into the starting of the given string\n",
    "a=\"how are you\"\n",
    "b=\"haii\"\n",
    "a=b+a\n",
    "print(a)\n"
   ]
  },
  {
   "cell_type": "code",
   "execution_count": 40,
   "metadata": {},
   "outputs": [
    {
     "name": "stdout",
     "output_type": "stream",
     "text": [
      "string\n"
     ]
    }
   ],
   "source": [
    "#16) was to connect the new string into the ending of the given string\n",
    "s=\"str\"\n",
    "t=\"ing\"\n",
    "s=s+t\n",
    "print(s)\n"
   ]
  },
  {
   "cell_type": "code",
   "execution_count": 54,
   "metadata": {},
   "outputs": [
    {
     "data": {
      "text/plain": [
       "'strin'"
      ]
     },
     "execution_count": 54,
     "metadata": {},
     "output_type": "execute_result"
    }
   ],
   "source": [
    "#17) was to connect the new string into the middle of the given string\n",
    "s=\"strg\"\n",
    "s[0:3:1]+ \"in\" +s[3:0:]\n"
   ]
  },
  {
   "cell_type": "code",
   "execution_count": 47,
   "metadata": {},
   "outputs": [
    {
     "data": {
      "text/plain": [
       "'pyspIders'"
      ]
     },
     "execution_count": 47,
     "metadata": {},
     "output_type": "execute_result"
    }
   ],
   "source": [
    "#18) was to modify the new character into the middle of the given string\n",
    "s=\"pyspiders\"\n",
    "s[0:len(s)//2]+'I'+s[(len(s)//2)+1:]\n",
    "  "
   ]
  },
  {
   "cell_type": "code",
   "execution_count": 55,
   "metadata": {},
   "outputs": [
    {
     "data": {
      "text/plain": [
       "'pysPIDers'"
      ]
     },
     "execution_count": 55,
     "metadata": {},
     "output_type": "execute_result"
    }
   ],
   "source": [
    "#19) was to modify the sequence of  character in given string\n",
    "s=\"pyspiders\"\n",
    "s[0:3]+\"PID\"+s[6:]\n"
   ]
  },
  {
   "cell_type": "code",
   "execution_count": 59,
   "metadata": {},
   "outputs": [
    {
     "name": "stdout",
     "output_type": "stream",
     "text": [
      "pyspiDers\n",
      "pyspiders\n"
     ]
    }
   ],
   "source": [
    "#20) was to replace the old characters in given character \n",
    "s=\"pyspiders\"\n",
    "print(s[:-4]+\"D\"+s[-3:])\n",
    "print(s[:5]+'d'+s[6:])"
   ]
  },
  {
   "cell_type": "code",
   "execution_count": 60,
   "metadata": {},
   "outputs": [
    {
     "data": {
      "text/plain": [
       "'pyiders'"
      ]
     },
     "execution_count": 60,
     "metadata": {},
     "output_type": "execute_result"
    }
   ],
   "source": [
    "#21) was to delete the specific characteer in the given string\n",
    "s=\"pysiders\"\n",
    "s[:2]+s[3:]\n"
   ]
  },
  {
   "cell_type": "code",
   "execution_count": 61,
   "metadata": {},
   "outputs": [
    {
     "data": {
      "text/plain": [
       "'pysrs'"
      ]
     },
     "execution_count": 61,
     "metadata": {},
     "output_type": "execute_result"
    }
   ],
   "source": [
    "#23) was to delete the specific characteer in the given string\n",
    "s=\"pysiders\"\n",
    "s[:3]+s[6:]"
   ]
  },
  {
   "cell_type": "code",
   "execution_count": 62,
   "metadata": {},
   "outputs": [
    {
     "data": {
      "text/plain": [
       "'haii how are you!'"
      ]
     },
     "execution_count": 62,
     "metadata": {},
     "output_type": "execute_result"
    }
   ],
   "source": [
    "#22) was to concat the new string into the specific position of the given string\n",
    "r='haii are you!'\n",
    "r[0:4+1]+\"how\"+r[4:]\n",
    "\n",
    "\n",
    "\n"
   ]
  },
  {
   "cell_type": "code",
   "execution_count": 63,
   "metadata": {},
   "outputs": [
    {
     "name": "stdout",
     "output_type": "stream",
     "text": [
      "['a', 'b', 1, 2, 3]\n"
     ]
    }
   ],
   "source": [
    "#24) was to concat the new value into the starting of the given list\n",
    "l=[1,2,3]\n",
    "l=[\"a\",\"b\"]+l\n",
    "print(l)\n",
    "#address will change"
   ]
  },
  {
   "cell_type": "code",
   "execution_count": 64,
   "metadata": {},
   "outputs": [
    {
     "name": "stdout",
     "output_type": "stream",
     "text": [
      "['a', 'b', 1, 2, 3]\n"
     ]
    }
   ],
   "source": [
    "#24) was to concat the new value into the starting of the given list\n",
    "l=[1,2,3]\n",
    "l[0:0]=[\"a\",\"b\"]\n",
    "print(l)\n",
    "#address will not change"
   ]
  },
  {
   "cell_type": "code",
   "execution_count": 65,
   "metadata": {},
   "outputs": [
    {
     "name": "stdout",
     "output_type": "stream",
     "text": [
      "[1, 2, 3, 'a', 'b']\n"
     ]
    }
   ],
   "source": [
    "#25) was to concat the new value into the ending of the given list\n",
    "l=[1,2,3]\n",
    "l=l+[\"a\",\"b\"]\n",
    "print(l)\n",
    "#address will change"
   ]
  },
  {
   "cell_type": "code",
   "execution_count": 66,
   "metadata": {},
   "outputs": [
    {
     "name": "stdout",
     "output_type": "stream",
     "text": [
      "[1, 2, 3, 'a', 'b']\n"
     ]
    }
   ],
   "source": [
    "#25) was to concat the new value into the ending of the given list\n",
    "l=[1,2,3]\n",
    "l[4:4]=[\"a\",\"b\"]\n",
    "print(l)\n",
    "#address will not change"
   ]
  },
  {
   "cell_type": "code",
   "execution_count": 67,
   "metadata": {},
   "outputs": [
    {
     "name": "stdout",
     "output_type": "stream",
     "text": [
      "[1, 2, 3, 'a', 'b']\n"
     ]
    }
   ],
   "source": [
    "#25) was to concat the new value into the ending of the given list\n",
    "l=[1,2,3]\n",
    "l+=[\"a\",\"b\"]\n",
    "print(l)\n",
    "#address will not change"
   ]
  },
  {
   "cell_type": "code",
   "execution_count": 77,
   "metadata": {},
   "outputs": [
    {
     "name": "stdout",
     "output_type": "stream",
     "text": [
      "[1, '10', '20', 2, 3]\n"
     ]
    }
   ],
   "source": [
    "#26) was to concat the new value into the middle of the given list\n",
    "\n",
    "l=[1,2,3]\n",
    "l[len(l)//2 : len(l)//2]=['10','20']\n",
    "print(l)"
   ]
  },
  {
   "cell_type": "code",
   "execution_count": 2,
   "metadata": {},
   "outputs": [
    {
     "name": "stdout",
     "output_type": "stream",
     "text": [
      "[10, 150.12, 100, 200, True, 'hai']\n"
     ]
    }
   ],
   "source": [
    "#27) was to concat the new value into the specific position of the given list\n",
    "l=[10,150.12,True,'hai']\n",
    "l[-2:-2]=[100,200]\n",
    "print(l)"
   ]
  },
  {
   "cell_type": "code",
   "execution_count": 3,
   "metadata": {},
   "outputs": [
    {
     "name": "stdout",
     "output_type": "stream",
     "text": [
      "[10, 150.12, [100, 200], 'hai']\n"
     ]
    }
   ],
   "source": [
    "#28) was to modify the new value into the specific position of the given list\n",
    "l=[10,150.12,True,'hai']\n",
    "l[-2]=[100,200]\n",
    "print(l)"
   ]
  },
  {
   "cell_type": "code",
   "execution_count": 4,
   "metadata": {},
   "outputs": [
    {
     "name": "stdout",
     "output_type": "stream",
     "text": [
      "[[100, 200], 150.12, True, 'hai']\n"
     ]
    }
   ],
   "source": [
    "#29) was to modify the new value into the starting of th given list\n",
    "l=[10,150.12,True,'hai']\n",
    "l[0]=[100,200]\n",
    "print(l)"
   ]
  },
  {
   "cell_type": "code",
   "execution_count": 5,
   "metadata": {},
   "outputs": [
    {
     "name": "stdout",
     "output_type": "stream",
     "text": [
      "[10, 150.12, True, [100, 200]]\n"
     ]
    }
   ],
   "source": [
    "#30) was to modify the new value into the ending of th given list\n",
    "l=[10,150.12,True,'hai']\n",
    "l[-1]=[100,200]\n",
    "print(l)"
   ]
  },
  {
   "cell_type": "code",
   "execution_count": 8,
   "metadata": {},
   "outputs": [
    {
     "name": "stdout",
     "output_type": "stream",
     "text": [
      "[10, 150.12, [100, 200], 'hai']\n"
     ]
    }
   ],
   "source": [
    "#31) was to modify the new value into the middle of th given list\n",
    "l=[10,150.12,True,'hai']\n",
    "l[len(l)//2]=[100,200]\n",
    "print(l)"
   ]
  },
  {
   "cell_type": "code",
   "execution_count": 10,
   "metadata": {},
   "outputs": [
    {
     "name": "stdout",
     "output_type": "stream",
     "text": [
      "[100, 200, 300, 400, 5, 6, 7]\n"
     ]
    }
   ],
   "source": [
    "#32) was to modify the firdt 4 position value into the starting of th given list\n",
    "l=[10,150.12,True,'hai',5,6,7]\n",
    "l[0:4]=[100,200,300,400]\n",
    "print(l)"
   ]
  },
  {
   "cell_type": "code",
   "execution_count": 12,
   "metadata": {},
   "outputs": [
    {
     "name": "stdout",
     "output_type": "stream",
     "text": [
      "[10, 100, 200, 300, 400, 'hai', 5, 6, 7]\n"
     ]
    }
   ],
   "source": [
    "#33) was to modify the sequence of  value into the starting of th given list\n",
    "l=[10,150.12,True,'hai',5,6,7]\n",
    "l[1:3]=[100,200,300,400]\n",
    "print(l)"
   ]
  },
  {
   "cell_type": "code",
   "execution_count": 13,
   "metadata": {},
   "outputs": [
    {
     "data": {
      "text/plain": [
       "[1, 3, 4, 5, 16, 7, 64, 9, 225]"
      ]
     },
     "execution_count": 13,
     "metadata": {},
     "output_type": "execute_result"
    }
   ],
   "source": [
    "#d=[1,3,2,5,4,7,8,9,15] o/p==> d=[1,3,4,5,16,7,64,61]\n",
    "\n",
    "d=[1,3,2,5,4,7,8,9,15]\n",
    "d[::2]=[d[0]**2,d[2]**2,d[4]**2,d[6]**2,d[8]**2,]\n",
    "d\n"
   ]
  },
  {
   "cell_type": "code",
   "execution_count": 19,
   "metadata": {},
   "outputs": [
    {
     "data": {
      "text/plain": [
       "[1, 2, 3, 4, 5, 6, 7, 8]"
      ]
     },
     "execution_count": 19,
     "metadata": {},
     "output_type": "execute_result"
    }
   ],
   "source": [
    "#34) was to delete the values in the specific position of the given list \n",
    "\n",
    "l=[1,2,3,4,5,6,7,8]\n",
    "l[0:3]+l[4::]\n",
    "l\n",
    "\n"
   ]
  },
  {
   "cell_type": "code",
   "execution_count": 20,
   "metadata": {},
   "outputs": [
    {
     "data": {
      "text/plain": [
       "[1, 2, 4, 5, 6, 7, 8]"
      ]
     },
     "execution_count": 20,
     "metadata": {},
     "output_type": "execute_result"
    }
   ],
   "source": [
    "# 34) was to delete the values in the specific position of the given list \n",
    "\n",
    "l=[1,2,3,4,5,6,7,8]\n",
    "del l[2]\n",
    "l"
   ]
  },
  {
   "cell_type": "code",
   "execution_count": 21,
   "metadata": {},
   "outputs": [
    {
     "data": {
      "text/plain": [
       "[1, 2, 3, 4, 6, 7, 8]"
      ]
     },
     "execution_count": 21,
     "metadata": {},
     "output_type": "execute_result"
    }
   ],
   "source": [
    "# 34) was to delete the values in the specific position of the given list \n",
    "\n",
    "l=[1,2,3,4,5,6,7,8]\n",
    "l[4:5]=[]\n",
    "l"
   ]
  },
  {
   "cell_type": "code",
   "execution_count": 4,
   "metadata": {},
   "outputs": [
    {
     "data": {
      "text/plain": [
       "[1, 2, 3, 4, 5]"
      ]
     },
     "execution_count": 4,
     "metadata": {},
     "output_type": "execute_result"
    }
   ],
   "source": [
    "#35) was to delete the new value into the ending of the list\n",
    "l=[1,2,3,4,5,6]\n",
    "del l[-1]\n",
    "l"
   ]
  },
  {
   "cell_type": "code",
   "execution_count": 5,
   "metadata": {},
   "outputs": [
    {
     "data": {
      "text/plain": [
       "[1, 2, 3, 5, 6]"
      ]
     },
     "execution_count": 5,
     "metadata": {},
     "output_type": "execute_result"
    }
   ],
   "source": [
    "#36) was to delete the new value into the middle of the list\n",
    "l=[1,2,3,4,5,6]\n",
    "del l[len(l)//2]\n",
    "l"
   ]
  },
  {
   "cell_type": "code",
   "execution_count": 6,
   "metadata": {},
   "outputs": [
    {
     "data": {
      "text/plain": [
       "[2, 3, 4, 5, 6]"
      ]
     },
     "execution_count": 6,
     "metadata": {},
     "output_type": "execute_result"
    }
   ],
   "source": [
    "#37) was to delete the new value into the starting of the list\n",
    "l=[1,2,3,4,5,6]\n",
    "del l[0]\n",
    "l"
   ]
  },
  {
   "cell_type": "code",
   "execution_count": 7,
   "metadata": {},
   "outputs": [
    {
     "data": {
      "text/plain": [
       "(10, 20, 1, 2, 3, 4, 5, 6)"
      ]
     },
     "execution_count": 7,
     "metadata": {},
     "output_type": "execute_result"
    }
   ],
   "source": [
    "#38) was to concat the value into starting of tuple\n",
    "t=(1,2,3,4,5,6)\n",
    "t=(10,20)+t[0::]\n",
    "t\n",
    "#adress will change"
   ]
  },
  {
   "cell_type": "code",
   "execution_count": 9,
   "metadata": {},
   "outputs": [
    {
     "data": {
      "text/plain": [
       "(1, 2, 3, 10, 20, 4, 5, 6)"
      ]
     },
     "execution_count": 9,
     "metadata": {},
     "output_type": "execute_result"
    }
   ],
   "source": [
    "#39) was to concat the value into middle of tuple\n",
    "t=(1,2,3,4,5,6)\n",
    "t=t[0:len(t)//2]+(10,20)+t[len(t)//2::]\n",
    "t"
   ]
  },
  {
   "cell_type": "code",
   "execution_count": 10,
   "metadata": {},
   "outputs": [
    {
     "data": {
      "text/plain": [
       "(1, 2, 3, 4, 5, 6, 10, 20)"
      ]
     },
     "execution_count": 10,
     "metadata": {},
     "output_type": "execute_result"
    }
   ],
   "source": [
    "#40) was to concat the value into starting of tuple\n",
    "t=(1,2,3,4,5,6)\n",
    "t=t[0::]+(10,20)\n",
    "t"
   ]
  },
  {
   "cell_type": "code",
   "execution_count": 12,
   "metadata": {},
   "outputs": [
    {
     "data": {
      "text/plain": [
       "(1, 2, 3, 10, 20, 6)"
      ]
     },
     "execution_count": 12,
     "metadata": {},
     "output_type": "execute_result"
    }
   ],
   "source": [
    "#41) was to modify the sequence of values in given tuple\n",
    "t=(1,2,3,4,5,6)\n",
    "t=t[0:3:]+(10,20)+t[-1::]\n",
    "t"
   ]
  },
  {
   "cell_type": "code",
   "execution_count": 13,
   "metadata": {},
   "outputs": [
    {
     "data": {
      "text/plain": [
       "(4, 5, 6)"
      ]
     },
     "execution_count": 13,
     "metadata": {},
     "output_type": "execute_result"
    }
   ],
   "source": [
    "#42) was to delete the sequence of values in given tuple\n",
    "t=(1,2,3,4,5,6)\n",
    "t=t[3::]\n",
    "t"
   ]
  },
  {
   "cell_type": "code",
   "execution_count": 14,
   "metadata": {},
   "outputs": [
    {
     "data": {
      "text/plain": [
       "{1, 2, 3, 'a', 'b'}"
      ]
     },
     "execution_count": 14,
     "metadata": {},
     "output_type": "execute_result"
    }
   ],
   "source": [
    "#43) was to concat the new value into the set\n",
    "s={1,2,3}\n",
    "s=s|{'a','b'}\n",
    "s\n",
    "#address will change"
   ]
  },
  {
   "cell_type": "code",
   "execution_count": 15,
   "metadata": {},
   "outputs": [
    {
     "data": {
      "text/plain": [
       "{1, 2, 3, 'a', 'b'}"
      ]
     },
     "execution_count": 15,
     "metadata": {},
     "output_type": "execute_result"
    }
   ],
   "source": [
    "#43) was to concat the new value into the set\n",
    "s={1,2,3}\n",
    "s|={'a','b'}\n",
    "s\n",
    "#address will  not change"
   ]
  },
  {
   "cell_type": "code",
   "execution_count": 16,
   "metadata": {},
   "outputs": [
    {
     "data": {
      "text/plain": [
       "{1, 2, 3}"
      ]
     },
     "execution_count": 16,
     "metadata": {},
     "output_type": "execute_result"
    }
   ],
   "source": [
    "#44) was to delete the specific value into the set\n",
    "s={1,2,3,4,5,6}\n",
    "s=s-{4,5,6}\n",
    "s\n",
    "# address will change"
   ]
  },
  {
   "cell_type": "code",
   "execution_count": 17,
   "metadata": {},
   "outputs": [
    {
     "data": {
      "text/plain": [
       "{1, 2, 3}"
      ]
     },
     "execution_count": 17,
     "metadata": {},
     "output_type": "execute_result"
    }
   ],
   "source": [
    "#44) was to delete the specific value into the set\n",
    "s={1,2,3,4,5,6}\n",
    "s-={4,5,6}\n",
    "s\n",
    "# address will not change"
   ]
  },
  {
   "cell_type": "code",
   "execution_count": 20,
   "metadata": {},
   "outputs": [
    {
     "name": "stdout",
     "output_type": "stream",
     "text": [
      "{'a': 10, 'b': 20}\n",
      "{'a': 30, 'b': 40, 'c': 50, 'd': 60}\n"
     ]
    }
   ],
   "source": [
    "#45) was to concat the new key and values into the dict\n",
    "d={'a':10}\n",
    "d['b']=20\n",
    "print(d)\n",
    "e={'a':30,'b':40}\n",
    "f={'c':50,'d':60}\n",
    "e|=f\n",
    "print( e)"
   ]
  },
  {
   "cell_type": "code",
   "execution_count": 22,
   "metadata": {},
   "outputs": [
    {
     "data": {
      "text/plain": [
       "{'a': 30, 'b': 40, 'd': 60}"
      ]
     },
     "execution_count": 22,
     "metadata": {},
     "output_type": "execute_result"
    }
   ],
   "source": [
    "#46) was to delete the specific value and key in the dict\n",
    "d={'a': 30, 'b': 40, 'c': 50, 'd': 60}\n",
    "del d['c']\n",
    "d"
   ]
  },
  {
   "cell_type": "code",
   "execution_count": 24,
   "metadata": {},
   "outputs": [
    {
     "data": {
      "text/plain": [
       "{'a': 30, 'b': 20, 'c': 50, 'd': 60}"
      ]
     },
     "execution_count": 24,
     "metadata": {},
     "output_type": "execute_result"
    }
   ],
   "source": [
    "# 47) was to modify the specific value and key in the dict\n",
    "d={'a': 30, 'b': 40, 'c': 50, 'd': 60}\n",
    "d['b']=20\n",
    "d"
   ]
  },
  {
   "cell_type": "code",
   "execution_count": 25,
   "metadata": {},
   "outputs": [
    {
     "data": {
      "text/plain": [
       "{'a': 30, 'b': 0, 'c': 50, 'd': 60}"
      ]
     },
     "execution_count": 25,
     "metadata": {},
     "output_type": "execute_result"
    }
   ],
   "source": [
    "#47) was to modify the specific value and key in the dict\n",
    "d={'a': 30, 'b': 40, 'c': 50, 'd': 60}\n",
    "d|={'a': 30, 'b': 0, 'c': 50, 'd': 60}\n",
    "d"
   ]
  },
  {
   "cell_type": "code",
   "execution_count": 28,
   "metadata": {},
   "outputs": [
    {
     "data": {
      "text/plain": [
       "('a', 'b', 'c', 10, 20, 30)"
      ]
     },
     "execution_count": 28,
     "metadata": {},
     "output_type": "execute_result"
    }
   ],
   "source": [
    "#48) was to concat the list and tuple by using type casting\n",
    "l=['a','b','c']\n",
    "t=(10,20,30)\n",
    "tuple(l)+t\n",
    "\n",
    "\n"
   ]
  },
  {
   "cell_type": "code",
   "execution_count": 29,
   "metadata": {},
   "outputs": [
    {
     "data": {
      "text/plain": [
       "['a', 'b', 'c', 10, 20, 30]"
      ]
     },
     "execution_count": 29,
     "metadata": {},
     "output_type": "execute_result"
    }
   ],
   "source": [
    "#48) was to concat the list and tuple by using type casting\n",
    "l=['a','b','c']\n",
    "t=(10,20,30)\n",
    "l+list(t)"
   ]
  },
  {
   "cell_type": "code",
   "execution_count": 30,
   "metadata": {},
   "outputs": [
    {
     "data": {
      "text/plain": [
       "['a', 'b', 'c', 10, 20, 30]"
      ]
     },
     "execution_count": 30,
     "metadata": {},
     "output_type": "execute_result"
    }
   ],
   "source": [
    "#49) was to concat the list and tuple by using without type casting\n",
    "l=['a','b','c']\n",
    "t=(10,20,30)\n",
    "l+=t\n",
    "l"
   ]
  },
  {
   "cell_type": "code",
   "execution_count": 31,
   "metadata": {},
   "outputs": [
    {
     "name": "stdout",
     "output_type": "stream",
     "text": [
      "False\n"
     ]
    }
   ],
   "source": [
    "#50) wae to check the given number is divisible by 3\n",
    "n=19\n",
    "print(n%3==0)"
   ]
  },
  {
   "cell_type": "code",
   "execution_count": 32,
   "metadata": {},
   "outputs": [
    {
     "name": "stdout",
     "output_type": "stream",
     "text": [
      "False\n"
     ]
    }
   ],
   "source": [
    "#51) wae to check the given number is divisible by 2 and 6\n",
    "n=19\n",
    "print(n%2==0 and n%6==0)"
   ]
  },
  {
   "cell_type": "code",
   "execution_count": 33,
   "metadata": {},
   "outputs": [
    {
     "data": {
      "text/plain": [
       "9"
      ]
     },
     "execution_count": 33,
     "metadata": {},
     "output_type": "execute_result"
    }
   ],
   "source": [
    "#52) wae to extract the last digit in the given integer number (without type casting)\n",
    "n=1999\n",
    "n%10"
   ]
  },
  {
   "cell_type": "code",
   "execution_count": 34,
   "metadata": {},
   "outputs": [
    {
     "data": {
      "text/plain": [
       "True"
      ]
     },
     "execution_count": 34,
     "metadata": {},
     "output_type": "execute_result"
    }
   ],
   "source": [
    "#wae to check the last digit is divisible by 3 from given integer number(without typecasting)\n",
    "n=1996\n",
    "((n%10)%3)==0"
   ]
  },
  {
   "cell_type": "code",
   "execution_count": 35,
   "metadata": {},
   "outputs": [
    {
     "data": {
      "text/plain": [
       "True"
      ]
     },
     "execution_count": 35,
     "metadata": {},
     "output_type": "execute_result"
    }
   ],
   "source": [
    "#wae to check the last digit is divisible by 3 from given integer number(without typecasting)\n",
    "n=1996\n",
    "(int(str(n)[-1]))%3==0"
   ]
  },
  {
   "cell_type": "code",
   "execution_count": 36,
   "metadata": {},
   "outputs": [
    {
     "name": "stdout",
     "output_type": "stream",
     "text": [
      "True\n"
     ]
    }
   ],
   "source": [
    "#wae to check the given number is greater than 150\n",
    "n=140\n",
    "print(n<150)"
   ]
  },
  {
   "cell_type": "code",
   "execution_count": 38,
   "metadata": {},
   "outputs": [
    {
     "name": "stdout",
     "output_type": "stream",
     "text": [
      "False\n"
     ]
    }
   ],
   "source": [
    "#wae to check the given number is greater than and equal to 100\n",
    "\n",
    "n=140\n",
    "\n",
    "print(n<=100)\n"
   ]
  },
  {
   "cell_type": "code",
   "execution_count": 39,
   "metadata": {},
   "outputs": [
    {
     "name": "stdout",
     "output_type": "stream",
     "text": [
      "False\n"
     ]
    }
   ],
   "source": [
    "#wae to check the given number is less than 150\n",
    "n=140\n",
    "print(n>150)"
   ]
  },
  {
   "cell_type": "code",
   "execution_count": 41,
   "metadata": {},
   "outputs": [
    {
     "name": "stdout",
     "output_type": "stream",
     "text": [
      "False\n"
     ]
    }
   ],
   "source": [
    "#wae to check the given number is less than and equal to 100\n",
    "\n",
    "n=140\n",
    "\n",
    "print(n<=100)"
   ]
  },
  {
   "cell_type": "code",
   "execution_count": 42,
   "metadata": {},
   "outputs": [
    {
     "name": "stdout",
     "output_type": "stream",
     "text": [
      "True\n"
     ]
    }
   ],
   "source": [
    "#wae to check the given number is grater than 15 and less than 24\n",
    "n=20\n",
    "print(n>15 and n<24)\n"
   ]
  },
  {
   "cell_type": "code",
   "execution_count": 43,
   "metadata": {},
   "outputs": [
    {
     "name": "stdout",
     "output_type": "stream",
     "text": [
      "True\n"
     ]
    }
   ],
   "source": [
    "#wae to check the given number is even\n",
    "n=6\n",
    "print((n%2)==0)"
   ]
  },
  {
   "cell_type": "code",
   "execution_count": 44,
   "metadata": {},
   "outputs": [
    {
     "name": "stdout",
     "output_type": "stream",
     "text": [
      "False\n"
     ]
    }
   ],
   "source": [
    "#wae to check the given number is even\n",
    "n=6\n",
    "print((n%2)!=0)"
   ]
  },
  {
   "cell_type": "code",
   "execution_count": 45,
   "metadata": {},
   "outputs": [
    {
     "name": "stdout",
     "output_type": "stream",
     "text": [
      "abcabcabcabcabcabc\n"
     ]
    }
   ],
   "source": [
    "#wae to check perform the replication of a given string with 6\n",
    "s=\"abc\"\n",
    "print(s*6)"
   ]
  },
  {
   "cell_type": "code",
   "execution_count": 46,
   "metadata": {},
   "outputs": [
    {
     "name": "stdout",
     "output_type": "stream",
     "text": [
      "True\n"
     ]
    }
   ],
   "source": [
    "#wae to check the given number is divisible by 3 and also the number should be greater than 22\n",
    "n=24\n",
    "print(n%3==0 and n>22)"
   ]
  },
  {
   "cell_type": "code",
   "execution_count": 47,
   "metadata": {},
   "outputs": [
    {
     "data": {
      "text/plain": [
       "True"
      ]
     },
     "execution_count": 47,
     "metadata": {},
     "output_type": "execute_result"
    }
   ],
   "source": [
    "#wae to check perform the len of collection is even or not\n",
    "g=\"sunethra\"\n",
    "len(g)%2==0"
   ]
  },
  {
   "cell_type": "code",
   "execution_count": 48,
   "metadata": {},
   "outputs": [
    {
     "name": "stdout",
     "output_type": "stream",
     "text": [
      "True\n"
     ]
    }
   ],
   "source": [
    "#wae to check perform the length of the collection is less than 55 and greather than 16\n",
    "r=\"sunethra lakshmi sai\"\n",
    "print(len(r)>16 and len(r)<55)"
   ]
  },
  {
   "cell_type": "code",
   "execution_count": 49,
   "metadata": {},
   "outputs": [
    {
     "data": {
      "text/plain": [
       "True"
      ]
     },
     "execution_count": 49,
     "metadata": {},
     "output_type": "execute_result"
    }
   ],
   "source": [
    "#wae to check perform the length of the collection is less than 55 and greather than 16\n",
    "r=\"sunethra lakshmi sai\"\n",
    "16<len(r) and len(r)<55"
   ]
  },
  {
   "cell_type": "code",
   "execution_count": 50,
   "metadata": {},
   "outputs": [
    {
     "data": {
      "text/plain": [
       "True"
      ]
     },
     "execution_count": 50,
     "metadata": {},
     "output_type": "execute_result"
    }
   ],
   "source": [
    "#wae to check perform the length of the collection is less than 55 and greather than 16\n",
    "r=\"sunethra lakshmi sai\"\n",
    "16<len(r)<55"
   ]
  },
  {
   "cell_type": "code",
   "execution_count": 51,
   "metadata": {},
   "outputs": [
    {
     "name": "stdout",
     "output_type": "stream",
     "text": [
      "False\n"
     ]
    }
   ],
   "source": [
    "#wae to check perform the len of collection is divisible by 5 and odd\n",
    "r=\"sunethra lakshmi sai\"\n",
    "print(len(r)%5==0 and len(r)%2!=0)\n"
   ]
  },
  {
   "cell_type": "code",
   "execution_count": 52,
   "metadata": {},
   "outputs": [
    {
     "name": "stdout",
     "output_type": "stream",
     "text": [
      "True\n"
     ]
    }
   ],
   "source": [
    "#wae to check extract the middle position of a given collection is either str,list,tuple\n",
    "s=\"hai\"\n",
    "res=type(s[len(s)//2])\n",
    "print(res in [str,list,tuple])"
   ]
  },
  {
   "cell_type": "code",
   "execution_count": 53,
   "metadata": {},
   "outputs": [
    {
     "data": {
      "text/plain": [
       "True"
      ]
     },
     "execution_count": 53,
     "metadata": {},
     "output_type": "execute_result"
    }
   ],
   "source": [
    "#wae to check the given number is greater than 20 and less than 30 and it should be even\n",
    "n=26\n",
    "n>20 and n<30 and n%2==0"
   ]
  },
  {
   "cell_type": "code",
   "execution_count": 54,
   "metadata": {},
   "outputs": [
    {
     "data": {
      "text/plain": [
       "False"
      ]
     },
     "execution_count": 54,
     "metadata": {},
     "output_type": "execute_result"
    }
   ],
   "source": [
    "#wae to check the given number is even and it is shou;d be less than 120\n",
    "n=198\n",
    "n<120 and n%2==0"
   ]
  },
  {
   "cell_type": "code",
   "execution_count": 55,
   "metadata": {},
   "outputs": [
    {
     "data": {
      "text/plain": [
       "True"
      ]
     },
     "execution_count": 55,
     "metadata": {},
     "output_type": "execute_result"
    }
   ],
   "source": [
    "#wae to check the given number is even and present from 40 to 70\n",
    "n=50\n",
    "n%2==0 and 40<=n and n<70"
   ]
  },
  {
   "cell_type": "code",
   "execution_count": 56,
   "metadata": {},
   "outputs": [
    {
     "data": {
      "text/plain": [
       "False"
      ]
     },
     "execution_count": 56,
     "metadata": {},
     "output_type": "execute_result"
    }
   ],
   "source": [
    "#wae to check the given nember is odd and should be grater than 97\n",
    "n=100\n",
    "n>97 and n%2!=0\n"
   ]
  },
  {
   "cell_type": "code",
   "execution_count": 57,
   "metadata": {},
   "outputs": [
    {
     "data": {
      "text/plain": [
       "True"
      ]
     },
     "execution_count": 57,
     "metadata": {},
     "output_type": "execute_result"
    }
   ],
   "source": [
    "#wae to check the given number is less than 122 and greater than 48 and the number should be divisible by 4\n",
    "n=100\n",
    "n<122 and n>48 and n%4==0"
   ]
  },
  {
   "cell_type": "code",
   "execution_count": null,
   "metadata": {},
   "outputs": [],
   "source": [
    "#wae to check the given number is divisible by 3 or 5 dispaying values\n"
   ]
  },
  {
   "cell_type": "code",
   "execution_count": 58,
   "metadata": {},
   "outputs": [
    {
     "data": {
      "text/plain": [
       "True"
      ]
     },
     "execution_count": 58,
     "metadata": {},
     "output_type": "execute_result"
    }
   ],
   "source": [
    "#wae to check the given number is between 100 and 200 including the limit\n",
    "n=200\n",
    "100<=n and n<=200"
   ]
  },
  {
   "cell_type": "code",
   "execution_count": 59,
   "metadata": {},
   "outputs": [
    {
     "data": {
      "text/plain": [
       "True"
      ]
     },
     "execution_count": 59,
     "metadata": {},
     "output_type": "execute_result"
    }
   ],
   "source": [
    "#wae to check the given number is in between 100 and 200\n",
    "n=150\n",
    "\n",
    "100<n and n<200\n"
   ]
  },
  {
   "cell_type": "code",
   "execution_count": 61,
   "metadata": {},
   "outputs": [
    {
     "name": "stdout",
     "output_type": "stream",
     "text": [
      "False\n"
     ]
    }
   ],
   "source": [
    "#wae to check the given string last character ascii value should be divisib;e by 5\n",
    "s=\"sunethra\"\n",
    "print(ord(s[-1])%5==0)"
   ]
  },
  {
   "cell_type": "code",
   "execution_count": 6,
   "metadata": {},
   "outputs": [
    {
     "name": "stdout",
     "output_type": "stream",
     "text": [
      "True\n"
     ]
    }
   ],
   "source": [
    "#wae to check the given number is present between 60 and 130 and the number should be divisible by 3 and 4 and the last digit should be less than 9\n",
    "n=120\n",
    "print(60<=n<=130 and n%3==0 and n%4==0 and n%10<9)\n"
   ]
  },
  {
   "cell_type": "code",
   "execution_count": 16,
   "metadata": {},
   "outputs": [
    {
     "name": "stdout",
     "output_type": "stream",
     "text": [
      "False\n",
      "True\n"
     ]
    }
   ],
   "source": [
    "#wae to check the given number is even or less than 25\n",
    "n=23\n",
    "print(n<25 and n%2==0)\n",
    "\n",
    "# we can use or operator also \n",
    "n=24\n",
    "print(n%2==0 or n<25)\n"
   ]
  },
  {
   "cell_type": "code",
   "execution_count": 23,
   "metadata": {},
   "outputs": [
    {
     "name": "stdout",
     "output_type": "stream",
     "text": [
      "True\n",
      "False\n"
     ]
    }
   ],
   "source": [
    "#wae to check the given number is even or grethan than 25\n",
    "n=27\n",
    "print( n%2==0 or n>25)\n",
    "\n",
    "# we can use and operator also \n",
    "n=27\n",
    "print(n%2==0 and n>25)\n",
    " "
   ]
  },
  {
   "cell_type": "code",
   "execution_count": 24,
   "metadata": {},
   "outputs": [
    {
     "name": "stdout",
     "output_type": "stream",
     "text": [
      "True\n"
     ]
    }
   ],
   "source": [
    "#wae to check the given number is divisible by either 3 or 5\n",
    "n=40\n",
    "print(n%3==0 or n%5==0)"
   ]
  },
  {
   "cell_type": "code",
   "execution_count": 25,
   "metadata": {},
   "outputs": [
    {
     "name": "stdout",
     "output_type": "stream",
     "text": [
      "False\n"
     ]
    }
   ],
   "source": [
    "#wae to check the given number is not an even number\n",
    "n=40\n",
    "print(n%2!=0)"
   ]
  },
  {
   "cell_type": "code",
   "execution_count": 26,
   "metadata": {},
   "outputs": [
    {
     "name": "stdout",
     "output_type": "stream",
     "text": [
      "True\n"
     ]
    }
   ],
   "source": [
    "#wae to check the given number is not an odd number\n",
    "n=40\n",
    "print(n%2==0)"
   ]
  },
  {
   "cell_type": "code",
   "execution_count": 27,
   "metadata": {},
   "outputs": [
    {
     "name": "stdout",
     "output_type": "stream",
     "text": [
      "True\n"
     ]
    }
   ],
   "source": [
    "#wae to check the given number is not divisible by 3\n",
    "n=40\n",
    "print(n%3!=0)"
   ]
  },
  {
   "cell_type": "code",
   "execution_count": 39,
   "metadata": {},
   "outputs": [
    {
     "name": "stdout",
     "output_type": "stream",
     "text": [
      "True\n",
      "True\n"
     ]
    }
   ],
   "source": [
    "#wae to check the given number is not a divisible by 3 and 5\n",
    "n=16\n",
    "print(not (n%5==0 and n%3==0))\n",
    "\n",
    "print(n%5!=0 and n%3!=0)\n"
   ]
  },
  {
   "cell_type": "code",
   "execution_count": 41,
   "metadata": {},
   "outputs": [
    {
     "name": "stdout",
     "output_type": "stream",
     "text": [
      "True\n"
     ]
    }
   ],
   "source": [
    "#wae to check the given number is not a divisible by 3 or 5\n",
    "n=12\n",
    "\n",
    "print(n%5!=0 or n%3!=0)\n"
   ]
  },
  {
   "cell_type": "code",
   "execution_count": 43,
   "metadata": {},
   "outputs": [
    {
     "name": "stdout",
     "output_type": "stream",
     "text": [
      "False\n"
     ]
    }
   ],
   "source": [
    "#wae to check the given character ascii value is not divisible by 5\n",
    "n='A'\n",
    "print(ord(n)%5!=0)"
   ]
  },
  {
   "cell_type": "code",
   "execution_count": 44,
   "metadata": {},
   "outputs": [
    {
     "data": {
      "text/plain": [
       "'A'"
      ]
     },
     "execution_count": 44,
     "metadata": {},
     "output_type": "execute_result"
    }
   ],
   "source": [
    "#wae to check find out the ascii character in a given number\n",
    "n=65\n",
    "chr(n)"
   ]
  },
  {
   "cell_type": "code",
   "execution_count": 48,
   "metadata": {},
   "outputs": [
    {
     "data": {
      "text/plain": [
       "'Z'"
      ]
     },
     "execution_count": 48,
     "metadata": {},
     "output_type": "execute_result"
    }
   ],
   "source": [
    "#wae to check find out the ascii value in a given character\n",
    "n=90\n",
    "chr(n)"
   ]
  },
  {
   "cell_type": "code",
   "execution_count": 54,
   "metadata": {},
   "outputs": [
    {
     "name": "stdout",
     "output_type": "stream",
     "text": [
      "True\n",
      "False\n",
      "False\n"
     ]
    }
   ],
   "source": [
    "#wae to check the given character is lowwercase or not\n",
    "\n",
    "ch=\"si\"\n",
    "print('a'<=ch and ch<=\"z\")\n",
    "print(len(ch)==1 and \"a\"<=ch and ch<='z')\n",
    "\n",
    "print(len(ch)==1 and \"a\"<=ch<='z')"
   ]
  },
  {
   "cell_type": "code",
   "execution_count": 56,
   "metadata": {},
   "outputs": [
    {
     "name": "stdout",
     "output_type": "stream",
     "text": [
      "True\n",
      "True\n",
      "True\n"
     ]
    }
   ],
   "source": [
    "#wae to check the given character is uppercase or not\n",
    "\n",
    "ch=\"S\"\n",
    "print('A'<=ch and ch<=\"Z\")\n",
    "print(len(ch)==1 and \"A\"<=ch and ch<='Z')\n",
    "\n",
    "print(len(ch)==1 and \"A\"<=ch<='Z')"
   ]
  },
  {
   "cell_type": "code",
   "execution_count": 57,
   "metadata": {},
   "outputs": [
    {
     "name": "stdout",
     "output_type": "stream",
     "text": [
      "True\n"
     ]
    }
   ],
   "source": [
    "#wae to check the given character is the alphabet\n",
    "ch='s'\n",
    "\n",
    "print(len(ch)==1 and (\"A\"<=ch<='Z'or \"a\"<=ch<='z'))\n"
   ]
  },
  {
   "cell_type": "code",
   "execution_count": 61,
   "metadata": {},
   "outputs": [
    {
     "name": "stdout",
     "output_type": "stream",
     "text": [
      "False\n"
     ]
    }
   ],
   "source": [
    "#wae to check the given character is the ascii number\n",
    "ch='a'\n",
    "print(len(ch)==1 and \"0\"<=ch<='9')\n"
   ]
  },
  {
   "cell_type": "code",
   "execution_count": 63,
   "metadata": {},
   "outputs": [
    {
     "name": "stdout",
     "output_type": "stream",
     "text": [
      "True\n",
      "True\n"
     ]
    }
   ],
   "source": [
    "#wae to check the given character is the special character\n",
    "ch='$'\n",
    "print(not('A'<=ch<=\"z\" or'a'<=ch<='z' or '0'<=ch<='9'))\n",
    "print(0<=ord(ch)<=47 or 58<=ord(ch)<=64 or 91<=ord(ch)<=96 or 123<=ord(ch)<=127)"
   ]
  },
  {
   "cell_type": "code",
   "execution_count": 68,
   "metadata": {},
   "outputs": [
    {
     "name": "stdout",
     "output_type": "stream",
     "text": [
      "False\n",
      "True\n",
      "True\n"
     ]
    }
   ],
   "source": [
    "#wae to check the given character is  should not be uppercase \n",
    "\n",
    "ch=\"S\"\n",
    "print(not('A'<=ch and ch<=\"Z\"))\n",
    "print(len(ch)==1 and \"A\"<=ch and ch<='Z')\n",
    "\n",
    "print(len(ch)==1 and \"A\"<=ch<='Z')"
   ]
  },
  {
   "cell_type": "code",
   "execution_count": 77,
   "metadata": {},
   "outputs": [
    {
     "name": "stdout",
     "output_type": "stream",
     "text": [
      "False\n",
      "False\n",
      "False\n"
     ]
    }
   ],
   "source": [
    "#wae to check the given character should not be lowwercase\n",
    "\n",
    "ch=\"s\"\n",
    "print(not('a'<=ch and ch<=\"z\"))\n",
    "print (not(len(ch)==1 and \"a\"<=ch and ch<='z'))\n",
    "\n",
    "print(not(len(ch)==1 and \"a\"<=ch<='z'))"
   ]
  },
  {
   "cell_type": "code",
   "execution_count": 79,
   "metadata": {},
   "outputs": [
    {
     "name": "stdout",
     "output_type": "stream",
     "text": [
      "True\n"
     ]
    }
   ],
   "source": [
    "#wae to check the given character should not be a alphabet\n",
    "ch='1'\n",
    "\n",
    "print(not(len(ch)==1 and (\"A\"<=ch<='Z'or \"a\"<=ch<='z')))"
   ]
  },
  {
   "cell_type": "code",
   "execution_count": 85,
   "metadata": {},
   "outputs": [
    {
     "name": "stdout",
     "output_type": "stream",
     "text": [
      "False\n"
     ]
    }
   ],
   "source": [
    "#wae to check the given character  should not be ascii number\n",
    "ch='1'\n",
    "print(not(len(ch)==1 and \"0\"<=ch<='9'))"
   ]
  },
  {
   "cell_type": "code",
   "execution_count": 86,
   "metadata": {},
   "outputs": [
    {
     "name": "stdout",
     "output_type": "stream",
     "text": [
      "False\n",
      "False\n"
     ]
    }
   ],
   "source": [
    "#wae to check the given character should not be a special character\n",
    "ch='$'\n",
    "print('A'<=ch<=\"z\" or'a'<=ch<='z' or '0'<=ch<='9')\n",
    "print(not(0<=ord(ch)<=47 or 58<=ord(ch)<=64 or 91<=ord(ch)<=96 or 123<=ord(ch)<=127))"
   ]
  },
  {
   "cell_type": "code",
   "execution_count": 89,
   "metadata": {},
   "outputs": [
    {
     "name": "stdout",
     "output_type": "stream",
     "text": [
      "True\n",
      "True\n"
     ]
    }
   ],
   "source": [
    "#wae  to check the given character is an vowel \n",
    "ch=\"a\"\n",
    "print(ch==\"a\" or ch==\"e\" or ch==\"i\"or ch==\"o\"or ch==\"u\"or ch==\"A\"or ch==\"E\"or ch==\"I\"or ch==\"O\"or ch==\"U\")\n",
    "print(ch in \"aeiouAEIOU\")"
   ]
  },
  {
   "cell_type": "code",
   "execution_count": 91,
   "metadata": {},
   "outputs": [
    {
     "name": "stdout",
     "output_type": "stream",
     "text": [
      "True\n",
      "True\n"
     ]
    }
   ],
   "source": [
    "#wae  to check the given character is an consonant\n",
    "ch=\"s\"\n",
    "print(not(ch==\"a\" or ch==\"e\" or ch==\"i\"or ch==\"o\"or ch==\"u\"or ch==\"A\"or ch==\"E\"or ch==\"I\"or ch==\"O\"or ch==\"U\"))\n",
    "print(ch not in \"aeiouAEIOU\")"
   ]
  },
  {
   "cell_type": "code",
   "execution_count": 1,
   "metadata": {},
   "outputs": [
    {
     "data": {
      "text/plain": [
       "'s'"
      ]
     },
     "execution_count": 1,
     "metadata": {},
     "output_type": "execute_result"
    }
   ],
   "source": [
    "#101) wae to convert uppercase to lowercase in a given character\n",
    "ch='S'\n",
    "chr(ord(ch)+32) "
   ]
  },
  {
   "cell_type": "code",
   "execution_count": 2,
   "metadata": {},
   "outputs": [
    {
     "data": {
      "text/plain": [
       "'s'"
      ]
     },
     "execution_count": 2,
     "metadata": {},
     "output_type": "execute_result"
    }
   ],
   "source": [
    "#101) wae to convert uppercase to lowercase in a given character\n",
    "ch='S'\n",
    "ch.lower()\n"
   ]
  },
  {
   "cell_type": "code",
   "execution_count": 4,
   "metadata": {},
   "outputs": [
    {
     "data": {
      "text/plain": [
       "'S'"
      ]
     },
     "execution_count": 4,
     "metadata": {},
     "output_type": "execute_result"
    }
   ],
   "source": [
    "#102) wae to convert lowercase to uppercase in a given character\n",
    "ch='s'\n",
    "chr(ord(ch)-32) "
   ]
  },
  {
   "cell_type": "code",
   "execution_count": 7,
   "metadata": {},
   "outputs": [
    {
     "data": {
      "text/plain": [
       "'S'"
      ]
     },
     "execution_count": 7,
     "metadata": {},
     "output_type": "execute_result"
    }
   ],
   "source": [
    "#102) wae to convert lowercase to uppercase in a given character\n",
    "ch='s'\n",
    "ch.upper()"
   ]
  },
  {
   "cell_type": "code",
   "execution_count": 10,
   "metadata": {},
   "outputs": [
    {
     "data": {
      "text/plain": [
       "'r'"
      ]
     },
     "execution_count": 10,
     "metadata": {},
     "output_type": "execute_result"
    }
   ],
   "source": [
    "#103) wae to extract the previous character in the given character\n",
    "ch=\"s\"\n",
    "chr(ord(ch)-1)"
   ]
  },
  {
   "cell_type": "code",
   "execution_count": 11,
   "metadata": {},
   "outputs": [
    {
     "data": {
      "text/plain": [
       "'t'"
      ]
     },
     "execution_count": 11,
     "metadata": {},
     "output_type": "execute_result"
    }
   ],
   "source": [
    "#104) wae to extract the next character in the given character\n",
    "ch=\"s\"\n",
    "chr(ord(ch)+1)"
   ]
  },
  {
   "cell_type": "code",
   "execution_count": 12,
   "metadata": {},
   "outputs": [
    {
     "data": {
      "text/plain": [
       "True"
      ]
     },
     "execution_count": 12,
     "metadata": {},
     "output_type": "execute_result"
    }
   ],
   "source": [
    "#105) wae to check the given character is converted to ascii and the value is even as well as the character should be lower case\n",
    "ch='d'\n",
    "len(ch)==1 and ord(ch)%2==0 and 'a'<=ch<='z'"
   ]
  },
  {
   "cell_type": "code",
   "execution_count": 14,
   "metadata": {},
   "outputs": [
    {
     "data": {
      "text/plain": [
       "True"
      ]
     },
     "execution_count": 14,
     "metadata": {},
     "output_type": "execute_result"
    }
   ],
   "source": [
    "#106) wae to check the given character is converted to ascii and the value is odd as well as the character should be upper case\n",
    "ch='S'\n",
    "len(ch)==1 and ord(ch)%2!=0 and 'A'<=ch<='Z'"
   ]
  },
  {
   "cell_type": "code",
   "execution_count": 15,
   "metadata": {},
   "outputs": [
    {
     "data": {
      "text/plain": [
       "False"
      ]
     },
     "execution_count": 15,
     "metadata": {},
     "output_type": "execute_result"
    }
   ],
   "source": [
    "#107) wae to check which the given number is converted to character is not a special symbol or not\n",
    "n=58\n",
    "'A'<=chr(n)<='Z'or'a'<=chr(n)<='z'or'0'<=chr(n)<='9'"
   ]
  },
  {
   "cell_type": "code",
   "execution_count": 16,
   "metadata": {},
   "outputs": [
    {
     "data": {
      "text/plain": [
       "True"
      ]
     },
     "execution_count": 16,
     "metadata": {},
     "output_type": "execute_result"
    }
   ],
   "source": [
    "#108) wae to check the given number of ascii character is a vowel or not\n",
    "n=65\n",
    "chr(n) in\"aeiouAEIOU\""
   ]
  },
  {
   "cell_type": "code",
   "execution_count": 17,
   "metadata": {},
   "outputs": [
    {
     "data": {
      "text/plain": [
       "True"
      ]
     },
     "execution_count": 17,
     "metadata": {},
     "output_type": "execute_result"
    }
   ],
   "source": [
    "#109) wae to check if the first and second chracter are sequence or not in a given string\n",
    "st='abcs'\n",
    "ord(st[0])+1==ord(st[1])\n",
    "# or we can write ord(st[0])==ord(st[1])-1"
   ]
  },
  {
   "cell_type": "code",
   "execution_count": 18,
   "metadata": {},
   "outputs": [
    {
     "data": {
      "text/plain": [
       "True"
      ]
     },
     "execution_count": 18,
     "metadata": {},
     "output_type": "execute_result"
    }
   ],
   "source": [
    "#110) wae to check the given character ascii value should be either greater than 50 or greater than 25 or less than 112\n",
    "ch='0'\n",
    "ord(ch)>25 or ord(ch)<112"
   ]
  },
  {
   "cell_type": "code",
   "execution_count": 20,
   "metadata": {},
   "outputs": [
    {
     "data": {
      "text/plain": [
       "11"
      ]
     },
     "execution_count": 20,
     "metadata": {},
     "output_type": "execute_result"
    }
   ],
   "source": [
    "#111)wae to given number is increased by 1\n",
    "m=10\n",
    "m+=1\n",
    "m\n",
    "#using assienment operator"
   ]
  },
  {
   "cell_type": "code",
   "execution_count": 21,
   "metadata": {},
   "outputs": [
    {
     "data": {
      "text/plain": [
       "11"
      ]
     },
     "execution_count": 21,
     "metadata": {},
     "output_type": "execute_result"
    }
   ],
   "source": [
    "#111)wae to given number is increased by 1\n",
    "m=10\n",
    "m=m+1\n",
    "m\n",
    "#using arthimatic operator"
   ]
  },
  {
   "cell_type": "code",
   "execution_count": 25,
   "metadata": {},
   "outputs": [
    {
     "data": {
      "text/plain": [
       "12"
      ]
     },
     "execution_count": 25,
     "metadata": {},
     "output_type": "execute_result"
    }
   ],
   "source": [
    "#112)wae to given number is increased by 2\n",
    "m=10\n",
    "m+=2\n",
    "m\n",
    "#using assienment operator"
   ]
  },
  {
   "cell_type": "code",
   "execution_count": 24,
   "metadata": {},
   "outputs": [
    {
     "data": {
      "text/plain": [
       "12"
      ]
     },
     "execution_count": 24,
     "metadata": {},
     "output_type": "execute_result"
    }
   ],
   "source": [
    "#112)wae to given number is increased by 2\n",
    "m=10\n",
    "m=m+2\n",
    "m\n",
    "#using arthimatic operator"
   ]
  },
  {
   "cell_type": "code",
   "execution_count": 23,
   "metadata": {},
   "outputs": [
    {
     "data": {
      "text/plain": [
       "9"
      ]
     },
     "execution_count": 23,
     "metadata": {},
     "output_type": "execute_result"
    }
   ],
   "source": [
    "#113)wae to given number is decreased by 1\n",
    "m=10\n",
    "m-=1\n",
    "m\n",
    "#using assienment operator"
   ]
  },
  {
   "cell_type": "code",
   "execution_count": 22,
   "metadata": {},
   "outputs": [
    {
     "data": {
      "text/plain": [
       "9"
      ]
     },
     "execution_count": 22,
     "metadata": {},
     "output_type": "execute_result"
    }
   ],
   "source": [
    "#113)wae to given number is decreased by 1\n",
    "m=10\n",
    "m=m-1\n",
    "m\n",
    "#using arthimatic operator"
   ]
  },
  {
   "cell_type": "code",
   "execution_count": 26,
   "metadata": {},
   "outputs": [
    {
     "data": {
      "text/plain": [
       "7"
      ]
     },
     "execution_count": 26,
     "metadata": {},
     "output_type": "execute_result"
    }
   ],
   "source": [
    "#114)wae to given number is decreased by 3\n",
    "m=10\n",
    "m-=3\n",
    "m\n",
    "#using assienment operator"
   ]
  },
  {
   "cell_type": "code",
   "execution_count": 27,
   "metadata": {},
   "outputs": [
    {
     "data": {
      "text/plain": [
       "7"
      ]
     },
     "execution_count": 27,
     "metadata": {},
     "output_type": "execute_result"
    }
   ],
   "source": [
    "#114)wae to given number is decreased by 3\n",
    "m=10\n",
    "m=m-3\n",
    "m\n",
    "#using arthimatic operator"
   ]
  },
  {
   "cell_type": "code",
   "execution_count": 28,
   "metadata": {},
   "outputs": [
    {
     "data": {
      "text/plain": [
       "True"
      ]
     },
     "execution_count": 28,
     "metadata": {},
     "output_type": "execute_result"
    }
   ],
   "source": [
    "#115) wae to check given integer number is present in the collection\n",
    "n=10\n",
    "coll=[10,20,30,40]\n",
    "n in coll"
   ]
  },
  {
   "cell_type": "code",
   "execution_count": 29,
   "metadata": {},
   "outputs": [
    {
     "data": {
      "text/plain": [
       "110"
      ]
     },
     "execution_count": 29,
     "metadata": {},
     "output_type": "execute_result"
    }
   ],
   "source": [
    "#116) wae to perform the addition  operation on a value and b value and final result should be updste to a\n",
    "a=50\n",
    "b=60\n",
    "a=a+b\n",
    "a\n",
    "#arthimatic operator"
   ]
  },
  {
   "cell_type": "code",
   "execution_count": 30,
   "metadata": {},
   "outputs": [
    {
     "data": {
      "text/plain": [
       "110"
      ]
     },
     "execution_count": 30,
     "metadata": {},
     "output_type": "execute_result"
    }
   ],
   "source": [
    "#116) wae to perform the addition  operation on a value and b value and final result should be updste to a\n",
    "a=50\n",
    "b=60\n",
    "a+=b\n",
    "a\n",
    "#assienment operator"
   ]
  },
  {
   "cell_type": "code",
   "execution_count": 31,
   "metadata": {},
   "outputs": [
    {
     "data": {
      "text/plain": [
       "True"
      ]
     },
     "execution_count": 31,
     "metadata": {},
     "output_type": "execute_result"
    }
   ],
   "source": [
    "#117) wae to check the given value is present in the collection\n",
    "st='s'\n",
    "coll='sunethra'\n",
    "st in coll"
   ]
  },
  {
   "cell_type": "code",
   "execution_count": 37,
   "metadata": {},
   "outputs": [
    {
     "name": "stdout",
     "output_type": "stream",
     "text": [
      "False\n"
     ]
    }
   ],
   "source": [
    "#118) wae to check the given list present in the list\n",
    "st=[10,20,30]\n",
    "c=[10,(20,30),{100,300},{'a':10},\"haii\"]\n",
    "print(st in c)"
   ]
  },
  {
   "cell_type": "code",
   "execution_count": 36,
   "metadata": {},
   "outputs": [
    {
     "data": {
      "text/plain": [
       "True"
      ]
     },
     "execution_count": 36,
     "metadata": {},
     "output_type": "execute_result"
    }
   ],
   "source": [
    "#119) wae to check the given dict value is present in the list\n",
    "st={'a':10}\n",
    "c=(10,20,30,{'a':10})\n",
    "st in c"
   ]
  },
  {
   "cell_type": "code",
   "execution_count": 38,
   "metadata": {},
   "outputs": [
    {
     "data": {
      "text/plain": [
       "True"
      ]
     },
     "execution_count": 38,
     "metadata": {},
     "output_type": "execute_result"
    }
   ],
   "source": [
    "#120) wae to check given value is integer value or not\n",
    "b=15\n",
    "type(b)==int"
   ]
  },
  {
   "cell_type": "code",
   "execution_count": 39,
   "metadata": {},
   "outputs": [
    {
     "data": {
      "text/plain": [
       "True"
      ]
     },
     "execution_count": 39,
     "metadata": {},
     "output_type": "execute_result"
    }
   ],
   "source": [
    "#121) wae to check given value is string value or not\n",
    "b='sunethra'\n",
    "type(b)==str"
   ]
  },
  {
   "cell_type": "code",
   "execution_count": 42,
   "metadata": {},
   "outputs": [
    {
     "name": "stdout",
     "output_type": "stream",
     "text": [
      "True\n",
      "True\n"
     ]
    }
   ],
   "source": [
    "#122) wae to check given value is single value or not\n",
    "b=1\n",
    "print(type (b) in [int,float,complex,bool,bytes,type(None)])#using in operator\n",
    "print(type(b) not in [list,str,tuple,set,dict])# using not in operator"
   ]
  },
  {
   "cell_type": "code",
   "execution_count": 43,
   "metadata": {},
   "outputs": [
    {
     "name": "stdout",
     "output_type": "stream",
     "text": [
      "False\n",
      "False\n"
     ]
    }
   ],
   "source": [
    "#123) wae to check given value should not be single value\n",
    "b=1\n",
    "print(type (b) not in [int,float,complex,bool,bytes,type(None)])#using not in operator\n",
    "print(type(b)  in [list,str,tuple,set,dict])# using in operator"
   ]
  },
  {
   "cell_type": "code",
   "execution_count": 44,
   "metadata": {},
   "outputs": [
    {
     "name": "stdout",
     "output_type": "stream",
     "text": [
      "True\n",
      "True\n"
     ]
    }
   ],
   "source": [
    "#124) wae to check given value is multivalue or not\n",
    "b=[1,2]\n",
    "print(type (b) not in [int,float,complex,bool,bytes,type(None)])#using not in operator\n",
    "print(type(b)  in [list,str,tuple,set,dict])# using in operator"
   ]
  },
  {
   "cell_type": "code",
   "execution_count": 45,
   "metadata": {},
   "outputs": [
    {
     "data": {
      "text/plain": [
       "True"
      ]
     },
     "execution_count": 45,
     "metadata": {},
     "output_type": "execute_result"
    }
   ],
   "source": [
    "#125) wae to check the given value is a mutable value or not\n",
    "s=\"sai\"\n",
    "type(c) in [list,set,dict]"
   ]
  },
  {
   "cell_type": "code",
   "execution_count": 46,
   "metadata": {},
   "outputs": [
    {
     "data": {
      "text/plain": [
       "False"
      ]
     },
     "execution_count": 46,
     "metadata": {},
     "output_type": "execute_result"
    }
   ],
   "source": [
    "#126) wae to check the given value is a immutable value or not\n",
    "s=\"sai\"\n",
    "type(c) not in [list,set,dict]"
   ]
  },
  {
   "cell_type": "code",
   "execution_count": 47,
   "metadata": {},
   "outputs": [
    {
     "data": {
      "text/plain": [
       "False"
      ]
     },
     "execution_count": 47,
     "metadata": {},
     "output_type": "execute_result"
    }
   ],
   "source": [
    "#127) wae to check if a given value is divisible by 6 as well as that value present in the collection or not\n",
    "n=36\n",
    "n%3==0 and n in [10,60,50]"
   ]
  },
  {
   "cell_type": "code",
   "execution_count": 48,
   "metadata": {},
   "outputs": [
    {
     "data": {
      "text/plain": [
       "3"
      ]
     },
     "execution_count": 48,
     "metadata": {},
     "output_type": "execute_result"
    }
   ],
   "source": [
    "#128) wae to perform the bitwise and operation in given values are 15 and 19\n",
    "m=15\n",
    "n=19\n",
    "m&n"
   ]
  },
  {
   "cell_type": "code",
   "execution_count": 49,
   "metadata": {},
   "outputs": [
    {
     "data": {
      "text/plain": [
       "127"
      ]
     },
     "execution_count": 49,
     "metadata": {},
     "output_type": "execute_result"
    }
   ],
   "source": [
    "#129) wae to perform the bitwise or operation in given values are 115 and 79\n",
    "m=115\n",
    "n=79\n",
    "m|n"
   ]
  },
  {
   "cell_type": "code",
   "execution_count": 50,
   "metadata": {},
   "outputs": [
    {
     "data": {
      "text/plain": [
       "46"
      ]
     },
     "execution_count": 50,
     "metadata": {},
     "output_type": "execute_result"
    }
   ],
   "source": [
    "#130) wae to perform the bitwise xor operation in given values are 56 and 22\n",
    "m=56\n",
    "n=22\n",
    "m^n"
   ]
  },
  {
   "cell_type": "code",
   "execution_count": 52,
   "metadata": {},
   "outputs": [
    {
     "data": {
      "text/plain": [
       "-16"
      ]
     },
     "execution_count": 52,
     "metadata": {},
     "output_type": "execute_result"
    }
   ],
   "source": [
    "#131) wae to perform the bitwise not operation in given values are 15 \n",
    "m=15\n",
    "~m"
   ]
  },
  {
   "cell_type": "code",
   "execution_count": 53,
   "metadata": {},
   "outputs": [
    {
     "data": {
      "text/plain": [
       "256"
      ]
     },
     "execution_count": 53,
     "metadata": {},
     "output_type": "execute_result"
    }
   ],
   "source": [
    "#132) wae to perform the bitwise left shift with 32 an skipping value is 3\n",
    "m=32 \n",
    "n=3\n",
    "m<<n"
   ]
  },
  {
   "cell_type": "code",
   "execution_count": 54,
   "metadata": {},
   "outputs": [
    {
     "data": {
      "text/plain": [
       "6"
      ]
     },
     "execution_count": 54,
     "metadata": {},
     "output_type": "execute_result"
    }
   ],
   "source": [
    "#133) wae to perform the bitwise right shift with 25 an skipping value is 2\n",
    "m=25\n",
    "n=2\n",
    "m>>n"
   ]
  },
  {
   "cell_type": "code",
   "execution_count": 56,
   "metadata": {},
   "outputs": [
    {
     "data": {
      "text/plain": [
       "1000"
      ]
     },
     "execution_count": 56,
     "metadata": {},
     "output_type": "execute_result"
    }
   ],
   "source": [
    "#134) to fing out the output of a givrn condition (10+20*60 and 10**3) or ({10,20} or not([15-16]))\n",
    "(10+20*60 and 10**3) or ({10,20} or not([15-16]))"
   ]
  },
  {
   "cell_type": "code",
   "execution_count": 59,
   "metadata": {},
   "outputs": [
    {
     "name": "stdout",
     "output_type": "stream",
     "text": [
      "True\n",
      "True\n"
     ]
    }
   ],
   "source": [
    "#135) wae to check if a given keys is present in a dict or not\n",
    "d={'a':10,'b':20}\n",
    "k='a'\n",
    "print(k in d)\n",
    "print(k in d.keys())"
   ]
  },
  {
   "cell_type": "code",
   "execution_count": 60,
   "metadata": {},
   "outputs": [
    {
     "name": "stdout",
     "output_type": "stream",
     "text": [
      "False\n",
      "True\n"
     ]
    }
   ],
   "source": [
    "#136) wae to check if a value is present in dict or not\n",
    "d={'a':10,'b':20}\n",
    "k=10\n",
    "print(k in d)\n",
    "print(k in d.values())"
   ]
  },
  {
   "cell_type": "code",
   "execution_count": 61,
   "metadata": {},
   "outputs": [
    {
     "name": "stdout",
     "output_type": "stream",
     "text": [
      "False\n",
      "False\n"
     ]
    }
   ],
   "source": [
    "#137) wae to check if a given keys is not present in a dict or not\n",
    "d={'a':10,'b':20}\n",
    "k='a'\n",
    "print(k not in d)\n",
    "print(k not in d.keys())"
   ]
  },
  {
   "cell_type": "code",
   "execution_count": 63,
   "metadata": {},
   "outputs": [
    {
     "name": "stdout",
     "output_type": "stream",
     "text": [
      "True\n"
     ]
    }
   ],
   "source": [
    "#138) wae to check if keys value pair is present in dict or not\n",
    "d={'a':10,'b':20}\n",
    "k=('a',10)\n",
    "print(k in d.items())"
   ]
  },
  {
   "cell_type": "code",
   "execution_count": 64,
   "metadata": {},
   "outputs": [
    {
     "data": {
      "text/plain": [
       "True"
      ]
     },
     "execution_count": 64,
     "metadata": {},
     "output_type": "execute_result"
    }
   ],
   "source": [
    "#139) wae to check if 2 values are pointing to the same address or not\n",
    "a=15\n",
    "b=15\n",
    "a is b"
   ]
  },
  {
   "cell_type": "code",
   "execution_count": 65,
   "metadata": {},
   "outputs": [
    {
     "data": {
      "text/plain": [
       "True"
      ]
     },
     "execution_count": 65,
     "metadata": {},
     "output_type": "execute_result"
    }
   ],
   "source": [
    "#140) wae to check both the values should be interger and both the values are pointing to the same address\n",
    "a=256\n",
    "b=256\n",
    "type(a)==int and type(b)==int and a is b"
   ]
  }
 ],
 "metadata": {
  "kernelspec": {
   "display_name": "Python 3",
   "language": "python",
   "name": "python3"
  },
  "language_info": {
   "codemirror_mode": {
    "name": "ipython",
    "version": 3
   },
   "file_extension": ".py",
   "mimetype": "text/x-python",
   "name": "python",
   "nbconvert_exporter": "python",
   "pygments_lexer": "ipython3",
   "version": "3.11.4"
  },
  "orig_nbformat": 4
 },
 "nbformat": 4,
 "nbformat_minor": 2
}
