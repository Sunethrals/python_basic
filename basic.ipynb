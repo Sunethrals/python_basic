{
 "cells": [
  {
   "cell_type": "code",
   "execution_count": 1,
   "metadata": {},
   "outputs": [
    {
     "data": {
      "text/plain": [
       "'Hello World'"
      ]
     },
     "execution_count": 1,
     "metadata": {},
     "output_type": "execute_result"
    }
   ],
   "source": [
    "#was to print \"hello World\" by using shell\n",
    "\n",
    "\"Hello World\""
   ]
  },
  {
   "cell_type": "code",
   "execution_count": 2,
   "metadata": {},
   "outputs": [
    {
     "name": "stdout",
     "output_type": "stream",
     "text": [
      "hello Every One\n"
     ]
    }
   ],
   "source": [
    "#was to print \"hello World\" by using print statement\n",
    "print(\"hello Every One\")"
   ]
  },
  {
   "cell_type": "code",
   "execution_count": 8,
   "metadata": {},
   "outputs": [
    {
     "name": "stdout",
     "output_type": "stream",
     "text": [
      "50\n"
     ]
    }
   ],
   "source": [
    "#was to intialize the variable and value as 50\n",
    "a=50\n",
    "print(a)"
   ]
  },
  {
   "cell_type": "code",
   "execution_count": 22,
   "metadata": {},
   "outputs": [
    {
     "name": "stdout",
     "output_type": "stream",
     "text": [
      "150\n",
      "120\n",
      "250\n"
     ]
    }
   ],
   "source": [
    "#was to intialize multible values are 150,120,250(take your own variable names)\n",
    "a,b,c=150,120,250\n",
    "print(a)\n",
    "print( b)\n",
    "print( c)"
   ]
  },
  {
   "cell_type": "code",
   "execution_count": 10,
   "metadata": {},
   "outputs": [
    {
     "data": {
      "text/plain": [
       "set"
      ]
     },
     "execution_count": 10,
     "metadata": {},
     "output_type": "execute_result"
    }
   ],
   "source": [
    "#was to print the type of the data in given values\n",
    "a={10,20}\n",
    "type(a)"
   ]
  },
  {
   "cell_type": "code",
   "execution_count": 18,
   "metadata": {},
   "outputs": [
    {
     "name": "stdout",
     "output_type": "stream",
     "text": [
      "1986661671520\n",
      "1986661669728\n"
     ]
    }
   ],
   "source": [
    "#was to print the address of the memory block in given value\n",
    "a={10,20}\n",
    "print(id(a))\n",
    "\n",
    "print(\n",
    "id({10,20}))\n"
   ]
  },
  {
   "cell_type": "code",
   "execution_count": 23,
   "metadata": {},
   "outputs": [
    {
     "name": "stdout",
     "output_type": "stream",
     "text": [
      "Name=sunethra\n",
      "21\n",
      "7396929629\n",
      "sunethra@gmail.com\n"
     ]
    }
   ],
   "source": [
    "#was to print your details first store your details,extract the values and display it.\n",
    "name=\"sunethra\"\n",
    "age=21\n",
    "phone=7396929629\n",
    "email=\"sunethra@gmail.com\"\n",
    "print(\"Name=\" + name)\n",
    "print(age)\n",
    "print(phone)\n",
    "print(email)"
   ]
  },
  {
   "cell_type": "code",
   "execution_count": 24,
   "metadata": {},
   "outputs": [
    {
     "name": "stdout",
     "output_type": "stream",
     "text": [
      "sunethra\n",
      "sai\n"
     ]
    }
   ],
   "source": [
    "#was to swap the two values with a temp variable\n",
    "a=\"sai\"\n",
    "b=\"sunethra\"\n",
    "temp=a\n",
    "a=b\n",
    "b=temp\n",
    "print(a)\n",
    "print(b)"
   ]
  },
  {
   "cell_type": "code",
   "execution_count": 25,
   "metadata": {},
   "outputs": [
    {
     "name": "stdout",
     "output_type": "stream",
     "text": [
      "sunethra\n",
      "sai\n"
     ]
    }
   ],
   "source": [
    "#was to swap the two values with a temp variable\n",
    "a=\"sai\"\n",
    "b=\"sunethra\"\n",
    "a,b=b,a\n",
    "print(a)\n",
    "print(b)"
   ]
  },
  {
   "cell_type": "code",
   "execution_count": 27,
   "metadata": {},
   "outputs": [
    {
     "name": "stdout",
     "output_type": "stream",
     "text": [
      "{'a': 'sunethra'}\n",
      "{'a': 'lakshmi'}\n",
      "[10, 20, 30]\n",
      "[10, 20, 30, 40, 50, 60]\n"
     ]
    },
    {
     "ename": "NameError",
     "evalue": "name 'a' is not defined",
     "output_type": "error",
     "traceback": [
      "\u001b[1;31m---------------------------------------------------------------------------\u001b[0m",
      "\u001b[1;31mNameError\u001b[0m                                 Traceback (most recent call last)",
      "Cell \u001b[1;32mIn[27], line 11\u001b[0m\n\u001b[0;32m      9\u001b[0m \u001b[39mprint\u001b[39m(a)\n\u001b[0;32m     10\u001b[0m \u001b[39mdel\u001b[39;00m a\n\u001b[1;32m---> 11\u001b[0m \u001b[39mprint\u001b[39m(a)\n",
      "\u001b[1;31mNameError\u001b[0m: name 'a' is not defined"
     ]
    }
   ],
   "source": [
    "#was to intialixe a value and print the value, after print the value, then reintialize the new value to the existing variable and display the value\n",
    "a={'a':\"sunethra\"} #intialization\n",
    "print(a) #fetch\n",
    "a['a']=\"lakshmi\"#modification\n",
    "print(a)\n",
    "a=[10,20,30]#reintialization\n",
    "print(a)\n",
    "a+=[40,50,60]\n",
    "print(a)\n",
    "del a\n",
    "print(a)\n",
    "\n"
   ]
  },
  {
   "cell_type": "code",
   "execution_count": 29,
   "metadata": {},
   "outputs": [
    {
     "name": "stdout",
     "output_type": "stream",
     "text": [
      "['1', '0']\n"
     ]
    },
    {
     "data": {
      "text/plain": [
       "['2', '0']"
      ]
     },
     "execution_count": 29,
     "metadata": {},
     "output_type": "execute_result"
    }
   ],
   "source": [
    "#was to convert single to multi value data type I/P==> a=10 o/p==>[1,0]\n",
    "a=10\n",
    "a=str(a)\n",
    "a=list(a)\n",
    "print(a)\n",
    "\n",
    "b=20\n",
    "list(str(b))"
   ]
  },
  {
   "cell_type": "code",
   "execution_count": 35,
   "metadata": {},
   "outputs": [
    {
     "name": "stdout",
     "output_type": "stream",
     "text": [
      "sunethrasai\n",
      "[10, 20, 30, 400, 5, 60]\n",
      "[10, 20, 30, 'h', 'a', 'i']\n",
      "[10, 20, 30, 1, 2, 3]\n",
      "[10, 20, 30, 'a', 'b', 'c']\n",
      "[10, 20, 30, 'a', 'c']\n",
      "('a', 'b', 'c', 1, 2, 3)\n",
      "{50, 20, 40, 10, 30}\n",
      "{10: 20, 30: 40, 50: 60, 70: 80}\n"
     ]
    }
   ],
   "source": [
    "#was to concat the two multip values data types (str,list,tuple,set,dict)\n",
    "str=\"sunethra\"\n",
    "str+=\"sai\"\n",
    "print(str)\n",
    "list=[10,20,30]\n",
    "list+=[400,5,60]\n",
    "print(list)\n",
    "liststr=[10,20,30]\n",
    "liststr+='hai'\n",
    "print(liststr)\n",
    "listtuple=[10,20,30]\n",
    "listtuple+=(1,2,3)\n",
    "print(listtuple)\n",
    "listset=[10,20,30]\n",
    "listset+={'a','b','c'}\n",
    "print(listset)\n",
    "listdict=[10,20,30]\n",
    "listdict+={'a':'b','c':'d'}\n",
    "print(listdict)\n",
    "listlist=[10,20]\n",
    "listlist+=[30,40]\n",
    "tuple=('a','b','c')\n",
    "tuple+=(1,2,3)\n",
    "print(tuple)\n",
    "set={10,20,30}\n",
    "set|={40,50}\n",
    "print(set)\n",
    "dict={10:20,30:40}\n",
    "dict|={50:60,70:80}\n",
    "print(dict)\n"
   ]
  },
  {
   "cell_type": "code",
   "execution_count": 36,
   "metadata": {},
   "outputs": [
    {
     "data": {
      "text/plain": [
       "2"
      ]
     },
     "execution_count": 36,
     "metadata": {},
     "output_type": "execute_result"
    }
   ],
   "source": [
    "#was to check the length of the collection\n",
    "t=910,20\n",
    "len(t)"
   ]
  },
  {
   "cell_type": "code",
   "execution_count": 37,
   "metadata": {},
   "outputs": [
    {
     "data": {
      "text/plain": [
       "40"
      ]
     },
     "execution_count": 37,
     "metadata": {},
     "output_type": "execute_result"
    }
   ],
   "source": [
    "#wae to equation to send find out the middle value of the given collection\n",
    "d=[10,20,30,40,50,60]\n",
    "d[len(d)//2]\n"
   ]
  },
  {
   "cell_type": "code",
   "execution_count": 38,
   "metadata": {},
   "outputs": [
    {
     "name": "stdout",
     "output_type": "stream",
     "text": [
      "haiihow are you\n"
     ]
    }
   ],
   "source": [
    "#was to concat the dnew string into the starting of the given string\n",
    "a=\"how are you\"\n",
    "b=\"haii\"\n",
    "a=b+a\n",
    "print(a)\n"
   ]
  },
  {
   "cell_type": "code",
   "execution_count": 40,
   "metadata": {},
   "outputs": [
    {
     "name": "stdout",
     "output_type": "stream",
     "text": [
      "string\n"
     ]
    }
   ],
   "source": [
    "#was to connect the new string into the ending of the given string\n",
    "s=\"str\"\n",
    "t=\"ing\"\n",
    "s=s+t\n",
    "print(s)\n"
   ]
  },
  {
   "cell_type": "code",
   "execution_count": 54,
   "metadata": {},
   "outputs": [
    {
     "data": {
      "text/plain": [
       "'strin'"
      ]
     },
     "execution_count": 54,
     "metadata": {},
     "output_type": "execute_result"
    }
   ],
   "source": [
    "#was to connect the new string into the ending of the given string\n",
    "s=\"strg\"\n",
    "s[0:3:1]+ \"in\" +s[3:0:]\n"
   ]
  },
  {
   "cell_type": "code",
   "execution_count": 47,
   "metadata": {},
   "outputs": [
    {
     "data": {
      "text/plain": [
       "'pyspIders'"
      ]
     },
     "execution_count": 47,
     "metadata": {},
     "output_type": "execute_result"
    }
   ],
   "source": [
    "#was to modify the new character into the middle of the given string\n",
    "s=\"pyspiders\"\n",
    "s[0:len(s)//2]+'I'+s[(len(s)//2)+1:]\n",
    "  "
   ]
  },
  {
   "cell_type": "code",
   "execution_count": 55,
   "metadata": {},
   "outputs": [
    {
     "data": {
      "text/plain": [
       "'pysPIDers'"
      ]
     },
     "execution_count": 55,
     "metadata": {},
     "output_type": "execute_result"
    }
   ],
   "source": [
    "#was to modify the sequence of  character in given string\n",
    "s=\"pyspiders\"\n",
    "s[0:3]+\"PID\"+s[6:]\n"
   ]
  },
  {
   "cell_type": "code",
   "execution_count": 59,
   "metadata": {},
   "outputs": [
    {
     "name": "stdout",
     "output_type": "stream",
     "text": [
      "pyspiDers\n",
      "pyspiders\n"
     ]
    }
   ],
   "source": [
    "#was to replace the old characters in given character \n",
    "s=\"pyspiders\"\n",
    "print(s[:-4]+\"D\"+s[-3:])\n",
    "print(s[:5]+'d'+s[6:])"
   ]
  },
  {
   "cell_type": "code",
   "execution_count": 60,
   "metadata": {},
   "outputs": [
    {
     "data": {
      "text/plain": [
       "'pyiders'"
      ]
     },
     "execution_count": 60,
     "metadata": {},
     "output_type": "execute_result"
    }
   ],
   "source": [
    "#was to delete the specific characteer in the given string\n",
    "s=\"pysiders\"\n",
    "s[:2]+s[3:]\n"
   ]
  },
  {
   "cell_type": "code",
   "execution_count": 61,
   "metadata": {},
   "outputs": [
    {
     "data": {
      "text/plain": [
       "'pysrs'"
      ]
     },
     "execution_count": 61,
     "metadata": {},
     "output_type": "execute_result"
    }
   ],
   "source": [
    "#was to delete the specific characteer in the given string\n",
    "s=\"pysiders\"\n",
    "s[:3]+s[6:]"
   ]
  },
  {
   "cell_type": "code",
   "execution_count": 62,
   "metadata": {},
   "outputs": [
    {
     "data": {
      "text/plain": [
       "'haii how are you!'"
      ]
     },
     "execution_count": 62,
     "metadata": {},
     "output_type": "execute_result"
    }
   ],
   "source": [
    "#was to concat the new string into the specific position of the given string\n",
    "r='haii are you!'\n",
    "r[0:4+1]+\"how\"+r[4:]\n",
    "\n",
    "\n",
    "\n"
   ]
  },
  {
   "cell_type": "code",
   "execution_count": 63,
   "metadata": {},
   "outputs": [
    {
     "name": "stdout",
     "output_type": "stream",
     "text": [
      "['a', 'b', 1, 2, 3]\n"
     ]
    }
   ],
   "source": [
    "#was to concat the new value into the starting of the given list\n",
    "l=[1,2,3]\n",
    "l=[\"a\",\"b\"]+l\n",
    "print(l)\n",
    "#address will change"
   ]
  },
  {
   "cell_type": "code",
   "execution_count": 64,
   "metadata": {},
   "outputs": [
    {
     "name": "stdout",
     "output_type": "stream",
     "text": [
      "['a', 'b', 1, 2, 3]\n"
     ]
    }
   ],
   "source": [
    "#was to concat the new value into the starting of the given list\n",
    "l=[1,2,3]\n",
    "l[0:0]=[\"a\",\"b\"]\n",
    "print(l)\n",
    "#address will not change"
   ]
  },
  {
   "cell_type": "code",
   "execution_count": 65,
   "metadata": {},
   "outputs": [
    {
     "name": "stdout",
     "output_type": "stream",
     "text": [
      "[1, 2, 3, 'a', 'b']\n"
     ]
    }
   ],
   "source": [
    "#was to concat the new value into the ending of the given list\n",
    "l=[1,2,3]\n",
    "l=l+[\"a\",\"b\"]\n",
    "print(l)\n",
    "#address will change"
   ]
  },
  {
   "cell_type": "code",
   "execution_count": 66,
   "metadata": {},
   "outputs": [
    {
     "name": "stdout",
     "output_type": "stream",
     "text": [
      "[1, 2, 3, 'a', 'b']\n"
     ]
    }
   ],
   "source": [
    "#was to concat the new value into the ending of the given list\n",
    "l=[1,2,3]\n",
    "l[4:4]=[\"a\",\"b\"]\n",
    "print(l)\n",
    "#address will not change"
   ]
  },
  {
   "cell_type": "code",
   "execution_count": 67,
   "metadata": {},
   "outputs": [
    {
     "name": "stdout",
     "output_type": "stream",
     "text": [
      "[1, 2, 3, 'a', 'b']\n"
     ]
    }
   ],
   "source": [
    "#was to concat the new value into the ending of the given list\n",
    "l=[1,2,3]\n",
    "l+=[\"a\",\"b\"]\n",
    "print(l)\n",
    "#address will not change"
   ]
  },
  {
   "cell_type": "code",
   "execution_count": 77,
   "metadata": {},
   "outputs": [
    {
     "name": "stdout",
     "output_type": "stream",
     "text": [
      "[1, '10', '20', 2, 3]\n"
     ]
    }
   ],
   "source": [
    "#was to concat the new value into the middle of the given list\n",
    "\n",
    "l=[1,2,3]\n",
    "l[len(l)//2 : len(l)//2]=['10','20']\n",
    "print(l)"
   ]
  },
  {
   "cell_type": "code",
   "execution_count": 2,
   "metadata": {},
   "outputs": [
    {
     "name": "stdout",
     "output_type": "stream",
     "text": [
      "[10, 150.12, 100, 200, True, 'hai']\n"
     ]
    }
   ],
   "source": [
    "#was to concat the new value into the specific position of the given list\n",
    "l=[10,150.12,True,'hai']\n",
    "l[-2:-2]=[100,200]\n",
    "print(l)"
   ]
  },
  {
   "cell_type": "code",
   "execution_count": 3,
   "metadata": {},
   "outputs": [
    {
     "name": "stdout",
     "output_type": "stream",
     "text": [
      "[10, 150.12, [100, 200], 'hai']\n"
     ]
    }
   ],
   "source": [
    "#was to modify the new value into the specific position of the given list\n",
    "l=[10,150.12,True,'hai']\n",
    "l[-2]=[100,200]\n",
    "print(l)"
   ]
  },
  {
   "cell_type": "code",
   "execution_count": 4,
   "metadata": {},
   "outputs": [
    {
     "name": "stdout",
     "output_type": "stream",
     "text": [
      "[[100, 200], 150.12, True, 'hai']\n"
     ]
    }
   ],
   "source": [
    "#was to modify the new value into the starting of th given list\n",
    "l=[10,150.12,True,'hai']\n",
    "l[0]=[100,200]\n",
    "print(l)"
   ]
  },
  {
   "cell_type": "code",
   "execution_count": 5,
   "metadata": {},
   "outputs": [
    {
     "name": "stdout",
     "output_type": "stream",
     "text": [
      "[10, 150.12, True, [100, 200]]\n"
     ]
    }
   ],
   "source": [
    "#was to modify the new value into the ending of th given list\n",
    "l=[10,150.12,True,'hai']\n",
    "l[-1]=[100,200]\n",
    "print(l)"
   ]
  },
  {
   "cell_type": "code",
   "execution_count": 8,
   "metadata": {},
   "outputs": [
    {
     "name": "stdout",
     "output_type": "stream",
     "text": [
      "[10, 150.12, [100, 200], 'hai']\n"
     ]
    }
   ],
   "source": [
    "#was to modify the new value into the middle of th given list\n",
    "l=[10,150.12,True,'hai']\n",
    "l[len(l)//2]=[100,200]\n",
    "print(l)"
   ]
  },
  {
   "cell_type": "code",
   "execution_count": 10,
   "metadata": {},
   "outputs": [
    {
     "name": "stdout",
     "output_type": "stream",
     "text": [
      "[100, 200, 300, 400, 5, 6, 7]\n"
     ]
    }
   ],
   "source": [
    "#was to modify the firdt 4 position value into the starting of th given list\n",
    "l=[10,150.12,True,'hai',5,6,7]\n",
    "l[0:4]=[100,200,300,400]\n",
    "print(l)"
   ]
  },
  {
   "cell_type": "code",
   "execution_count": 12,
   "metadata": {},
   "outputs": [
    {
     "name": "stdout",
     "output_type": "stream",
     "text": [
      "[10, 100, 200, 300, 400, 'hai', 5, 6, 7]\n"
     ]
    }
   ],
   "source": [
    "#was to modify the sequence of  value into the starting of th given list\n",
    "l=[10,150.12,True,'hai',5,6,7]\n",
    "l[1:3]=[100,200,300,400]\n",
    "print(l)"
   ]
  },
  {
   "cell_type": "code",
   "execution_count": 13,
   "metadata": {},
   "outputs": [
    {
     "data": {
      "text/plain": [
       "[1, 3, 4, 5, 16, 7, 64, 9, 225]"
      ]
     },
     "execution_count": 13,
     "metadata": {},
     "output_type": "execute_result"
    }
   ],
   "source": [
    "#d=[1,3,2,5,4,7,8,9,15] o/p==> d=[1,3,4,5,16,7,64,61]\n",
    "\n",
    "d=[1,3,2,5,4,7,8,9,15]\n",
    "d[::2]=[d[0]**2,d[2]**2,d[4]**2,d[6]**2,d[8]**2,]\n",
    "d\n"
   ]
  },
  {
   "cell_type": "code",
   "execution_count": 19,
   "metadata": {},
   "outputs": [
    {
     "data": {
      "text/plain": [
       "[1, 2, 3, 4, 5, 6, 7, 8]"
      ]
     },
     "execution_count": 19,
     "metadata": {},
     "output_type": "execute_result"
    }
   ],
   "source": [
    "# was to delete the values in the dpecific position of the given list \n",
    "\n",
    "l=[1,2,3,4,5,6,7,8]\n",
    "l[0:3]+l[4::]\n",
    "l\n",
    "\n"
   ]
  },
  {
   "cell_type": "code",
   "execution_count": 20,
   "metadata": {},
   "outputs": [
    {
     "data": {
      "text/plain": [
       "[1, 2, 4, 5, 6, 7, 8]"
      ]
     },
     "execution_count": 20,
     "metadata": {},
     "output_type": "execute_result"
    }
   ],
   "source": [
    "# was to delete the values in the dpecific position of the given list \n",
    "\n",
    "l=[1,2,3,4,5,6,7,8]\n",
    "del l[2]\n",
    "l"
   ]
  },
  {
   "cell_type": "code",
   "execution_count": 21,
   "metadata": {},
   "outputs": [
    {
     "data": {
      "text/plain": [
       "[1, 2, 3, 4, 6, 7, 8]"
      ]
     },
     "execution_count": 21,
     "metadata": {},
     "output_type": "execute_result"
    }
   ],
   "source": [
    "# was to delete the values in the dpecific position of the given list \n",
    "\n",
    "l=[1,2,3,4,5,6,7,8]\n",
    "l[4:5]=[]\n",
    "l"
   ]
  },
  {
   "cell_type": "code",
   "execution_count": 1,
   "metadata": {},
   "outputs": [
    {
     "data": {
      "text/plain": [
       "[1, 2, 3, 4, 6, 7, 8]"
      ]
     },
     "execution_count": 1,
     "metadata": {},
     "output_type": "execute_result"
    }
   ],
   "source": [
    "# was to delete the values in the dpecific position of the given list \n",
    "\n",
    "l=[1,2,3,4,5,6,7,8]\n",
    "l[4:5]=[]\n",
    "l"
   ]
  }
 ],
 "metadata": {
  "kernelspec": {
   "display_name": "Python 3",
   "language": "python",
   "name": "python3"
  },
  "language_info": {
   "codemirror_mode": {
    "name": "ipython",
    "version": 3
   },
   "file_extension": ".py",
   "mimetype": "text/x-python",
   "name": "python",
   "nbconvert_exporter": "python",
   "pygments_lexer": "ipython3",
   "version": "3.11.4"
  },
  "orig_nbformat": 4
 },
 "nbformat": 4,
 "nbformat_minor": 2
}
