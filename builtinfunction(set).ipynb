{
 "cells": [
  {
   "cell_type": "code",
   "execution_count": 7,
   "metadata": {},
   "outputs": [
    {
     "name": "stdout",
     "output_type": "stream",
     "text": [
      "1801543320960 {'a', 'c', 'b'}\n",
      "1801543320960 {'d', 'a', 'c', 'b'}\n"
     ]
    }
   ],
   "source": [
    "#add()\n",
    "s={'a','b','c'}\n",
    "print(id(s),s)\n",
    "def add(coll,ele):\n",
    "    if type(coll)!=set:\n",
    "        return -1\n",
    "    if type(ele) in [list,set,dict]:\n",
    "        return -1\n",
    "    coll |={ele}\n",
    "add(s,'d')\n",
    "print(id(s),s)"
   ]
  },
  {
   "cell_type": "code",
   "execution_count": 8,
   "metadata": {},
   "outputs": [
    {
     "name": "stdout",
     "output_type": "stream",
     "text": [
      "1801543321856 {'c', 'ab'}\n",
      "1801543321856 set()\n"
     ]
    }
   ],
   "source": [
    "#clear()\n",
    "s={'a''b','c'}\n",
    "print(id(s),s)\n",
    "def clear(coll):\n",
    "    if type(coll)!=set:\n",
    "        return -1\n",
    "    coll -=coll\n",
    "clear(s)\n",
    "print(id(s),s)"
   ]
  },
  {
   "cell_type": "code",
   "execution_count": 28,
   "metadata": {},
   "outputs": [
    {
     "name": "stdout",
     "output_type": "stream",
     "text": [
      "2775713731456 {'a', 'b', 40, 10, 30}\n",
      "{'a', 'b', 40, 10, 30}\n",
      "2775713731456 {'a', 'b', 40, 10, 30}\n"
     ]
    }
   ],
   "source": [
    "#copy()\n",
    "s={'a','b',10,30,40}\n",
    "print(id(s),s)\n",
    "# p=s.copy()\n",
    "# print(p,id(p))\n",
    "def copy(coll):\n",
    "    l=list(s)\n",
    "    f=[]\n",
    "    for i in l:\n",
    "        f+=[i]\n",
    "    return set(f)\n",
    "print(copy(s))\n",
    "print(id(s),s)\n",
    "\n"
   ]
  },
  {
   "cell_type": "code",
   "execution_count": 10,
   "metadata": {},
   "outputs": [
    {
     "name": "stdout",
     "output_type": "stream",
     "text": [
      "2025245607968 {20, 5, 70, 40, 10, 60}\n",
      "2025245608864 {50, 20, 40, 60, 30}\n",
      "{10, 5, 70}\n",
      "2025245608864 {50, 20, 40, 60, 30}\n",
      "2025245607968 {20, 5, 70, 40, 10, 60}\n"
     ]
    }
   ],
   "source": [
    "#difference()\n",
    "s={10,20,40,5,60,70}\n",
    "d={30,60,50,20,40}\n",
    "print(id(s),s)\n",
    "print(id(d),d)\n",
    "# print(s.difference(d))\n",
    "# print(id(d),d)\n",
    "# print(id(s),s)\n",
    "#uncommom element of set1\n",
    "def difference(coll1,coll2):\n",
    "        if type(coll1)!=set and type(coll2)!=set:\n",
    "                return -1\n",
    "        res=coll1-coll2\n",
    "        return res\n",
    "print(difference(s,d))\n",
    "print(id(d),d)\n",
    "print(id(s),s)\n",
    "                \n",
    "    "
   ]
  },
  {
   "cell_type": "code",
   "execution_count": 18,
   "metadata": {},
   "outputs": [
    {
     "name": "stdout",
     "output_type": "stream",
     "text": [
      "2025245609312 {97, 20, 5, 70, 40, 10, 60}\n",
      "2025245609984 {20, 55, 40, 10, 60, 30}\n",
      "None\n",
      "2025245609312 {97, 5, 70}\n",
      "2025245609984 {20, 55, 40, 10, 60, 30}\n"
     ]
    }
   ],
   "source": [
    "#differenceupdate\n",
    "s={10,20,40,5,60,70,97}\n",
    "d={10,20,30,40,60,55}\n",
    "print(id(s),s)\n",
    "print(id(d),d)\n",
    "# print(s.difference_update(d))\n",
    "def differenceupdate(coll1,coll2):\n",
    "    if type(coll1)!=set and type(coll2)!=set:\n",
    "        return -1\n",
    "    coll1-=coll2\n",
    "    # return coll1\n",
    "print(differenceupdate(s,d))\n",
    "print(id(s),s)\n",
    "print(id(d),d)\n",
    "\n"
   ]
  },
  {
   "cell_type": "code",
   "execution_count": 26,
   "metadata": {},
   "outputs": [
    {
     "name": "stdout",
     "output_type": "stream",
     "text": [
      "2025245611776 {10, 20, 30}\n",
      "2025245608640 {40, 50, 20, 30}\n",
      "{20, 30}\n",
      "2025245611776 {10, 20, 30}\n",
      "2025245608640 {40, 50, 20, 30}\n"
     ]
    }
   ],
   "source": [
    "#intersection()\n",
    "s={10,20,30}\n",
    "d={40,20,50,30}\n",
    "print(id(s),s)\n",
    "print(id(d),d)\n",
    "# print(s.intersection(d))\n",
    "def intersection(coll1,coll2):\n",
    "    if type(coll1)!=set and type(coll2)!=set:\n",
    "        return -1\n",
    "    res=coll1&coll2\n",
    "    return res\n",
    "print(intersection(s,d))\n",
    "\n",
    "print(id(s),s)\n",
    "print(id(d),d)"
   ]
  },
  {
   "cell_type": "code",
   "execution_count": 36,
   "metadata": {},
   "outputs": [
    {
     "name": "stdout",
     "output_type": "stream",
     "text": [
      "2025246401792 {10, 20, 30}\n",
      "2025246403360 {40, 50, 20, 30}\n",
      "None\n",
      "{20, 30}\n",
      "2025246401792 {20, 30}\n",
      "2025246403360 {40, 50, 20, 30}\n"
     ]
    }
   ],
   "source": [
    "#intersection update()\n",
    "s={10,20,30}\n",
    "d={40,20,50,30}\n",
    "print(id(s),s)\n",
    "print(id(d),d)\n",
    "print(s.intersection_update(d))\n",
    "def intersection(coll1,coll2):\n",
    "    if type(coll1)!=set and type(coll2)!=set:\n",
    "        return -1\n",
    "    coll1&=coll2\n",
    "    return coll1\n",
    "print(intersection(s,d))\n",
    "\n",
    "print(id(s),s)\n",
    "print(id(d),d)"
   ]
  },
  {
   "cell_type": "code",
   "execution_count": 38,
   "metadata": {},
   "outputs": [
    {
     "name": "stdout",
     "output_type": "stream",
     "text": [
      "2025246402240 {10, 20, 30}\n",
      "2025246404032 {40, 50, 20, 30}\n",
      "{40, 10, 50}\n",
      "{40, 10, 50}\n",
      "2025246402240 {10, 20, 30}\n",
      "2025246404032 {40, 50, 20, 30}\n"
     ]
    }
   ],
   "source": [
    "#symmentric difference()\n",
    "#display uncomman element\n",
    "s={10,20,30}\n",
    "d={40,20,50,30}\n",
    "print(id(s),s)\n",
    "print(id(d),d)\n",
    "print(s.symmetric_difference(d))\n",
    "def symmentricdifference(coll1,coll2):\n",
    "    if type(coll1)!=set and type(coll2)!=set:\n",
    "        return -1\n",
    "    res=coll1^coll2\n",
    "    return res\n",
    "print(symmentricdifference(s,d))\n",
    "\n",
    "print(id(s),s)\n",
    "print(id(d),d)"
   ]
  },
  {
   "cell_type": "code",
   "execution_count": 51,
   "metadata": {},
   "outputs": [
    {
     "name": "stdout",
     "output_type": "stream",
     "text": [
      "2025246404032 {10, 20, 30}\n",
      "2025246401792 {40, 50, 20, 30}\n",
      "{40, 10, 50}\n",
      "2025246404032 {40, 10, 50}\n",
      "2025246401792 {40, 50, 20, 30}\n"
     ]
    }
   ],
   "source": [
    "#symmentric difference update()\n",
    "s={10,20,30}\n",
    "d={40,20,50,30}\n",
    "print(id(s),s)\n",
    "print(id(d),d)\n",
    "# print(s.symmetric_difference_update(d))\n",
    "def symmentricdifferenceupdate(coll1,coll2):\n",
    "    if type(coll1)!=set and type(coll2)!=set:\n",
    "        return -1\n",
    "    coll1^=coll2\n",
    "    return coll1\n",
    "print(symmentricdifferenceupdate(s,d))\n",
    "\n",
    "print(id(s),s)\n",
    "print(id(d),d)"
   ]
  },
  {
   "cell_type": "code",
   "execution_count": 53,
   "metadata": {},
   "outputs": [
    {
     "name": "stdout",
     "output_type": "stream",
     "text": [
      "2025246404928 {10, 20, 30}\n",
      "2025246403808 {40, 50, 20, 30}\n",
      "{50, 20, 40, 10, 30}\n",
      "2025246404928 {10, 20, 30}\n",
      "2025246403808 {40, 50, 20, 30}\n"
     ]
    }
   ],
   "source": [
    "#union\n",
    "s={10,20,30}\n",
    "d={40,20,50,30}\n",
    "print(id(s),s)\n",
    "print(id(d),d)\n",
    "# print(s.union(d))\n",
    "def union(coll1,coll2):\n",
    "    if type(coll1)!=set and type(coll2)!=set:\n",
    "        return -1\n",
    "    res=coll1|coll2\n",
    "    return res\n",
    "print(union(s,d))\n",
    "\n",
    "print(id(s),s)\n",
    "print(id(d),d)"
   ]
  },
  {
   "cell_type": "code",
   "execution_count": 62,
   "metadata": {},
   "outputs": [
    {
     "name": "stdout",
     "output_type": "stream",
     "text": [
      "2025246404704 {10, 20, 30}\n",
      "2025246404928 {40, 50, 20, 30}\n",
      "{50, 20, 40, 10, 30}\n",
      "2025246404704 {50, 20, 40, 10, 30}\n",
      "2025246404928 {40, 50, 20, 30}\n"
     ]
    }
   ],
   "source": [
    "#update\n",
    "s={10,20,30}\n",
    "d={40,20,50,30}\n",
    "print(id(s),s)\n",
    "print(id(d),d)\n",
    "# print(s.update(d))\n",
    "def update(coll1,coll2):\n",
    "    if type(coll1)!=set and type(coll2)!=set:\n",
    "        return -1\n",
    "    coll1|=coll2\n",
    "    return coll1\n",
    "print(update(s,d))\n",
    "print(id(s),s)\n",
    "print(id(d),d)"
   ]
  }
 ],
 "metadata": {
  "kernelspec": {
   "display_name": "Python 3",
   "language": "python",
   "name": "python3"
  },
  "language_info": {
   "codemirror_mode": {
    "name": "ipython",
    "version": 3
   },
   "file_extension": ".py",
   "mimetype": "text/x-python",
   "name": "python",
   "nbconvert_exporter": "python",
   "pygments_lexer": "ipython3",
   "version": "3.11.4"
  },
  "orig_nbformat": 4
 },
 "nbformat": 4,
 "nbformat_minor": 2
}
