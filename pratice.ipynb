{
 "cells": [
  {
   "cell_type": "code",
   "execution_count": null,
   "metadata": {},
   "outputs": [],
   "source": [
    "a=10\n",
    "b=20\n",
    "if type(a)==type(b)and type(a)in [list,str,tuple,set,dict] and type(b) in [list,str,tuple,set,dict]:\n",
    "    if type(a)==list and type(b)==list:\n",
    "        a+=b\n",
    "        print(a) \n",
    "    elif type(a)==dict and type(b)==dict:\n",
    "        a|=b\n",
    "        print(a)\n",
    "    else:\n",
    "        res=list(a)+list(b)\n",
    "        print(res)\n",
    "elif type(a)!=type(b) and type(a) in [list,str,tuple,dict,set] and type(b) in [list,str,set,tuple,dict]:\n",
    "    res=list(a)+list(b)\n",
    "    print(res)\n",
    "else:\n",
    "    if type(a)==complex and type(b)==complex:\n",
    "        print(complex(imag=a.imag),complex (imag=b.imag))\n",
    "    elif type(a)in [int,float] and type(b) in [int,float,complex]:\n",
    "        res=a*b\n",
    "        print(res)\n",
    "    elif type(a) in [ bool,type(None)] or type(b) in [bool,type(None)]:\n",
    "        print(str(a),str(b))\n",
    "    elif type(a)==bytes and type(b)==bytes:\n",
    "        print(list(a),list(b))\n",
    "    else:\n",
    "        print(\"invalid\")"
   ]
  },
  {
   "cell_type": "code",
   "execution_count": 27,
   "metadata": {},
   "outputs": [
    {
     "name": "stdout",
     "output_type": "stream",
     "text": [
      "12\n"
     ]
    }
   ],
   "source": [
    "#wap sum of factors in given number\n",
    "m=1\n",
    "n=6\n",
    "sum=0\n",
    "while m<=n:\n",
    "    if n%m==0:\n",
    "        sum+=m\n",
    "    m+=1\n",
    "print(sum)\n",
    "   "
   ]
  },
  {
   "cell_type": "code",
   "execution_count": 37,
   "metadata": {},
   "outputs": [
    {
     "name": "stdout",
     "output_type": "stream",
     "text": [
      "sum is 13\n",
      "13  is prime\n"
     ]
    }
   ],
   "source": [
    "#wap sum of all digits in given number the final result is prime or not\n",
    "num=58\n",
    "sum=0\n",
    "count=0\n",
    "m=1\n",
    "while num:\n",
    "    ld=num%10\n",
    "    sum+=ld\n",
    "    num=num//10\n",
    "    if sum%m==0:\n",
    "        count+=1\n",
    "    m+1\n",
    "print(\"sum is\",sum)\n",
    "\n",
    "if count==2:\n",
    "    print(sum,\" is prime\")\n",
    "else:\n",
    "    print(sum,\"is not a prime\")\n"
   ]
  },
  {
   "cell_type": "code",
   "execution_count": 112,
   "metadata": {},
   "outputs": [
    {
     "name": "stdout",
     "output_type": "stream",
     "text": [
      "6\n",
      "6\n",
      "6 is perfect number\n"
     ]
    }
   ],
   "source": [
    "#wap to find out product of all the digits in given number the final resultant number value is perfect number or not\n",
    "m=1\n",
    "n=32\n",
    "sum=0\n",
    "p=1\n",
    "while m<n:\n",
    "    ld=n%10\n",
    "    p*=ld\n",
    "    n=n//10  \n",
    "     \n",
    "    while m<p-1:\n",
    "        if p%m==0:\n",
    "            sum+=m\n",
    "        m+=1\n",
    "    \n",
    "print(sum)\n",
    "print(p)\n",
    "if sum==p:\n",
    "    print(p,\"is perfect number\")\n",
    "else:\n",
    "    print(p,\"is not a perfect number\")"
   ]
  },
  {
   "cell_type": "code",
   "execution_count": 34,
   "metadata": {},
   "outputs": [
    {
     "name": "stdout",
     "output_type": "stream",
     "text": [
      "145\n",
      "strong\n"
     ]
    }
   ],
   "source": [
    "n=145\n",
    "sum=0\n",
    "\n",
    "temp=n\n",
    "while n:\n",
    "    ld=n%10\n",
    "    p=1\n",
    "    m=1\n",
    "    while m<=ld:\n",
    "        p*=m\n",
    "        m+=1\n",
    "    sum+=p\n",
    "    n=n//10  \n",
    "print(sum)\n",
    "if sum==temp:\n",
    "    print(\"strong\")\n",
    "else:\n",
    "    print(\"not a strong\")\n"
   ]
  }
 ],
 "metadata": {
  "kernelspec": {
   "display_name": "Python 3",
   "language": "python",
   "name": "python3"
  },
  "language_info": {
   "codemirror_mode": {
    "name": "ipython",
    "version": 3
   },
   "file_extension": ".py",
   "mimetype": "text/x-python",
   "name": "python",
   "nbconvert_exporter": "python",
   "pygments_lexer": "ipython3",
   "version": "3.11.4"
  },
  "orig_nbformat": 4
 },
 "nbformat": 4,
 "nbformat_minor": 2
}
