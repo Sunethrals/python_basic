{
 "cells": [
  {
   "cell_type": "code",
   "execution_count": 1,
   "metadata": {},
   "outputs": [
    {
     "name": "stdout",
     "output_type": "stream",
     "text": [
      "2048571866304\n",
      "[10, 20, 30, 40]\n",
      "2048571866304\n"
     ]
    }
   ],
   "source": [
    "v1=[10,20]\n",
    "v2=[30,40]\n",
    "if  type(v1) in [list,dict,tuple,set,str,int,float,complex,bool,type(None),bytes] and type(v2) in [list,dict,tuple,set,str,int,float,complex,bool,type(None),bytes]:\n",
    "    if type(v1)==list and type(v1)==type(v2):\n",
    "        print(id(v1))\n",
    "        v1+=v2\n",
    "        print(v1)\n",
    "        print(id(v1))\n",
    "    elif type(v1)==dict and type(v1)==type(v2):\n",
    "        print(id(v1))\n",
    "        v1=v2\n",
    "        print(v1)\n",
    "        print(id(v1))\n",
    "    elif type(v1) != type(v2) and type(v1)==set  and  type(v1) in [list,dict,tuple,set,str] and type(v1) in [list,dict,tuple,set,str]:\n",
    "        v1|={tuple(v2)}\n",
    "        print(v1)\n",
    "    elif type(v1) != type(v2) and type(v1)==list  and  type(v1) in [list,dict,tuple,set,str] and type(v1) in [list,dict,tuple,set,str]:\n",
    "        v1+=v2\n",
    "        print(v1)\n",
    "    elif type(v1) != type(v2) and type(v1)==tuple  and  type(v1) in [list,dict,tuple,set,str] and type(v1) in [list,dict,tuple,set,str]:\n",
    "        v1+=tuple(v2)\n",
    "        print(v1)\n",
    "    elif type(v1) != type(v2) and type(v1)==str  and  type(v1) in [list,dict,tuple,set,str] and type(v1) in [list,dict,tuple,set,str]:\n",
    "        v1+=str(v2)\n",
    "        print(v1,type(v1))\n",
    "    elif type(v1) != type(v2) and type(v2)==set  and  type(v1) in [list,dict,tuple,set,str] and type(v1) in [list,dict,tuple,set,str]:\n",
    "        v2|={tuple(v1)}\n",
    "        print(v2)\n",
    "    elif type(v1) != type(v2) and type(v2)==list  and  type(v1) in [list,dict,tuple,set,str] and type(v1) in [list,dict,tuple,set,str]:\n",
    "        v2+=v1\n",
    "        print(v2)\n",
    "    elif type(v1) != type(v2) and type(v2)==tuple  and  type(v1) in [list,dict,tuple,set,str] and type(v1) in [list,dict,tuple,set,str]:\n",
    "        v2+=tuple(v1)\n",
    "        print(v2)\n",
    "    elif type(v1) != type(v2) and type(v2)==str  and  type(v1) in [list,dict,tuple,set,str] and type(v1) in [list,dict,tuple,set,str]:\n",
    "        v2+=str(v1)\n",
    "        print(v2,type(v2))\n",
    "    elif type(v1)==type(v2) and type(v1) in [int,float]:\n",
    "        v1*=v2\n",
    "        print(v1)\n",
    "    elif type(v1) in [bool,type(None)] or type(v2) in [bool,type(None)] and type(v1)!=type(v2):\n",
    "        v1+=v2\n",
    "        print(v1)\n",
    "    elif type(v1)==type(v2) and type(v1)==complex:\n",
    "        print(v1.imag,type(v1))\n",
    "        print(v2.imag,type(v2))\n",
    "    elif type(v1)==type(v2) and type(v1)==bytes:\n",
    "        print(tuple(v1))\n",
    "        print(tuple(v2))\n",
    "else:\n",
    "    print(\"invalid\")"
   ]
  },
  {
   "cell_type": "code",
   "execution_count": null,
   "metadata": {},
   "outputs": [],
   "source": [
    "a=10\n",
    "b=50\n",
    "if type(a)==type(b) and type(a)in [ list,str,tuple,set,dict] and type(b) in [list,str,tuple,set,dict]:\n",
    "    if type(a)==list and type(b)==list:\n",
    "        a+=b\n",
    "        print(a)\n",
    "    elif type(a)==dict and type(b)==dict:\n",
    "        a|=b\n",
    "        print(a)\n",
    "    else:\n",
    "        res=list(a)+list(b)\n",
    "        print(res)\n",
    "elif type(a)!=type(b) and type(a) in [list,str,tuple,dict,set] and type(b) in [list,str,dict,tuple,set]:\n",
    "    res=list(a)+list(b)\n",
    "    print(res)\n",
    "else:\n",
    "    if type(a)==complex and type(b)==complex:\n",
    "        print(complex(imag=a.imag),complex (imag=b.imag))\n",
    "    elif type(a)in [int,float] and type(b) in [int,float]:\n",
    "        res=a*b\n",
    "        print(res)\n",
    "    elif type(a) in [bool,type(None)] or type(b) in [bool,type(None)]:\n",
    "        print(str(a),str(b))\n",
    "    elif type(a)==bytes and type(b)==bytes:\n",
    "        print(list(a),list(b))\n",
    "    else:\n",
    "        print(\"invalid\")"
   ]
  }
 ],
 "metadata": {
  "kernelspec": {
   "display_name": "Python 3",
   "language": "python",
   "name": "python3"
  },
  "language_info": {
   "codemirror_mode": {
    "name": "ipython",
    "version": 3
   },
   "file_extension": ".py",
   "mimetype": "text/x-python",
   "name": "python",
   "nbconvert_exporter": "python",
   "pygments_lexer": "ipython3",
   "version": "3.11.4"
  },
  "orig_nbformat": 4
 },
 "nbformat": 4,
 "nbformat_minor": 2
}
