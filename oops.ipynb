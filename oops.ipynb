{
 "cells": [
  {
   "cell_type": "code",
   "execution_count": 1,
   "metadata": {},
   "outputs": [
    {
     "name": "stdout",
     "output_type": "stream",
     "text": [
      "{}\n",
      "oneplus {'model': 'oneplus 11', 'ram': '16gb', 'rom': '256gb', 'price': 40000}\n"
     ]
    }
   ],
   "source": [
    "class mobile():\n",
    "    cname=\"oneplus\"\n",
    "    cmodel=None\n",
    "    cram=None\n",
    "    crom=None\n",
    "    cprice=None\n",
    "obj1=mobile()\n",
    "print(obj1.__dict__)\n",
    "obj1.model='oneplus 11'\n",
    "obj1.ram=\"16gb\"\n",
    "obj1.rom=\"256gb\"\n",
    "obj1.price=40000\n",
    "print(obj1.cname,obj1.__dict__)"
   ]
  },
  {
   "cell_type": "code",
   "execution_count": 4,
   "metadata": {},
   "outputs": [
    {
     "name": "stdout",
     "output_type": "stream",
     "text": [
      "{}\n",
      "oneplus {'model': 'oneplus11', 'ram': '16gb', 'rom': '25gb', 'processor': 'mediatak 8', 'price': 45000, 'IMEI': 'on12345'}\n"
     ]
    }
   ],
   "source": [
    "class mobile:\n",
    "    cname=\"oneplus\"\n",
    "    model=None\n",
    "    ram=None\n",
    "    rom=None\n",
    "    processor=None\n",
    "    price=None\n",
    "    IMEI=None\n",
    "obj9=mobile()\n",
    "def create(self,m_model,m_ram,m_rom,m_processor,m_price,m_IMEI):\n",
    "    print(self.__dict__)\n",
    "    self.model=m_model\n",
    "    self.ram=m_ram\n",
    "    self.rom=m_rom\n",
    "    self.processor=m_processor\n",
    "    self.price=m_price\n",
    "    self.IMEI=m_IMEI\n",
    "    print(self.cname,self.__dict__)\n",
    "create(obj9,\"oneplus11\",\"16gb\",\"25gb\",\"mediatak 8\",45000,\"on12345\")"
   ]
  },
  {
   "cell_type": "code",
   "execution_count": 13,
   "metadata": {},
   "outputs": [
    {
     "ename": "TypeError",
     "evalue": "create() missing 2 required positional arguments: 'm_price' and 'm_IMEI'",
     "output_type": "error",
     "traceback": [
      "\u001b[1;31m---------------------------------------------------------------------------\u001b[0m",
      "\u001b[1;31mTypeError\u001b[0m                                 Traceback (most recent call last)",
      "\u001b[1;32mc:\\Users\\M.Sunethra\\Documents\\GitHub\\python\\oops.ipynb Cell 3\u001b[0m line \u001b[0;36m1\n\u001b[0;32m      <a href='vscode-notebook-cell:/c%3A/Users/M.Sunethra/Documents/GitHub/python/oops.ipynb#W2sZmlsZQ%3D%3D?line=7'>8</a>\u001b[0m         \u001b[39mprint\u001b[39m(\u001b[39mself\u001b[39m\u001b[39m.\u001b[39m\u001b[39m__dict__\u001b[39m)\n\u001b[0;32m      <a href='vscode-notebook-cell:/c%3A/Users/M.Sunethra/Documents/GitHub/python/oops.ipynb#W2sZmlsZQ%3D%3D?line=8'>9</a>\u001b[0m obj9\u001b[39m=\u001b[39mmobile1()\n\u001b[1;32m---> <a href='vscode-notebook-cell:/c%3A/Users/M.Sunethra/Documents/GitHub/python/oops.ipynb#W2sZmlsZQ%3D%3D?line=9'>10</a>\u001b[0m create(obj9,\u001b[39m\"\u001b[39;49m\u001b[39moneplus\u001b[39;49m\u001b[39m\"\u001b[39;49m,\u001b[39m\"\u001b[39;49m\u001b[39m16gb\u001b[39;49m\u001b[39m\"\u001b[39;49m,\u001b[39m\"\u001b[39;49m\u001b[39m256gb\u001b[39;49m\u001b[39m\"\u001b[39;49m,\u001b[39m145000\u001b[39;49m)\n",
      "\u001b[1;31mTypeError\u001b[0m: create() missing 2 required positional arguments: 'm_price' and 'm_IMEI'"
     ]
    }
   ],
   "source": [
    "class mobile1:\n",
    "    def create(self,m_model,m_ram,m_rom,m_price):\n",
    "        print(self.__dict__)\n",
    "        self.model=m_model\n",
    "        self.ram=m_ram\n",
    "        self.rom=m_rom\n",
    "        self.price=m_price\n",
    "        print(self.cname,self.__dict__)\n",
    "obj9=mobile1()\n",
    "create(obj9,\"oneplus\",\"16gb\",\"256gb\",145000)"
   ]
  }
 ],
 "metadata": {
  "kernelspec": {
   "display_name": "Python 3",
   "language": "python",
   "name": "python3"
  },
  "language_info": {
   "codemirror_mode": {
    "name": "ipython",
    "version": 3
   },
   "file_extension": ".py",
   "mimetype": "text/x-python",
   "name": "python",
   "nbconvert_exporter": "python",
   "pygments_lexer": "ipython3",
   "version": "3.11.4"
  }
 },
 "nbformat": 4,
 "nbformat_minor": 2
}
