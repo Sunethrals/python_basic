{
 "cells": [
  {
   "cell_type": "code",
   "execution_count": 1,
   "metadata": {},
   "outputs": [
    {
     "name": "stdout",
     "output_type": "stream",
     "text": [
      "python is aprograming language\n"
     ]
    }
   ],
   "source": [
    "#wap of the given string length of the string is even concat the givn  new string if it  is odd reverse the given string\n",
    "n=\"python\"\n",
    "l=len(n)\n",
    "if l%2==0:\n",
    "    n+=\" is aprograming language\"\n",
    "    print(n)\n",
    "else:\n",
    "    print(n[::-1])"
   ]
  },
  {
   "cell_type": "code",
   "execution_count": 2,
   "metadata": {},
   "outputs": [
    {
     "name": "stdout",
     "output_type": "stream",
     "text": [
      "{10: 40, 30: 40, 50: 60}\n"
     ]
    }
   ],
   "source": [
    "#program to check whether given key is not present in the dicitionary or not if it is present modify the key value with \n",
    "# multiple of 2 if it is not present append the new key value inside the dictionary\n",
    "d={10:20,30:40,50:60}\n",
    "n=10\n",
    "m=d[n]\n",
    "if n in d:\n",
    "    d[n]=m*2\n",
    "    print(d)\n",
    "else:\n",
    "    d[n]=80\n",
    "    print(d)"
   ]
  },
  {
   "cell_type": "code",
   "execution_count": 3,
   "metadata": {},
   "outputs": [
    {
     "name": "stdout",
     "output_type": "stream",
     "text": [
      "@\n"
     ]
    }
   ],
   "source": [
    "#wap whether given character is special character or not  if it is a special character print special character if it is\n",
    "#  not a special character then print its ascii value \n",
    "n=\"@\"\n",
    "a=ord(n)\n",
    "if not(65<=a<=90 or 97<=a<=122 or 48<a<57 ):\n",
    "    print(n)\n",
    "else:\n",
    "    print(a)\n"
   ]
  },
  {
   "cell_type": "code",
   "execution_count": 4,
   "metadata": {},
   "outputs": [
    {
     "name": "stdout",
     "output_type": "stream",
     "text": [
      "(60, 20, 30)\n"
     ]
    }
   ],
   "source": [
    "#if a given input is a collection data type if it is list modify the middle value with the new value if it tuple append the \n",
    "# new value at the starting of the tuple and it it set concat the new value to the set if it is a string take the first \n",
    "# character as a key and value as aascii value\n",
    "n=(10,20,30)\n",
    "m=type(n)\n",
    "d={}\n",
    "if m==list:\n",
    "    a=len(n)//2\n",
    "    n[a]=50\n",
    "    print(n)\n",
    "elif m==tuple:\n",
    "    n=(60,)+n[1:]\n",
    "    print(n)\n",
    "elif m==set:\n",
    "    n|={60,70}\n",
    "    print(n)\n",
    "elif m==str:\n",
    "    f=n[0]\n",
    "    v=ord(f)\n",
    "    d[f]=v\n",
    "    print(d)\n",
    "else:\n",
    "    print(\"given value is not collection\")\n",
    "\n"
   ]
  }
 ],
 "metadata": {
  "kernelspec": {
   "display_name": "Python 3",
   "language": "python",
   "name": "python3"
  },
  "language_info": {
   "codemirror_mode": {
    "name": "ipython",
    "version": 3
   },
   "file_extension": ".py",
   "mimetype": "text/x-python",
   "name": "python",
   "nbconvert_exporter": "python",
   "pygments_lexer": "ipython3",
   "version": "3.11.4"
  },
  "orig_nbformat": 4
 },
 "nbformat": 4,
 "nbformat_minor": 2
}
