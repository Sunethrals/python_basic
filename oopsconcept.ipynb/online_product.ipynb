{
 "cells": [
  {
   "cell_type": "code",
   "execution_count": 31,
   "metadata": {},
   "outputs": [
    {
     "name": "stdout",
     "output_type": "stream",
     "text": [
      "username should be alphabet\n",
      "age should be min 18 and max 80 years\n",
      "phone num should be 10 digits\n",
      "phone num should be 10 digits\n",
      "phone num starts with digits 9,8,7,6\n",
      "adhaar number should be 12 digits\n",
      "customer registration is success\n"
     ]
    },
    {
     "data": {
      "text/plain": [
       "<__main__.customer at 0x26226f67d50>"
      ]
     },
     "execution_count": 31,
     "metadata": {},
     "output_type": "execute_result"
    }
   ],
   "source": [
    "class customer:\n",
    "    cust_no=0\n",
    "    cust_details={}\n",
    "    def __init__(self):\n",
    "        self.cname=self.cname()\n",
    "        self.age=self.age()\n",
    "        # self.email=self.email()\n",
    "        self.phone=self.phone()\n",
    "        self.address=self.address()\n",
    "        self.adhaar=self.adhaar()\n",
    "        self.inc_cust_no()\n",
    "        self.cust_id=100+self.cust_no\n",
    "        self.concat_details(self.cust_id,self)\n",
    "        self.csuccess()\n",
    "    @staticmethod\n",
    "    def address():\n",
    "        return input(\"enter the address:\")\n",
    "    @staticmethod\n",
    "    def csuccess():\n",
    "        print(\"customer registration is success\")\n",
    "    @classmethod\n",
    "    def cname(cls):\n",
    "        name=input(\"enter the username:\")\n",
    "        if not(3<=len(name)<=16):\n",
    "            print(\"username should be min 3 and max 16 characters\")\n",
    "            return cls.cname()\n",
    "        elif not(name.isalpha()):\n",
    "            print(\"username should be alphabet\")\n",
    "            return cls.cname()\n",
    "        else:\n",
    "            return name.upper()\n",
    "    \n",
    "    @classmethod\n",
    "    def phone(cls):\n",
    "        phone1=input(\"enter the phone:\")\n",
    "        if not(len(phone1)==10):\n",
    "            print(\"phone num should be 10 digits\")\n",
    "            return cls.phone()\n",
    "        elif not(phone1[0]in \"9876\"):\n",
    "            print(\"phone num starts with digits 9,8,7,6\")\n",
    "            return cls.phone()\n",
    "        elif not (phone1.isnumeric()):\n",
    "            print(\"phone num should be digits\")\n",
    "            return cls.phone()\n",
    "        else:\n",
    "            return int(phone1)\n",
    "        \n",
    "    @classmethod\n",
    "    def adhaar(cls):\n",
    "        adhaar=input(\"enter the adhaar number\")\n",
    "        if not (len(adhaar)==12):\n",
    "            print(\"adhaar number should be 12 digits\")\n",
    "            return cls.adhaar()\n",
    "        elif not(adhaar.isnumeric()):\n",
    "            print(\"adhaar num should be digits\")\n",
    "            return cls.adhaar()\n",
    "        else:\n",
    "            return int(adhaar)\n",
    "        \n",
    "    @classmethod\n",
    "    def age(cls):\n",
    "        age=eval(input(\"enter the age:\"))\n",
    "        if not(18<=age<=80):\n",
    "            print(\"age should be min 18 and max 80 years\")\n",
    "            return cls.age()\n",
    "        else:\n",
    "            return age\n",
    "        \n",
    "    @classmethod \n",
    "    def email(cls):\n",
    "        email=input(\"enter the email\")\n",
    "        if not(email[0].isalpha()):\n",
    "            print(\"email starting char should be alpha\")\n",
    "            return cls.email()\n",
    "        elif not(8<len(email)<=25):\n",
    "            print(\"email should be min 8 and max 25 char\")\n",
    "            return cls.email()\n",
    "        elif not(\"@\" in email and email.count(\"@\")==1 and \".\" in email[email:index(\"@\"):] and 1<email.count(\".\")<=3):\n",
    "            print(\"invalid email\")\n",
    "            return cls.email()\n",
    "        elif len([i for i in email if not('a'<=i<=\"z\" or \"A\"<=i<=\"Z\" or \"0\"<=i<=\"9\" or i in \"@_.\")]):\n",
    "            print(\"email should not be a special char\")\n",
    "            return cls.email()\n",
    "        else:\n",
    "            return email\n",
    "    \n",
    "\n",
    "    @classmethod\n",
    "    def inc_cust_no(cls):\n",
    "        cls.cust_no+=1\n",
    "    @classmethod\n",
    "    def concat_details(cls,id,self):\n",
    "        cls.cust_details[id]=self\n",
    "# customer(\"sunethra\",22,\"sunethrals9@gmail.com\",7396929629,\"Tenali\",256025139625)\n",
    "customer()"
   ]
  },
  {
   "cell_type": "code",
   "execution_count": 17,
   "metadata": {},
   "outputs": [
    {
     "data": {
      "text/plain": [
       "{'cname': 'sunethra',\n",
       " 'age': 22,\n",
       " 'email': 'sunethrals9@gmail.com',\n",
       " 'phone': 7396929629,\n",
       " 'address': 'Tenali',\n",
       " 'adhaar': 256025139625,\n",
       " 'cust_id': 101}"
      ]
     },
     "execution_count": 17,
     "metadata": {},
     "output_type": "execute_result"
    }
   ],
   "source": [
    "# customer.__dict__\n",
    "customer.cust_details[101].__dict__"
   ]
  },
  {
   "cell_type": "code",
   "execution_count": 17,
   "metadata": {},
   "outputs": [],
   "source": [
    "class product:\n",
    "    prod_no=0\n",
    "    prod_details={}\n",
    "    def __init__(self,type_of_prod,name,desc,price,discount,quantity,dom,doe):\n",
    "        self.type_of_prod=type_of_prod\n",
    "        self.name=name\n",
    "        self.desc=desc\n",
    "        self.price=price\n",
    "        self.discount=discount\n",
    "        self.quantity=quantity\n",
    "        self.dom=dom\n",
    "        self.doe=doe\n",
    "        self.inc_prod_no()\n",
    "        self.prod_id=1000+self.prod_no\n",
    "        self.concat_prod_details(self.prod_id,self)\n",
    "\n",
    "    @classmethod\n",
    "    def inc_prod_no(cls):\n",
    "        cls.prod_no+=1\n",
    "    @classmethod\n",
    "    def concat_prod_details(cls,id,self):\n",
    "        cls.prod_details[id]=self\n",
    "\n",
    "    def change_discount(self):\n",
    "        self.discount=int(input(\"enter the discount:\"))\n",
    "\n",
    "    def change_inc_quantity(self):\n",
    "        self.quantity=int(input(\"enter the no of quantities:\"))\n",
    "    \n",
    "    # def change_dec_quantity(self,value):\n",
    "    #     self.quantity-=value\n",
    "    def change_dec_quantity(self):\n",
    "        n=int(input(\"enter the no of quantities:\"))\n",
    "        self.quantity-=n\n",
    "\n",
    "    @classmethod\n",
    "    def display_prod_details(cls):\n",
    "        p_list=cls.prod_details\n",
    "        print(\"product_id\",\"type_of_prod\",\"name\",\"desc\",\"price\",\"discount\",\"quantity\",\"dom\",\"doe\",sep=' | ')\n",
    "        for i in p_list:\n",
    "            print(p_list[i].prod_id,p_list[i].type_of_prod,p_list[i].name,\n",
    "                  p_list[i].desc,\n",
    "                  p_list[i].price,\n",
    "                  p_list[i].discount,\n",
    "                  p_list[i].quantity,\n",
    "                  p_list[i].dom,\n",
    "                  p_list[i].doe,\n",
    "                  sep=' | ')\n",
    "\n",
    "    @classmethod\n",
    "    def unique_type_prods(cls):\n",
    "        uni=[]\n",
    "        for i in cls.prod_details:\n",
    "            if cls.prod_details[i].type_of_prod.upper() not in uni:\n",
    "                uni+=[cls.prod_details[i].type_of_prod.upper()]\n",
    "        print(uni)\n",
    "p1=product(\"mobile\",\"iqqo\",'vivo-iqqo',30000,5,20,17-11-2023,None)\n",
    "p2=product(\"laptop\",\"lenovo\",'lev 32gb',50000,10,20,17-12-2023,None)\n",
    "p3=product(\"mobile\",\"realme\",'realme max',20000,4,10,17-11-2023,None)\n",
    "p4=product(\"laptop\",\"dell\",'dell pro',30000,5,20,17-11-2023,None)\n",
    "\n",
    "\n"
   ]
  },
  {
   "cell_type": "code",
   "execution_count": 18,
   "metadata": {},
   "outputs": [
    {
     "name": "stdout",
     "output_type": "stream",
     "text": [
      "product_id | type_of_prod | name | desc | price | discount | quantity | dom | doe\n",
      "1001 | mobile | iqqo | vivo-iqqo | 30000 | 5 | 20 | -2017 | None\n",
      "1002 | laptop | lenovo | lev 32gb | 50000 | 10 | 20 | -2018 | None\n",
      "1003 | mobile | realme | realme max | 20000 | 4 | 10 | -2017 | None\n",
      "1004 | laptop | dell | dell pro | 30000 | 5 | 20 | -2017 | None\n"
     ]
    }
   ],
   "source": [
    "# product.__dict__\n",
    "# product.prod_details[1001].__dict__\n",
    "# product.unique_type_prods()\n",
    "product.display_prod_details()"
   ]
  },
  {
   "cell_type": "code",
   "execution_count": 23,
   "metadata": {},
   "outputs": [],
   "source": [
    "class seller:\n",
    "    seller_count=0\n",
    "    seller_details={}\n",
    "    def __init__ (self,name,age,email,phone,address,adhaar,type_of_seller,type_of_prod,pname,decs,price,discount,quantity,dom,doe):\n",
    "        self.type_of_seller=type_of_seller\n",
    "        cust=customer(name,age,email,phone,address,adhaar)\n",
    "        prod=product(type_of_prod,pname,decs,price,discount,quantity,dom,doe)\n",
    "        self.cust_id=cust.cust_id\n",
    "        self.prod_id=prod.prod_id\n",
    "        self.inc_seller_count()\n",
    "        self.seller_id=0+self.seller_count\n",
    "        self.concat_seller(self.seller_id,self)\n",
    "\n",
    "    @classmethod\n",
    "    def inc_seller_count(cls):\n",
    "        cls.seller_count+=1\n",
    "    @classmethod\n",
    "    def concat_seller(cls,id,self):\n",
    "        cls.seller_details[id]=self\n"
   ]
  },
  {
   "cell_type": "code",
   "execution_count": 28,
   "metadata": {},
   "outputs": [
    {
     "data": {
      "text/plain": [
       "mappingproxy({'__module__': '__main__',\n",
       "              'seller_count': 0,\n",
       "              'seller_details': {},\n",
       "              '__init__': <function __main__.seller.__init__(self, name, age, email, phone, address, adhaar, type_of_seller, type_of_prod, pname, decs, price, discount, quantity, dom, doe)>,\n",
       "              'inc_seller_count': <classmethod(<function seller.inc_seller_count at 0x0000011C0CD20EA0>)>,\n",
       "              'concat_seller': <classmethod(<function seller.concat_seller at 0x0000011C0CD21080>)>,\n",
       "              '__dict__': <attribute '__dict__' of 'seller' objects>,\n",
       "              '__weakref__': <attribute '__weakref__' of 'seller' objects>,\n",
       "              '__doc__': None})"
      ]
     },
     "execution_count": 28,
     "metadata": {},
     "output_type": "execute_result"
    }
   ],
   "source": [
    "# seller.seller_details[1].__dict__\n",
    "seller.__dict__"
   ]
  }
 ],
 "metadata": {
  "kernelspec": {
   "display_name": "Python 3",
   "language": "python",
   "name": "python3"
  },
  "language_info": {
   "codemirror_mode": {
    "name": "ipython",
    "version": 3
   },
   "file_extension": ".py",
   "mimetype": "text/x-python",
   "name": "python",
   "nbconvert_exporter": "python",
   "pygments_lexer": "ipython3",
   "version": "3.11.4"
  }
 },
 "nbformat": 4,
 "nbformat_minor": 2
}
