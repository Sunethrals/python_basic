{
 "cells": [
  {
   "cell_type": "code",
   "execution_count": 1,
   "metadata": {},
   "outputs": [
    {
     "name": "stdout",
     "output_type": "stream",
     "text": [
      "start\n",
      "h\n",
      "e\n",
      "l\n",
      "l\n",
      "o\n",
      "here small error is there\n",
      "end\n"
     ]
    }
   ],
   "source": [
    "print ('start')\n",
    "a='hello'\n",
    "try:\n",
    "    for i in range(0,100):\n",
    "        print(a[i])\n",
    "except IndexError: #specific error block\n",
    "    print(\"here small error is there\")\n",
    "print(\"end\")"
   ]
  },
  {
   "cell_type": "code",
   "execution_count": null,
   "metadata": {},
   "outputs": [],
   "source": []
  },
  {
   "cell_type": "code",
   "execution_count": 8,
   "metadata": {},
   "outputs": [
    {
     "name": "stdout",
     "output_type": "stream",
     "text": [
      "start\n",
      "1\n",
      "2\n",
      "3\n",
      "4\n",
      "5\n",
      "6\n",
      "7\n",
      "8\n",
      "9\n",
      "10\n",
      "11\n",
      "12\n",
      "13\n",
      "14\n",
      "stop\n"
     ]
    }
   ],
   "source": [
    "print('start')\n",
    "try:\n",
    "    a='hello'\n",
    "    for i in range(1,15):\n",
    "        print(i)\n",
    "except IndexError:\n",
    "    print('specific exception')\n",
    "except Exception:\n",
    "    print('generic exception')\n",
    "except:\n",
    "    print('default exception')\n",
    "finally:\n",
    "    print('stop')\n"
   ]
  },
  {
   "cell_type": "code",
   "execution_count": 11,
   "metadata": {},
   "outputs": [
    {
     "ename": "PysError",
     "evalue": "",
     "output_type": "error",
     "traceback": [
      "\u001b[1;31m---------------------------------------------------------------------------\u001b[0m",
      "\u001b[1;31mPysError\u001b[0m                                  Traceback (most recent call last)",
      "\u001b[1;32mc:\\Users\\M.Sunethra\\Documents\\GitHub\\python\\oopsconcept.ipynb\\pratice.ipynb Cell 3\u001b[0m line \u001b[0;36m8\n\u001b[0;32m      <a href='vscode-notebook-cell:/c%3A/Users/M.Sunethra/Documents/GitHub/python/oopsconcept.ipynb/pratice.ipynb#W2sZmlsZQ%3D%3D?line=5'>6</a>\u001b[0m a\u001b[39m=\u001b[39m\u001b[39m10\u001b[39m\n\u001b[0;32m      <a href='vscode-notebook-cell:/c%3A/Users/M.Sunethra/Documents/GitHub/python/oopsconcept.ipynb/pratice.ipynb#W2sZmlsZQ%3D%3D?line=6'>7</a>\u001b[0m \u001b[39mif\u001b[39;00m a\u001b[39m==\u001b[39m\u001b[39m10\u001b[39m:\n\u001b[1;32m----> <a href='vscode-notebook-cell:/c%3A/Users/M.Sunethra/Documents/GitHub/python/oopsconcept.ipynb/pratice.ipynb#W2sZmlsZQ%3D%3D?line=7'>8</a>\u001b[0m     \u001b[39mraise\u001b[39;00m PysError\n\u001b[0;32m      <a href='vscode-notebook-cell:/c%3A/Users/M.Sunethra/Documents/GitHub/python/oopsconcept.ipynb/pratice.ipynb#W2sZmlsZQ%3D%3D?line=8'>9</a>\u001b[0m \u001b[39melse\u001b[39;00m:\n\u001b[0;32m     <a href='vscode-notebook-cell:/c%3A/Users/M.Sunethra/Documents/GitHub/python/oopsconcept.ipynb/pratice.ipynb#W2sZmlsZQ%3D%3D?line=9'>10</a>\u001b[0m     \u001b[39mprint\u001b[39m(\u001b[39m\"\u001b[39m\u001b[39mbye\u001b[39m\u001b[39m\"\u001b[39m)\n",
      "\u001b[1;31mPysError\u001b[0m: "
     ]
    }
   ],
   "source": [
    "#predefined error\n",
    "class PysError(Exception):\n",
    "    def __init__(self):\n",
    "        pass\n",
    "a=10\n",
    "if a==10:\n",
    "    raise PysError\n",
    "else:\n",
    "    print(\"bye\")"
   ]
  },
  {
   "cell_type": "code",
   "execution_count": 12,
   "metadata": {},
   "outputs": [
    {
     "ename": "PysError",
     "evalue": "a should not be 10",
     "output_type": "error",
     "traceback": [
      "\u001b[1;31m---------------------------------------------------------------------------\u001b[0m",
      "\u001b[1;31mPysError\u001b[0m                                  Traceback (most recent call last)",
      "\u001b[1;32mc:\\Users\\M.Sunethra\\Documents\\GitHub\\python\\oopsconcept.ipynb\\pratice.ipynb Cell 4\u001b[0m line \u001b[0;36m6\n\u001b[0;32m      <a href='vscode-notebook-cell:/c%3A/Users/M.Sunethra/Documents/GitHub/python/oopsconcept.ipynb/pratice.ipynb#W3sZmlsZQ%3D%3D?line=3'>4</a>\u001b[0m a\u001b[39m=\u001b[39m\u001b[39m10\u001b[39m\n\u001b[0;32m      <a href='vscode-notebook-cell:/c%3A/Users/M.Sunethra/Documents/GitHub/python/oopsconcept.ipynb/pratice.ipynb#W3sZmlsZQ%3D%3D?line=4'>5</a>\u001b[0m \u001b[39mif\u001b[39;00m a\u001b[39m==\u001b[39m\u001b[39m10\u001b[39m:\n\u001b[1;32m----> <a href='vscode-notebook-cell:/c%3A/Users/M.Sunethra/Documents/GitHub/python/oopsconcept.ipynb/pratice.ipynb#W3sZmlsZQ%3D%3D?line=5'>6</a>\u001b[0m     \u001b[39mraise\u001b[39;00m PysError(\u001b[39m'\u001b[39m\u001b[39ma should not be 10\u001b[39m\u001b[39m'\u001b[39m)\n\u001b[0;32m      <a href='vscode-notebook-cell:/c%3A/Users/M.Sunethra/Documents/GitHub/python/oopsconcept.ipynb/pratice.ipynb#W3sZmlsZQ%3D%3D?line=6'>7</a>\u001b[0m \u001b[39melse\u001b[39;00m:\n\u001b[0;32m      <a href='vscode-notebook-cell:/c%3A/Users/M.Sunethra/Documents/GitHub/python/oopsconcept.ipynb/pratice.ipynb#W3sZmlsZQ%3D%3D?line=7'>8</a>\u001b[0m     \u001b[39mprint\u001b[39m(\u001b[39m\"\u001b[39m\u001b[39mbye\u001b[39m\u001b[39m\"\u001b[39m)\n",
      "\u001b[1;31mPysError\u001b[0m: a should not be 10"
     ]
    }
   ],
   "source": [
    "class PysError(Exception):\n",
    "    def __init__(self,msg=None):\n",
    "        self.msg=msg\n",
    "a=10\n",
    "if a==10:\n",
    "    raise PysError('a should not be 10')\n",
    "else:\n",
    "    print(\"bye\")\n",
    "    "
   ]
  },
  {
   "cell_type": "code",
   "execution_count": 4,
   "metadata": {},
   "outputs": [
    {
     "name": "stdout",
     "output_type": "stream",
     "text": [
      "<sqlite3.Connection object at 0x000002176B9B7F10>\n",
      "<sqlite3.Cursor object at 0x000002176BED8040>\n"
     ]
    }
   ],
   "source": [
    "import sqlite3 as sq\n",
    "db=sq.connect('employww.db')\n",
    "print(db)\n",
    "cur=db.cursor()\n",
    "print(cur)\n",
    "# cus.execute('create table employee(id int,name varchar(30))')\n",
    "query='''create table student(\n",
    "sid int primary key,\n",
    "name varchar(50),\n",
    "age int,\n",
    "email varchar(50) unique,\n",
    "phone bigint unique,\n",
    "address varchar(100),\n",
    "marks int\n",
    ")'''\n",
    "# cur.execute(query)\n",
    "# print(cur.rowcount,\"rowaffected\")\n",
    "db.commit()\n",
    "# query=''' inser into student(sid,name,age,email,phone,address,marks) values(2,'sai',22,'sai@gmail.com',1472583691,'tenali',95)'''\n",
    "# cur.execute(query)\n",
    "# print(cur.rowcount,'row created')\n",
    "# db.commit()\n",
    "# query='''select * from student'''\n",
    "# cur.execute(query)\n",
    "# res=cur.fetchall()\n",
    "# for i in res:\n",
    "#     print(i)"
   ]
  },
  {
   "cell_type": "code",
   "execution_count": 18,
   "metadata": {},
   "outputs": [
    {
     "name": "stdout",
     "output_type": "stream",
     "text": [
      "<sqlite3.Connection object at 0x000002254E4762F0>\n",
      "<sqlite3.Cursor object at 0x000002254E3C4340>\n"
     ]
    },
    {
     "data": {
      "text/plain": [
       "<sqlite3.Cursor at 0x2254e3c4340>"
      ]
     },
     "execution_count": 18,
     "metadata": {},
     "output_type": "execute_result"
    }
   ],
   "source": [
    "import sqlite3 as sq\n",
    "db=sq.connect('employww.db')\n",
    "print(db)\n",
    "cus=db.cursor()\n",
    "print(cus)\n",
    "cus.execute('create table employee(id int,name varchar(30))')"
   ]
  },
  {
   "cell_type": "code",
   "execution_count": null,
   "metadata": {},
   "outputs": [],
   "source": [
    "def insert_record(sid,name,age,email,phone,address,marks):\n",
    "    query='''insert into student (sid,name,age,email,phone,address,marks) values(?,?,?,?,?,?,?)'''\n",
    "    val=[sid,name,age,email,phone,address,marks]\n",
    "    cur.execute(query,val)\n",
    "    print(cur.rowcount,'rowcreated')\n",
    "    db.commit()"
   ]
  }
 ],
 "metadata": {
  "kernelspec": {
   "display_name": "Python 3",
   "language": "python",
   "name": "python3"
  },
  "language_info": {
   "codemirror_mode": {
    "name": "ipython",
    "version": 3
   },
   "file_extension": ".py",
   "mimetype": "text/x-python",
   "name": "python",
   "nbconvert_exporter": "python",
   "pygments_lexer": "ipython3",
   "version": "3.11.4"
  }
 },
 "nbformat": 4,
 "nbformat_minor": 2
}
