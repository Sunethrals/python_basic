{
 "cells": [
  {
   "cell_type": "code",
   "execution_count": 1,
   "metadata": {},
   "outputs": [
    {
     "name": "stdout",
     "output_type": "stream",
     "text": [
      "h\n",
      "e\n",
      "l\n",
      "l\n",
      "o\n"
     ]
    }
   ],
   "source": [
    "st=\"hello\"\n",
    "for i in st:\n",
    "    print(i)"
   ]
  },
  {
   "cell_type": "code",
   "execution_count": 2,
   "metadata": {},
   "outputs": [
    {
     "name": "stdout",
     "output_type": "stream",
     "text": [
      "10\n",
      "15\n",
      "True\n",
      "[10, 20, 30]\n",
      "{10, 20}\n",
      "{10, 20}\n",
      "{'a': 10}\n",
      "b'1010'\n"
     ]
    }
   ],
   "source": [
    "l=[10,15,True,[10,20,30],{10,20},{10,20},{\"a\":10},b'1010']\n",
    "for x in l:\n",
    "    print(x)"
   ]
  },
  {
   "cell_type": "code",
   "execution_count": 3,
   "metadata": {},
   "outputs": [
    {
     "name": "stdout",
     "output_type": "stream",
     "text": [
      "10\n",
      "15\n",
      "True\n",
      "[10, 20, 30]\n",
      "{10, 20}\n",
      "{10, 20}\n",
      "{'a': 10}\n",
      "b'1010'\n"
     ]
    }
   ],
   "source": [
    "l=(10,15,True,[10,20,30],{10,20},{10,20},{\"a\":10},b'1010')\n",
    "for x in l:\n",
    "    print(x)"
   ]
  },
  {
   "cell_type": "code",
   "execution_count": 8,
   "metadata": {},
   "outputs": [
    {
     "name": "stdout",
     "output_type": "stream",
     "text": [
      "True\n",
      "py\n",
      "b'1010'\n",
      "10\n",
      "15\n",
      "(10, 20, 30)\n"
     ]
    }
   ],
   "source": [
    "l={10,15,True,(10,20,30),\"py\",b'1010'}\n",
    "for x in l:\n",
    "    print(x)"
   ]
  },
  {
   "cell_type": "code",
   "execution_count": 9,
   "metadata": {},
   "outputs": [
    {
     "name": "stdout",
     "output_type": "stream",
     "text": [
      "a\n",
      "15.04\n",
      "b'1010'\n"
     ]
    }
   ],
   "source": [
    "l={\"a\":10,15.04:15+9j,b'1010':None}\n",
    "for x in l:\n",
    "    print(x)"
   ]
  },
  {
   "cell_type": "code",
   "execution_count": 10,
   "metadata": {},
   "outputs": [
    {
     "name": "stdout",
     "output_type": "stream",
     "text": [
      "a 10\n",
      "15.04 (15+9j)\n",
      "b'1010' None\n"
     ]
    }
   ],
   "source": [
    "l={\"a\":10,15.04:15+9j,b'1010':None}\n",
    "for x in l:\n",
    "    print(x,l[x])"
   ]
  },
  {
   "cell_type": "code",
   "execution_count": 85,
   "metadata": {},
   "outputs": [
    {
     "name": "stdout",
     "output_type": "stream",
     "text": [
      "{'h': 1, 'e': 1, 'l': 3, 'o': 2, 'w': 1, 'r': 1, 'd': 1}\n"
     ]
    }
   ],
   "source": [
    "# st=eval(input(\"enter the collection:\"))\n",
    "st=\"helloworld\"\n",
    "if type(var) in [str,list,tuple]:\n",
    "    res={}\n",
    "    for s in st:\n",
    "        if s not in res:\n",
    "            res[s]=1\n",
    "        else:\n",
    "            res[s]+=1\n",
    "    print(res)\n",
    "else:\n",
    "    print(\"enter the collection\")"
   ]
  },
  {
   "cell_type": "code",
   "execution_count": 47,
   "metadata": {},
   "outputs": [
    {
     "name": "stdout",
     "output_type": "stream",
     "text": [
      "2\n"
     ]
    }
   ],
   "source": [
    "var=eval(input(\"enter the value:\"))\n",
    "sp=eval(input(\"enter the value:\"))\n",
    "if type(var) in [str,list,tuple]:\n",
    "    c=0\n",
    "    for i in var:\n",
    "        if sp==i:\n",
    "            c+=1\n",
    "    print(c)"
   ]
  },
  {
   "cell_type": "code",
   "execution_count": 90,
   "metadata": {},
   "outputs": [
    {
     "name": "stdout",
     "output_type": "stream",
     "text": [
      "helowrd\n",
      "h 1\n",
      "e 1\n",
      "l 3\n",
      "o 2\n",
      "w 1\n",
      "r 1\n",
      "d 1\n"
     ]
    }
   ],
   "source": [
    "# s=eval(input(\"enter the collection:\"))\n",
    "s=\"helloworld\"\n",
    "res=\"\"\n",
    "for i in s:\n",
    "    if i not in res:\n",
    "        res+=i\n",
    "print(res)\n",
    "for j in res:\n",
    "    c=0\n",
    "    for k in s:\n",
    "        if j==k:\n",
    "            c+=1\n",
    "    print(j,c)"
   ]
  },
  {
   "cell_type": "code",
   "execution_count": 65,
   "metadata": {},
   "outputs": [
    {
     "name": "stdout",
     "output_type": "stream",
     "text": [
      "15\n"
     ]
    }
   ],
   "source": [
    "#sum of the digit\n",
    "m=\"12345\"\n",
    "s=0\n",
    "n=int(m)\n",
    "for i in m:\n",
    "    ld=n%10\n",
    "    s+=ld\n",
    "    n=n//10\n",
    "print(s)\n",
    "\n",
    "\n",
    "# m=\"1234\"\n",
    "# s=0\n",
    "# for i in m:\n",
    "#     s+=int(i)\n",
    "# print(s)"
   ]
  },
  {
   "cell_type": "code",
   "execution_count": 74,
   "metadata": {},
   "outputs": [
    {
     "name": "stdout",
     "output_type": "stream",
     "text": [
      "24\n"
     ]
    }
   ],
   "source": [
    "#product of the each digit\n",
    "#  n=\"1234\"\n",
    "# p=1\n",
    "# for i in n:\n",
    "#     p*=int(i)\n",
    "# print(p)\n",
    "\n",
    "m=\"1234\"\n",
    "s=1\n",
    "n=int(m)\n",
    "for i in m:\n",
    "    ld=n%10\n",
    "    s*=ld\n",
    "    n=n//10\n",
    "print(s)"
   ]
  },
  {
   "cell_type": "code",
   "execution_count": 126,
   "metadata": {},
   "outputs": [
    {
     "name": "stdout",
     "output_type": "stream",
     "text": [
      "{'h': 1, 'e': 1, 'l': 3, 'o': 2, ' ': 1, 'w': 1, 'r': 1, 'd': 1}\n",
      "{1: ['h', 'e', ' ', 'w', 'r', 'd'], 3: ['l'], 2: ['o']}\n",
      "6\n"
     ]
    }
   ],
   "source": [
    "st=\"hello world\"\n",
    "d={}\n",
    "for i in st:\n",
    "    if i not in d:\n",
    "        d[i]=1\n",
    "    else:\n",
    "        d[i]+=1\n",
    "print(d)\n",
    "res={}\n",
    "for j in d:\n",
    "    if d[j] not in res:\n",
    "        res[d[j]]=[j]\n",
    "    else:\n",
    "        res[d[j]]+=[j]\n",
    "print(res)\n",
    "max=len(d)\n",
    "for k in res:\n",
    "    if max>k:\n",
    "        max=k\n",
    "#print(max)\n",
    "print(len(res[max]))\n"
   ]
  },
  {
   "cell_type": "code",
   "execution_count": 112,
   "metadata": {},
   "outputs": [
    {
     "name": "stdout",
     "output_type": "stream",
     "text": [
      "{'h': 1, 'e': 1, 'l': 2, 'o': 1}\n",
      "{1: ['h', 'e', 'o'], 2: ['l']}\n"
     ]
    }
   ],
   "source": [
    "st=\"hello\"\n",
    "d={}\n",
    "for i in st:\n",
    "    if i not in d:\n",
    "        d[i]=1\n",
    "    else:\n",
    "        d[i]+=1\n",
    "print(d)\n",
    "res={}\n",
    "for j in d:\n",
    "    if d[j] not in res:\n",
    "        res[d[j]]=[j]\n",
    "    else:\n",
    "        res[d[j]]+=[j]\n",
    "print(res)"
   ]
  },
  {
   "cell_type": "code",
   "execution_count": 113,
   "metadata": {},
   "outputs": [
    {
     "name": "stdout",
     "output_type": "stream",
     "text": [
      "{'h': 1, 'e': 1, 'l': 2, 'o': 1}\n",
      "h 1\n",
      "[['e', 1], ['o', 1], ['h', 1]]\n"
     ]
    }
   ],
   "source": [
    "st=\"hello\"\n",
    "d={}\n",
    "for i in st:\n",
    "    if i not in d:\n",
    "        d[i]=1\n",
    "    else:\n",
    "        d[i]+=1\n",
    "print(d)\n",
    "u=[]\n",
    "min=len(st)\n",
    "ch=\"\"\n",
    "for i in d:\n",
    "    if min>d[i]:\n",
    "        min=d[i]\n",
    "        ch=i\n",
    "    elif min==d[i]:\n",
    "        u+=[[i,d[i]]]\n",
    "u+=[[ch,min]]\n",
    "print(ch,min)\n",
    "print(u)"
   ]
  },
  {
   "cell_type": "code",
   "execution_count": 127,
   "metadata": {},
   "outputs": [
    {
     "name": "stdout",
     "output_type": "stream",
     "text": [
      "m\n",
      "mo\n",
      "mob\n",
      "mobi\n",
      "mobil\n",
      "mobile\n"
     ]
    }
   ],
   "source": [
    "st=\"mobile\"\n",
    "pos=1\n",
    "for i in st:\n",
    "    print(st[0:pos])\n",
    "    pos+=1"
   ]
  },
  {
   "cell_type": "code",
   "execution_count": 128,
   "metadata": {},
   "outputs": [
    {
     "name": "stdout",
     "output_type": "stream",
     "text": [
      "m\n",
      "mo\n",
      "mob\n",
      "mobi\n",
      "mobil\n",
      "mobile\n"
     ]
    }
   ],
   "source": [
    "st=\"mobile\"\n",
    "res=\"\"\n",
    "for i in st:\n",
    "    res+=i\n",
    "    print(res)"
   ]
  },
  {
   "cell_type": "code",
   "execution_count": 129,
   "metadata": {},
   "outputs": [
    {
     "name": "stdout",
     "output_type": "stream",
     "text": [
      "\n",
      "o\n",
      "ob\n",
      "obi\n",
      "obil\n",
      "obile\n"
     ]
    }
   ],
   "source": [
    "st=\"mobile\"\n",
    "pos=1\n",
    "for i in st:\n",
    "    print(st[1:pos])\n",
    "    pos+=1"
   ]
  },
  {
   "cell_type": "code",
   "execution_count": 132,
   "metadata": {},
   "outputs": [
    {
     "name": "stdout",
     "output_type": "stream",
     "text": [
      "\n",
      "\n",
      "b\n",
      "bi\n",
      "bil\n",
      "bile\n"
     ]
    }
   ],
   "source": [
    "st=\"mobile\"\n",
    "pos=1\n",
    "for i in st:\n",
    "    print(st[2:pos])\n",
    "    pos+=1"
   ]
  },
  {
   "cell_type": "code",
   "execution_count": 135,
   "metadata": {},
   "outputs": [
    {
     "data": {
      "text/plain": [
       "range(0, 10)"
      ]
     },
     "execution_count": 135,
     "metadata": {},
     "output_type": "execute_result"
    }
   ],
   "source": [
    "range(0,10)"
   ]
  },
  {
   "cell_type": "code",
   "execution_count": 137,
   "metadata": {},
   "outputs": [
    {
     "data": {
      "text/plain": [
       "[0, 1, 2, 3, 4, 5, 6, 7, 8, 9]"
      ]
     },
     "execution_count": 137,
     "metadata": {},
     "output_type": "execute_result"
    }
   ],
   "source": [
    "list(range(0,10))"
   ]
  },
  {
   "cell_type": "code",
   "execution_count": 139,
   "metadata": {},
   "outputs": [
    {
     "data": {
      "text/plain": [
       "[0, 2, 4, 6, 8]"
      ]
     },
     "execution_count": 139,
     "metadata": {},
     "output_type": "execute_result"
    }
   ],
   "source": [
    "list(range(0,10,2))"
   ]
  },
  {
   "cell_type": "code",
   "execution_count": 141,
   "metadata": {},
   "outputs": [
    {
     "data": {
      "text/plain": [
       "[10, 9, 8, 7, 6, 5, 4, 3, 2, 1]"
      ]
     },
     "execution_count": 141,
     "metadata": {},
     "output_type": "execute_result"
    }
   ],
   "source": [
    "list(range(10,0,-1))"
   ]
  },
  {
   "cell_type": "code",
   "execution_count": 146,
   "metadata": {},
   "outputs": [
    {
     "data": {
      "text/plain": [
       "[]"
      ]
     },
     "execution_count": 146,
     "metadata": {},
     "output_type": "execute_result"
    }
   ],
   "source": [
    "list(range(-10,-1,-1))"
   ]
  },
  {
   "cell_type": "code",
   "execution_count": 145,
   "metadata": {},
   "outputs": [
    {
     "data": {
      "text/plain": [
       "[-1, -2, -3, -4, -5, -6, -7, -8, -9]"
      ]
     },
     "execution_count": 145,
     "metadata": {},
     "output_type": "execute_result"
    }
   ],
   "source": [
    "list(range(-1,-10,-1))"
   ]
  },
  {
   "cell_type": "code",
   "execution_count": 147,
   "metadata": {},
   "outputs": [
    {
     "data": {
      "text/plain": [
       "[]"
      ]
     },
     "execution_count": 147,
     "metadata": {},
     "output_type": "execute_result"
    }
   ],
   "source": [
    "list(range(-1,-10,2))"
   ]
  },
  {
   "cell_type": "code",
   "execution_count": 148,
   "metadata": {},
   "outputs": [
    {
     "name": "stdout",
     "output_type": "stream",
     "text": [
      "0\n",
      "1\n",
      "2\n",
      "3\n",
      "4\n"
     ]
    }
   ],
   "source": [
    "st=\"level\"\n",
    "for i in range(0,len(st)):\n",
    "    print(i)"
   ]
  },
  {
   "cell_type": "code",
   "execution_count": 151,
   "metadata": {},
   "outputs": [
    {
     "name": "stdout",
     "output_type": "stream",
     "text": [
      "\n",
      "l\n",
      "le\n",
      "lev\n",
      "leve\n"
     ]
    }
   ],
   "source": [
    "st=\"level\"\n",
    "for i in range(0,len(st)):\n",
    "    print(st[0:i:])\n"
   ]
  },
  {
   "cell_type": "code",
   "execution_count": 153,
   "metadata": {},
   "outputs": [
    {
     "name": "stdout",
     "output_type": "stream",
     "text": [
      "\n",
      "l\n",
      "le\n",
      "lev\n",
      "leve\n",
      "level\n"
     ]
    }
   ],
   "source": [
    "st=\"level\"\n",
    "for i in range(0,len(st)+1):\n",
    "    print(st[0:i])"
   ]
  },
  {
   "cell_type": "code",
   "execution_count": 154,
   "metadata": {},
   "outputs": [
    {
     "name": "stdout",
     "output_type": "stream",
     "text": [
      "l\n",
      "e\n",
      "v\n",
      "e\n",
      "l\n"
     ]
    }
   ],
   "source": [
    "st=\"level\"\n",
    "for i in range(0,len(st)):\n",
    "    print(st[i])"
   ]
  },
  {
   "cell_type": "code",
   "execution_count": 156,
   "metadata": {},
   "outputs": [
    {
     "name": "stdout",
     "output_type": "stream",
     "text": [
      "l\n",
      "le\n",
      "lev\n",
      "leve\n"
     ]
    }
   ],
   "source": [
    "st=\"level\"\n",
    "for i in range(1,len(st)):\n",
    "    print(st[0:i])"
   ]
  },
  {
   "cell_type": "code",
   "execution_count": 157,
   "metadata": {},
   "outputs": [
    {
     "name": "stdout",
     "output_type": "stream",
     "text": [
      "l\n",
      "le\n",
      "lev\n",
      "leve\n",
      "level\n"
     ]
    }
   ],
   "source": [
    "st=\"level\"\n",
    "res=\"\"\n",
    "for i in range(0,len(st)):\n",
    "    res+=st[i]\n",
    "    print(res)"
   ]
  },
  {
   "cell_type": "code",
   "execution_count": 158,
   "metadata": {},
   "outputs": [
    {
     "name": "stdout",
     "output_type": "stream",
     "text": [
      "l\n",
      "le\n",
      "lev\n",
      "leve\n",
      "level\n",
      "\n",
      "e\n",
      "ev\n",
      "eve\n",
      "evel\n",
      "\n",
      "\n",
      "v\n",
      "ve\n",
      "vel\n",
      "\n",
      "\n",
      "\n",
      "e\n",
      "el\n",
      "\n",
      "\n",
      "\n",
      "\n",
      "l\n"
     ]
    }
   ],
   "source": [
    "st=\"level\"\n",
    "for j in range(0,len(st)):\n",
    "    for i in range(1,len(st)+1):\n",
    "        print(st[j:i])"
   ]
  },
  {
   "cell_type": "code",
   "execution_count": 160,
   "metadata": {},
   "outputs": [
    {
     "name": "stdout",
     "output_type": "stream",
     "text": [
      "l\n",
      "le\n",
      "lev\n",
      "leve\n",
      "level\n",
      "e\n",
      "ev\n",
      "eve\n",
      "evel\n",
      "v\n",
      "ve\n",
      "vel\n",
      "e\n",
      "el\n",
      "l\n"
     ]
    }
   ],
   "source": [
    "st=\"level\"\n",
    "for j in range(0,len(st)):\n",
    "    for i in range(j+1,len(st)+1):\n",
    "        print(st[j:i])"
   ]
  },
  {
   "cell_type": "code",
   "execution_count": 61,
   "metadata": {},
   "outputs": [
    {
     "name": "stdout",
     "output_type": "stream",
     "text": [
      "[1, 2]\n",
      "4\n",
      "(1, 2)\n",
      "[1, 2, 4, 1, 2]\n"
     ]
    }
   ],
   "source": [
    "s=[[1,2],4,(1,2)]\n",
    "l=[]\n",
    "for i in s:\n",
    "    if type(i) not in [list,tuple]:\n",
    "        l+=[i]\n",
    "    else:\n",
    "        for j in i:\n",
    "            l+=[j]\n",
    "print(l)\n",
    "\n"
   ]
  },
  {
   "cell_type": "code",
   "execution_count": 62,
   "metadata": {},
   "outputs": [
    {
     "name": "stdout",
     "output_type": "stream",
     "text": [
      "[1, 2, 3, 9, 4]\n"
     ]
    },
    {
     "ename": "IndexError",
     "evalue": "list index out of range",
     "output_type": "error",
     "traceback": [
      "\u001b[1;31m---------------------------------------------------------------------------\u001b[0m",
      "\u001b[1;31mIndexError\u001b[0m                                Traceback (most recent call last)",
      "Cell \u001b[1;32mIn[62], line 12\u001b[0m\n\u001b[0;32m     10\u001b[0m \u001b[39mfor\u001b[39;00m i \u001b[39min\u001b[39;00m \u001b[39mrange\u001b[39m(\u001b[39m0\u001b[39m,\u001b[39mlen\u001b[39m(l)):\n\u001b[0;32m     11\u001b[0m     \u001b[39mfor\u001b[39;00m j \u001b[39min\u001b[39;00m l:\n\u001b[1;32m---> 12\u001b[0m         \u001b[39mif\u001b[39;00m j\u001b[39m!=\u001b[39m \u001b[39mlen\u001b[39m(l)\u001b[39m-\u001b[39m\u001b[39m1\u001b[39m \u001b[39mand\u001b[39;00m (l[i]\u001b[39m+\u001b[39ml[i\u001b[39m+\u001b[39;49mj])\u001b[39m==\u001b[39mm:\n\u001b[0;32m     13\u001b[0m             s\u001b[39m+\u001b[39m\u001b[39m=\u001b[39m\u001b[39m1\u001b[39m\n\u001b[0;32m     14\u001b[0m \u001b[39mprint\u001b[39m(s)\n",
      "\u001b[1;31mIndexError\u001b[0m: list index out of range"
     ]
    }
   ],
   "source": [
    "n=49321\n",
    "m=5\n",
    "l=[]\n",
    "while n:\n",
    "    ld=n%10\n",
    "    l+=[ld]\n",
    "    n=n//10\n",
    "print(l)\n",
    "s=0\n",
    "for i in range(0,len(l)):\n",
    "    for j in l:\n",
    "        if j!= len(l)-1 and (l[i]+l[i+j])==m:\n",
    "            s+=1\n",
    "print(s)"
   ]
  },
  {
   "cell_type": "code",
   "execution_count": 117,
   "metadata": {},
   "outputs": [
    {
     "name": "stdout",
     "output_type": "stream",
     "text": [
      "2\n"
     ]
    }
   ],
   "source": [
    "n=49321\n",
    "l=[]\n",
    "c=0\n",
    "for i in str(n):\n",
    "    #print(i)\n",
    "    for j in str(n):\n",
    "        #print(i,j)\n",
    "        s=int(i)+int(j)\n",
    "        #print(s)\n",
    "        #print(i,j)\n",
    "        if s==5:\n",
    "            #print(i,j)\n",
    "            #print(s)\n",
    "            c+=1\n",
    "print(int(c/2))\n",
    "\n",
    "#logic is correct by writing the code is wrong we should use range \n",
    "            "
   ]
  },
  {
   "cell_type": "code",
   "execution_count": 119,
   "metadata": {},
   "outputs": [
    {
     "name": "stdout",
     "output_type": "stream",
     "text": [
      "2\n"
     ]
    }
   ],
   "source": [
    "st=\"49321\"\n",
    "c=0\n",
    "for i in range (0,len(st)):\n",
    "    for j in range(i+1,len(st)):\n",
    "        if int(st[i])+int(st[j])==5:\n",
    "            c+=1\n",
    "print(c)\n",
    "\n",
    "\n",
    "#4+1=5 and 3+2=5\n"
   ]
  },
  {
   "cell_type": "code",
   "execution_count": 135,
   "metadata": {},
   "outputs": [
    {
     "name": "stdout",
     "output_type": "stream",
     "text": [
      "14 5\n",
      "32 5\n",
      "23 5\n",
      "122 5\n",
      "221 5\n",
      "5\n"
     ]
    }
   ],
   "source": [
    "st=\"143231221\"\n",
    "c=0\n",
    "for i in range(0,len(st)):\n",
    "    for j in range(i+1,len(st)+1):\n",
    "        temp=int(st[i:j])\n",
    "        res=temp\n",
    "        sum1=0\n",
    "        while res:\n",
    "            ld=res%10\n",
    "            sum1+=ld\n",
    "            res=res//10\n",
    "        if sum1==5:\n",
    "            c+=1\n",
    "            print(temp,sum1)\n",
    "print(c)"
   ]
  },
  {
   "cell_type": "code",
   "execution_count": 133,
   "metadata": {},
   "outputs": [
    {
     "name": "stdout",
     "output_type": "stream",
     "text": [
      "('4', '1') 5\n",
      "('3', '2') 5\n",
      "2\n"
     ]
    }
   ],
   "source": [
    "#using combination\n",
    "from itertools import combinations\n",
    "st=\"49321\"\n",
    "c=0\n",
    "for k in range(2,len(st)):\n",
    "    for i in (combinations (st,k)):\n",
    "        sum1=0\n",
    "        for j in i:\n",
    "            sum1+=int(j)\n",
    "        if sum1==5:\n",
    "            c+=1\n",
    "            print(i,sum1)\n",
    "print(c)"
   ]
  },
  {
   "cell_type": "code",
   "execution_count": null,
   "metadata": {},
   "outputs": [
    {
     "name": "stdout",
     "output_type": "stream",
     "text": [
      "l 2\n",
      "l 3\n"
     ]
    }
   ],
   "source": [
    "st=\"hello\"\n",
    "ch=\"l\"\n",
    "for i in range(0,len(st)):\n",
    "    if st[i]==ch:\n",
    "        print(st[i],i)"
   ]
  },
  {
   "cell_type": "code",
   "execution_count": 137,
   "metadata": {},
   "outputs": [
    {
     "name": "stdout",
     "output_type": "stream",
     "text": [
      "l 2\n",
      "l 3\n"
     ]
    }
   ],
   "source": [
    "st=\"hello\"\n",
    "ch=\"l\"\n",
    "i=0\n",
    "while i<len(st):\n",
    "    if st[i]==ch:\n",
    "        print(st[i],i)\n",
    "    i+=1"
   ]
  },
  {
   "cell_type": "code",
   "execution_count": 138,
   "metadata": {},
   "outputs": [
    {
     "name": "stdout",
     "output_type": "stream",
     "text": [
      "p 2\n"
     ]
    }
   ],
   "source": [
    "st=\"laptop\"\n",
    "ch=\"p\"\n",
    "for i in range(0,len(st)):\n",
    "    if st[i]==ch:\n",
    "        print(st[i],i)\n",
    "        break"
   ]
  },
  {
   "cell_type": "code",
   "execution_count": 144,
   "metadata": {},
   "outputs": [
    {
     "name": "stdout",
     "output_type": "stream",
     "text": [
      "a 13\n"
     ]
    }
   ],
   "source": [
    "st=\"laptop is a hardware\"\n",
    "ch=\"a\"\n",
    "n=3\n",
    "c=0\n",
    "for i in range(0,len(st)):\n",
    "    if st[i]==ch:\n",
    "        c+=1\n",
    "        if c==n:\n",
    "            print(st[i],i)"
   ]
  },
  {
   "cell_type": "code",
   "execution_count": 146,
   "metadata": {},
   "outputs": [
    {
     "name": "stdout",
     "output_type": "stream",
     "text": [
      "a 1\n",
      "p 2\n",
      "p 5\n"
     ]
    }
   ],
   "source": [
    "st=\"laptop\"\n",
    "s=\"ap\"\n",
    "for i in range(0,len(st)):\n",
    "    for j in range(0,len(s)):\n",
    "        if st[i]==s[j]:\n",
    "            print(st[i],i)"
   ]
  },
  {
   "cell_type": "code",
   "execution_count": 153,
   "metadata": {},
   "outputs": [
    {
     "name": "stdout",
     "output_type": "stream",
     "text": [
      "a 10\n",
      "a 17\n",
      "p 0\n",
      "p 12\n"
     ]
    }
   ],
   "source": [
    "st=\"python is a programme\"\n",
    "s=\"ap\"\n",
    "for i in range(0,len(s)):\n",
    "    for j in range(0,len(st)):\n",
    "        if s[i]==st[j]:\n",
    "            print(s[i],j)"
   ]
  },
  {
   "cell_type": "code",
   "execution_count": 156,
   "metadata": {},
   "outputs": [
    {
     "name": "stdout",
     "output_type": "stream",
     "text": [
      "7 11\n"
     ]
    }
   ],
   "source": [
    "st=\"python is a programme\"\n",
    "s=\"is a\"\n",
    "if s in st:\n",
    "    for i in range (0,len(st)):\n",
    "        if s[0]==st[i]:\n",
    "            if st[i:i+len(s)]==s:\n",
    "                print(i,i+len(s))\n",
    "else:\n",
    "    print(\"string is not present\")"
   ]
  },
  {
   "cell_type": "code",
   "execution_count": 157,
   "metadata": {},
   "outputs": [
    {
     "name": "stdout",
     "output_type": "stream",
     "text": [
      "35 39\n"
     ]
    }
   ],
   "source": [
    "st=\"python is a programme java is a programme\"\n",
    "s=\"gram\"\n",
    "n=2\n",
    "c=0\n",
    "if s in st:\n",
    "    for i in range (0,len(st)):\n",
    "        if s[0]==st[i]:\n",
    "            if st[i:i+len(s)]==s:\n",
    "                c+=1\n",
    "                if c==n:\n",
    "                    print(i,i+len(s))\n",
    "else:\n",
    "    print(\"string is not present\")"
   ]
  },
  {
   "cell_type": "code",
   "execution_count": 158,
   "metadata": {},
   "outputs": [
    {
     "name": "stdout",
     "output_type": "stream",
     "text": [
      "[2, 3, 4, 2, 6]\n"
     ]
    }
   ],
   "source": [
    "l=[1,2,3,4,1,2,6]\n",
    "u=l.copy()\n",
    "c=0\n",
    "for i in range(len(u)):\n",
    "    if u[i]==1:\n",
    "        del l[i-c]\n",
    "        c+=1\n",
    "print(l)"
   ]
  },
  {
   "cell_type": "code",
   "execution_count": 159,
   "metadata": {},
   "outputs": [
    {
     "name": "stdout",
     "output_type": "stream",
     "text": [
      "[3, 4, 6]\n"
     ]
    }
   ],
   "source": [
    "l=[1,2,3,4,1,2,6]\n",
    "u=l.copy()\n",
    "c=0\n",
    "for i in range(len(u)):\n",
    "    if u[i] in [1,2]:\n",
    "        del l[i-c]\n",
    "        c+=1\n",
    "print(l)"
   ]
  },
  {
   "cell_type": "code",
   "execution_count": 161,
   "metadata": {},
   "outputs": [
    {
     "name": "stdout",
     "output_type": "stream",
     "text": [
      "2448692389568\n",
      "[1, 2, 3, 4, 6]\n",
      "2448692389568\n"
     ]
    }
   ],
   "source": [
    "l=[1,2,3,4,1,2,6]\n",
    "print(id(l))\n",
    "t=[]\n",
    "u=l.copy()\n",
    "c=0\n",
    "for i in range(len(u)):\n",
    "    if u[i] not in t:\n",
    "        t+=[u[i]]\n",
    "    else:\n",
    "        del l[i-c]\n",
    "        c+=1\n",
    "print(l)\n",
    "print(id(l))"
   ]
  },
  {
   "cell_type": "code",
   "execution_count": 1,
   "metadata": {},
   "outputs": [
    {
     "name": "stdout",
     "output_type": "stream",
     "text": [
      "1391\n"
     ]
    }
   ],
   "source": [
    "st=\"1abc156cde1234efg\"\n",
    "res=\"\"\n",
    "sum=0\n",
    "for i in st:\n",
    "    if \"0\"<=i<=\"9\":\n",
    "        res+=i\n",
    "    else:\n",
    "        if len(res)>0:\n",
    "            sum+=int(res)\n",
    "            res=\"\"\n",
    "if len(res)>0:\n",
    "    sum+=int(res)\n",
    "print(sum)"
   ]
  },
  {
   "cell_type": "code",
   "execution_count": 23,
   "metadata": {},
   "outputs": [
    {
     "name": "stdout",
     "output_type": "stream",
     "text": [
      "46\n"
     ]
    }
   ],
   "source": [
    "st=\"abc326cde125efg\"\n",
    "p=1\n",
    "sum=0\n",
    "res=\"\"\n",
    "for i in st:\n",
    "    if \"0\"<=i<=\"9\":\n",
    "       p*=int(i)\n",
    "       #print(p,\"p\")\n",
    "       res+=i\n",
    "    else:\n",
    "        if len(res)>0:\n",
    "            sum+=p\n",
    "            res=\"\"\n",
    "            p=1\n",
    "            #print(sum,\"s\")\n",
    "\n",
    "print(sum)"
   ]
  },
  {
   "cell_type": "code",
   "execution_count": 25,
   "metadata": {},
   "outputs": [
    {
     "name": "stdout",
     "output_type": "stream",
     "text": [
      "18\n"
     ]
    }
   ],
   "source": [
    "st=\"abc156cde123\"\n",
    "sum=0\n",
    "for i in st:\n",
    "    if \"0\"<=i<=\"9\":    \n",
    "        sum+=int(i)\n",
    "print(sum)"
   ]
  },
  {
   "cell_type": "code",
   "execution_count": 2,
   "metadata": {},
   "outputs": [
    {
     "name": "stdout",
     "output_type": "stream",
     "text": [
      "[1, 2, 3, 4, 6, 5, 8]\n",
      "[1, 2, 3, 4, 1, 2, 6, 6, 5, 6, 8, 2, 3]\n"
     ]
    }
   ],
   "source": [
    "st=[1,2,3,4,1,2,6,1,2,6,6,5,6,8,2,3]\n",
    "uni=[]\n",
    "for i in st:\n",
    "    if i not in uni:\n",
    "        uni+=[i]\n",
    "print(uni)\n",
    "n=3\n",
    "for j in uni:\n",
    "    c=0\n",
    "    for k in range(len(st)):\n",
    "        if j==st[k]:\n",
    "            c+=1\n",
    "        if c==n:\n",
    "            del st[k]\n",
    "            break\n",
    "print(st)\n",
    "\n"
   ]
  },
  {
   "cell_type": "code",
   "execution_count": 3,
   "metadata": {},
   "outputs": [
    {
     "name": "stdout",
     "output_type": "stream",
     "text": [
      "[1, 2, 3, 4, 1, 2, 6, 1, 2, 6, 5, 6, 8, 2, 3]\n"
     ]
    }
   ],
   "source": [
    "st=[1,2,3,4,1,2,6,1,2,6,6,5,6,1,8,2,3]\n",
    "sp=6\n",
    "n=3\n",
    "c=0\n",
    "for i in range(0,len(st)):\n",
    "    if sp==st[i]:\n",
    "        c+=1\n",
    "    if c==n:\n",
    "        del st[i]\n",
    "        break\n",
    "print(st)"
   ]
  },
  {
   "cell_type": "code",
   "execution_count": 5,
   "metadata": {},
   "outputs": [
    {
     "name": "stdout",
     "output_type": "stream",
     "text": [
      "[1, 2, 3, 4, 1, 2, 6, 1, 2, 6, 5, 6, 1, 8, 2, 3]\n"
     ]
    }
   ],
   "source": [
    "st=[1,2,3,4,1,2,6,1,2,6,6,5,6,1,8,2,3]\n",
    "sp=6\n",
    "n=3\n",
    "c=0\n",
    "for i in range(0,len(st)):\n",
    "    if sp==st[i]:\n",
    "        c+=1\n",
    "    if c==n:\n",
    "        st=st[0:i]+st[i+1:]\n",
    "        break\n",
    "print(st)\n",
    "#address will be change"
   ]
  },
  {
   "cell_type": "code",
   "execution_count": 6,
   "metadata": {},
   "outputs": [
    {
     "name": "stdout",
     "output_type": "stream",
     "text": [
      "iphone iwatch tab\n"
     ]
    }
   ],
   "source": [
    "st=\"iphone iwatch itab\"\n",
    "sp=\"i\"\n",
    "s=\"\"\n",
    "n=3\n",
    "c=0\n",
    "for i in range(0,len(st)):\n",
    "    if sp!=st[i]:\n",
    "        s+=st[i]\n",
    "    else:\n",
    "        if st[i]==sp:\n",
    "            c+=1\n",
    "            if c!=n:\n",
    "                s+=st[i]\n",
    "print(s)"
   ]
  },
  {
   "cell_type": "code",
   "execution_count": 7,
   "metadata": {},
   "outputs": [
    {
     "name": "stdout",
     "output_type": "stream",
     "text": [
      "iphone iwatch tab\n"
     ]
    }
   ],
   "source": [
    "st=\"iphone iwatch itab\"\n",
    "sp=\"i\"\n",
    "n=3\n",
    "c=0\n",
    "for i in range(0,len(st)):\n",
    "    if sp==st[i]:\n",
    "        c+=1\n",
    "    if c==n:\n",
    "        st=st[0:i]+st[i+1:]\n",
    "        break\n",
    "print(st)\n",
    "#address will be change"
   ]
  },
  {
   "cell_type": "code",
   "execution_count": 8,
   "metadata": {},
   "outputs": [
    {
     "name": "stdout",
     "output_type": "stream",
     "text": [
      "(1, 2, 3, 4, 1, 2, 6, 1, 2, 6, 5, 6, 1, 8, 2, 3)\n"
     ]
    }
   ],
   "source": [
    "st=(1,2,3,4,1,2,6,1,2,6,6,5,6,1,8,2,3)\n",
    "sp=6\n",
    "n=3\n",
    "c=0\n",
    "for i in range(0,len(st)):\n",
    "    if sp==st[i]:\n",
    "        c+=1\n",
    "    if c==n:\n",
    "        st=st[0:i]+st[i+1:]\n",
    "        break\n",
    "print(st)"
   ]
  },
  {
   "cell_type": "code",
   "execution_count": 12,
   "metadata": {},
   "outputs": [
    {
     "name": "stdout",
     "output_type": "stream",
     "text": [
      "(1, 2, 3, 4, 1, 2, 6, 1, 2, 6, 5, 6, 1, 8, 2, 3)\n"
     ]
    }
   ],
   "source": [
    "st=(1,2,3,4,1,2,6,1,2,6,6,5,6,1,8,2,3)\n",
    "sp=6\n",
    "s=()\n",
    "n=3\n",
    "c=0\n",
    "for i in range(0,len(st)):\n",
    "    if sp!=st[i]:\n",
    "        s+=(st[i],)\n",
    "    else:\n",
    "        if st[i]==sp:\n",
    "            c+=1\n",
    "            if c!=n:\n",
    "                s+=(st[i],)\n",
    "print(s)"
   ]
  },
  {
   "cell_type": "code",
   "execution_count": 19,
   "metadata": {},
   "outputs": [
    {
     "name": "stdout",
     "output_type": "stream",
     "text": [
      "8\n"
     ]
    }
   ],
   "source": [
    "l=[10,20,30,40,50,60,10,50,10]\n",
    "def sample(coll,ele,occur=1,start=0,end=0):\n",
    "    if start<0:\n",
    "        start = len(coll)+start\n",
    "    if end<0:\n",
    "        end=len(coll)+end\n",
    "    if end==0:\n",
    "        end=len(coll)\n",
    "    count=0\n",
    "    for i in range(start,end):\n",
    "        if coll[i]==ele:\n",
    "            count+=1\n",
    "            if count==occur:\n",
    "                return i\n",
    "    return -1\n",
    "print(sample(l,10,3,0,10))"
   ]
  }
 ],
 "metadata": {
  "kernelspec": {
   "display_name": "Python 3",
   "language": "python",
   "name": "python3"
  },
  "language_info": {
   "codemirror_mode": {
    "name": "ipython",
    "version": 3
   },
   "file_extension": ".py",
   "mimetype": "text/x-python",
   "name": "python",
   "nbconvert_exporter": "python",
   "pygments_lexer": "ipython3",
   "version": "3.11.4"
  },
  "orig_nbformat": 4
 },
 "nbformat": 4,
 "nbformat_minor": 2
}
