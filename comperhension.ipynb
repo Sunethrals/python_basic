{
 "cells": [
  {
   "cell_type": "code",
   "execution_count": 1,
   "metadata": {},
   "outputs": [
    {
     "name": "stdout",
     "output_type": "stream",
     "text": [
      "[24, '16.16', '87', '19', '26.46', '35', 28, '19']\n"
     ]
    }
   ],
   "source": [
    "#i/p:- st=\"12/16.16/87/19/26.46/35/14/19\"\n",
    "#o/p:-[24,\"16.16\",\"87\",\"19\",\"26.46\",\"35\",28,\"19\"]\n",
    "st=\"12/16.16/87/19/26.46/35/14/19\"\n",
    "l=[]\n",
    "for  i  in st.split(\"/\"):\n",
    "    if len(i)==2 and int(i)%2==0:\n",
    "        l+=[int(i)*2]\n",
    "    else:\n",
    "        l+=[i]\n",
    "print(l)\n",
    "    \n"
   ]
  },
  {
   "cell_type": "code",
   "execution_count": 4,
   "metadata": {},
   "outputs": [
    {
     "name": "stdout",
     "output_type": "stream",
     "text": [
      "[24, 28]\n"
     ]
    }
   ],
   "source": [
    "res=(lambda:[ int(i)*2 for i in st.split(\"/\") if len(i)==2 and int(i)%2==0])\n",
    "print(res())\n"
   ]
  },
  {
   "cell_type": "code",
   "execution_count": 6,
   "metadata": {},
   "outputs": [
    {
     "name": "stdout",
     "output_type": "stream",
     "text": [
      "[24, '16.16', '87', '19', '26.46', '35', 28, '19']\n"
     ]
    }
   ],
   "source": [
    "var=lambda:[int(i)*2 if i.isdigit() and int(i)%2==0 else i for i in st.split(\"/\")]\n",
    "print(var())"
   ]
  },
  {
   "cell_type": "code",
   "execution_count": 7,
   "metadata": {},
   "outputs": [
    {
     "name": "stdout",
     "output_type": "stream",
     "text": [
      "[24, '16.16', '87', '19', '26.46', '35', 28, '19']\n"
     ]
    }
   ],
   "source": [
    "var=lambda:[int(i)*2 if len(i)==2 and int(i)%2==0 else i for i in st.split(\"/\")]\n",
    "print(var())"
   ]
  },
  {
   "cell_type": "code",
   "execution_count": 18,
   "metadata": {},
   "outputs": [
    {
     "name": "stdout",
     "output_type": "stream",
     "text": [
      "amstrong\n"
     ]
    }
   ],
   "source": [
    "n=153\n",
    "temp=n\n",
    "m=n\n",
    "sum=0\n",
    "count=0\n",
    "while n:\n",
    "    count+=1\n",
    "    n=n//10\n",
    "while temp:\n",
    "    ld=temp%10\n",
    "    sum+=ld**count\n",
    "    temp=temp//10\n",
    "if sum==m:\n",
    "    print(\"amstrong\")\n",
    "else:\n",
    "    print(\"notamstrong\")\n",
    "\n",
    "\n",
    "n=153\n",
    "m=n\n",
    "sum=0\n",
    "for i in str(n):\n",
    "    sum+=int(i)**3\n",
    "if sum==m:\n",
    "    print(\"amstrong\")\n",
    "else:\n",
    "    print(\"notamstrong\")"
   ]
  },
  {
   "cell_type": "code",
   "execution_count": 56,
   "metadata": {},
   "outputs": [
    {
     "ename": "TypeError",
     "evalue": "'int' object is not callable",
     "output_type": "error",
     "traceback": [
      "\u001b[1;31m---------------------------------------------------------------------------\u001b[0m",
      "\u001b[1;31mTypeError\u001b[0m                                 Traceback (most recent call last)",
      "\u001b[1;32mc:\\Users\\M.Sunethra\\Documents\\GitHub\\python\\comperhension.ipynb Cell 6\u001b[0m line \u001b[0;36m1\n\u001b[0;32m      <a href='vscode-notebook-cell:/c%3A/Users/M.Sunethra/Documents/GitHub/python/comperhension.ipynb#X10sZmlsZQ%3D%3D?line=0'>1</a>\u001b[0m \u001b[39m# for j in range(1,1000):\u001b[39;00m\n\u001b[0;32m      <a href='vscode-notebook-cell:/c%3A/Users/M.Sunethra/Documents/GitHub/python/comperhension.ipynb#X10sZmlsZQ%3D%3D?line=1'>2</a>\u001b[0m \u001b[39m#     sum=0\u001b[39;00m\n\u001b[0;32m      <a href='vscode-notebook-cell:/c%3A/Users/M.Sunethra/Documents/GitHub/python/comperhension.ipynb#X10sZmlsZQ%3D%3D?line=2'>3</a>\u001b[0m \u001b[39m#     for i in str(j):\u001b[39;00m\n\u001b[1;32m   (...)\u001b[0m\n\u001b[0;32m      <a href='vscode-notebook-cell:/c%3A/Users/M.Sunethra/Documents/GitHub/python/comperhension.ipynb#X10sZmlsZQ%3D%3D?line=6'>7</a>\u001b[0m \u001b[39m#     else:\u001b[39;00m\n\u001b[0;32m      <a href='vscode-notebook-cell:/c%3A/Users/M.Sunethra/Documents/GitHub/python/comperhension.ipynb#X10sZmlsZQ%3D%3D?line=7'>8</a>\u001b[0m \u001b[39m#         print(\"not an amstrong\",j)\u001b[39;00m\n\u001b[1;32m---> <a href='vscode-notebook-cell:/c%3A/Users/M.Sunethra/Documents/GitHub/python/comperhension.ipynb#X10sZmlsZQ%3D%3D?line=10'>11</a>\u001b[0m res\u001b[39m=\u001b[39m[j \u001b[39mfor\u001b[39;49;00m j \u001b[39min\u001b[39;49;00m \u001b[39mrange\u001b[39;49m(\u001b[39m1\u001b[39;49m,\u001b[39m1000\u001b[39;49m) \u001b[39mif\u001b[39;49;00m j \u001b[39m==\u001b[39;49m \u001b[39msum\u001b[39;49m(\u001b[39mint\u001b[39;49m(i) \u001b[39m*\u001b[39;49m\u001b[39m*\u001b[39;49m \u001b[39mlen\u001b[39;49m(\u001b[39mstr\u001b[39;49m(j)) \u001b[39mfor\u001b[39;49;00m i \u001b[39min\u001b[39;49;00m \u001b[39mstr\u001b[39;49m(j))]\n\u001b[0;32m     <a href='vscode-notebook-cell:/c%3A/Users/M.Sunethra/Documents/GitHub/python/comperhension.ipynb#X10sZmlsZQ%3D%3D?line=11'>12</a>\u001b[0m \u001b[39m# res=[num for num in range(1,1000) if num==sum()]\u001b[39;00m\n\u001b[0;32m     <a href='vscode-notebook-cell:/c%3A/Users/M.Sunethra/Documents/GitHub/python/comperhension.ipynb#X10sZmlsZQ%3D%3D?line=12'>13</a>\u001b[0m \u001b[39mprint\u001b[39m(res)\n",
      "\u001b[1;32mc:\\Users\\M.Sunethra\\Documents\\GitHub\\python\\comperhension.ipynb Cell 6\u001b[0m line \u001b[0;36m1\n\u001b[0;32m      <a href='vscode-notebook-cell:/c%3A/Users/M.Sunethra/Documents/GitHub/python/comperhension.ipynb#X10sZmlsZQ%3D%3D?line=0'>1</a>\u001b[0m \u001b[39m# for j in range(1,1000):\u001b[39;00m\n\u001b[0;32m      <a href='vscode-notebook-cell:/c%3A/Users/M.Sunethra/Documents/GitHub/python/comperhension.ipynb#X10sZmlsZQ%3D%3D?line=1'>2</a>\u001b[0m \u001b[39m#     sum=0\u001b[39;00m\n\u001b[0;32m      <a href='vscode-notebook-cell:/c%3A/Users/M.Sunethra/Documents/GitHub/python/comperhension.ipynb#X10sZmlsZQ%3D%3D?line=2'>3</a>\u001b[0m \u001b[39m#     for i in str(j):\u001b[39;00m\n\u001b[1;32m   (...)\u001b[0m\n\u001b[0;32m      <a href='vscode-notebook-cell:/c%3A/Users/M.Sunethra/Documents/GitHub/python/comperhension.ipynb#X10sZmlsZQ%3D%3D?line=6'>7</a>\u001b[0m \u001b[39m#     else:\u001b[39;00m\n\u001b[0;32m      <a href='vscode-notebook-cell:/c%3A/Users/M.Sunethra/Documents/GitHub/python/comperhension.ipynb#X10sZmlsZQ%3D%3D?line=7'>8</a>\u001b[0m \u001b[39m#         print(\"not an amstrong\",j)\u001b[39;00m\n\u001b[1;32m---> <a href='vscode-notebook-cell:/c%3A/Users/M.Sunethra/Documents/GitHub/python/comperhension.ipynb#X10sZmlsZQ%3D%3D?line=10'>11</a>\u001b[0m res\u001b[39m=\u001b[39m[j \u001b[39mfor\u001b[39;00m j \u001b[39min\u001b[39;00m \u001b[39mrange\u001b[39m(\u001b[39m1\u001b[39m,\u001b[39m1000\u001b[39m) \u001b[39mif\u001b[39;00m j \u001b[39m==\u001b[39m \u001b[39msum\u001b[39;49m(\u001b[39mint\u001b[39;49m(i) \u001b[39m*\u001b[39;49m\u001b[39m*\u001b[39;49m \u001b[39mlen\u001b[39;49m(\u001b[39mstr\u001b[39;49m(j)) \u001b[39mfor\u001b[39;49;00m i \u001b[39min\u001b[39;49;00m \u001b[39mstr\u001b[39;49m(j))]\n\u001b[0;32m     <a href='vscode-notebook-cell:/c%3A/Users/M.Sunethra/Documents/GitHub/python/comperhension.ipynb#X10sZmlsZQ%3D%3D?line=11'>12</a>\u001b[0m \u001b[39m# res=[num for num in range(1,1000) if num==sum()]\u001b[39;00m\n\u001b[0;32m     <a href='vscode-notebook-cell:/c%3A/Users/M.Sunethra/Documents/GitHub/python/comperhension.ipynb#X10sZmlsZQ%3D%3D?line=12'>13</a>\u001b[0m \u001b[39mprint\u001b[39m(res)\n",
      "\u001b[1;31mTypeError\u001b[0m: 'int' object is not callable"
     ]
    }
   ],
   "source": [
    "\n",
    "# for j in range(1,1000):\n",
    "#     sum=0\n",
    "#     for i in str(j):\n",
    "#         sum+=int(i)**len(str(j))\n",
    "#     if sum==j:\n",
    "#         print(\"amstrong\",j)\n",
    "#     else:\n",
    "#         print(\"not an amstrong\",j)\n",
    "\n",
    "\n",
    "res=[j for j in range(1,1000) if j == sum(int(i) ** len(str(j)) for i in str(j))]\n",
    "# res=[num for num in range(1,1000) if num==sum()]\n",
    "print(res)"
   ]
  },
  {
   "cell_type": "code",
   "execution_count": 57,
   "metadata": {},
   "outputs": [
    {
     "ename": "TypeError",
     "evalue": "'int' object is not callable",
     "output_type": "error",
     "traceback": [
      "\u001b[1;31m---------------------------------------------------------------------------\u001b[0m",
      "\u001b[1;31mTypeError\u001b[0m                                 Traceback (most recent call last)",
      "\u001b[1;32mc:\\Users\\M.Sunethra\\Documents\\GitHub\\python\\comperhension.ipynb Cell 7\u001b[0m line \u001b[0;36m1\n\u001b[1;32m----> <a href='vscode-notebook-cell:/c%3A/Users/M.Sunethra/Documents/GitHub/python/comperhension.ipynb#X11sZmlsZQ%3D%3D?line=0'>1</a>\u001b[0m res\u001b[39m=\u001b[39m[j \u001b[39mfor\u001b[39;49;00m j \u001b[39min\u001b[39;49;00m \u001b[39mrange\u001b[39;49m(\u001b[39m1\u001b[39;49m,\u001b[39m1000\u001b[39;49m) \u001b[39mif\u001b[39;49;00m j \u001b[39m==\u001b[39;49m \u001b[39msum\u001b[39;49m(\u001b[39mint\u001b[39;49m(i) \u001b[39m*\u001b[39;49m\u001b[39m*\u001b[39;49m \u001b[39mlen\u001b[39;49m(\u001b[39mstr\u001b[39;49m(j)) \u001b[39mfor\u001b[39;49;00m i \u001b[39min\u001b[39;49;00m \u001b[39mstr\u001b[39;49m(j))]\n\u001b[0;32m      <a href='vscode-notebook-cell:/c%3A/Users/M.Sunethra/Documents/GitHub/python/comperhension.ipynb#X11sZmlsZQ%3D%3D?line=1'>2</a>\u001b[0m \u001b[39mprint\u001b[39m(res)\n",
      "\u001b[1;32mc:\\Users\\M.Sunethra\\Documents\\GitHub\\python\\comperhension.ipynb Cell 7\u001b[0m line \u001b[0;36m1\n\u001b[1;32m----> <a href='vscode-notebook-cell:/c%3A/Users/M.Sunethra/Documents/GitHub/python/comperhension.ipynb#X11sZmlsZQ%3D%3D?line=0'>1</a>\u001b[0m res\u001b[39m=\u001b[39m[j \u001b[39mfor\u001b[39;00m j \u001b[39min\u001b[39;00m \u001b[39mrange\u001b[39m(\u001b[39m1\u001b[39m,\u001b[39m1000\u001b[39m) \u001b[39mif\u001b[39;00m j \u001b[39m==\u001b[39m \u001b[39msum\u001b[39;49m(\u001b[39mint\u001b[39;49m(i) \u001b[39m*\u001b[39;49m\u001b[39m*\u001b[39;49m \u001b[39mlen\u001b[39;49m(\u001b[39mstr\u001b[39;49m(j)) \u001b[39mfor\u001b[39;49;00m i \u001b[39min\u001b[39;49;00m \u001b[39mstr\u001b[39;49m(j))]\n\u001b[0;32m      <a href='vscode-notebook-cell:/c%3A/Users/M.Sunethra/Documents/GitHub/python/comperhension.ipynb#X11sZmlsZQ%3D%3D?line=1'>2</a>\u001b[0m \u001b[39mprint\u001b[39m(res)\n",
      "\u001b[1;31mTypeError\u001b[0m: 'int' object is not callable"
     ]
    }
   ],
   "source": [
    "\n",
    "res=[j for j in range(1,1000) if j == sum(int(i) ** len(str(j)) for i in str(j))]\n",
    "print(res)"
   ]
  },
  {
   "cell_type": "code",
   "execution_count": 6,
   "metadata": {},
   "outputs": [
    {
     "name": "stdout",
     "output_type": "stream",
     "text": [
      "2\n",
      "3\n",
      "5\n",
      "7\n"
     ]
    },
    {
     "ename": "UnboundLocalError",
     "evalue": "cannot access local variable 'i' where it is not associated with a value",
     "output_type": "error",
     "traceback": [
      "\u001b[1;31m---------------------------------------------------------------------------\u001b[0m",
      "\u001b[1;31mUnboundLocalError\u001b[0m                         Traceback (most recent call last)",
      "\u001b[1;32mc:\\Users\\M.Sunethra\\Documents\\GitHub\\python\\comperhension.ipynb Cell 6\u001b[0m line \u001b[0;36m9\n\u001b[0;32m      <a href='vscode-notebook-cell:/c%3A/Users/M.Sunethra/Documents/GitHub/python/comperhension.ipynb#W5sZmlsZQ%3D%3D?line=5'>6</a>\u001b[0m     \u001b[39mif\u001b[39;00m c\u001b[39m==\u001b[39m\u001b[39m2\u001b[39m:\n\u001b[0;32m      <a href='vscode-notebook-cell:/c%3A/Users/M.Sunethra/Documents/GitHub/python/comperhension.ipynb#W5sZmlsZQ%3D%3D?line=6'>7</a>\u001b[0m         \u001b[39mprint\u001b[39m(i)\n\u001b[1;32m----> <a href='vscode-notebook-cell:/c%3A/Users/M.Sunethra/Documents/GitHub/python/comperhension.ipynb#W5sZmlsZQ%3D%3D?line=8'>9</a>\u001b[0m res\u001b[39m=\u001b[39m[ c \u001b[39mfor\u001b[39;49;00m j \u001b[39min\u001b[39;49;00m \u001b[39mrange\u001b[39;49m(\u001b[39m1\u001b[39;49m,\u001b[39mint\u001b[39;49m(i)\u001b[39m+\u001b[39;49m\u001b[39m1\u001b[39;49m) \u001b[39mif\u001b[39;49;00m i\u001b[39m%\u001b[39;49mj\u001b[39m==\u001b[39;49m\u001b[39m0\u001b[39;49m \u001b[39mfor\u001b[39;49;00m i \u001b[39min\u001b[39;49;00m \u001b[39mrange\u001b[39;49m(\u001b[39m1\u001b[39;49m,\u001b[39m10\u001b[39;49m)]\n\u001b[0;32m     <a href='vscode-notebook-cell:/c%3A/Users/M.Sunethra/Documents/GitHub/python/comperhension.ipynb#W5sZmlsZQ%3D%3D?line=9'>10</a>\u001b[0m \u001b[39mprint\u001b[39m(res)\n",
      "\u001b[1;32mc:\\Users\\M.Sunethra\\Documents\\GitHub\\python\\comperhension.ipynb Cell 6\u001b[0m line \u001b[0;36m9\n\u001b[0;32m      <a href='vscode-notebook-cell:/c%3A/Users/M.Sunethra/Documents/GitHub/python/comperhension.ipynb#W5sZmlsZQ%3D%3D?line=5'>6</a>\u001b[0m     \u001b[39mif\u001b[39;00m c\u001b[39m==\u001b[39m\u001b[39m2\u001b[39m:\n\u001b[0;32m      <a href='vscode-notebook-cell:/c%3A/Users/M.Sunethra/Documents/GitHub/python/comperhension.ipynb#W5sZmlsZQ%3D%3D?line=6'>7</a>\u001b[0m         \u001b[39mprint\u001b[39m(i)\n\u001b[1;32m----> <a href='vscode-notebook-cell:/c%3A/Users/M.Sunethra/Documents/GitHub/python/comperhension.ipynb#W5sZmlsZQ%3D%3D?line=8'>9</a>\u001b[0m res\u001b[39m=\u001b[39m[ c \u001b[39mfor\u001b[39;00m j \u001b[39min\u001b[39;00m \u001b[39mrange\u001b[39m(\u001b[39m1\u001b[39m,\u001b[39mint\u001b[39m(i)\u001b[39m+\u001b[39m\u001b[39m1\u001b[39m) \u001b[39mif\u001b[39;00m i\u001b[39m%\u001b[39mj\u001b[39m==\u001b[39m\u001b[39m0\u001b[39m \u001b[39mfor\u001b[39;00m i \u001b[39min\u001b[39;00m \u001b[39mrange\u001b[39m(\u001b[39m1\u001b[39m,\u001b[39m10\u001b[39m)]\n\u001b[0;32m     <a href='vscode-notebook-cell:/c%3A/Users/M.Sunethra/Documents/GitHub/python/comperhension.ipynb#W5sZmlsZQ%3D%3D?line=9'>10</a>\u001b[0m \u001b[39mprint\u001b[39m(res)\n",
      "\u001b[1;31mUnboundLocalError\u001b[0m: cannot access local variable 'i' where it is not associated with a value"
     ]
    }
   ],
   "source": [
    "\n",
    "for i in range(1,10):\n",
    "    c=0\n",
    "    for j in range(1,int(i)+1):\n",
    "        if i%j==0:\n",
    "            c+=1\n",
    "    if c==2:\n",
    "        print(i)\n",
    "\n",
    "res=[ c for j in range(1,int(i)+1) if i%j==0 for i in range(1,10)]\n",
    "print(res)"
   ]
  },
  {
   "cell_type": "code",
   "execution_count": 11,
   "metadata": {},
   "outputs": [
    {
     "name": "stdout",
     "output_type": "stream",
     "text": [
      "True\n"
     ]
    }
   ],
   "source": [
    "res=lambda num:[i for i in range(1,100) if num % i==0]\n",
    "print(len(res(5))==2)"
   ]
  }
 ],
 "metadata": {
  "kernelspec": {
   "display_name": "Python 3",
   "language": "python",
   "name": "python3"
  },
  "language_info": {
   "codemirror_mode": {
    "name": "ipython",
    "version": 3
   },
   "file_extension": ".py",
   "mimetype": "text/x-python",
   "name": "python",
   "nbconvert_exporter": "python",
   "pygments_lexer": "ipython3",
   "version": "3.11.4"
  }
 },
 "nbformat": 4,
 "nbformat_minor": 2
}
