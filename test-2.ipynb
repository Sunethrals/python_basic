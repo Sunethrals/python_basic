{
 "cells": [
  {
   "cell_type": "code",
   "execution_count": 5,
   "metadata": {},
   "outputs": [
    {
     "name": "stdout",
     "output_type": "stream",
     "text": [
      "15\n",
      "14\n",
      "13\n",
      "12\n",
      "11\n",
      "10\n",
      "9\n",
      "8\n",
      "7\n",
      "6\n",
      "5\n",
      "4\n",
      "3\n",
      "2\n",
      "1\n"
     ]
    }
   ],
   "source": [
    "#wap to generate sequence of values from 15 to 1\n",
    "n=15\n",
    "while n:\n",
    "    print(n)\n",
    "    n-=1"
   ]
  },
  {
   "cell_type": "code",
   "execution_count": 8,
   "metadata": {},
   "outputs": [
    {
     "name": "stdout",
     "output_type": "stream",
     "text": [
      "900\n"
     ]
    }
   ],
   "source": [
    "#wap to sum of the odd values from 25 to 65\n",
    "n=25\n",
    "sum=0\n",
    "while n<=65:\n",
    "    if n%2==0:\n",
    "        sum+=n\n",
    "    n+=1\n",
    "print(sum)"
   ]
  },
  {
   "cell_type": "code",
   "execution_count": 9,
   "metadata": {},
   "outputs": [
    {
     "name": "stdout",
     "output_type": "stream",
     "text": [
      "7 is prime number\n"
     ]
    }
   ],
   "source": [
    "#wap to check whether given number is prime or not\n",
    "n=1\n",
    "m=eval(input(\"enter the number\"))\n",
    "count=0\n",
    "while n<=m:\n",
    "    if m%n==0:\n",
    "        count+=1\n",
    "    n+=1\n",
    "if count==2:\n",
    "    print(m,\"is prime number\")\n",
    "else:\n",
    "    print(m,\"is not a prime number\")"
   ]
  },
  {
   "cell_type": "code",
   "execution_count": 13,
   "metadata": {},
   "outputs": [
    {
     "name": "stdout",
     "output_type": "stream",
     "text": [
      "2\n",
      "62\n"
     ]
    }
   ],
   "source": [
    "#wap to print the even factors from given numer\n",
    "n=1\n",
    "m=62\n",
    "while n<=m:\n",
    "    if m%n==0 and n%2==0:\n",
    "        print(n)\n",
    "    n+=1"
   ]
  },
  {
   "cell_type": "code",
   "execution_count": 14,
   "metadata": {},
   "outputs": [
    {
     "name": "stdout",
     "output_type": "stream",
     "text": [
      "145\n",
      "strong\n"
     ]
    }
   ],
   "source": [
    "#wap to check whether the given number is stromg number or not\n",
    "n=145\n",
    "sum=0\n",
    "\n",
    "temp=n\n",
    "while n:\n",
    "    ld=n%10\n",
    "    m=1\n",
    "    p=1\n",
    "    while m<=ld:\n",
    "        p*=m\n",
    "        m+=1\n",
    "    sum+=p\n",
    "    n=n//10  \n",
    "print(sum)\n",
    "if sum==temp:\n",
    "    print(\"strong\")\n",
    "else:\n",
    "    print(\"not a strong\")\n"
   ]
  },
  {
   "cell_type": "code",
   "execution_count": 18,
   "metadata": {},
   "outputs": [
    {
     "name": "stdout",
     "output_type": "stream",
     "text": [
      "541\n"
     ]
    }
   ],
   "source": [
    "#wap to reverse the given number\n",
    "n=145\n",
    "rev=0\n",
    "while n:\n",
    "    ld=n%10\n",
    "    rev=(rev*10)+ld\n",
    "    n=n//10\n",
    "print(rev)"
   ]
  },
  {
   "cell_type": "code",
   "execution_count": 17,
   "metadata": {},
   "outputs": [
    {
     "name": "stdout",
     "output_type": "stream",
     "text": [
      "15\n",
      "1\n",
      "3\n",
      "5\n",
      "15\n"
     ]
    }
   ],
   "source": [
    "#wap to sum of all the digits from given number and print the factors of final result\n",
    "m=1\n",
    "n=12345\n",
    "sum=0\n",
    "while n:\n",
    "    ld=n%10\n",
    "    sum+=ld\n",
    "    n=n//10\n",
    "print(sum)\n",
    "while m<=sum:\n",
    "    if sum%m==0:\n",
    "        print(m)\n",
    "    m+=1\n"
   ]
  }
 ],
 "metadata": {
  "kernelspec": {
   "display_name": "Python 3",
   "language": "python",
   "name": "python3"
  },
  "language_info": {
   "codemirror_mode": {
    "name": "ipython",
    "version": 3
   },
   "file_extension": ".py",
   "mimetype": "text/x-python",
   "name": "python",
   "nbconvert_exporter": "python",
   "pygments_lexer": "ipython3",
   "version": "3.11.4"
  },
  "orig_nbformat": 4
 },
 "nbformat": 4,
 "nbformat_minor": 2
}
