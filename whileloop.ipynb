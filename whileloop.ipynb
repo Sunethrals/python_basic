{
 "cells": [
  {
   "cell_type": "code",
   "execution_count": 2,
   "metadata": {},
   "outputs": [
    {
     "name": "stdout",
     "output_type": "stream",
     "text": [
      "hello world\n",
      "hello world\n",
      "hello world\n",
      "hello world\n",
      "hello world\n"
     ]
    }
   ],
   "source": [
    "#1) wap to print the \"hello world\" for 5 times by using while loop\n",
    "n=5\n",
    "while n:\n",
    "    print(\"hello world\")\n",
    "    n-=1"
   ]
  },
  {
   "cell_type": "code",
   "execution_count": 5,
   "metadata": {},
   "outputs": [
    {
     "name": "stdout",
     "output_type": "stream",
     "text": [
      "1\n",
      "2\n",
      "3\n",
      "4\n",
      "5\n",
      "6\n",
      "7\n",
      "8\n",
      "9\n",
      "10\n"
     ]
    }
   ],
   "source": [
    "#2) wap to print the number from 1 to 10 by using a while loop\n",
    "n=1\n",
    "while n<=10:\n",
    "    print(n)\n",
    "    n+=1"
   ]
  },
  {
   "cell_type": "code",
   "execution_count": 6,
   "metadata": {},
   "outputs": [
    {
     "name": "stdout",
     "output_type": "stream",
     "text": [
      "1\n",
      "2\n",
      "3\n",
      "4\n",
      "5\n"
     ]
    }
   ],
   "source": [
    "#3) wap to print the natural numbers until 1 to nth times by using while loop\n",
    "n=eval(input(\"enther th enumber\"))\n",
    "m=1\n",
    "while m<=n:\n",
    "    print(m)\n",
    "    m+=1"
   ]
  },
  {
   "cell_type": "code",
   "execution_count": 9,
   "metadata": {},
   "outputs": [
    {
     "name": "stdout",
     "output_type": "stream",
     "text": [
      "5\n",
      "4\n",
      "3\n",
      "2\n",
      "1\n"
     ]
    }
   ],
   "source": [
    "#4) wap to print the reverse of the natural number until 1 to nth times  by using while loop \n",
    "n=eval(input(\"enther th enumber\"))\n",
    "m=1\n",
    "while n>=m:\n",
    "    print(n)\n",
    "    n-=1"
   ]
  },
  {
   "cell_type": "code",
   "execution_count": 10,
   "metadata": {},
   "outputs": [
    {
     "name": "stdout",
     "output_type": "stream",
     "text": [
      "0\n",
      "1\n",
      "2\n",
      "3\n",
      "4\n",
      "5\n"
     ]
    }
   ],
   "source": [
    "#5) wap to print whole number until nth time by using while loop \n",
    "n=eval(input(\"enther th enumber\"))\n",
    "m=0\n",
    "while m<=n:\n",
    "    print(m)\n",
    "    m+=1"
   ]
  },
  {
   "cell_type": "code",
   "execution_count": 11,
   "metadata": {},
   "outputs": [
    {
     "name": "stdout",
     "output_type": "stream",
     "text": [
      "5\n",
      "4\n",
      "3\n",
      "2\n",
      "1\n",
      "0\n"
     ]
    }
   ],
   "source": [
    "#6) wap to print the reverse of the whole number until nth times by using while loop\n",
    "n=eval(input(\"enther th enumber\"))\n",
    "m=0\n",
    "while n>=m:\n",
    "    print(n)\n",
    "    n-=1"
   ]
  },
  {
   "cell_type": "code",
   "execution_count": 14,
   "metadata": {},
   "outputs": [
    {
     "name": "stdout",
     "output_type": "stream",
     "text": [
      "2\n",
      "4\n",
      "6\n",
      "8\n",
      "10\n"
     ]
    }
   ],
   "source": [
    "#7) wap to print the even number until nth times by using a while loop\n",
    "n=eval(input(\"enther th enumber\"))\n",
    "m=1\n",
    "while m<=n:\n",
    "    if m%2==0:\n",
    "        print(m)\n",
    "    m+=1"
   ]
  },
  {
   "cell_type": "code",
   "execution_count": 15,
   "metadata": {},
   "outputs": [
    {
     "name": "stdout",
     "output_type": "stream",
     "text": [
      "10\n",
      "8\n",
      "6\n",
      "4\n",
      "2\n"
     ]
    }
   ],
   "source": [
    "#8)wap to print reverse the even number until n th times by using while loop\n",
    "n=eval(input(\"enther th enumber\"))\n",
    "m=1\n",
    "while n>=m:\n",
    "    if n%2==0:\n",
    "        print(n)\n",
    "    n-=1"
   ]
  },
  {
   "cell_type": "code",
   "execution_count": 17,
   "metadata": {},
   "outputs": [
    {
     "name": "stdout",
     "output_type": "stream",
     "text": [
      "1\n",
      "3\n",
      "5\n",
      "7\n",
      "9\n"
     ]
    }
   ],
   "source": [
    "#9)wap to print the odd number until nth times by using a while loop\n",
    "n=eval(input(\"enther th enumber\"))\n",
    "m=1\n",
    "while m<=n:\n",
    "    if m%2!=0:\n",
    "        print(m)\n",
    "    m+=1"
   ]
  },
  {
   "cell_type": "code",
   "execution_count": 16,
   "metadata": {},
   "outputs": [
    {
     "name": "stdout",
     "output_type": "stream",
     "text": [
      "9\n",
      "7\n",
      "5\n",
      "3\n",
      "1\n"
     ]
    }
   ],
   "source": [
    "#10)wap to print reverse the odd number until nth times by using a while loop\n",
    "n=eval(input(\"enther th enumber\"))\n",
    "m=1\n",
    "while n>=m:\n",
    "    if n%2!=0:\n",
    "        print(n)\n",
    "    n-=1"
   ]
  },
  {
   "cell_type": "code",
   "execution_count": 20,
   "metadata": {},
   "outputs": [
    {
     "name": "stdout",
     "output_type": "stream",
     "text": [
      "5* 1 = 5\n",
      "5* 2 = 10\n",
      "5* 3 = 15\n",
      "5* 4 = 20\n",
      "5* 5 = 25\n",
      "5* 6 = 30\n",
      "5* 7 = 35\n",
      "5* 8 = 40\n",
      "5* 9 = 45\n",
      "5* 10 = 50\n",
      "5* 11 = 55\n",
      "5* 12 = 60\n",
      "5* 13 = 65\n",
      "5* 14 = 70\n",
      "5* 15 = 75\n",
      "5* 16 = 80\n",
      "5* 17 = 85\n",
      "5* 18 = 90\n",
      "5* 19 = 95\n",
      "5* 20 = 100\n"
     ]
    }
   ],
   "source": [
    "#11)wap to print the nth table 1 to 20, format ==> 5*1=5 to 5*20=100\n",
    "n=1\n",
    "while n<=20:\n",
    "    p=n*5\n",
    "    print(\"5*\",n,\"=\",p)\n",
    "    n+=1\n"
   ]
  },
  {
   "cell_type": "code",
   "execution_count": 23,
   "metadata": {},
   "outputs": [
    {
     "name": "stdout",
     "output_type": "stream",
     "text": [
      "5* 20 = 100\n",
      "5* 19 = 95\n",
      "5* 18 = 90\n",
      "5* 17 = 85\n",
      "5* 16 = 80\n",
      "5* 15 = 75\n",
      "5* 14 = 70\n",
      "5* 13 = 65\n",
      "5* 12 = 60\n",
      "5* 11 = 55\n",
      "5* 10 = 50\n",
      "5* 9 = 45\n",
      "5* 8 = 40\n",
      "5* 7 = 35\n",
      "5* 6 = 30\n",
      "5* 5 = 25\n",
      "5* 4 = 20\n",
      "5* 3 = 15\n",
      "5* 2 = 10\n",
      "5* 1 = 5\n"
     ]
    }
   ],
   "source": [
    "#12)wap to print the nth table 20 to 1, format ==> 5*20=100 to 5*1=5\n",
    "n=20\n",
    "while n>=1:\n",
    "    p=n*5\n",
    "    print(\"5*\",n,\"=\",p)\n",
    "    n-=1"
   ]
  },
  {
   "cell_type": "code",
   "execution_count": 33,
   "metadata": {},
   "outputs": [
    {
     "name": "stdout",
     "output_type": "stream",
     "text": [
      "27\n",
      "30\n",
      "33\n",
      "36\n",
      "39\n",
      "42\n",
      "45\n",
      "48\n",
      "51\n",
      "54\n",
      "57\n",
      "60\n",
      "63\n",
      "66\n"
     ]
    }
   ],
   "source": [
    "#13)wap to print the number  which are divisible by 3 from 25 to 66\n",
    "n=25\n",
    "while n<=66:\n",
    "    if n%3==0:\n",
    "        print(n)\n",
    "    n+=1\n"
   ]
  },
  {
   "cell_type": "code",
   "execution_count": 35,
   "metadata": {},
   "outputs": [
    {
     "name": "stdout",
     "output_type": "stream",
     "text": [
      "15\n",
      "30\n",
      "45\n",
      "60\n",
      "75\n"
     ]
    }
   ],
   "source": [
    "#14)wap to print the number  which are divisible by 3 and 5  from 15 to 76\n",
    "n=15\n",
    "while n<=76:\n",
    "    if n%3==0 and n%5==0:\n",
    "        print(n)\n",
    "    n+=1"
   ]
  },
  {
   "cell_type": "code",
   "execution_count": 36,
   "metadata": {},
   "outputs": [
    {
     "name": "stdout",
     "output_type": "stream",
     "text": [
      "70\n",
      "35\n"
     ]
    }
   ],
   "source": [
    "#15)wap to print the number  which are divisible by 5 and 7  from 77 to 22\n",
    "n=77\n",
    "while n>=22:\n",
    "    if n%5==0 and n%7==0:\n",
    "        print(n)\n",
    "    n-=1"
   ]
  },
  {
   "cell_type": "code",
   "execution_count": 38,
   "metadata": {},
   "outputs": [
    {
     "name": "stdout",
     "output_type": "stream",
     "text": [
      "i love you 3\n",
      " hate you 5\n",
      "i love you 6\n",
      "i love you 9\n",
      " hate you 10\n",
      "i love you 12\n",
      "i like you 15\n",
      "i love you 18\n",
      " hate you 20\n",
      "i love you 21\n",
      "i love you 24\n",
      " hate you 25\n",
      "i love you 27\n",
      "i like you 30\n"
     ]
    }
   ],
   "source": [
    "#16) wap to print the \"love you\" if value is divisible by 3 or print \"hate you\" value is divisible by 5 to print \"i like you\" if divisible by 3 and 5 from 1 to 30\n",
    "n=1\n",
    "while n<=30:\n",
    "    if n%3==0 and n%5==0:\n",
    "        print(\"i like you\",n)\n",
    "    elif n%3==0:\n",
    "        print(\"i love you\",n)\n",
    "    elif n%5==0:\n",
    "        print(\" hate you\",n)\n",
    "    n+=1\n"
   ]
  },
  {
   "cell_type": "code",
   "execution_count": 45,
   "metadata": {},
   "outputs": [
    {
     "name": "stdout",
     "output_type": "stream",
     "text": [
      "15\n"
     ]
    }
   ],
   "source": [
    "#17)wap to print sum 1 to nth natural numbers\n",
    "n=1\n",
    "m=eval(input(\"enter the number\"))\n",
    "sum=0\n",
    "while n<=m:\n",
    "    sum+=n\n",
    "    #print(sum)\n",
    "    n+=1\n",
    "print(sum)"
   ]
  },
  {
   "cell_type": "code",
   "execution_count": 46,
   "metadata": {},
   "outputs": [
    {
     "name": "stdout",
     "output_type": "stream",
     "text": [
      "110\n"
     ]
    }
   ],
   "source": [
    "#18)wap to print sum od even numbers 1 to 20 numbers\n",
    "n=1\n",
    "sum=0\n",
    "while n<=20:\n",
    "    if n%2==0:\n",
    "        sum+=n\n",
    "        #print(sum)\n",
    "    n+=1\n",
    "print(sum)"
   ]
  },
  {
   "cell_type": "code",
   "execution_count": 49,
   "metadata": {},
   "outputs": [
    {
     "name": "stdout",
     "output_type": "stream",
     "text": [
      "720\n"
     ]
    }
   ],
   "source": [
    "#19) wap to print products of the 1 to 6 numbers\n",
    "n=1\n",
    "p=1\n",
    "while n<=6:\n",
    "    p*=n\n",
    "    #print(p)\n",
    "    n+=1\n",
    "print(p)"
   ]
  },
  {
   "cell_type": "code",
   "execution_count": 51,
   "metadata": {},
   "outputs": [
    {
     "name": "stdout",
     "output_type": "stream",
     "text": [
      "16\n"
     ]
    }
   ],
   "source": [
    "#20)wap to count the no of odd values from 1 to 30 numbers\n",
    "n=1\n",
    "count=1\n",
    "while n<=30:\n",
    "    if n%2!=0:\n",
    "        count+=1\n",
    "        #print(count,n)\n",
    "    n+=1\n",
    "print(count)"
   ]
  },
  {
   "cell_type": "code",
   "execution_count": 55,
   "metadata": {},
   "outputs": [
    {
     "name": "stdout",
     "output_type": "stream",
     "text": [
      "1\n",
      "2\n",
      "5\n",
      "10\n"
     ]
    }
   ],
   "source": [
    "#21)wap to print the factors of the given number\n",
    "n=eval(input(\"enter the number\"))\n",
    "m=1\n",
    "while m<=n:\n",
    "    if n%m==0:\n",
    "        print(m)\n",
    "    m+=1\n"
   ]
  },
  {
   "cell_type": "code",
   "execution_count": 60,
   "metadata": {},
   "outputs": [
    {
     "name": "stdout",
     "output_type": "stream",
     "text": [
      "1 1\n",
      "3 2\n",
      "8 5\n",
      "18 10\n"
     ]
    }
   ],
   "source": [
    "#22)wap to sum of the factors of the given number\n",
    "n=eval(input(\"enter the number\"))\n",
    "m=1\n",
    "count=0\n",
    "while m<=n:\n",
    "    if n%m==0:\n",
    "        count+=m\n",
    "        print(count,m)\n",
    "    m+=1"
   ]
  },
  {
   "cell_type": "code",
   "execution_count": 66,
   "metadata": {},
   "outputs": [
    {
     "name": "stdout",
     "output_type": "stream",
     "text": [
      "1 1\n",
      "2 2\n",
      "10 5\n",
      "100 10\n"
     ]
    }
   ],
   "source": [
    "#23)wap to product of the factors of the given number\n",
    "n=eval(input(\"enter the number\"))\n",
    "m=1\n",
    "p=1\n",
    "while m<=n:\n",
    "    if n%m==0:\n",
    "        p*=m\n",
    "        print(p,m)\n",
    "    m+=1"
   ]
  },
  {
   "cell_type": "code",
   "execution_count": 77,
   "metadata": {},
   "outputs": [
    {
     "name": "stdout",
     "output_type": "stream",
     "text": [
      "1\n",
      "2\n",
      "3\n",
      "5\n",
      "8\n"
     ]
    }
   ],
   "source": [
    "#24)wap to print Fibonacci series o to nth\n",
    "n=0\n",
    "m=1\n",
    "b=eval(input(\"enter the number\"))\n",
    "while b:\n",
    "    sum=n+m\n",
    "    print(sum)\n",
    "    n,m=m,sum\n",
    "    b-=1\n"
   ]
  },
  {
   "cell_type": "code",
   "execution_count": 84,
   "metadata": {},
   "outputs": [
    {
     "name": "stdout",
     "output_type": "stream",
     "text": [
      "1\n",
      "2\n",
      "3\n",
      "6\n"
     ]
    }
   ],
   "source": [
    "#25)wap to find out the factoria number of a given number\n",
    "a=1\n",
    "b=eval(input(\"enter the number\"))\n",
    "while a<=b:\n",
    "    if b%a==0:\n",
    "        print(a)\n",
    "    a+=1"
   ]
  },
  {
   "cell_type": "code",
   "execution_count": 88,
   "metadata": {},
   "outputs": [
    {
     "name": "stdout",
     "output_type": "stream",
     "text": [
      "1\n",
      "2\n",
      "3\n",
      "6\n"
     ]
    }
   ],
   "source": [
    "#26)wap to print the factorial number of a given range m to n\n",
    "m=eval(input(\"enter the first number\"))\n",
    "n=eval(input(\"enter the  second number\"))\n",
    "while m<=n:\n",
    "    if n%m==0:\n",
    "        print(m)\n",
    "    m+=1\n",
    "\n",
    "   "
   ]
  },
  {
   "cell_type": "code",
   "execution_count": 91,
   "metadata": {},
   "outputs": [
    {
     "name": "stdout",
     "output_type": "stream",
     "text": [
      "given number is prime\n"
     ]
    }
   ],
   "source": [
    "#27)wap to check whether given number is prime number or not\n",
    "a=1\n",
    "b=eval(input(\"enter the number\"))\n",
    "c=0\n",
    "while a<=b:\n",
    "    if b%a==0:\n",
    "        c+=1\n",
    "    a+=1\n",
    "if c==2:\n",
    "    print(\"given number is prime\")\n",
    "else:\n",
    "    print(\"given number is not a prime\")"
   ]
  },
  {
   "cell_type": "code",
   "execution_count": 7,
   "metadata": {},
   "outputs": [
    {
     "name": "stdout",
     "output_type": "stream",
     "text": [
      "11\n",
      "13\n",
      "17\n",
      "19\n",
      "23\n",
      "29\n",
      "31\n",
      "37\n"
     ]
    }
   ],
   "source": [
    "#28)wap to print the prime number in the given range m to n\n",
    "n=10\n",
    "m=40\n",
    "while n<=m:\n",
    "    a=1\n",
    "    b=n\n",
    "    c=0\n",
    "    while a<=b:\n",
    "        if b%a==0:\n",
    "            c+=1\n",
    "        a+=1\n",
    "    if c==2:\n",
    "        print(b)\n",
    "    n+=1\n"
   ]
  },
  {
   "cell_type": "code",
   "execution_count": 13,
   "metadata": {},
   "outputs": [
    {
     "name": "stdout",
     "output_type": "stream",
     "text": [
      "152 is not a amstrong number\n"
     ]
    }
   ],
   "source": [
    "#29)wap to check whether given number is amstrong number or not\n",
    "\n",
    "n=152\n",
    "temp=n\n",
    "m=n\n",
    "sum=0\n",
    "count=0\n",
    "while n:\n",
    "    count+=1\n",
    "    n=n//10\n",
    "while temp:\n",
    "    ld=temp%10\n",
    "    sum+=ld**count\n",
    "    temp=temp//10\n",
    "if sum==m:\n",
    "    print( m,\"is amstrong number\")\n",
    "else:\n",
    "    print(m,\"is not a amstrong number\")\n",
    "   "
   ]
  },
  {
   "cell_type": "code",
   "execution_count": 15,
   "metadata": {},
   "outputs": [
    {
     "name": "stdout",
     "output_type": "stream",
     "text": [
      "1\n",
      "2\n",
      "3\n",
      "4\n",
      "5\n",
      "6\n",
      "7\n",
      "8\n",
      "9\n",
      "153\n",
      "370\n",
      "371\n",
      "407\n"
     ]
    }
   ],
   "source": [
    "#30)wap to print the amstromg number in the given range m to n\n",
    "o=eval(input(\"enter the starting number\"))\n",
    "p=eval(input(\"enter the ending number\"))\n",
    "while o<=p:\n",
    "    n=o\n",
    "    temp=n\n",
    "    m=n\n",
    "    sum=0\n",
    "    count=0\n",
    "    while n:\n",
    "        count+=1\n",
    "        n=n//10\n",
    "    while temp:\n",
    "        ld=temp%10\n",
    "        sum+=ld**count\n",
    "        temp=temp//10\n",
    "    if sum==m:\n",
    "        print(sum)\n",
    "    o+=1"
   ]
  },
  {
   "cell_type": "code",
   "execution_count": 18,
   "metadata": {},
   "outputs": [
    {
     "name": "stdout",
     "output_type": "stream",
     "text": [
      "2\n",
      "3\n",
      "5\n",
      "7\n",
      "11\n",
      "13\n",
      "17\n",
      "19\n",
      "23\n",
      "29\n",
      "31\n",
      "37\n"
     ]
    }
   ],
   "source": [
    "#31) wap to print prime series 1 to nth\n",
    "n=1\n",
    "m=eval(input(\"enter the number\"))\n",
    "while n<=m:\n",
    "    a=1\n",
    "    b=n\n",
    "    c=0\n",
    "    while a<=b:\n",
    "        if b%a==0:\n",
    "            c+=1\n",
    "        a+=1\n",
    "    if c==2:\n",
    "        print(b)\n",
    "    n+=1\n",
    "\n"
   ]
  },
  {
   "cell_type": "code",
   "execution_count": 36,
   "metadata": {},
   "outputs": [
    {
     "ename": "NameError",
     "evalue": "name 'z' is not defined",
     "output_type": "error",
     "traceback": [
      "\u001b[1;31m---------------------------------------------------------------------------\u001b[0m",
      "\u001b[1;31mNameError\u001b[0m                                 Traceback (most recent call last)",
      "Cell \u001b[1;32mIn[36], line 16\u001b[0m\n\u001b[0;32m     14\u001b[0m m\u001b[39m=\u001b[39m\u001b[39m1\u001b[39m\n\u001b[0;32m     15\u001b[0m y\u001b[39m=\u001b[39m\u001b[39m100\u001b[39m\n\u001b[1;32m---> 16\u001b[0m \u001b[39mwhile\u001b[39;00m z:\n\u001b[0;32m     17\u001b[0m     \u001b[39msum\u001b[39m\u001b[39m=\u001b[39mx\u001b[39m+\u001b[39my\n\u001b[0;32m     18\u001b[0m     \u001b[39mprint\u001b[39m(\u001b[39msum\u001b[39m)\n",
      "\u001b[1;31mNameError\u001b[0m: name 'z' is not defined"
     ]
    }
   ],
   "source": [
    "#32)wap to print 1 to 100 prime number in fibonacci series\n",
    "n=1\n",
    "m=5\n",
    "while n<=m:\n",
    "    a=1\n",
    "    b=n\n",
    "    c=0\n",
    "    while a<=b:\n",
    "        if b%a==0:\n",
    "            c+=1\n",
    "        a+=1\n",
    "    if c==2:\n",
    "        x=0\n",
    "        m=1\n",
    "        y=100\n",
    "        while z:\n",
    "            sum=x+y\n",
    "            print(sum)\n",
    "            x,y=y,sum\n",
    "            z-=1\n",
    "    n+=1\n",
    "        \n",
    "#dot\n",
    " \n"
   ]
  },
  {
   "cell_type": "code",
   "execution_count": null,
   "metadata": {},
   "outputs": [],
   "source": [
    "#33)wap sum of prime numbers in a given collection\n",
    "#dot"
   ]
  },
  {
   "cell_type": "code",
   "execution_count": 41,
   "metadata": {},
   "outputs": [
    {
     "name": "stdout",
     "output_type": "stream",
     "text": [
      "1232 is not a palindrome\n"
     ]
    }
   ],
   "source": [
    "#34) wap to the given number is palindrome or not\n",
    "n=1232\n",
    "temp=n\n",
    "rev=0\n",
    "while n:\n",
    "    ld=n%10\n",
    "    rev=(rev*10)+ld\n",
    "    n//=10\n",
    "if rev==temp:\n",
    "    print(temp,\"is palindrome\")\n",
    "else:\n",
    "    print(temp,\"is not a palindrome\")"
   ]
  },
  {
   "cell_type": "code",
   "execution_count": 45,
   "metadata": {},
   "outputs": [
    {
     "name": "stdout",
     "output_type": "stream",
     "text": [
      "sunethraM 1\n",
      "sunethraM 2\n",
      "sunethraM 3\n",
      "sunethraM 4\n",
      "sunethraM 5\n"
     ]
    }
   ],
   "source": [
    "#35) wap to check whether the length of the string of the is even or odd if it is even, print that string 10 times\n",
    "#  if it is not printed 5times\n",
    "s=\"sunethra\"\n",
    "l=len(s)\n",
    "if l%2==0:\n",
    "    n=1\n",
    "    while n<=10:\n",
    "        print(s,n)\n",
    "        n+=1\n",
    "else:\n",
    "    n=1\n",
    "    while n<=5:\n",
    "        print(s,n)\n",
    "        n+=1\n"
   ]
  },
  {
   "cell_type": "code",
   "execution_count": 47,
   "metadata": {},
   "outputs": [
    {
     "name": "stdout",
     "output_type": "stream",
     "text": [
      "A\n",
      "B\n",
      "C\n",
      "D\n",
      "E\n",
      "F\n",
      "G\n",
      "H\n",
      "I\n",
      "J\n",
      "K\n",
      "L\n",
      "M\n",
      "N\n",
      "O\n",
      "P\n",
      "Q\n",
      "R\n",
      "S\n",
      "T\n",
      "U\n",
      "V\n",
      "W\n",
      "X\n",
      "Y\n",
      "Z\n"
     ]
    }
   ],
   "source": [
    "#36)wap to print uppercase character from \"A\" to \"Z\" by using wihle loop\n",
    "n=ord(\"A\")\n",
    "m=ord(\"Z\")\n",
    "while n<=m:\n",
    "    print(chr(n))\n",
    "    n+=1"
   ]
  },
  {
   "cell_type": "code",
   "execution_count": 48,
   "metadata": {},
   "outputs": [
    {
     "name": "stdout",
     "output_type": "stream",
     "text": [
      "a\n",
      "b\n",
      "c\n",
      "d\n",
      "e\n",
      "f\n",
      "g\n",
      "h\n",
      "i\n",
      "j\n",
      "k\n",
      "l\n",
      "m\n",
      "n\n",
      "o\n",
      "p\n",
      "q\n",
      "r\n",
      "s\n",
      "t\n",
      "u\n",
      "v\n",
      "w\n",
      "x\n",
      "y\n",
      "z\n"
     ]
    }
   ],
   "source": [
    "#37)wap to print lowercase character from \"a\" to \"z\" by using wihle loop\n",
    "n=ord(\"a\")\n",
    "m=ord(\"z\")\n",
    "while n<=m:\n",
    "    print(chr(n))\n",
    "    n+=1"
   ]
  },
  {
   "cell_type": "code",
   "execution_count": 58,
   "metadata": {},
   "outputs": [
    {
     "name": "stdout",
     "output_type": "stream",
     "text": [
      "48 --> 0\n",
      "49 --> 1\n",
      "50 --> 2\n",
      "51 --> 3\n",
      "52 --> 4\n",
      "53 --> 5\n",
      "54 --> 6\n",
      "55 --> 7\n",
      "56 --> 8\n",
      "57 --> 9\n"
     ]
    }
   ],
   "source": [
    "#38)wap to print ascci number character from \"0\" to \"9\" bby using while loop\n",
    "n=ord(\"0\")\n",
    "m=ord(\"9\")\n",
    "while n<=m:\n",
    "    print(n,\"-->\",chr(n))\n",
    "    n+=1"
   ]
  },
  {
   "cell_type": "code",
   "execution_count": 59,
   "metadata": {},
   "outputs": [
    {
     "name": "stdout",
     "output_type": "stream",
     "text": [
      "E\n",
      "F\n",
      "G\n",
      "H\n",
      "I\n",
      "J\n",
      "K\n",
      "L\n",
      "M\n",
      "N\n",
      "O\n",
      "P\n",
      "Q\n",
      "R\n",
      "S\n",
      "T\n",
      "U\n"
     ]
    }
   ],
   "source": [
    "#39)wap to print uppercase character from \"E\" to \"U\" by using while loop\n",
    "n=ord(\"E\")\n",
    "m=ord(\"U\")\n",
    "while n<=m:\n",
    "    print(chr(n))\n",
    "    n+=1\n"
   ]
  },
  {
   "cell_type": "code",
   "execution_count": 62,
   "metadata": {},
   "outputs": [
    {
     "name": "stdout",
     "output_type": "stream",
     "text": [
      "Z\n",
      "Y\n",
      "X\n",
      "W\n",
      "V\n",
      "U\n",
      "T\n",
      "S\n",
      "R\n",
      "Q\n",
      "P\n",
      "O\n",
      "N\n",
      "M\n",
      "L\n",
      "K\n",
      "J\n",
      "I\n",
      "H\n",
      "G\n",
      "F\n",
      "E\n",
      "D\n",
      "C\n",
      "B\n",
      "A\n"
     ]
    }
   ],
   "source": [
    "#40)wap to print uppercase character from \"Z\" to \"A\" by using wihle loop\n",
    "n=ord(\"Z\")\n",
    "m=ord(\"A\")\n",
    "while n>=m:\n",
    "    print(chr(n))\n",
    "    n-=1"
   ]
  },
  {
   "cell_type": "code",
   "execution_count": 63,
   "metadata": {},
   "outputs": [
    {
     "name": "stdout",
     "output_type": "stream",
     "text": [
      "U\n",
      "T\n",
      "S\n",
      "R\n",
      "Q\n",
      "P\n",
      "O\n",
      "N\n",
      "M\n",
      "L\n",
      "K\n",
      "J\n",
      "I\n",
      "H\n",
      "G\n"
     ]
    }
   ],
   "source": [
    "#41)wap to print uppercase character from \"U\" to \"G\" by using wihle loop\n",
    "n=ord(\"U\")\n",
    "m=ord(\"G\")\n",
    "while n>=m:\n",
    "    print(chr(n))\n",
    "    n-=1"
   ]
  }
 ],
 "metadata": {
  "kernelspec": {
   "display_name": "Python 3",
   "language": "python",
   "name": "python3"
  },
  "language_info": {
   "codemirror_mode": {
    "name": "ipython",
    "version": 3
   },
   "file_extension": ".py",
   "mimetype": "text/x-python",
   "name": "python",
   "nbconvert_exporter": "python",
   "pygments_lexer": "ipython3",
   "version": "3.11.4"
  },
  "orig_nbformat": 4
 },
 "nbformat": 4,
 "nbformat_minor": 2
}
