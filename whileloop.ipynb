{
 "cells": [
  {
   "cell_type": "code",
   "execution_count": 2,
   "metadata": {},
   "outputs": [
    {
     "name": "stdout",
     "output_type": "stream",
     "text": [
      "hello world\n",
      "hello world\n",
      "hello world\n",
      "hello world\n",
      "hello world\n"
     ]
    }
   ],
   "source": [
    "#1) wap to print the \"hello world\" for 5 times by using while loop\n",
    "n=5\n",
    "while n:\n",
    "    print(\"hello world\")\n",
    "    n-=1"
   ]
  },
  {
   "cell_type": "code",
   "execution_count": 5,
   "metadata": {},
   "outputs": [
    {
     "name": "stdout",
     "output_type": "stream",
     "text": [
      "1\n",
      "2\n",
      "3\n",
      "4\n",
      "5\n",
      "6\n",
      "7\n",
      "8\n",
      "9\n",
      "10\n"
     ]
    }
   ],
   "source": [
    "#2) wap to print the number from 1 to 10 by using a while loop\n",
    "n=1\n",
    "while n<=10:\n",
    "    print(n)\n",
    "    n+=1"
   ]
  },
  {
   "cell_type": "code",
   "execution_count": 6,
   "metadata": {},
   "outputs": [
    {
     "name": "stdout",
     "output_type": "stream",
     "text": [
      "1\n",
      "2\n",
      "3\n",
      "4\n",
      "5\n"
     ]
    }
   ],
   "source": [
    "#3) wap to print the natural numbers until 1 to nth times by using while loop\n",
    "n=eval(input(\"enther th enumber\"))\n",
    "m=1\n",
    "while m<=n:\n",
    "    print(m)\n",
    "    m+=1"
   ]
  },
  {
   "cell_type": "code",
   "execution_count": 2,
   "metadata": {},
   "outputs": [
    {
     "name": "stdout",
     "output_type": "stream",
     "text": [
      "6\n",
      "5\n",
      "4\n",
      "3\n",
      "2\n",
      "1\n"
     ]
    }
   ],
   "source": [
    "#4) wap to print the reverse of the natural number until 1 to nth times  by using while loop \n",
    "n=eval(input(\"enther th enumber\"))\n",
    "m=1\n",
    "while n>=m:\n",
    "    print(n)\n",
    "    n-=1   "
   ]
  },
  {
   "cell_type": "code",
   "execution_count": 10,
   "metadata": {},
   "outputs": [
    {
     "name": "stdout",
     "output_type": "stream",
     "text": [
      "0\n",
      "1\n",
      "2\n",
      "3\n",
      "4\n",
      "5\n"
     ]
    }
   ],
   "source": [
    "#5) wap to print whole number until nth time by using while loop \n",
    "n=eval(input(\"enther th enumber\"))\n",
    "m=0\n",
    "while m<=n:\n",
    "    print(m)\n",
    "    m+=1"
   ]
  },
  {
   "cell_type": "code",
   "execution_count": 11,
   "metadata": {},
   "outputs": [
    {
     "name": "stdout",
     "output_type": "stream",
     "text": [
      "5\n",
      "4\n",
      "3\n",
      "2\n",
      "1\n",
      "0\n"
     ]
    }
   ],
   "source": [
    "#6) wap to print the reverse of the whole number until nth times by using while loop\n",
    "n=eval(input(\"enther th enumber\"))\n",
    "m=0\n",
    "while n>=m:\n",
    "    print(n)\n",
    "    n-=1"
   ]
  },
  {
   "cell_type": "code",
   "execution_count": 14,
   "metadata": {},
   "outputs": [
    {
     "name": "stdout",
     "output_type": "stream",
     "text": [
      "2\n",
      "4\n",
      "6\n",
      "8\n",
      "10\n"
     ]
    }
   ],
   "source": [
    "#7) wap to print the even number until nth times by using a while loop\n",
    "n=eval(input(\"enther th enumber\"))\n",
    "m=1\n",
    "while m<=n:\n",
    "    if m%2==0:\n",
    "        print(m)\n",
    "    m+=1"
   ]
  },
  {
   "cell_type": "code",
   "execution_count": 15,
   "metadata": {},
   "outputs": [
    {
     "name": "stdout",
     "output_type": "stream",
     "text": [
      "10\n",
      "8\n",
      "6\n",
      "4\n",
      "2\n"
     ]
    }
   ],
   "source": [
    "#8)wap to print reverse the even number until n th times by using while loop\n",
    "n=eval(input(\"enther th enumber\"))\n",
    "m=1\n",
    "while n>=m:\n",
    "    if n%2==0:\n",
    "        print(n)\n",
    "    n-=1"
   ]
  },
  {
   "cell_type": "code",
   "execution_count": 17,
   "metadata": {},
   "outputs": [
    {
     "name": "stdout",
     "output_type": "stream",
     "text": [
      "1\n",
      "3\n",
      "5\n",
      "7\n",
      "9\n"
     ]
    }
   ],
   "source": [
    "#9)wap to print the odd number until nth times by using a while loop\n",
    "n=eval(input(\"enther th enumber\"))\n",
    "m=1\n",
    "while m<=n:\n",
    "    if m%2!=0:\n",
    "        print(m)\n",
    "    m+=1"
   ]
  },
  {
   "cell_type": "code",
   "execution_count": 16,
   "metadata": {},
   "outputs": [
    {
     "name": "stdout",
     "output_type": "stream",
     "text": [
      "9\n",
      "7\n",
      "5\n",
      "3\n",
      "1\n"
     ]
    }
   ],
   "source": [
    "#10)wap to print reverse the odd number until nth times by using a while loop\n",
    "n=eval(input(\"enther th enumber\"))\n",
    "m=1\n",
    "while n>=m:\n",
    "    if n%2!=0:\n",
    "        print(n)\n",
    "    n-=1"
   ]
  },
  {
   "cell_type": "code",
   "execution_count": 20,
   "metadata": {},
   "outputs": [
    {
     "name": "stdout",
     "output_type": "stream",
     "text": [
      "5* 1 = 5\n",
      "5* 2 = 10\n",
      "5* 3 = 15\n",
      "5* 4 = 20\n",
      "5* 5 = 25\n",
      "5* 6 = 30\n",
      "5* 7 = 35\n",
      "5* 8 = 40\n",
      "5* 9 = 45\n",
      "5* 10 = 50\n",
      "5* 11 = 55\n",
      "5* 12 = 60\n",
      "5* 13 = 65\n",
      "5* 14 = 70\n",
      "5* 15 = 75\n",
      "5* 16 = 80\n",
      "5* 17 = 85\n",
      "5* 18 = 90\n",
      "5* 19 = 95\n",
      "5* 20 = 100\n"
     ]
    }
   ],
   "source": [
    "#11)wap to print the nth table 1 to 20, format ==> 5*1=5 to 5*20=100\n",
    "n=1\n",
    "while n<=20:\n",
    "    p=n*5\n",
    "    print(\"5*\",n,\"=\",p)\n",
    "    n+=1\n"
   ]
  },
  {
   "cell_type": "code",
   "execution_count": 23,
   "metadata": {},
   "outputs": [
    {
     "name": "stdout",
     "output_type": "stream",
     "text": [
      "5* 20 = 100\n",
      "5* 19 = 95\n",
      "5* 18 = 90\n",
      "5* 17 = 85\n",
      "5* 16 = 80\n",
      "5* 15 = 75\n",
      "5* 14 = 70\n",
      "5* 13 = 65\n",
      "5* 12 = 60\n",
      "5* 11 = 55\n",
      "5* 10 = 50\n",
      "5* 9 = 45\n",
      "5* 8 = 40\n",
      "5* 7 = 35\n",
      "5* 6 = 30\n",
      "5* 5 = 25\n",
      "5* 4 = 20\n",
      "5* 3 = 15\n",
      "5* 2 = 10\n",
      "5* 1 = 5\n"
     ]
    }
   ],
   "source": [
    "#12)wap to print the nth table 20 to 1, format ==> 5*20=100 to 5*1=5\n",
    "n=20\n",
    "while n>=1:\n",
    "    p=n*5\n",
    "    print(\"5*\",n,\"=\",p)\n",
    "    n-=1"
   ]
  },
  {
   "cell_type": "code",
   "execution_count": 33,
   "metadata": {},
   "outputs": [
    {
     "name": "stdout",
     "output_type": "stream",
     "text": [
      "27\n",
      "30\n",
      "33\n",
      "36\n",
      "39\n",
      "42\n",
      "45\n",
      "48\n",
      "51\n",
      "54\n",
      "57\n",
      "60\n",
      "63\n",
      "66\n"
     ]
    }
   ],
   "source": [
    "#13)wap to print the number  which are divisible by 3 from 25 to 66\n",
    "n=25\n",
    "while n<=66:\n",
    "    if n%3==0:\n",
    "        print(n)\n",
    "    n+=1\n"
   ]
  },
  {
   "cell_type": "code",
   "execution_count": 35,
   "metadata": {},
   "outputs": [
    {
     "name": "stdout",
     "output_type": "stream",
     "text": [
      "15\n",
      "30\n",
      "45\n",
      "60\n",
      "75\n"
     ]
    }
   ],
   "source": [
    "#14)wap to print the number  which are divisible by 3 and 5  from 15 to 76\n",
    "n=15\n",
    "while n<=76:\n",
    "    if n%3==0 and n%5==0:\n",
    "        print(n)\n",
    "    n+=1"
   ]
  },
  {
   "cell_type": "code",
   "execution_count": 36,
   "metadata": {},
   "outputs": [
    {
     "name": "stdout",
     "output_type": "stream",
     "text": [
      "70\n",
      "35\n"
     ]
    }
   ],
   "source": [
    "#15)wap to print the number  which are divisible by 5 and 7  from 77 to 22\n",
    "n=77\n",
    "while n>=22:\n",
    "    if n%5==0 and n%7==0:\n",
    "        print(n)\n",
    "    n-=1"
   ]
  },
  {
   "cell_type": "code",
   "execution_count": 38,
   "metadata": {},
   "outputs": [
    {
     "name": "stdout",
     "output_type": "stream",
     "text": [
      "i love you 3\n",
      " hate you 5\n",
      "i love you 6\n",
      "i love you 9\n",
      " hate you 10\n",
      "i love you 12\n",
      "i like you 15\n",
      "i love you 18\n",
      " hate you 20\n",
      "i love you 21\n",
      "i love you 24\n",
      " hate you 25\n",
      "i love you 27\n",
      "i like you 30\n"
     ]
    }
   ],
   "source": [
    "#16) wap to print the \"love you\" if value is divisible by 3 or print \"hate you\" value is divisible by 5 to print \n",
    "# \"i like you\" if divisible by 3 and 5 from 1 to 30\n",
    "n=1\n",
    "while n<=30:\n",
    "    if n%3==0 and n%5==0:\n",
    "        print(\"i like you\",n)\n",
    "    elif n%3==0:\n",
    "        print(\"i love you\",n)\n",
    "    elif n%5==0:\n",
    "        print(\" hate you\",n)\n",
    "    n+=1\n"
   ]
  },
  {
   "cell_type": "code",
   "execution_count": 4,
   "metadata": {},
   "outputs": [
    {
     "name": "stdout",
     "output_type": "stream",
     "text": [
      "15\n"
     ]
    }
   ],
   "source": [
    "#17)wap to print sum 1 to nth natural numbers\n",
    "n=1\n",
    "m=eval(input(\"enter the number\"))\n",
    "sum=0\n",
    "while n<=m:\n",
    "    sum+=n\n",
    "    #print(sum , n)\n",
    "    n+=1\n",
    "print(sum)"
   ]
  },
  {
   "cell_type": "code",
   "execution_count": 7,
   "metadata": {},
   "outputs": [
    {
     "name": "stdout",
     "output_type": "stream",
     "text": [
      "110\n"
     ]
    }
   ],
   "source": [
    "#18)wap to print sum od even numbers 1 to 20 numbers\n",
    "n=1\n",
    "sum=0\n",
    "while n<=20:\n",
    "    if n%2==0:\n",
    "        sum+=n\n",
    "        #print(sum,n)\n",
    "    n+=1\n",
    "print(sum)"
   ]
  },
  {
   "cell_type": "code",
   "execution_count": 49,
   "metadata": {},
   "outputs": [
    {
     "name": "stdout",
     "output_type": "stream",
     "text": [
      "720\n"
     ]
    }
   ],
   "source": [
    "#19) wap to print products of the 1 to 6 numbers\n",
    "n=1\n",
    "p=1\n",
    "while n<=6:\n",
    "    p*=n\n",
    "    #print(p,n)\n",
    "    n+=1\n",
    "print(p)"
   ]
  },
  {
   "cell_type": "code",
   "execution_count": 51,
   "metadata": {},
   "outputs": [
    {
     "name": "stdout",
     "output_type": "stream",
     "text": [
      "16\n"
     ]
    }
   ],
   "source": [
    "#20)wap to count the no of odd values from 1 to 30 numbers\n",
    "n=1\n",
    "count=1\n",
    "while n<=30:\n",
    "    if n%2!=0:\n",
    "        count+=1\n",
    "        #print(count,n)\n",
    "    n+=1\n",
    "print(count)"
   ]
  },
  {
   "cell_type": "code",
   "execution_count": 16,
   "metadata": {},
   "outputs": [
    {
     "name": "stdout",
     "output_type": "stream",
     "text": [
      "1\n",
      "2\n",
      "3\n",
      "6\n"
     ]
    }
   ],
   "source": [
    "#21)wap to print the factors of the given number\n",
    "a=1\n",
    "b=6\n",
    "while a<=b:\n",
    "    if b%a==0:\n",
    "        print(a)\n",
    "    a+=1\n"
   ]
  },
  {
   "cell_type": "code",
   "execution_count": 18,
   "metadata": {},
   "outputs": [
    {
     "name": "stdout",
     "output_type": "stream",
     "text": [
      "1\n",
      "2\n",
      "3\n",
      "6\n",
      "12\n"
     ]
    }
   ],
   "source": [
    "#22)wap to sum of the factors of the given number\n",
    "a=1\n",
    "b=6\n",
    "sum=0\n",
    "while a<=b:\n",
    "    if b%a==0:\n",
    "        sum+=a\n",
    "        #print(a)\n",
    "    a+=1\n",
    "print(sum)\n"
   ]
  },
  {
   "cell_type": "code",
   "execution_count": 20,
   "metadata": {},
   "outputs": [
    {
     "name": "stdout",
     "output_type": "stream",
     "text": [
      "1 1\n",
      "2 2\n",
      "6 3\n",
      "36 6\n",
      "36\n"
     ]
    }
   ],
   "source": [
    "#23)wap to product of the factors of the given number\n",
    "n=6\n",
    "m=1\n",
    "p=1\n",
    "while m<=n:\n",
    "    if n%m==0:\n",
    "        p*=m\n",
    "        #print(p,m)\n",
    "    m+=1\n",
    "print(p)"
   ]
  },
  {
   "cell_type": "code",
   "execution_count": 77,
   "metadata": {},
   "outputs": [
    {
     "name": "stdout",
     "output_type": "stream",
     "text": [
      "1\n",
      "2\n",
      "3\n",
      "5\n",
      "8\n"
     ]
    }
   ],
   "source": [
    "#24)wap to print Fibonacci series o to nth\n",
    "n=0\n",
    "m=1\n",
    "b=eval(input(\"enter the number\"))\n",
    "while b:\n",
    "    sum=n+m\n",
    "    print(sum)\n",
    "    n,m=m,sum\n",
    "    b-=1\n"
   ]
  },
  {
   "cell_type": "code",
   "execution_count": 14,
   "metadata": {},
   "outputs": [
    {
     "name": "stdout",
     "output_type": "stream",
     "text": [
      "720\n"
     ]
    }
   ],
   "source": [
    "#25)wap to find out the factorial number of a given number\n",
    "n=eval(input(\"enter the number\"))\n",
    "m=1\n",
    "p=1\n",
    "while m<=n:\n",
    "        #print(m)\n",
    "    p*=m\n",
    "    m+=1\n",
    "print(p)"
   ]
  },
  {
   "cell_type": "code",
   "execution_count": 15,
   "metadata": {},
   "outputs": [
    {
     "name": "stdout",
     "output_type": "stream",
     "text": [
      "720\n"
     ]
    }
   ],
   "source": [
    "#26)wap to print the factorial number of a given range m to n\n",
    "m=eval(input(\"enter the first number\"))\n",
    "n=eval(input(\"enter the  second number\"))\n",
    "p=1\n",
    "while m<=n:\n",
    "        #print(m)\n",
    "    p*=m\n",
    "    m+=1\n",
    "print(p)\n",
    "\n",
    "   "
   ]
  },
  {
   "cell_type": "code",
   "execution_count": 91,
   "metadata": {},
   "outputs": [
    {
     "name": "stdout",
     "output_type": "stream",
     "text": [
      "given number is prime\n"
     ]
    }
   ],
   "source": [
    "#27)wap to check whether given number is prime number or not\n",
    "a=1\n",
    "b=eval(input(\"enter the number\"))\n",
    "c=0\n",
    "while a<=b:\n",
    "    if b%a==0:\n",
    "        c+=1\n",
    "    a+=1\n",
    "if c==2:\n",
    "    print(\"given number is prime\")\n",
    "else:\n",
    "    print(\"given number is not a prime\")"
   ]
  },
  {
   "cell_type": "code",
   "execution_count": 7,
   "metadata": {},
   "outputs": [
    {
     "name": "stdout",
     "output_type": "stream",
     "text": [
      "11\n",
      "13\n",
      "17\n",
      "19\n",
      "23\n",
      "29\n",
      "31\n",
      "37\n"
     ]
    }
   ],
   "source": [
    "#28)wap to print the prime number in the given range m to n\n",
    "n=10\n",
    "m=40\n",
    "while n<=m:\n",
    "    a=1\n",
    "    b=n\n",
    "    c=0\n",
    "    while a<=b:\n",
    "        if b%a==0:\n",
    "            c+=1\n",
    "        a+=1\n",
    "    if c==2:\n",
    "        print(b)\n",
    "    n+=1\n"
   ]
  },
  {
   "cell_type": "code",
   "execution_count": 1,
   "metadata": {},
   "outputs": [
    {
     "name": "stdout",
     "output_type": "stream",
     "text": [
      "153 is amstrong number\n"
     ]
    }
   ],
   "source": [
    "#29)wap to check whether given number is amstrong number or not\n",
    "\n",
    "n=153\n",
    "temp=n\n",
    "m=n\n",
    "sum=0\n",
    "count=0  \n",
    "while n:\n",
    "    count+=1\n",
    "    n=n//10\n",
    "while temp:\n",
    "    ld=temp%10\n",
    "    sum+=ld**count\n",
    "    temp=temp//10\n",
    "if sum==m:\n",
    "    print( m,\"is amstrong number\")\n",
    "else:\n",
    "    print(m,\"is not a amstrong number\")\n",
    "   "
   ]
  },
  {
   "cell_type": "code",
   "execution_count": 15,
   "metadata": {},
   "outputs": [
    {
     "name": "stdout",
     "output_type": "stream",
     "text": [
      "1\n",
      "2\n",
      "3\n",
      "4\n",
      "5\n",
      "6\n",
      "7\n",
      "8\n",
      "9\n",
      "153\n",
      "370\n",
      "371\n",
      "407\n"
     ]
    }
   ],
   "source": [
    "#30)wap to print the amstromg number in the given range m to n\n",
    "o=eval(input(\"enter the starting number\"))\n",
    "p=eval(input(\"enter the ending number\"))\n",
    "while o<=p:\n",
    "    n=o\n",
    "    temp=n\n",
    "    m=n\n",
    "    sum=0\n",
    "    count=0\n",
    "    while n:\n",
    "        count+=1\n",
    "        n=n//10\n",
    "    while temp:\n",
    "        ld=temp%10\n",
    "        sum+=ld**count\n",
    "        temp=temp//10\n",
    "    if sum==m:\n",
    "        print(sum)\n",
    "    o+=1"
   ]
  },
  {
   "cell_type": "code",
   "execution_count": 18,
   "metadata": {},
   "outputs": [
    {
     "name": "stdout",
     "output_type": "stream",
     "text": [
      "2\n",
      "3\n",
      "5\n",
      "7\n",
      "11\n",
      "13\n",
      "17\n",
      "19\n",
      "23\n",
      "29\n",
      "31\n",
      "37\n"
     ]
    }
   ],
   "source": [
    "#31) wap to print prime series 1 to nth\n",
    "n=1\n",
    "m=eval(input(\"enter the number\"))\n",
    "while n<=m:\n",
    "    a=1\n",
    "    b=n\n",
    "    c=0\n",
    "    while a<=b:\n",
    "        if b%a==0:\n",
    "            c+=1\n",
    "        a+=1\n",
    "    if c==2:\n",
    "        print(b)\n",
    "    n+=1\n",
    "\n"
   ]
  },
  {
   "cell_type": "code",
   "execution_count": 56,
   "metadata": {},
   "outputs": [
    {
     "name": "stdout",
     "output_type": "stream",
     "text": [
      "1\n",
      "2\n",
      "1\n",
      "2\n",
      "3\n",
      "1\n",
      "2\n",
      "3\n",
      "5\n",
      "8\n"
     ]
    }
   ],
   "source": [
    "#32)wap to print 1 to 100 prime number in fibonacci series\n",
    "n=1\n",
    "m=5\n",
    "while n<=m:\n",
    "    a=1\n",
    "    b=n\n",
    "    c=0\n",
    "    while a<=b:\n",
    "        if b%a==0:\n",
    "            c+=1\n",
    "        a+=1\n",
    "    n+=1\n",
    "    if c==2:\n",
    "        p=0\n",
    "        q=1\n",
    "        r=b\n",
    "        while r:\n",
    "            sum=p+q\n",
    "            \n",
    "            p,q=q,sum\n",
    "            r-=1\n",
    "            print(sum)\n",
    "\n",
    "    #dot\n"
   ]
  },
  {
   "cell_type": "code",
   "execution_count": 27,
   "metadata": {},
   "outputs": [
    {
     "name": "stdout",
     "output_type": "stream",
     "text": [
      "2\n",
      "7\n",
      "5\n",
      "13\n",
      "sum= 13\n"
     ]
    }
   ],
   "source": [
    "#33)wap sum of prime numbers in a given collection\n",
    "l=[2,7,5,9,13]\n",
    "s=0\n",
    "while s<len(l):\n",
    "    m=1\n",
    "    n=l[s]\n",
    "    c=0\n",
    "    #sum=0\n",
    "    while m<=n:\n",
    "        if n%m==0:\n",
    "            c+=1\n",
    "        m+=1\n",
    "    sum=0\n",
    "    if c==2:\n",
    "        sum+=l[s]\n",
    "        print(l[s])\n",
    "    s+=1\n",
    "print(\"sum=\",sum)\n",
    "    #dot"
   ]
  },
  {
   "cell_type": "code",
   "execution_count": 41,
   "metadata": {},
   "outputs": [
    {
     "name": "stdout",
     "output_type": "stream",
     "text": [
      "1232 is not a palindrome\n"
     ]
    }
   ],
   "source": [
    "#34) wap to the given number is palindrome or not\n",
    "n=1232\n",
    "temp=n\n",
    "rev=0\n",
    "while n:\n",
    "    ld=n%10\n",
    "    rev=(rev*10)+ld\n",
    "    n//=10\n",
    "if rev==temp:\n",
    "    print(temp,\"is palindrome\")\n",
    "else:\n",
    "    print(temp,\"is not a palindrome\")"
   ]
  },
  {
   "cell_type": "code",
   "execution_count": 45,
   "metadata": {},
   "outputs": [
    {
     "name": "stdout",
     "output_type": "stream",
     "text": [
      "sunethraM 1\n",
      "sunethraM 2\n",
      "sunethraM 3\n",
      "sunethraM 4\n",
      "sunethraM 5\n"
     ]
    }
   ],
   "source": [
    "#35) wap to check whether the length of the string of the is even or odd if it is even, print that string 10 times\n",
    "#  if it is not printed 5times\n",
    "s=\"sunethra\"\n",
    "l=len(s)\n",
    "if l%2==0:\n",
    "    n=1\n",
    "    while n<=10:\n",
    "        print(s,n)\n",
    "        n+=1\n",
    "else:\n",
    "    n=1\n",
    "    while n<=5:\n",
    "        print(s,n)\n",
    "        n+=1\n"
   ]
  },
  {
   "cell_type": "code",
   "execution_count": 47,
   "metadata": {},
   "outputs": [
    {
     "name": "stdout",
     "output_type": "stream",
     "text": [
      "A\n",
      "B\n",
      "C\n",
      "D\n",
      "E\n",
      "F\n",
      "G\n",
      "H\n",
      "I\n",
      "J\n",
      "K\n",
      "L\n",
      "M\n",
      "N\n",
      "O\n",
      "P\n",
      "Q\n",
      "R\n",
      "S\n",
      "T\n",
      "U\n",
      "V\n",
      "W\n",
      "X\n",
      "Y\n",
      "Z\n"
     ]
    }
   ],
   "source": [
    "#36)wap to print uppercase character from \"A\" to \"Z\" by using wihle loop\n",
    "n=ord(\"A\")\n",
    "m=ord(\"Z\")\n",
    "while n<=m:\n",
    "    print(chr(n))\n",
    "    n+=1"
   ]
  },
  {
   "cell_type": "code",
   "execution_count": 48,
   "metadata": {},
   "outputs": [
    {
     "name": "stdout",
     "output_type": "stream",
     "text": [
      "a\n",
      "b\n",
      "c\n",
      "d\n",
      "e\n",
      "f\n",
      "g\n",
      "h\n",
      "i\n",
      "j\n",
      "k\n",
      "l\n",
      "m\n",
      "n\n",
      "o\n",
      "p\n",
      "q\n",
      "r\n",
      "s\n",
      "t\n",
      "u\n",
      "v\n",
      "w\n",
      "x\n",
      "y\n",
      "z\n"
     ]
    }
   ],
   "source": [
    "#37)wap to print lowercase character from \"a\" to \"z\" by using wihle loop\n",
    "n=ord(\"a\")\n",
    "m=ord(\"z\")\n",
    "while n<=m:\n",
    "    print(chr(n))\n",
    "    n+=1"
   ]
  },
  {
   "cell_type": "code",
   "execution_count": 58,
   "metadata": {},
   "outputs": [
    {
     "name": "stdout",
     "output_type": "stream",
     "text": [
      "48 --> 0\n",
      "49 --> 1\n",
      "50 --> 2\n",
      "51 --> 3\n",
      "52 --> 4\n",
      "53 --> 5\n",
      "54 --> 6\n",
      "55 --> 7\n",
      "56 --> 8\n",
      "57 --> 9\n"
     ]
    }
   ],
   "source": [
    "#38)wap to print ascci number character from \"0\" to \"9\" bby using while loop\n",
    "n=ord(\"0\")\n",
    "m=ord(\"9\")\n",
    "while n<=m:\n",
    "    print(n,\"-->\",chr(n))\n",
    "    n+=1"
   ]
  },
  {
   "cell_type": "code",
   "execution_count": 1,
   "metadata": {},
   "outputs": [
    {
     "name": "stdout",
     "output_type": "stream",
     "text": [
      "E\n",
      "F\n",
      "G\n",
      "H\n",
      "I\n",
      "J\n",
      "K\n",
      "L\n",
      "M\n",
      "N\n",
      "O\n",
      "P\n",
      "Q\n",
      "R\n",
      "S\n",
      "T\n",
      "U\n"
     ]
    }
   ],
   "source": [
    "#39)wap to print uppercase character from \"E\" to \"U\" by using while loop\n",
    "n=ord(\"E\")\n",
    "m=ord(\"U\")\n",
    "while n<=m:\n",
    "    print(chr(n))\n",
    "    n+=1\n"
   ]
  },
  {
   "cell_type": "code",
   "execution_count": 2,
   "metadata": {},
   "outputs": [
    {
     "name": "stdout",
     "output_type": "stream",
     "text": [
      "Z\n",
      "Y\n",
      "X\n",
      "W\n",
      "V\n",
      "U\n",
      "T\n",
      "S\n",
      "R\n",
      "Q\n",
      "P\n",
      "O\n",
      "N\n",
      "M\n",
      "L\n",
      "K\n",
      "J\n",
      "I\n",
      "H\n",
      "G\n",
      "F\n",
      "E\n",
      "D\n",
      "C\n",
      "B\n",
      "A\n"
     ]
    }
   ],
   "source": [
    "#40)wap to print uppercase character from \"Z\" to \"A\" by using wihle loop\n",
    "n=ord(\"Z\")\n",
    "m=ord(\"A\")\n",
    "while n>=m:\n",
    "    print(chr(n))\n",
    "    n-=1"
   ]
  },
  {
   "cell_type": "code",
   "execution_count": 63,
   "metadata": {},
   "outputs": [
    {
     "name": "stdout",
     "output_type": "stream",
     "text": [
      "U\n",
      "T\n",
      "S\n",
      "R\n",
      "Q\n",
      "P\n",
      "O\n",
      "N\n",
      "M\n",
      "L\n",
      "K\n",
      "J\n",
      "I\n",
      "H\n",
      "G\n"
     ]
    }
   ],
   "source": [
    "#41)wap to print uppercase character from \"U\" to \"G\" by using wihle loop\n",
    "n=ord(\"U\")\n",
    "m=ord(\"G\")\n",
    "while n>=m:\n",
    "    print(chr(n))\n",
    "    n-=1"
   ]
  },
  {
   "cell_type": "code",
   "execution_count": 3,
   "metadata": {},
   "outputs": [
    {
     "name": "stdout",
     "output_type": "stream",
     "text": [
      "i\n",
      "j\n",
      "k\n",
      "l\n",
      "m\n",
      "n\n",
      "o\n",
      "p\n",
      "q\n",
      "r\n",
      "s\n",
      "t\n",
      "u\n",
      "v\n",
      "w\n",
      "x\n",
      "y\n"
     ]
    }
   ],
   "source": [
    "#42)wap to print the lower case character from \"i\" to \"y\" by using a while loop\n",
    "n=ord(\"i\")\n",
    "m=ord(\"y\")\n",
    "while n<=m:\n",
    "    print(chr(n))\n",
    "    n+=1\n"
   ]
  },
  {
   "cell_type": "code",
   "execution_count": 4,
   "metadata": {},
   "outputs": [
    {
     "name": "stdout",
     "output_type": "stream",
     "text": [
      "z\n",
      "y\n",
      "x\n",
      "w\n",
      "v\n",
      "u\n",
      "t\n",
      "s\n",
      "r\n",
      "q\n",
      "p\n",
      "o\n",
      "n\n",
      "m\n",
      "l\n",
      "k\n",
      "j\n",
      "i\n",
      "h\n",
      "g\n",
      "f\n",
      "e\n",
      "d\n",
      "c\n",
      "b\n",
      "a\n"
     ]
    }
   ],
   "source": [
    "#43)wap to print lowercase character from \"z\" to \"a\" by using wihle loop\n",
    "n=ord(\"z\")\n",
    "m=ord(\"a\")\n",
    "while n>=m:\n",
    "    print(chr(n))\n",
    "    n-=1"
   ]
  },
  {
   "cell_type": "code",
   "execution_count": 5,
   "metadata": {},
   "outputs": [
    {
     "name": "stdout",
     "output_type": "stream",
     "text": [
      "p\n",
      "o\n",
      "n\n",
      "m\n",
      "l\n",
      "k\n",
      "j\n",
      "i\n",
      "h\n",
      "g\n",
      "f\n",
      "e\n",
      "d\n",
      "c\n"
     ]
    }
   ],
   "source": [
    "#44)wap to print lowercase character from \"p\" to \"c\" by using wihle loop\n",
    "n=ord(\"p\")\n",
    "m=ord(\"c\")\n",
    "while n>=m:\n",
    "    print(chr(n))\n",
    "    n-=1"
   ]
  },
  {
   "cell_type": "code",
   "execution_count": 5,
   "metadata": {},
   "outputs": [
    {
     "name": "stdout",
     "output_type": "stream",
     "text": [
      "B\n",
      "D\n",
      "F\n",
      "H\n",
      "J\n",
      "L\n",
      "N\n",
      "P\n",
      "R\n",
      "T\n",
      "V\n",
      "X\n",
      "Z\n"
     ]
    }
   ],
   "source": [
    "#45) wap to print the uppercase character based on even ascii values\n",
    "n=ord(\"A\")\n",
    "m=ord(\"Z\")\n",
    "while n<=m:\n",
    "    if n%2==0:\n",
    "        print(chr(n))\n",
    "    n+=1\n"
   ]
  },
  {
   "cell_type": "code",
   "execution_count": 6,
   "metadata": {},
   "outputs": [
    {
     "name": "stdout",
     "output_type": "stream",
     "text": [
      "b\n",
      "d\n",
      "f\n",
      "h\n",
      "j\n",
      "l\n",
      "n\n",
      "p\n",
      "r\n",
      "t\n",
      "v\n",
      "x\n",
      "z\n"
     ]
    }
   ],
   "source": [
    "#46) wap to print the lowercase character based on even ascii values\n",
    "n=ord(\"a\")\n",
    "m=ord(\"z\")\n",
    "while n<=m:\n",
    "    if n%2==0:\n",
    "        print(chr(n))\n",
    "    n+=1"
   ]
  },
  {
   "cell_type": "code",
   "execution_count": 9,
   "metadata": {},
   "outputs": [
    {
     "name": "stdout",
     "output_type": "stream",
     "text": [
      "A\n",
      "C\n",
      "E\n",
      "G\n",
      "I\n",
      "K\n",
      "M\n",
      "O\n",
      "Q\n",
      "S\n",
      "U\n",
      "W\n",
      "Y\n"
     ]
    }
   ],
   "source": [
    "#47) wap to print the uppercase character based on odd ascii values\n",
    "n=ord(\"A\")\n",
    "m=ord(\"Z\")\n",
    "while n<=m:\n",
    "    if n%2!=0:\n",
    "        print(chr(n))\n",
    "    n+=1"
   ]
  },
  {
   "cell_type": "code",
   "execution_count": null,
   "metadata": {},
   "outputs": [],
   "source": [
    "#48) wap to print the lowercase character based on odd ascii values\n",
    "n=ord(\"a\")\n",
    "m=ord(\"z\")\n",
    "while n<=m:\n",
    "    if n%2!=0:\n",
    "        print(chr(n))\n",
    "    n+=1"
   ]
  },
  {
   "cell_type": "code",
   "execution_count": 7,
   "metadata": {},
   "outputs": [
    {
     "name": "stdout",
     "output_type": "stream",
     "text": [
      "B\n",
      "D\n",
      "F\n",
      "H\n",
      "J\n",
      "L\n",
      "N\n",
      "P\n",
      "R\n",
      "T\n",
      "V\n",
      "X\n",
      "Z\n"
     ]
    }
   ],
   "source": [
    "#49) wap to print all the even character from \"A\" to \"Z\"\n",
    "n=ord(\"A\")\n",
    "m=ord(\"Z\")\n",
    "while n<=m:\n",
    "    if n%2==0:\n",
    "        print(chr(n))\n",
    "    n+=1\n",
    "#dot"
   ]
  },
  {
   "cell_type": "code",
   "execution_count": 13,
   "metadata": {},
   "outputs": [
    {
     "name": "stdout",
     "output_type": "stream",
     "text": [
      "a\n",
      "c\n",
      "e\n",
      "g\n",
      "i\n",
      "k\n",
      "m\n",
      "o\n",
      "q\n",
      "s\n",
      "u\n",
      "w\n",
      "y\n"
     ]
    }
   ],
   "source": [
    "#50) wap to print all the odd character from \"a\" to \"z\"\n",
    "n=ord(\"a\")\n",
    "m=ord(\"z\")\n",
    "while n<=m:\n",
    "    if n%2!=0:\n",
    "        print(chr(n))\n",
    "    n+=1"
   ]
  },
  {
   "cell_type": "code",
   "execution_count": 15,
   "metadata": {},
   "outputs": [
    {
     "name": "stdout",
     "output_type": "stream",
     "text": [
      "4\n"
     ]
    }
   ],
   "source": [
    "#51) wap to count the number of vowels present in \"D\" to \"V\"\n",
    "n=ord(\"D\")\n",
    "m=ord(\"V\")\n",
    "count=0\n",
    "while n<=m:\n",
    "    if chr(n) in \"AEIOU\":\n",
    "        count+=1\n",
    "    n+=1\n",
    "print(count)\n"
   ]
  },
  {
   "cell_type": "code",
   "execution_count": 24,
   "metadata": {},
   "outputs": [
    {
     "name": "stdout",
     "output_type": "stream",
     "text": [
      "4\n"
     ]
    }
   ],
   "source": [
    "#52) wap to count the number of vowels present in \"u\" to \"e\"\n",
    "n=ord(\"u\")\n",
    "m=ord(\"e\")\n",
    "count=0\n",
    "while n>=m:\n",
    "    if chr(n) in \"aeiou\":\n",
    "        count+=1\n",
    "    n-=1\n",
    "print(count)\n"
   ]
  },
  {
   "cell_type": "code",
   "execution_count": null,
   "metadata": {},
   "outputs": [],
   "source": [
    "#53)wap to print the square of the number in between the range form m to n which is multiple of 3 . wap to print a \n",
    "# number from range m to m which is divisible by 5\n",
    "\n",
    "#dot question ardemkaledu"
   ]
  },
  {
   "cell_type": "code",
   "execution_count": 8,
   "metadata": {},
   "outputs": [
    {
     "name": "stdout",
     "output_type": "stream",
     "text": [
      "68\n",
      "14\n",
      "5\n",
      "5\n"
     ]
    }
   ],
   "source": [
    "#54) write a program which takes an integer number and find the sum of digits and repeat until the sum gets a single digit \n",
    "# in the end Ex:5643 5+6+4+3=18 1+8=9 final output is 9\n",
    "num=19792138814591\n",
    "while num>9:\n",
    "    sum1=0\n",
    "    while num:\n",
    "        ld=num%10\n",
    "        sum1+=ld\n",
    "        num=num//10\n",
    "    print(sum1)\n",
    "    num=sum1\n",
    "print(sum1)"
   ]
  },
  {
   "cell_type": "code",
   "execution_count": 74,
   "metadata": {},
   "outputs": [
    {
     "name": "stdout",
     "output_type": "stream",
     "text": [
      "2\n",
      "12\n",
      "20\n",
      "21\n",
      "22\n",
      "23\n",
      "24\n",
      "25\n",
      "26\n",
      "27\n",
      "28\n",
      "29\n",
      "32\n",
      "13\n"
     ]
    }
   ],
   "source": [
    "#55) wap to count the number of 2's between 0 and n\n",
    "#input n=35 example:2,12,20,21,22,23,24,25,26,27,28,29,32 output:14\n",
    "n=1\n",
    "c=0\n",
    "while n<=35:\n",
    "    if 2 == n or n%10==2 or n//10==2:\n",
    "        print(n)\n",
    "        c+=1\n",
    "    n+=1\n",
    "print(c)"
   ]
  },
  {
   "cell_type": "code",
   "execution_count": null,
   "metadata": {},
   "outputs": [],
   "source": [
    "#56)wap to find max product of three numbers from the given integer array\n",
    "#input arr()=6,3,2,1,0,10 Example: 1086*2 output = 180\n",
    "\n",
    "# array concept chepaledu"
   ]
  },
  {
   "cell_type": "code",
   "execution_count": null,
   "metadata": {},
   "outputs": [],
   "source": [
    "#57)"
   ]
  },
  {
   "cell_type": "code",
   "execution_count": null,
   "metadata": {},
   "outputs": [],
   "source": [
    "#58)"
   ]
  },
  {
   "cell_type": "code",
   "execution_count": 10,
   "metadata": {},
   "outputs": [
    {
     "name": "stdout",
     "output_type": "stream",
     "text": [
      "suntr\n"
     ]
    }
   ],
   "source": [
    "#59)wap to print all the items present in the string between the range from m to n\n",
    "m=\"l\"\n",
    "n=\"u\"\n",
    "st=\"sunethra\"\n",
    "s=0\n",
    "res=\"\"\n",
    "while s<len(st):\n",
    "    if m<=st[s]<=n:\n",
    "        res+=st[s]\n",
    "    s+=1\n",
    "print(res)"
   ]
  },
  {
   "cell_type": "code",
   "execution_count": 92,
   "metadata": {},
   "outputs": [
    {
     "name": "stdout",
     "output_type": "stream",
     "text": [
      "PYTH\n"
     ]
    }
   ],
   "source": [
    "#60) wap to print the uppercase character in a given string\n",
    "s=\"PYTHon\"\n",
    "start=0\n",
    "st=\"\"\n",
    "while start< len(s):\n",
    "    if \"A\"<=s[start]<=\"Z\":\n",
    "        st+=s[start]\n",
    "    start+=1\n",
    "print(st)"
   ]
  },
  {
   "cell_type": "code",
   "execution_count": 93,
   "metadata": {},
   "outputs": [
    {
     "name": "stdout",
     "output_type": "stream",
     "text": [
      "on\n"
     ]
    }
   ],
   "source": [
    "#61) wap to print the lowerrcase character in a given string\n",
    "s=\"PYTHon\"\n",
    "start=0\n",
    "st=\"\"\n",
    "while start< len(s):\n",
    "    if \"a\"<=s[start]<=\"z\":\n",
    "        st+=s[start]\n",
    "    start+=1\n",
    "print(st)"
   ]
  },
  {
   "cell_type": "code",
   "execution_count": 94,
   "metadata": {},
   "outputs": [
    {
     "name": "stdout",
     "output_type": "stream",
     "text": [
      "5423\n"
     ]
    }
   ],
   "source": [
    "#62) wap to print the ascci number(digit) character in a given string\n",
    "s=\"PY5TH4on23\"\n",
    "start=0\n",
    "st=\"\"\n",
    "while start< len(s):\n",
    "    if \"0\"<=s[start]<=\"9\":\n",
    "        st+=s[start]\n",
    "    start+=1\n",
    "print(st)"
   ]
  },
  {
   "cell_type": "code",
   "execution_count": 95,
   "metadata": {},
   "outputs": [
    {
     "name": "stdout",
     "output_type": "stream",
     "text": [
      "^*@\n"
     ]
    }
   ],
   "source": [
    "#63) wap to print the special character in a given string\n",
    "s=\"^PYT*Ho@n\"\n",
    "start=0\n",
    "st=\"\"\n",
    "while start< len(s):\n",
    "    if not(\"a\"<=s[start]<=\"z\" or \"A\"<=s[start]<=\"Z\" or \"0\"<=s[start]<=\"9\"):\n",
    "        st+=s[start]\n",
    "    start+=1\n",
    "print(st)"
   ]
  },
  {
   "cell_type": "code",
   "execution_count": 96,
   "metadata": {},
   "outputs": [
    {
     "name": "stdout",
     "output_type": "stream",
     "text": [
      "o\n"
     ]
    }
   ],
   "source": [
    "#64) wap to print the vowels  in a given string\n",
    "s=\"PY5TH4on23\"\n",
    "start=0\n",
    "st=\"\"\n",
    "while start< len(s):\n",
    "    if s[start] in \"AEIOUaeiou\":\n",
    "        st+=s[start]\n",
    "    start+=1\n",
    "print(st)"
   ]
  },
  {
   "cell_type": "code",
   "execution_count": 97,
   "metadata": {},
   "outputs": [
    {
     "name": "stdout",
     "output_type": "stream",
     "text": [
      "PY5TH4n23\n"
     ]
    }
   ],
   "source": [
    "#65) wap to print the consonants  in a given string\n",
    "s=\"PY5TH4on23\"\n",
    "start=0\n",
    "st=\"\"\n",
    "while start< len(s):\n",
    "    if s[start] not in \"AEIOUaeiou\":\n",
    "        st+=s[start]\n",
    "    start+=1\n",
    "print(st)"
   ]
  },
  {
   "cell_type": "code",
   "execution_count": 4,
   "metadata": {},
   "outputs": [
    {
     "name": "stdout",
     "output_type": "stream",
     "text": [
      "nohtyp\n"
     ]
    }
   ],
   "source": [
    "#66) wap to print the reverse of the character in a given string\n",
    "st=\"python\"\n",
    "s=1\n",
    "res=\"\"\n",
    "while s<=len(st):\n",
    "    res+=st[-s]\n",
    "    s+=1\n",
    "print(res)\n"
   ]
  },
  {
   "cell_type": "code",
   "execution_count": 7,
   "metadata": {},
   "outputs": [
    {
     "name": "stdout",
     "output_type": "stream",
     "text": [
      "pto\n"
     ]
    }
   ],
   "source": [
    "#67) wap to print even position values characters in a given string\n",
    "st=\"python\"\n",
    "s=0\n",
    "res=\"\"\n",
    "while s<len(st):\n",
    "    if s%2==0:\n",
    "        res+=st[s]\n",
    "    s+=1\n",
    "print(res)"
   ]
  },
  {
   "cell_type": "code",
   "execution_count": 8,
   "metadata": {},
   "outputs": [
    {
     "name": "stdout",
     "output_type": "stream",
     "text": [
      "yhn\n"
     ]
    }
   ],
   "source": [
    "#68)wap to print odd position values characters in a given string\n",
    "st=\"python\"\n",
    "s=0\n",
    "res=\"\"\n",
    "while s<len(st):\n",
    "    if s%2!=0:\n",
    "        res+=st[s]\n",
    "    s+=1\n",
    "print(res)"
   ]
  },
  {
   "cell_type": "code",
   "execution_count": 89,
   "metadata": {},
   "outputs": [
    {
     "name": "stdout",
     "output_type": "stream",
     "text": [
      "9 9\n"
     ]
    }
   ],
   "source": [
    "#69)wap to count the total number of characters in a given string (with length function)\n",
    "s=\"pyspiders\"\n",
    "start=1\n",
    "end=len(s)\n",
    "while start<end:\n",
    "    start+=1\n",
    "print(start,len(s))"
   ]
  },
  {
   "cell_type": "code",
   "execution_count": 11,
   "metadata": {},
   "outputs": [
    {
     "name": "stdout",
     "output_type": "stream",
     "text": [
      "9 9\n"
     ]
    }
   ],
   "source": [
    "#70)wap to count the total number of characters in a given string (without length function)\n",
    "s=\"pyspiders\"\n",
    "m=s\n",
    "count=0\n",
    "while s:\n",
    "    count+=1\n",
    "    s=s[:-1]\n",
    "print(count,len(m))"
   ]
  },
  {
   "cell_type": "code",
   "execution_count": 18,
   "metadata": {},
   "outputs": [
    {
     "name": "stdout",
     "output_type": "stream",
     "text": [
      "9\n"
     ]
    }
   ],
   "source": [
    "#71)wap to count alphabets in a given string\n",
    "s=\"p4y!sp@iders45\"\n",
    "c=0\n",
    "start=0\n",
    "end=len(s)\n",
    "while start<end:\n",
    "    if \"a\"<=s[start]<=\"z\" or \"A\"<=s[start]<=\"Z\":\n",
    "        c+=1\n",
    "        #print(s[start])\n",
    "    start+=1\n",
    "print(c)\n"
   ]
  },
  {
   "cell_type": "code",
   "execution_count": 16,
   "metadata": {},
   "outputs": [
    {
     "name": "stdout",
     "output_type": "stream",
     "text": [
      "3\n"
     ]
    }
   ],
   "source": [
    "#72)wap to count number of uppercase in a given string\n",
    "s=\"PYthoN\"\n",
    "c=0\n",
    "start=0\n",
    "end=len(s)\n",
    "while start<end:\n",
    "    if  \"A\"<=s[start]<=\"Z\":\n",
    "        c+=1\n",
    "        #print(s[start])\n",
    "    start+=1\n",
    "print(c)\n",
    "\n"
   ]
  },
  {
   "cell_type": "code",
   "execution_count": 17,
   "metadata": {},
   "outputs": [
    {
     "name": "stdout",
     "output_type": "stream",
     "text": [
      "3\n"
     ]
    }
   ],
   "source": [
    "#72)wap to count number of lowercase in a given string\n",
    "s=\"PYthoN\"\n",
    "c=0\n",
    "start=0\n",
    "end=len(s)\n",
    "while start<end:\n",
    "    if  \"a\"<=s[start]<=\"z\":\n",
    "        c+=1\n",
    "        #print(s[start])\n",
    "    start+=1\n",
    "print(c)\n",
    "\n"
   ]
  },
  {
   "cell_type": "code",
   "execution_count": 20,
   "metadata": {},
   "outputs": [
    {
     "name": "stdout",
     "output_type": "stream",
     "text": [
      "2\n"
     ]
    }
   ],
   "source": [
    "#74)wap to print the count numbers of special character in a given string\n",
    "s=\"p4y!sp@iders45\"\n",
    "c=0\n",
    "start=0\n",
    "end=len(s)\n",
    "while start<end:\n",
    "    if not (\"a\"<=s[start]<=\"z\" or \"A\"<=s[start]<=\"Z\" or \"0\"<=s[start]<=\"9\"):\n",
    "        c+=1\n",
    "        #print(s[start])\n",
    "    start+=1\n",
    "print(c)"
   ]
  },
  {
   "cell_type": "code",
   "execution_count": 22,
   "metadata": {},
   "outputs": [
    {
     "name": "stdout",
     "output_type": "stream",
     "text": [
      "count of uppercase is  7 and count of lowercase is 2\n"
     ]
    }
   ],
   "source": [
    "#75)wap to count uppercase and lowercase in a given string\n",
    "#s=\"p4y!sp@iders45\"\n",
    "#c=0\n",
    "#start=0\n",
    "#end=len(s)\n",
    "#while start<end:\n",
    " #   if (\"a\"<=s[start]<=\"z\" or \"A\"<=s[start]<=\"Z\" ):\n",
    "  #      c+=1\n",
    "        #print(s[start])\n",
    "   # start+=1\n",
    "#print(c)\n",
    "\n",
    "s=\"p4Y!sp@ideRs45\"\n",
    "c=0\n",
    "sum=0\n",
    "start=0\n",
    "end=len(s)\n",
    "while start<end:\n",
    "    if (\"a\"<=s[start]<=\"z\" ):\n",
    "        c+=1\n",
    "        #print(s[start])\n",
    "    if (\"A\"<=s[start]<=\"Z\"):\n",
    "        sum+=1\n",
    "    start+=1\n",
    "print(\"count of uppercase is \",c,\"and count of lowercase is\",sum)\n"
   ]
  },
  {
   "cell_type": "code",
   "execution_count": 23,
   "metadata": {},
   "outputs": [
    {
     "name": "stdout",
     "output_type": "stream",
     "text": [
      "3\n"
     ]
    }
   ],
   "source": [
    "#76)wap to count number of ascii numbers in a given string\n",
    "s=\"p4y!sp@iders45\"\n",
    "c=0\n",
    "start=0\n",
    "end=len(s)\n",
    "while start<end:\n",
    "    if \"0\"<=s[start]<=\"9\" :\n",
    "        c+=1\n",
    "        #print(s[start])\n",
    "    start+=1\n",
    "print(c)\n",
    "\n"
   ]
  },
  {
   "cell_type": "code",
   "execution_count": 31,
   "metadata": {},
   "outputs": [
    {
     "name": "stdout",
     "output_type": "stream",
     "text": [
      "no.of words 5\n"
     ]
    }
   ],
   "source": [
    "#77)wap to count total numbers of words in a string\n",
    "st=\"Hello everyone how are you\"\n",
    "s=0\n",
    "c=0\n",
    "while s<len(st):\n",
    "    if st[s]==\" \":\n",
    "        c+=1\n",
    "    s+=1\n",
    "print(\"no.of words\",c+1)"
   ]
  },
  {
   "cell_type": "code",
   "execution_count": 32,
   "metadata": {},
   "outputs": [
    {
     "name": "stdout",
     "output_type": "stream",
     "text": [
      "No.of spaces 4\n"
     ]
    }
   ],
   "source": [
    "#78)wap to count total numbers of spaces in a string\n",
    "st=\"Hello everyone how are you\"\n",
    "s=0\n",
    "c=0\n",
    "while s<len(st):\n",
    "    if st[s]==\" \":\n",
    "        c+=1\n",
    "    s+=1\n",
    "print(\"No.of spaces\",c)"
   ]
  },
  {
   "cell_type": "code",
   "execution_count": 35,
   "metadata": {},
   "outputs": [
    {
     "name": "stdout",
     "output_type": "stream",
     "text": [
      "no.of vowels 1\n"
     ]
    }
   ],
   "source": [
    "#79)wap to count vowels in a string\n",
    "st=\"Pyhton\"\n",
    "s=0\n",
    "c=0\n",
    "while s<len(st):\n",
    "    if st[s] in \"AEIOUaeiou\":\n",
    "        c+=1\n",
    "    s+=1\n",
    "print(\"no.of vowels\",c)"
   ]
  },
  {
   "cell_type": "code",
   "execution_count": 36,
   "metadata": {},
   "outputs": [
    {
     "name": "stdout",
     "output_type": "stream",
     "text": [
      "no.of vowels 5\n"
     ]
    }
   ],
   "source": [
    "#80)wap to count consonants in a string\n",
    "st=\"Pyhton\"\n",
    "s=0\n",
    "c=0\n",
    "while s<len(st):\n",
    "    if st[s] not in \"AEIOUaeiou\":\n",
    "        c+=1\n",
    "    s+=1\n",
    "print(\"no.of vowels\",c)"
   ]
  },
  {
   "cell_type": "code",
   "execution_count": 38,
   "metadata": {},
   "outputs": [
    {
     "name": "stdout",
     "output_type": "stream",
     "text": [
      "no.of vowels 1 no.of consonants 5\n"
     ]
    }
   ],
   "source": [
    "#81)wap to count vowels and consonants in a string\n",
    "st=\"Pyhton\"\n",
    "s=0\n",
    "c=0\n",
    "sum=0\n",
    "while s<len(st):\n",
    "    if st[s] in \"AEIOUaeiou\":\n",
    "        c+=1\n",
    "    elif st[s]not in \"AEIOUaeiou\":\n",
    "        sum+=1\n",
    "    s+=1\n",
    "print(\"no.of vowels\",c,\"no.of consonants\",sum)"
   ]
  },
  {
   "cell_type": "code",
   "execution_count": 81,
   "metadata": {},
   "outputs": [
    {
     "name": "stdout",
     "output_type": "stream",
     "text": [
      "hello everyone\n",
      "where are you\n",
      "how are you\n",
      "i am fine\n",
      "no.of lines in given string are 3\n"
     ]
    }
   ],
   "source": [
    "#82)wap to count number of new lines in a given string\n",
    "doc=\"\"\"hello everyone\\nwhere are you\\nhow are you\\ni am fine\"\"\"\n",
    "print(doc)\n",
    "s=0\n",
    "c=0\n",
    "while s<len(doc):\n",
    "    if doc[s] == \"\\n\":\n",
    "        c+=1\n",
    "    s+=1\n",
    "print(\"no.of lines in given string are\",c)"
   ]
  },
  {
   "cell_type": "code",
   "execution_count": 82,
   "metadata": {},
   "outputs": [
    {
     "name": "stdout",
     "output_type": "stream",
     "text": [
      "hello everyone\n",
      "where are you\n",
      "how are you\n",
      "i am fine\n",
      "no.of lines in given string are 4\n"
     ]
    }
   ],
   "source": [
    "#83)wap to count number of lines in a given string\n",
    "doc=\"\"\"hello everyone\\nwhere are you\\nhow are you\\ni am fine\"\"\"\n",
    "print(doc)\n",
    "s=0\n",
    "c=0\n",
    "while s<len(doc):\n",
    "    if doc[s] == \"\\n\":\n",
    "        c+=1\n",
    "    s+=1\n",
    "print(\"no.of lines in given string are\",c+1)\n",
    "\n"
   ]
  },
  {
   "cell_type": "code",
   "execution_count": 42,
   "metadata": {},
   "outputs": [
    {
     "name": "stdout",
     "output_type": "stream",
     "text": [
      "no.of special character 2\n",
      "no.of alphabet 9\n",
      "no.of number 3\n"
     ]
    }
   ],
   "source": [
    "#84) wap to count no of alphabets,number,and special characters in a given string\n",
    "s=\"p4y!sp@iders45\"\n",
    "sp=0\n",
    "a=0\n",
    "n=0\n",
    "start=0\n",
    "end=len(s)\n",
    "while start<end:\n",
    "    if not (\"a\"<=s[start]<=\"z\" or \"A\"<=s[start]<=\"Z\" or \"0\"<=s[start]<=\"9\"):\n",
    "        sp+=1\n",
    "        #print(s[start])\n",
    "    elif  (\"a\"<=s[start]<=\"z\" or \"A\"<=s[start]<=\"Z\"):\n",
    "        a+=1\n",
    "        #print(s[start])\n",
    "    elif (\"0\"<=s[start]<=\"9\"):\n",
    "        n+=1\n",
    "        #print(s[start])\n",
    "    start+=1\n",
    "print(\"no.of special character\",sp)\n",
    "print(\"no.of alphabet\",a)\n",
    "print(\"no.of number\",n)"
   ]
  },
  {
   "cell_type": "code",
   "execution_count": 116,
   "metadata": {},
   "outputs": [
    {
     "name": "stdout",
     "output_type": "stream",
     "text": [
      "3\n"
     ]
    }
   ],
   "source": [
    "#85)wap to count total no.of words in a first line of the doc string\n",
    "doc=\"\"\"hello everyone\\nwhere are you\\nhow are you\\ni am fine\"\"\"\n",
    "#print(doc)\n",
    "s=0\n",
    "c=0\n",
    "while s<len(doc):\n",
    "    if doc[s] ==\"\\n\":\n",
    "        c+=1\n",
    "\n",
    "    s+=1\n",
    "print(c)\n",
    "#dot\n",
    "   "
   ]
  },
  {
   "cell_type": "code",
   "execution_count": 50,
   "metadata": {},
   "outputs": [
    {
     "name": "stdout",
     "output_type": "stream",
     "text": [
      "13\n"
     ]
    }
   ],
   "source": [
    "#86)wap to sum of digits in a given string\n",
    "s=\"p4y!sp@iders45\"\n",
    "c=0\n",
    "start=0\n",
    "end=len(s)\n",
    "while start<end:\n",
    "    if \"0\"<=s[start]<=\"9\" :\n",
    "        i=int(s[start])\n",
    "        c+=i\n",
    "        #print(s[start])\n",
    "    start+=1\n",
    "print(c)"
   ]
  },
  {
   "cell_type": "code",
   "execution_count": null,
   "metadata": {},
   "outputs": [],
   "source": [
    "#87)wap to print First occurrence of a character in a string"
   ]
  },
  {
   "cell_type": "code",
   "execution_count": null,
   "metadata": {},
   "outputs": [],
   "source": [
    "#88)wap to print last occurrence of a character in a string"
   ]
  },
  {
   "cell_type": "code",
   "execution_count": null,
   "metadata": {},
   "outputs": [],
   "source": [
    "#89)wap to print First not occurrence of a character in a string"
   ]
  },
  {
   "cell_type": "code",
   "execution_count": null,
   "metadata": {},
   "outputs": [],
   "source": [
    "#90)wap to print last not occurrence of a character in a string"
   ]
  },
  {
   "cell_type": "code",
   "execution_count": null,
   "metadata": {},
   "outputs": [],
   "source": [
    "#91)wap to remove First occurrence of a character in a string"
   ]
  },
  {
   "cell_type": "code",
   "execution_count": null,
   "metadata": {},
   "outputs": [],
   "source": [
    "#92)wap to remove last occurrence of a character in a string"
   ]
  },
  {
   "cell_type": "code",
   "execution_count": null,
   "metadata": {},
   "outputs": [],
   "source": [
    "#93)wap to count the occurrence of a special character in a given string"
   ]
  },
  {
   "cell_type": "code",
   "execution_count": null,
   "metadata": {},
   "outputs": [],
   "source": [
    "#94) wap to count the max occurrences of a character in a give string"
   ]
  },
  {
   "cell_type": "code",
   "execution_count": 5,
   "metadata": {},
   "outputs": [
    {
     "name": "stdout",
     "output_type": "stream",
     "text": [
      "helowrd\n",
      "h1e1l3o2w1r1d1\n"
     ]
    }
   ],
   "source": [
    "#95) wap to count the mim occurrences of a character in a give string\n",
    "st=\"helloworld\"\n",
    "s=0\n",
    "uni=\"\"\n",
    "while s<len(st):\n",
    "    if st[s] not in uni:\n",
    "        uni+=st[s]\n",
    "    s+=1\n",
    "print(uni)\n",
    "temp=\"\"\n",
    "j=0\n",
    "while j<len(uni):\n",
    "    count=0\n",
    "    start=0\n",
    "    while start<len(st):\n",
    "        if uni[j]==st[start]:\n",
    "            count+=1\n",
    "        start+=1\n",
    "    temp+=uni[j]+str(count)\n",
    "    j+=1\n",
    "print(temp)"
   ]
  },
  {
   "cell_type": "code",
   "execution_count": 9,
   "metadata": {},
   "outputs": [
    {
     "name": "stdout",
     "output_type": "stream",
     "text": [
      "no of repeats of specific character is 2\n"
     ]
    }
   ],
   "source": [
    "#96)wap to count the repeats of a specific character in a given string\n",
    "st=\"pyspiders\"\n",
    "s=0\n",
    "c=0\n",
    "while s<len(st):\n",
    "    if \"p\"==st[s]:\n",
    "        c+=1\n",
    "    s+=1\n",
    "print(\"no of repeats of specific character is\",c)"
   ]
  },
  {
   "cell_type": "code",
   "execution_count": 92,
   "metadata": {},
   "outputs": [
    {
     "name": "stdout",
     "output_type": "stream",
     "text": [
      "pysider\n",
      "p 2\n",
      "s 2\n"
     ]
    }
   ],
   "source": [
    "#97)wap to count the max repeated chatacters in a give string\n",
    "s=\"pyspiders\"\n",
    "uni=\"\"\n",
    "i=0\n",
    "while i<len(s):\n",
    "    if s[i] not in uni:\n",
    "        uni+=s[i]\n",
    "    i+=1\n",
    "print(uni)\n",
    "j=0\n",
    "while j<len(uni):\n",
    "    start=0\n",
    "    c=0\n",
    "    while start<len(s):\n",
    "        if uni[j]==s[start]:\n",
    "            c+=1\n",
    "        start+=1\n",
    "    if c>=2:\n",
    "        print(uni[j],c)\n",
    "    j+=1\n",
    "\n"
   ]
  },
  {
   "cell_type": "code",
   "execution_count": 91,
   "metadata": {},
   "outputs": [
    {
     "name": "stdout",
     "output_type": "stream",
     "text": [
      "pysider\n",
      "y 1\n",
      "i 1\n",
      "d 1\n",
      "e 1\n",
      "r 1\n"
     ]
    }
   ],
   "source": [
    "#98)wap to count the min repeated chatacters in a give string\n",
    "s=\"pyspiders\"\n",
    "uni=\"\"\n",
    "i=0\n",
    "while i<len(s):\n",
    "    if s[i] not in uni:\n",
    "        uni+=s[i]\n",
    "    i+=1\n",
    "print(uni)\n",
    "j=0\n",
    "while j<len(uni):\n",
    "    start=0\n",
    "    c=0\n",
    "    while start<len(s):\n",
    "        if uni[j]==s[start]:\n",
    "            c+=1\n",
    "        start+=1\n",
    "    if c==1:\n",
    "        print(uni[j],c)\n",
    "    j+=1\n"
   ]
  },
  {
   "cell_type": "code",
   "execution_count": 64,
   "metadata": {},
   "outputs": [
    {
     "name": "stdout",
     "output_type": "stream",
     "text": [
      "pp\n"
     ]
    }
   ],
   "source": [
    "#99)wap to replace a specific character into a new character\n",
    "st=\"python\"\n",
    "s=0\n",
    "res=\"\"\n",
    "while s<len(st):\n",
    "    if \"p\"==st[s]:\n",
    "        res+=st[s]\n",
    "    s+=1\n",
    "print(res)\n",
    "#dot  if it have repetaion of the character"
   ]
  },
  {
   "cell_type": "code",
   "execution_count": 68,
   "metadata": {},
   "outputs": [
    {
     "name": "stdout",
     "output_type": "stream",
     "text": [
      "PYTHON\n"
     ]
    }
   ],
   "source": [
    "#100)wap to convert lowercse to uppercase in a given string\n",
    "s=\"PYTHon\"\n",
    "start=0\n",
    "st=\"\"\n",
    "while start< len(s):\n",
    "    if \"a\"<=s[start]<=\"z\":\n",
    "        st+=chr(ord(s[start])-32) \n",
    "          \n",
    "    else:\n",
    "        st+=s[start]\n",
    "    start+=1\n",
    "print(st)"
   ]
  },
  {
   "cell_type": "code",
   "execution_count": 69,
   "metadata": {},
   "outputs": [
    {
     "name": "stdout",
     "output_type": "stream",
     "text": [
      "094(on\n"
     ]
    }
   ],
   "source": [
    "#101)wap to convert uppercase to lowercase in a given string\n",
    "s=\"PYTHon\"\n",
    "start=0\n",
    "st=\"\"\n",
    "while start< len(s):\n",
    "    if \"A\"<=s[start]<=\"Z\":\n",
    "        st+=chr(ord(s[start])-32) \n",
    "          \n",
    "    else:\n",
    "        st+=s[start]\n",
    "    start+=1\n",
    "print(st)"
   ]
  },
  {
   "cell_type": "code",
   "execution_count": 5,
   "metadata": {},
   "outputs": [
    {
     "name": "stdout",
     "output_type": "stream",
     "text": [
      "pYtHoN\n"
     ]
    }
   ],
   "source": [
    "#102)wap to convert uppercase to lowercase in even position characters in a give string\n",
    "s=\"PYTHON\"\n",
    "start=0\n",
    "st=\"\"\n",
    "while start<len(s):\n",
    "    if \"A\"<=s[start]<=\"Z\":\n",
    "        if start%2==0:\n",
    "            st+=chr(ord(s[start])+32)\n",
    "        else:\n",
    "            st+=s[start]\n",
    "    else:\n",
    "        st+=s[start]\n",
    "    start+=1\n",
    "print(st)\n"
   ]
  },
  {
   "cell_type": "code",
   "execution_count": 6,
   "metadata": {},
   "outputs": [
    {
     "name": "stdout",
     "output_type": "stream",
     "text": [
      "PyThOn\n"
     ]
    }
   ],
   "source": [
    "#103)wap to convert uppercase to lowercase in odd position characters in a give string\n",
    "s=\"PYTHON\"\n",
    "start=0\n",
    "st=\"\"\n",
    "while start<len(s):\n",
    "    if \"A\"<=s[start]<=\"Z\":\n",
    "        if start%2!=0:\n",
    "            st+=chr(ord(s[start])+32)\n",
    "        else:\n",
    "            st+=s[start]\n",
    "    else:\n",
    "        st+=s[start]\n",
    "    start+=1\n",
    "print(st)"
   ]
  },
  {
   "cell_type": "code",
   "execution_count": 7,
   "metadata": {},
   "outputs": [
    {
     "name": "stdout",
     "output_type": "stream",
     "text": [
      "PyS&iD@erS\n",
      "pYs*Id*ERs\n"
     ]
    }
   ],
   "source": [
    "#104)wap to convert the uppercase letter to lowercase letter and lowercase letter to uppercase letter, \n",
    "# if the character is special symbol replace with * for the given string\n",
    "s=\"PyS&iD@erS\"\n",
    "print(s)\n",
    "n=0\n",
    "res=\"\"\n",
    "while n<len(s):\n",
    "    if \"A\"<=s[n]<=\"Z\":\n",
    "        res+=chr(ord(s[n])+32)\n",
    "    elif \"a\"<=s[n]<=\"z\":\n",
    "        res+=chr(ord(s[n])-32)\n",
    "    elif not(\"a\"<=s[n]<=\"z\" or \"A\"<=s[n]<=\"Z\" or \"0\"<=s[n]<=\"9\"):\n",
    "        res+=\"*\"\n",
    "    else:\n",
    "        res+=s[n]\n",
    "    n+=1\n",
    "print(res)"
   ]
  },
  {
   "cell_type": "code",
   "execution_count": 10,
   "metadata": {},
   "outputs": [
    {
     "name": "stdout",
     "output_type": "stream",
     "text": [
      "Hello Haii  Weve3Lco4Me\n"
     ]
    }
   ],
   "source": [
    "#105)wap to convert title case in a given string\n",
    "st=\"hello haIi  Weve3lco4me\"\n",
    "res=\"\"\n",
    "i=0\n",
    "while i<len(st):\n",
    "    if i==0 and \"a\"<=st[i]<=\"z\":\n",
    "        res+=chr(ord(st[i])-32)\n",
    "    elif not(\"A\"<=st[i]<=\"Z\" or \"a\"<=st[i]<=\"z\"):\n",
    "        res+=st[i]\n",
    "        if \"a\"<=st[i+1]<=\"z\":\n",
    "            res+=chr(ord(st[i+1])-32)\n",
    "            i+=1\n",
    "        elif \"A\"<=st[i+1]<=\"Z\":\n",
    "            res+=st[i+1]\n",
    "            i+=1\n",
    "    elif \"A\"<=st[i]<=\"Z\":\n",
    "        res+=chr(ord(st[i])+32)\n",
    "    else:\n",
    "        res+=st[i]\n",
    "    i+=1\n",
    "print(res)\n",
    "#dot"
   ]
  },
  {
   "cell_type": "code",
   "execution_count": 9,
   "metadata": {},
   "outputs": [
    {
     "name": "stdout",
     "output_type": "stream",
     "text": [
      "py_th_on\n"
     ]
    }
   ],
   "source": [
    "#106)wap to convert snake case in a given string\n",
    "s=\"PY TH on\"\n",
    "start=0\n",
    "st=\"\"\n",
    "while start< len(s):\n",
    "    if \"A\"<=s[start]<=\"Z\":\n",
    "        st+=chr(ord(s[start])+32) \n",
    "    elif s[start]==\" \":\n",
    "        st+=\"_\"     \n",
    "    else:\n",
    "        st+=s[start]\n",
    "    start+=1\n",
    "print(st)"
   ]
  },
  {
   "cell_type": "code",
   "execution_count": null,
   "metadata": {},
   "outputs": [],
   "source": [
    "#107)wap to toggle characters case in a string"
   ]
  },
  {
   "cell_type": "code",
   "execution_count": 20,
   "metadata": {},
   "outputs": [
    {
     "name": "stdout",
     "output_type": "stream",
     "text": [
      "PyS&iD@erS\n",
      "PyS&105D@101rS\n"
     ]
    }
   ],
   "source": [
    "#108)wap to replace vowels into ascii values in a given string(both with and with temp varialble)\n",
    "#with temp variable\n",
    "s=\"PyS&iD@erS\"\n",
    "print(s)\n",
    "n=0\n",
    "res=\"\"\n",
    "while n<len(s):\n",
    "    if s[n] in \"aeiouAEIOU\":\n",
    "        res+=str(ord(s[n]))\n",
    "    else:\n",
    "        res+=s[n]\n",
    "    n+=1\n",
    "print(res)\n",
    "\n"
   ]
  },
  {
   "cell_type": "code",
   "execution_count": 22,
   "metadata": {},
   "outputs": [
    {
     "name": "stdout",
     "output_type": "stream",
     "text": [
      "haii hello\n",
      "104aii32104e108108o\n"
     ]
    }
   ],
   "source": [
    "#109)wap to replace consoants into ascii values in a given string(both with and with temp varialble)\n",
    "#with temp variable\n",
    "s=\"haii hello\"\n",
    "print(s)\n",
    "n=0\n",
    "res=\"\"\n",
    "while n<len(s):\n",
    "    if s[n] not in \"aeiouAEIOU\":\n",
    "        res+=str(ord(s[n]))\n",
    "    else:\n",
    "        res+=s[n]\n",
    "    n+=1\n",
    "print(res)\n"
   ]
  },
  {
   "cell_type": "code",
   "execution_count": 23,
   "metadata": {},
   "outputs": [
    {
     "name": "stdout",
     "output_type": "stream",
     "text": [
      "haii hello\n",
      "haii 104e108lo\n"
     ]
    }
   ],
   "source": [
    "#110)wap to replace consoants into ascii values in odd position charactersin a given string(both with and with temp varialble)\n",
    "#with temp variable\n",
    "s=\"haii hello\"\n",
    "print(s)\n",
    "n=0\n",
    "res=\"\"\n",
    "while n<len(s):\n",
    "    if  n%2!=0 and s[n] not in \"aeiouAEIOU\":\n",
    "        res+=str(ord(s[n]))\n",
    "    else:\n",
    "        res+=s[n]\n",
    "    n+=1\n",
    "print(res)\n"
   ]
  },
  {
   "cell_type": "code",
   "execution_count": 24,
   "metadata": {},
   "outputs": [
    {
     "name": "stdout",
     "output_type": "stream",
     "text": [
      "haii hello\n",
      "104aii32hel108o\n"
     ]
    }
   ],
   "source": [
    "#111)wap to replace vowels into ascii values in even position charactersin a given string(both with and with temp varialble)\n",
    "#with temp variable\n",
    "s=\"haii hello\"\n",
    "print(s)\n",
    "n=0\n",
    "res=\"\"\n",
    "while n<len(s):\n",
    "    if  n%2==0 and s[n] not in \"aeiouAEIOU\":\n",
    "        res+=str(ord(s[n]))\n",
    "    else:\n",
    "        res+=s[n]\n",
    "    n+=1\n",
    "print(res)\n"
   ]
  },
  {
   "cell_type": "code",
   "execution_count": 26,
   "metadata": {},
   "outputs": [
    {
     "name": "stdout",
     "output_type": "stream",
     "text": [
      "PY-TH-on\n"
     ]
    }
   ],
   "source": [
    "#112)wap to replave spave with Hyphen in a string (both with and with temp variable)\n",
    "s=\"PY TH on\"\n",
    "#with temp variable\n",
    "start=0\n",
    "st=\"\"\n",
    "while start< len(s):\n",
    "    if s[start]==\" \":\n",
    "        st+=\"-\"     \n",
    "    else:\n",
    "        st+=s[start]\n",
    "    start+=1\n",
    "print(st)\n"
   ]
  },
  {
   "cell_type": "code",
   "execution_count": 33,
   "metadata": {},
   "outputs": [
    {
     "name": "stdout",
     "output_type": "stream",
     "text": [
      "haii hello\n",
      "hi el\n"
     ]
    }
   ],
   "source": [
    "#113) wap to remove odd position characters in a given string\n",
    "s=\"haii hello\"\n",
    "print(s)\n",
    "n=0\n",
    "res=\"\"\n",
    "while n<len(s):\n",
    "    if  n%2==0:\n",
    "        res+=s[n]\n",
    "    n+=1\n",
    "print(res)\n"
   ]
  },
  {
   "cell_type": "code",
   "execution_count": 34,
   "metadata": {},
   "outputs": [
    {
     "name": "stdout",
     "output_type": "stream",
     "text": [
      "haii hello\n",
      "aihlo\n"
     ]
    }
   ],
   "source": [
    "#114) wap to remove even position characters in a given string\n",
    "s=\"haii hello\"\n",
    "print(s)\n",
    "n=0\n",
    "res=\"\"\n",
    "while n<len(s):\n",
    "    if  n%2!=0:\n",
    "        res+=s[n]\n",
    "    n+=1\n",
    "print(res)"
   ]
  },
  {
   "cell_type": "code",
   "execution_count": 39,
   "metadata": {},
   "outputs": [
    {
     "name": "stdout",
     "output_type": "stream",
     "text": [
      "h#e&ls)o\n",
      "#&)\n"
     ]
    }
   ],
   "source": [
    "#115)wap to remove alphabets in a given string\n",
    "s=\"h#e&ls)o\"\n",
    "print(s)\n",
    "n=0\n",
    "res=\"\"\n",
    "while n<len(s):\n",
    "    if  not(\"a\"<=s[n]<=\"z\" or \"A\"<=s[n]<=\"Z\" or \"0\"<=s[n]<=\"9\"):\n",
    "        res+=s[n]\n",
    "    n+=1\n",
    "print(res)"
   ]
  },
  {
   "cell_type": "code",
   "execution_count": 41,
   "metadata": {},
   "outputs": [
    {
     "name": "stdout",
     "output_type": "stream",
     "text": [
      "h1dc7sp10\n",
      "hdcsp\n"
     ]
    }
   ],
   "source": [
    "#116)wap to remove ascii numbers in a given string\n",
    "s=\"h1dc7sp10\"\n",
    "print(s)\n",
    "n=0\n",
    "res=\"\"\n",
    "while n<len(s):\n",
    "    if  not( \"0\"<=s[n]<=\"9\"):\n",
    "        res+=s[n]\n",
    "    n+=1\n",
    "print(res)"
   ]
  },
  {
   "cell_type": "code",
   "execution_count": 42,
   "metadata": {},
   "outputs": [
    {
     "name": "stdout",
     "output_type": "stream",
     "text": [
      "h#e&ls)o\n",
      "helso\n"
     ]
    }
   ],
   "source": [
    "#117)wap to remove special character in a given string\n",
    "s=\"h#e&ls)o\"\n",
    "print(s)\n",
    "n=0\n",
    "res=\"\"\n",
    "while n<len(s):\n",
    "    if (\"a\"<=s[n]<=\"z\" or \"A\"<=s[n]<=\"Z\" or \"0\"<=s[n]<=\"9\"):\n",
    "        res+=s[n]\n",
    "    n+=1\n",
    "print(res)"
   ]
  },
  {
   "cell_type": "code",
   "execution_count": 14,
   "metadata": {},
   "outputs": [
    {
     "name": "stdout",
     "output_type": "stream",
     "text": [
      "saiasss given string is not palindrome\n"
     ]
    }
   ],
   "source": [
    "#118) wap to check if the given string is palindrome or not\n",
    "s=\"saiasss\"\n",
    "r=1\n",
    "p=len(s)\n",
    "c=0\n",
    "while r<=p:\n",
    "    if s[-r]==s[r-1]:\n",
    "        c+=1\n",
    "    r+=1\n",
    "if c==len(s):\n",
    "    print(s,\"given string is palindrome\")\n",
    "else:\n",
    "    print(s,\"given string is not palindrome\")\n",
    "\n",
    "#s=\"saias\"\n",
    "#r=s[::-1]\n",
    "#if s==r:\n",
    "#    print(r,\"given string is palindrome\")\n",
    "#else:\n",
    "#    print(s,\"given string is not a palindrome\")\n"
   ]
  },
  {
   "cell_type": "code",
   "execution_count": 57,
   "metadata": {},
   "outputs": [
    {
     "name": "stdout",
     "output_type": "stream",
     "text": [
      "given string is not a lowercase\n"
     ]
    }
   ],
   "source": [
    "#119)wap to check whether the given sring is lowercase or not\n",
    "st=\"sunethra\"\n",
    "s=0\n",
    "c=0\n",
    "while s<len(st):\n",
    "    if \"a\"<=st[s]<=\"z\":\n",
    "        c+=1\n",
    "    s+=1\n",
    "if c==len(st):\n",
    "    print(\"given string is lowercase\")\n",
    "else:\n",
    "    print(\"given string is not a lowercase\")"
   ]
  },
  {
   "cell_type": "code",
   "execution_count": 59,
   "metadata": {},
   "outputs": [
    {
     "name": "stdout",
     "output_type": "stream",
     "text": [
      "given number is not a string\n"
     ]
    }
   ],
   "source": [
    "#120)wap to check whether the given number is string or not\n",
    "n=75785\n",
    "if type(n) == str:\n",
    "    print(\"given number is string\")\n",
    "else:\n",
    "    print(\"given number is not a string\")"
   ]
  },
  {
   "cell_type": "code",
   "execution_count": 61,
   "metadata": {},
   "outputs": [
    {
     "name": "stdout",
     "output_type": "stream",
     "text": [
      "eoo123aii\n"
     ]
    }
   ],
   "source": [
    "#121) I/p:'hello world 123 haii'\n",
    "#o/p:'eoo123aii'\n",
    "st=\"hello world 123 haii\"\n",
    "s=0\n",
    "res=\"\"\n",
    "while s<len(st):\n",
    "    if st[s] in \"aeiouAEIOU\" or \"0\"<=st[s]<=\"9\":\n",
    "        res+=st[s]\n",
    "    s+=1\n",
    "print(res)"
   ]
  },
  {
   "cell_type": "code",
   "execution_count": 63,
   "metadata": {},
   "outputs": [
    {
     "name": "stdout",
     "output_type": "stream",
     "text": [
      "eo o 123 aii\n"
     ]
    }
   ],
   "source": [
    "#122) I/p:'hello world 123 haii'\n",
    "#o/p:'eo o123 aii'\n",
    "st=\"hello world 123 haii\"\n",
    "s=0\n",
    "res=\"\"\n",
    "while s<len(st):\n",
    "    if st[s] in \"aeiouAEIOU\" or \"0\"<=st[s]<=\"9\" or st[s]==\" \":\n",
    "        res+=st[s]\n",
    "    s+=1\n",
    "print(res)"
   ]
  },
  {
   "cell_type": "code",
   "execution_count": 64,
   "metadata": {},
   "outputs": [
    {
     "name": "stdout",
     "output_type": "stream",
     "text": [
      "eo o  aii\n"
     ]
    }
   ],
   "source": [
    "#123) I/p:'hello world 123 haii'\n",
    "#o/p:'eo o aii'\n",
    "st=\"hello world 123 haii\"\n",
    "s=0\n",
    "res=\"\"\n",
    "while s<len(st):\n",
    "    if st[s] in \"aeiouAEIOU\"  or st[s]==\" \":\n",
    "        res+=st[s]\n",
    "    s+=1\n",
    "print(res)"
   ]
  },
  {
   "cell_type": "code",
   "execution_count": 110,
   "metadata": {},
   "outputs": [
    {
     "name": "stdout",
     "output_type": "stream",
     "text": [
      "res= hello world  haii\n",
      "c= hello\n",
      "q= hll\n"
     ]
    }
   ],
   "source": [
    "#124) I/p:'hello world 123 haii'\n",
    "#o/p:'hll world haii'\n",
    "st=\"hello world 123 haii\"\n",
    "s=0\n",
    "res=\"\"\n",
    "while s<len(st):\n",
    "    if not(\"0\"<=st[s]<=\"9\"):\n",
    "        res+=st[s]\n",
    "    s+=1\n",
    "print(\"res=\",res)\n",
    "m=res\n",
    "j=0\n",
    "c=\"\"\n",
    "q=\"\"\n",
    "while m[j] != \" \":\n",
    "    c+=m[j]\n",
    "    if c[j] not in \"aeiouAEIOU\":\n",
    "        q+=m[j]\n",
    "\n",
    "    j+=1\n",
    "print(\"c=\",c)\n",
    "print(\"q=\",q)\n",
    "\n"
   ]
  },
  {
   "cell_type": "code",
   "execution_count": 133,
   "metadata": {},
   "outputs": [
    {
     "name": "stdout",
     "output_type": "stream",
     "text": [
      "hll wrld\n",
      "eoo\n"
     ]
    }
   ],
   "source": [
    "#125)i/p:- \"hello world\"\n",
    "#o/p:-\"hll wrld\"\n",
    "#o/p:- \"eoo\"\n",
    "st=\"hello world\"\n",
    "s=0\n",
    "v=\"\"\n",
    "c=\"\"\n",
    "while s<len(st):\n",
    "    if st[s] not in \"aeiouAEIOU\":\n",
    "        v+=st[s]\n",
    "    else:\n",
    "        c+=st[s]\n",
    "    s+=1\n",
    "print(v)\n",
    "print(c)"
   ]
  },
  {
   "cell_type": "code",
   "execution_count": 136,
   "metadata": {},
   "outputs": [
    {
     "name": "stdout",
     "output_type": "stream",
     "text": [
      "hll wrld\n",
      "eoo\n",
      "12344\n"
     ]
    }
   ],
   "source": [
    "#126)i/p:- \"12hello3 4world4\"\n",
    "#o/p:-\"hll wrld\"\n",
    "#o/p:- \"eoo\"\n",
    "#o/p:- \"12344\"\n",
    "st=\"12hello3 4world4\"\n",
    "s=0\n",
    "n=\"\"\n",
    "v=\"\"\n",
    "c=\"\"\n",
    "while s<len(st):\n",
    "    if \"0\"<=st[s]<=\"9\":\n",
    "        n+=st[s]\n",
    "    elif st[s] not in \"aeiouAEIOU\":\n",
    "        v+=st[s]\n",
    "    else:\n",
    "        c+=st[s]\n",
    "    s+=1\n",
    "print(v)\n",
    "print(c)\n",
    "print(n)"
   ]
  },
  {
   "cell_type": "code",
   "execution_count": 144,
   "metadata": {},
   "outputs": [
    {
     "name": "stdout",
     "output_type": "stream",
     "text": [
      "hllwrld\n",
      "eoo\n",
      "12344\n",
      "(*$ $#*)\n"
     ]
    }
   ],
   "source": [
    "#127)i/p:- \"(*12hello3$ $4#world4*)\"\n",
    "#o/p:-\"hll wrld\"\n",
    "#o/p:- \"eoo\"\n",
    "#o/p:- \"12344\"\n",
    "#o/p:-\"(*$ $#*)\"\n",
    "st=\"(*12hello3$ $4#world4*)\"\n",
    "s=0\n",
    "n=\"\"\n",
    "v=\"\"\n",
    "c=\"\"\n",
    "p=\"\"\n",
    "while s<len(st):\n",
    "    if not(\"A\"<=st[s]<=\"Z\" or \"a\"<=st[s]<=\"z\" or \"0\"<=st[s]<=\"9\"):\n",
    "        p+=st[s]\n",
    "    elif \"0\"<=st[s]<=\"9\":\n",
    "        n+=st[s]\n",
    "    elif st[s] not in \"aeiouAEIOU\":\n",
    "        v+=st[s]\n",
    "    else:\n",
    "        c+=st[s]\n",
    "    s+=1\n",
    "print(v)\n",
    "print(c)\n",
    "print(n)\n",
    "print(p)"
   ]
  },
  {
   "cell_type": "code",
   "execution_count": 167,
   "metadata": {},
   "outputs": [
    {
     "name": "stdout",
     "output_type": "stream",
     "text": [
      ")*#$ $*( , 44321 , ooe , dlrwllh\n"
     ]
    }
   ],
   "source": [
    "#128)i/p:- \"(*12hello3$ $4#world4*)\"\n",
    "#o/p:-\")*#$ $*(,44321,ooe,dlrwllh\"\n",
    "t=\"(*12hello3$ $4#world4*)\"\n",
    "st=t[::-1]\n",
    "s=0\n",
    "n=\"\"\n",
    "v=\"\"\n",
    "c=\"\"\n",
    "p=\"\"\n",
    "while s<len(st):\n",
    "    if not(\"A\"<=st[s]<=\"Z\" or \"a\"<=st[s]<=\"z\" or \"0\"<=st[s]<=\"9\"):\n",
    "        p+=st[s]\n",
    "    elif \"0\"<=st[s]<=\"9\":\n",
    "        n+=st[s]\n",
    "    elif st[s] not in \"aeiouAEIOU\":\n",
    "        v+=st[s]\n",
    "    else:\n",
    "        c+=st[s]\n",
    "    s+=1\n",
    "print(p,\",\",n,\",\",c,\",\",v)"
   ]
  },
  {
   "cell_type": "code",
   "execution_count": 169,
   "metadata": {},
   "outputs": [
    {
     "name": "stdout",
     "output_type": "stream",
     "text": [
      "hllwrld , eoo , 12344 , (*$ $#*)\n"
     ]
    }
   ],
   "source": [
    "#129)i/p:- \"(*12hello3$ $4#world4*)\"\n",
    "#o/p:-\"hll wrld,eoo,12344,(*$ $#*)\"\n",
    "st=\"(*12hello3$ $4#world4*)\"\n",
    "s=0\n",
    "n=\"\"\n",
    "v=\"\"\n",
    "c=\"\"\n",
    "p=\"\"\n",
    "while s<len(st):\n",
    "    if not(\"A\"<=st[s]<=\"Z\" or \"a\"<=st[s]<=\"z\" or \"0\"<=st[s]<=\"9\"):\n",
    "        p+=st[s]\n",
    "    elif \"0\"<=st[s]<=\"9\":\n",
    "        n+=st[s]\n",
    "    elif st[s] not in \"aeiouAEIOU\":\n",
    "        v+=st[s]\n",
    "    else:\n",
    "        c+=st[s]\n",
    "    s+=1\n",
    "print(v,\",\",c,\",\",n,\",\",p)\n"
   ]
  },
  {
   "cell_type": "code",
   "execution_count": 15,
   "metadata": {},
   "outputs": [
    {
     "ename": "KeyboardInterrupt",
     "evalue": "",
     "output_type": "error",
     "traceback": [
      "\u001b[1;31m---------------------------------------------------------------------------\u001b[0m",
      "\u001b[1;31mKeyboardInterrupt\u001b[0m                         Traceback (most recent call last)",
      "Cell \u001b[1;32mIn[15], line 7\u001b[0m\n\u001b[0;32m      5\u001b[0m p\u001b[39m=\u001b[39m\u001b[39m\"\u001b[39m\u001b[39m \u001b[39m\u001b[39m\"\u001b[39m\n\u001b[0;32m      6\u001b[0m r\u001b[39m=\u001b[39m\u001b[39m\"\u001b[39m\u001b[39m \u001b[39m\u001b[39m\"\u001b[39m\n\u001b[1;32m----> 7\u001b[0m \u001b[39mwhile\u001b[39;00m s\u001b[39m<\u001b[39m\u001b[39mlen\u001b[39m(st):\n\u001b[0;32m      8\u001b[0m     \u001b[39mif\u001b[39;00m \u001b[39mnot\u001b[39;00m(\u001b[39m\"\u001b[39m\u001b[39ma\u001b[39m\u001b[39m\"\u001b[39m\u001b[39m<\u001b[39m\u001b[39m=\u001b[39mst[s]\u001b[39m<\u001b[39m\u001b[39m=\u001b[39m\u001b[39m\"\u001b[39m\u001b[39mz\u001b[39m\u001b[39m\"\u001b[39m \u001b[39mor\u001b[39;00m \u001b[39m\"\u001b[39m\u001b[39mA\u001b[39m\u001b[39m\"\u001b[39m\u001b[39m<\u001b[39m\u001b[39m=\u001b[39mst[s]\u001b[39m<\u001b[39m\u001b[39m=\u001b[39m\u001b[39m\"\u001b[39m\u001b[39mZ\u001b[39m\u001b[39m\"\u001b[39m):\n\u001b[0;32m      9\u001b[0m         p\u001b[39m+\u001b[39m\u001b[39m=\u001b[39mst[s]\n",
      "\u001b[1;31mKeyboardInterrupt\u001b[0m: "
     ]
    }
   ],
   "source": [
    "#130)i/p:-\"(*12hello3$ $4#world4*)\"\n",
    "#o/p:-\"hll wrld,)*#$ $*(,eoo,44321\"\n",
    "st=\"(*12hello3$ $4#world4*)\"\n",
    "s=0\n",
    "p=\" \"\n",
    "r=\" \"\n",
    "while s<len(st):\n",
    "    if not(\"a\"<=st[s]<=\"z\" or \"A\"<=st[s]<=\"Z\"):\n",
    "        p+=st[s]\n",
    "    else:\n",
    "        r+=st[s]\n",
    "    s+1\n",
    "print(p)\n",
    "print(r)\n",
    "\n",
    "#dot"
   ]
  },
  {
   "cell_type": "code",
   "execution_count": 178,
   "metadata": {},
   "outputs": [
    {
     "name": "stdout",
     "output_type": "stream",
     "text": [
      ")*#$ $*( , 44321 , ooe , dlrwllh\n"
     ]
    }
   ],
   "source": [
    "#131)i/p:- \"(*12hello3$ $4#world4*)\"\n",
    "#o/p:-\")*#$ $*(,44321,ooe,dlrwllh\"\n",
    "t=\"(*12hello3$ $4#world4*)\"\n",
    "st=t[::-1]\n",
    "s=0\n",
    "n=\"\"\n",
    "v=\"\"\n",
    "c=\"\"\n",
    "p=\"\"\n",
    "while s<len(st):\n",
    "    if not(\"A\"<=st[s]<=\"Z\" or \"a\"<=st[s]<=\"z\" or \"0\"<=st[s]<=\"9\"):\n",
    "        p+=st[s]\n",
    "    elif \"0\"<=st[s]<=\"9\":\n",
    "        n+=st[s]\n",
    "    elif st[s] not in \"aeiouAEIOU\":\n",
    "        v+=st[s]\n",
    "    else:\n",
    "        c+=st[s]\n",
    "    s+=1\n",
    "print(p,\",\",n,\",\",c,\",\",v)"
   ]
  },
  {
   "cell_type": "code",
   "execution_count": 183,
   "metadata": {},
   "outputs": [
    {
     "name": "stdout",
     "output_type": "stream",
     "text": [
      "dlrwllh )*#$ $*( ooe 44321\n"
     ]
    }
   ],
   "source": [
    "#132)i/p:- \"(*12hello3$ $4#world4*)\"\n",
    "#o/p:-\"dlrwllh)*#$ $*(ooe44321\"\n",
    "t=\"(*12hello3$ $4#world4*)\"\n",
    "st=t[::-1]\n",
    "s=0\n",
    "n=\"\"\n",
    "v=\"\"\n",
    "c=\"\"\n",
    "p=\"\"\n",
    "while s<len(st):\n",
    "    if not(\"A\"<=st[s]<=\"Z\" or \"a\"<=st[s]<=\"z\" or \"0\"<=st[s]<=\"9\"):\n",
    "        p+=st[s]\n",
    "    elif \"0\"<=st[s]<=\"9\":\n",
    "        n+=st[s]\n",
    "    elif st[s] not in \"aeiouAEIOU\":\n",
    "        v+=st[s]\n",
    "    else:\n",
    "        c+=st[s]\n",
    "    s+=1\n",
    "print(v,p,c,n)"
   ]
  },
  {
   "cell_type": "code",
   "execution_count": 21,
   "metadata": {},
   "outputs": [
    {
     "name": "stdout",
     "output_type": "stream",
     "text": [
      " h$ll*w*rld\n"
     ]
    }
   ],
   "source": [
    "#133)i/p:-\"HELLOWORLD\"\n",
    "#o/p:-\"h$ll*w*rld\"\n",
    "st=\"HELLOWORLD\"\n",
    "s=0\n",
    "res=\" \"\n",
    "while s<len(st):\n",
    "    if \"A\"<=st[s]<=\"Z\":\n",
    "        res+=chr(ord(st[s])+32)\n",
    "    \n",
    "    s+=1\n",
    "#print(res)\n",
    "j=0\n",
    "m=res\n",
    "q=\"\"\n",
    "while j<=len(st):\n",
    "    if m[j]==\"e\":\n",
    "        q+=\"$\"\n",
    "    elif m[j]==\"o\":\n",
    "        q+=\"*\"\n",
    "    else:\n",
    "        q+=m[j]\n",
    "    j+=1\n",
    "print(q)\n"
   ]
  },
  {
   "cell_type": "code",
   "execution_count": 33,
   "metadata": {},
   "outputs": [
    {
     "name": "stdout",
     "output_type": "stream",
     "text": [
      " hllwrld21\n"
     ]
    }
   ],
   "source": [
    "#134)i/p:-\"123HELLO WORLD456\"\n",
    "#o/p:-'hllwrld21'\n",
    "st=\"123HELLO WORLD456\"\n",
    "s=0\n",
    "res=\" \"\n",
    "while s<len(st):\n",
    "    if \"A\"<=st[s]<=\"Z\":\n",
    "        res+=chr(ord(st[s])+32)\n",
    "    \n",
    "    s+=1\n",
    "#print(res)\n",
    "j=0\n",
    "m=res\n",
    "q=\"\"\n",
    "while j<len(m):\n",
    "    if m[j] not in \"aeiouAEIOU\":\n",
    "        q+=m[j]\n",
    "    j+=1\n",
    "a=q+str(21)\n",
    "print(a)\n",
    "\n"
   ]
  },
  {
   "cell_type": "code",
   "execution_count": 38,
   "metadata": {},
   "outputs": [
    {
     "name": "stdout",
     "output_type": "stream",
     "text": [
      " 123hEllOwOrld456\n"
     ]
    }
   ],
   "source": [
    "#135)i/p:-\"123HELLO WORLD456\"\n",
    "#o/p:- \"123hEllO wOrld456\"\n",
    "st=\"123HELLO WORLD456\"\n",
    "s=0\n",
    "res=\" \"\n",
    "while s<len(st):\n",
    "    if \"A\"<=st[s]<=\"Z\":\n",
    "        res+=chr(ord(st[s])+32)\n",
    "    elif \"0\"<=st[s]<=\"9\":\n",
    "        res+=st[s]\n",
    "    s+=1\n",
    "#print(res)\n",
    "j=0\n",
    "m=res\n",
    "q=\"\"\n",
    "while j<len(m):\n",
    "    if m[j] not in \"aeiouAEIOU\":\n",
    "        q+=m[j]\n",
    "    else:\n",
    "        q+=chr(ord(m[j])-32)\n",
    "    j+=1\n",
    "print(q)"
   ]
  },
  {
   "cell_type": "code",
   "execution_count": 79,
   "metadata": {},
   "outputs": [
    {
     "name": "stdout",
     "output_type": "stream",
     "text": [
      "321 hEllOwOrld 654\n"
     ]
    }
   ],
   "source": [
    "#136)i/p:-\"123HELLO WORLD456\"\n",
    "#o/p:-\"321hello wOrld654\"\n",
    "st=\"123HELLO WORLD456\"\n",
    "s=0\n",
    "res=\"\"\n",
    "while s<len(st):\n",
    "    if \"A\"<=st[s]<=\"Z\":\n",
    "        res+=chr(ord(st[s])+32)\n",
    "    s+=1\n",
    "#print(res)\n",
    "j=0\n",
    "m=res\n",
    "q=\"\"\n",
    "while j<len(m):\n",
    "    if m[j] not in \"aeiouAEIOU\":\n",
    "        q+=m[j]\n",
    "    else:\n",
    "        q+=chr(ord(m[j])-32)\n",
    "    j+=1\n",
    "#print(q)\n",
    "a=0\n",
    "b=st\n",
    "r=\"\"\n",
    "while \"0\"<=b[a]<=\"9\":\n",
    "    r+=b[a]\n",
    "    a+=1\n",
    "#print(r)\n",
    "c=st[::-1]\n",
    "d=0\n",
    "f=\"\"\n",
    "while \"0\"<=c[d]<=\"9\":\n",
    "    f+=c[d]\n",
    "    d+=1\n",
    "#print(f)\n",
    "print(r[::-1],q,f)\n",
    "\n",
    "\n",
    "\n"
   ]
  },
  {
   "cell_type": "code",
   "execution_count": 93,
   "metadata": {},
   "outputs": [
    {
     "name": "stdout",
     "output_type": "stream",
     "text": [
      "321 *E**O**O*** 654\n"
     ]
    }
   ],
   "source": [
    "#137)i/p:-\"123HELLO WORLD456\"\n",
    "#o/p:-\"321*E**O *O***654\"\n",
    "t=\"123HELLO WORLD456\"\n",
    "\n",
    "start=0\n",
    "st=\"\"\n",
    "while start< len(t):\n",
    "    if not( \"0\"<=t[start]<=\"9\"):\n",
    "        st+=t[start]\n",
    "    start+=1\n",
    "#print(st)\n",
    "s=0\n",
    "q=\"\"\n",
    "while s<len(st):\n",
    "    if st[s]not in \"AEIOUaeiou\" :\n",
    "        q+=\"*\"\n",
    "    else:\n",
    "        q+=st[s]\n",
    "    s+=1\n",
    "#print(q)\n",
    "a=0\n",
    "b=t\n",
    "r=\"\"\n",
    "while \"0\"<=b[a]<=\"9\":\n",
    "    r+=b[a]\n",
    "    a+=1\n",
    "#print(r)\n",
    "c=t[::-1]\n",
    "d=0\n",
    "f=\"\"\n",
    "while \"0\"<=c[d]<=\"9\":\n",
    "    f+=c[d]\n",
    "    d+=1\n",
    "#print(f)\n",
    "print(r[::-1],q,f)\n"
   ]
  },
  {
   "cell_type": "code",
   "execution_count": 106,
   "metadata": {},
   "outputs": [
    {
     "name": "stdout",
     "output_type": "stream",
     "text": [
      "123 *E**O**O*** 456\n"
     ]
    }
   ],
   "source": [
    "#138)i/p:-\"123HELLO WORLD456\"\n",
    "#o/p:-\"123*E**O *O***456\"\n",
    "t=\"123HELLO WORLD456\"\n",
    "\n",
    "start=0\n",
    "st=\"\"\n",
    "while start< len(t):\n",
    "    if not( \"0\"<=t[start]<=\"9\"):\n",
    "        st+=t[start]\n",
    "    start+=1\n",
    "#print(st)\n",
    "s=0\n",
    "q=\"\"\n",
    "while s<len(st):\n",
    "    if st[s]not in \"AEIOUaeiou\" :\n",
    "        q+=\"*\"\n",
    "    else:\n",
    "        q+=st[s]\n",
    "    s+=1\n",
    "#print(q)\n",
    "a=0\n",
    "b=t\n",
    "r=\"\"\n",
    "while \"0\"<=b[a]<=\"9\":\n",
    "    r+=b[a]\n",
    "    a+=1\n",
    "#print(r)\n",
    "c=t[::-1]\n",
    "d=0\n",
    "f=\"\"\n",
    "while \"0\"<=c[d]<=\"9\":\n",
    "    f+=c[d]\n",
    "    d+=1\n",
    "#print(f)\n",
    "print(r,q,f[::-1])\n",
    "\n"
   ]
  },
  {
   "cell_type": "code",
   "execution_count": 107,
   "metadata": {},
   "outputs": [
    {
     "name": "stdout",
     "output_type": "stream",
     "text": [
      " h$ll*w*rld\n"
     ]
    }
   ],
   "source": [
    "#139)i/p:-\"HELLOWORLD\"\n",
    "#o/p:-\"h$ll*w*rld\"\n",
    "st=\"HELLOWORLD\"\n",
    "s=0\n",
    "res=\" \"\n",
    "while s<len(st):\n",
    "    if \"A\"<=st[s]<=\"Z\":\n",
    "        res+=chr(ord(st[s])+32)\n",
    "    \n",
    "    s+=1\n",
    "#print(res)\n",
    "j=0\n",
    "m=res\n",
    "q=\"\"\n",
    "while j<=len(st):\n",
    "    if m[j]==\"e\":\n",
    "        q+=\"$\"\n",
    "    elif m[j]==\"o\":\n",
    "        q+=\"*\"\n",
    "    else:\n",
    "        q+=m[j]\n",
    "    j+=1\n",
    "print(q)\n"
   ]
  },
  {
   "cell_type": "code",
   "execution_count": 112,
   "metadata": {},
   "outputs": [
    {
     "name": "stdout",
     "output_type": "stream",
     "text": [
      "axbycz\n"
     ]
    }
   ],
   "source": [
    "#140)i/p:-\"abc\"\n",
    "#i/p:-\"xyz\"\n",
    "#o/p:-\"axbycz\"\n",
    "s=\"abc\"\n",
    "t=\"xyz\"\n",
    "r=\"\"\n",
    "p=0\n",
    "while p<len(s):\n",
    "    r+=s[p]+t[p]\n",
    "    p+=1\n",
    "print(r)"
   ]
  },
  {
   "cell_type": "code",
   "execution_count": 155,
   "metadata": {},
   "outputs": [
    {
     "name": "stdout",
     "output_type": "stream",
     "text": [
      "axbyczw\n"
     ]
    }
   ],
   "source": [
    "#141)i/p:-\"abc\"\n",
    "#i/p:-\"xyzw\"\n",
    "#o/p:-\"axbyczw\"\n",
    "s=\"abc \"\n",
    "t=\"xyzw\"\n",
    "r=\"\"\n",
    "p=0\n",
    "while p<len(t):\n",
    "    r+=s[p]+t[p]\n",
    "    p+=1\n",
    "#print(r)\n",
    "j=0\n",
    "w=\"\"\n",
    "while j<len(r):\n",
    "    if r[j]==\" \":\n",
    "        1+1\n",
    "    else:\n",
    "        w+=r[j]\n",
    "    j+=1\n",
    "print(w)\n",
    "\n",
    "\n",
    "#dot\n"
   ]
  },
  {
   "cell_type": "code",
   "execution_count": 2,
   "metadata": {},
   "outputs": [
    {
     "name": "stdout",
     "output_type": "stream",
     "text": [
      "axbyczd \n"
     ]
    }
   ],
   "source": [
    "#142)i/p:-\"abcd\"\n",
    "#i/p:-\"xyz\"\n",
    "#o/p:-\"axbyczd\"\n",
    "s=\"abcd\"\n",
    "t=\"xyz \"\n",
    "r=\"\"\n",
    "p=0\n",
    "while p<len(s):\n",
    "    r+=s[p]+t[p]\n",
    "    p+=1\n",
    "print(r)\n",
    "\n",
    "#dot\n"
   ]
  },
  {
   "cell_type": "code",
   "execution_count": null,
   "metadata": {},
   "outputs": [],
   "source": []
  },
  {
   "cell_type": "code",
   "execution_count": 153,
   "metadata": {},
   "outputs": [
    {
     "name": "stdout",
     "output_type": "stream",
     "text": [
      "axbycz w o p\n",
      "axbyczwop\n"
     ]
    }
   ],
   "source": [
    "#143)i/p:-\"abc\"\n",
    "#i/p:-\"xyzwop\"\n",
    "#o/p:-\"axbyczwop\"\n",
    "s=\"abc   \"\n",
    "t=\"xyzwop\"\n",
    "r=\"\"\n",
    "p=0\n",
    "while p<len(t):\n",
    "    r+=s[p]+t[p]\n",
    "    p+=1\n",
    "#print(r)\n",
    "j=0\n",
    "w=\"\"\n",
    "while j<len(r):\n",
    "    if r[j]==\" \":\n",
    "        1+1\n",
    "    else:\n",
    "        w+=r[j]\n",
    "    j+=1\n",
    "print(w)\n",
    "#dot\n"
   ]
  },
  {
   "cell_type": "code",
   "execution_count": 162,
   "metadata": {},
   "outputs": [
    {
     "name": "stdout",
     "output_type": "stream",
     "text": [
      "a1b2c3\n"
     ]
    }
   ],
   "source": [
    "#144)i/p:-\"abc123\"\n",
    "#o/p:-\"a1b2c3\"\n",
    "s=\"abc123\"\n",
    "t=0\n",
    "p=\"\"\n",
    "n=\"\"\n",
    "while t<len(s):\n",
    "    if \"a\"<=s[t]<=\"z\":\n",
    "        p+=s[t]\n",
    "    else:\n",
    "        n+=s[t]\n",
    "    t+=1\n",
    "#print(p)\n",
    "#print(n)\n",
    "r=\"\"\n",
    "j=0\n",
    "while j<len(p):\n",
    "    r+=p[j]+n[j]\n",
    "    j+=1\n",
    "print(r)\n"
   ]
  },
  {
   "cell_type": "code",
   "execution_count": 174,
   "metadata": {},
   "outputs": [
    {
     "name": "stdout",
     "output_type": "stream",
     "text": [
      "a1b2c \n"
     ]
    }
   ],
   "source": [
    "#145)i/p:-\"abc12\"\n",
    "#o/p:-\"a1b2c\"\n",
    "s=\"abc12\"\n",
    "t=0\n",
    "p=\"\"\n",
    "n=\"\"\n",
    "while t<len(s):\n",
    "    if \"a\"<=s[t]<=\"z\":\n",
    "        p+=s[t]\n",
    "    else:\n",
    "        n+=s[t]\n",
    "    t+=1\n",
    "#print(p)\n",
    "i=n+\" \"\n",
    "#print(i)\n",
    "r=\"\"\n",
    "j=0\n",
    "while j<len(p):\n",
    "    r+=p[j]+i[j]\n",
    "    j+=1\n",
    "print(r)\n"
   ]
  },
  {
   "cell_type": "code",
   "execution_count": 166,
   "metadata": {},
   "outputs": [
    {
     "name": "stdout",
     "output_type": "stream",
     "text": [
      "a1b2c34\n"
     ]
    }
   ],
   "source": [
    "#146)i/p:-\"abc1234\"\n",
    "#o/p:-\"a1b2c34\"\n",
    "s=\"abc1234\"\n",
    "t=0\n",
    "p=\"\"\n",
    "n=\"\"\n",
    "while t<len(s):\n",
    "    if \"a\"<=s[t]<=\"z\":\n",
    "        p+=s[t]\n",
    "    else:\n",
    "        n+=s[t]\n",
    "    t+=1\n",
    "i=p+\" \"\n",
    "#print(i)\n",
    "#print(n)\n",
    "r=\"\"\n",
    "j=0\n",
    "while j<len(i):\n",
    "    r+=i[j]+n[j]\n",
    "    j+=1\n",
    "#print(r)\n",
    "z=0\n",
    "w=\"\"\n",
    "while z<len(r):\n",
    "    if r[z]==\" \":\n",
    "        1+1\n",
    "    else:\n",
    "        w+=r[z]\n",
    "    z+=1\n",
    "print(w)\n",
    "#dot"
   ]
  },
  {
   "cell_type": "code",
   "execution_count": 49,
   "metadata": {},
   "outputs": [
    {
     "name": "stdout",
     "output_type": "stream",
     "text": [
      "a 1\n",
      "b 2\n",
      "3 c\n"
     ]
    },
    {
     "ename": "IndexError",
     "evalue": "string index out of range",
     "output_type": "error",
     "traceback": [
      "\u001b[1;31m---------------------------------------------------------------------------\u001b[0m",
      "\u001b[1;31mIndexError\u001b[0m                                Traceback (most recent call last)",
      "Cell \u001b[1;32mIn[49], line 7\u001b[0m\n\u001b[0;32m      5\u001b[0m res\u001b[39m=\u001b[39m\u001b[39m\"\u001b[39m\u001b[39m\"\u001b[39m\n\u001b[0;32m      6\u001b[0m \u001b[39mwhile\u001b[39;00m i\u001b[39m<\u001b[39m\u001b[39mlen\u001b[39m(st):\n\u001b[1;32m----> 7\u001b[0m     \u001b[39mprint\u001b[39m(st[i\u001b[39m+\u001b[39;49m\u001b[39m1\u001b[39;49m],st[i])\n\u001b[0;32m      8\u001b[0m     i\u001b[39m+\u001b[39m\u001b[39m=\u001b[39m\u001b[39m2\u001b[39m\n\u001b[0;32m      9\u001b[0m \u001b[39mprint\u001b[39m(res)\n",
      "\u001b[1;31mIndexError\u001b[0m: string index out of range"
     ]
    }
   ],
   "source": [
    "#147)i/p:-\"1a2bc34\"\n",
    "#o/p:-\"a1b2c34\"\n",
    "st=\"1a2bc34\"\n",
    "i=0\n",
    "res=\"\"\n",
    "while i<len(st):\n",
    "    print(st[i+1],st[i])\n",
    "    i+=2\n",
    "print(res)\n",
    "#dot\n"
   ]
  },
  {
   "cell_type": "code",
   "execution_count": 175,
   "metadata": {},
   "outputs": [
    {
     "name": "stdout",
     "output_type": "stream",
     "text": [
      "3\n"
     ]
    }
   ],
   "source": [
    "#148)i/p:-\"abcdnmoijkl12yzabcd5\"\n",
    "#o/p:-3\n",
    "s=\"abcdnmoijkl12yzabcd5\"\n",
    "j=0\n",
    "c=0\n",
    "while j<len(s):\n",
    "    if \"0\"<=s[j]<=\"9\":\n",
    "        c+=1\n",
    "    j+=1\n",
    "print(c)"
   ]
  },
  {
   "cell_type": "code",
   "execution_count": null,
   "metadata": {},
   "outputs": [],
   "source": [
    "#149)i/p:-\"HAII HELLO\"\n",
    "#o/p:-\"HAII123 HE4LLO5\""
   ]
  },
  {
   "cell_type": "code",
   "execution_count": null,
   "metadata": {},
   "outputs": [],
   "source": [
    "#150)i/p:-\"HAII HELLO\"\n",
    "#o/p:-\"H1AII 2H3EL4L5O\""
   ]
  },
  {
   "cell_type": "code",
   "execution_count": null,
   "metadata": {},
   "outputs": [],
   "source": [
    "#151)wap to print all the string values present inside the list if the length of the string is odd under the first character\n",
    "# starts with a vowel "
   ]
  },
  {
   "cell_type": "code",
   "execution_count": null,
   "metadata": {},
   "outputs": [],
   "source": [
    "#152) wap for series i/p:-\"a3b2c4\" o/p:-\"aaabbcccc\""
   ]
  },
  {
   "cell_type": "code",
   "execution_count": null,
   "metadata": {},
   "outputs": [],
   "source": [
    "#153) wap for series i/p:-\"aaabbcccc\" o/p:-\"a3b2c4\""
   ]
  },
  {
   "cell_type": "code",
   "execution_count": null,
   "metadata": {},
   "outputs": [],
   "source": [
    "#154)wap frequency of each character in a given stirng when count is a prime number\n",
    "#i/p:-\"aaaaBBBcddddfffff\"  o/p:-(\"B3\",\"c1\",\"f5\")"
   ]
  },
  {
   "cell_type": "code",
   "execution_count": null,
   "metadata": {},
   "outputs": [],
   "source": [
    " #155)wap to swap neighbor char in string\n",
    " #i/p:-\"abcdefg\" o/p:-\"badcfeg\""
   ]
  },
  {
   "cell_type": "code",
   "execution_count": 234,
   "metadata": {},
   "outputs": [
    {
     "ename": "IndexError",
     "evalue": "list assignment index out of range",
     "output_type": "error",
     "traceback": [
      "\u001b[1;31m---------------------------------------------------------------------------\u001b[0m",
      "\u001b[1;31mIndexError\u001b[0m                                Traceback (most recent call last)",
      "Cell \u001b[1;32mIn[234], line 12\u001b[0m\n\u001b[0;32m     10\u001b[0m         pos\u001b[39m+\u001b[39m\u001b[39m=\u001b[39mst[j]\n\u001b[0;32m     11\u001b[0m         j\u001b[39m+\u001b[39m\u001b[39m=\u001b[39m\u001b[39m1\u001b[39m\n\u001b[1;32m---> 12\u001b[0m     l[s]\u001b[39m=\u001b[39mpos\n\u001b[0;32m     13\u001b[0m     s\u001b[39m+\u001b[39m\u001b[39m=\u001b[39m\u001b[39m1\u001b[39m\n\u001b[0;32m     14\u001b[0m \u001b[39mprint\u001b[39m(l)\n",
      "\u001b[1;31mIndexError\u001b[0m: list assignment index out of range"
     ]
    }
   ],
   "source": [
    "#156) wap to split the sentence in a given string \n",
    "# i/p:- \"haii how are you venu\" o/p:-[\"haii\",\"how\",\"are\",\"you\",\"venu\"]\n",
    "st=\"haii how are you venu\" \n",
    "s=0\n",
    "while s<len(st):\n",
    "    j=0\n",
    "    l=[]\n",
    "    pos=\"\"\n",
    "    while st[j]!=\" \":\n",
    "        pos+=st[j]\n",
    "        j+=1\n",
    "    l[s]=pos\n",
    "    s+=1\n",
    "print(l)\n",
    "\n",
    "#dot\n"
   ]
  },
  {
   "cell_type": "code",
   "execution_count": 232,
   "metadata": {},
   "outputs": [
    {
     "name": "stdout",
     "output_type": "stream",
     "text": [
      "hello 5\n",
      "world 5\n",
      "welcome 7\n",
      "to 2\n"
     ]
    },
    {
     "ename": "IndexError",
     "evalue": "string index out of range",
     "output_type": "error",
     "traceback": [
      "\u001b[1;31m---------------------------------------------------------------------------\u001b[0m",
      "\u001b[1;31mIndexError\u001b[0m                                Traceback (most recent call last)",
      "Cell \u001b[1;32mIn[232], line 9\u001b[0m\n\u001b[0;32m      7\u001b[0m c\u001b[39m=\u001b[39m\u001b[39m0\u001b[39m\n\u001b[0;32m      8\u001b[0m small\u001b[39m=\u001b[39m\u001b[39m0\u001b[39m\n\u001b[1;32m----> 9\u001b[0m \u001b[39mwhile\u001b[39;00m st[s]\u001b[39m!=\u001b[39m\u001b[39m\"\u001b[39m\u001b[39m \u001b[39m\u001b[39m\"\u001b[39m:\n\u001b[0;32m     10\u001b[0m     pos\u001b[39m+\u001b[39m\u001b[39m=\u001b[39mst[s]\n\u001b[0;32m     11\u001b[0m     c\u001b[39m+\u001b[39m\u001b[39m=\u001b[39m\u001b[39m1\u001b[39m\n",
      "\u001b[1;31mIndexError\u001b[0m: string index out of range"
     ]
    }
   ],
   "source": [
    "#157)find out the longest word in the string below\n",
    "#sentence=\"hello world welcome to pyhton\"\n",
    "st=\"hello world welcome to pyhton\"\n",
    "s=0\n",
    "while s<len(st):\n",
    "    pos=\"\"\n",
    "    c=0\n",
    "    small=0\n",
    "    while st[s]!=\" \":\n",
    "        pos+=st[s]\n",
    "        c+=1\n",
    "        s+=1\n",
    "    if small<c:\n",
    "        small=c\n",
    "        print(pos,c)\n",
    "    s+=1\n",
    "\n",
    "#dot"
   ]
  }
 ],
 "metadata": {
  "kernelspec": {
   "display_name": "Python 3",
   "language": "python",
   "name": "python3"
  },
  "language_info": {
   "codemirror_mode": {
    "name": "ipython",
    "version": 3
   },
   "file_extension": ".py",
   "mimetype": "text/x-python",
   "name": "python",
   "nbconvert_exporter": "python",
   "pygments_lexer": "ipython3",
   "version": "3.11.4"
  },
  "orig_nbformat": 4
 },
 "nbformat": 4,
 "nbformat_minor": 2
}
