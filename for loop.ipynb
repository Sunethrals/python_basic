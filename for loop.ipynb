{
 "cells": [
  {
   "cell_type": "code",
   "execution_count": 5,
   "metadata": {},
   "outputs": [
    {
     "name": "stdout",
     "output_type": "stream",
     "text": [
      "l\n",
      "l\n",
      "o\n",
      " \n",
      "e\n",
      "v\n",
      "e\n"
     ]
    }
   ],
   "source": [
    "#2)wap to print all the items present in the string between the range from m to n\n",
    "\n",
    "st=\"hello everyone welcome\"\n",
    "m=eval(input(\"enterstartingrange:\"))\n",
    "n=eval(input(\"enterendingrange:\"))\n",
    "for i in range(m,n):\n",
    "    print(st[i])\n"
   ]
  },
  {
   "cell_type": "code",
   "execution_count": 6,
   "metadata": {},
   "outputs": [
    {
     "name": "stdout",
     "output_type": "stream",
     "text": [
      "H\n",
      "O\n",
      "W\n",
      "M\n",
      "E\n"
     ]
    }
   ],
   "source": [
    "#3) wap to print the uppercase character in a given sting\n",
    "st=\"HellO WlcoME\"\n",
    "for i in st:\n",
    "    if \"A\"<=i<=\"Z\":\n",
    "        print(i)"
   ]
  },
  {
   "cell_type": "code",
   "execution_count": 7,
   "metadata": {},
   "outputs": [
    {
     "name": "stdout",
     "output_type": "stream",
     "text": [
      "e\n",
      "l\n",
      "l\n",
      "l\n",
      "c\n",
      "o\n"
     ]
    }
   ],
   "source": [
    "#4) wap to print the lowercase character in a given sting\n",
    "st=\"HellO WlcoME\"\n",
    "for i in st:\n",
    "    if \"a\"<=i<=\"z\":\n",
    "        print(i)"
   ]
  },
  {
   "cell_type": "code",
   "execution_count": 15,
   "metadata": {},
   "outputs": [
    {
     "name": "stdout",
     "output_type": "stream",
     "text": [
      "9\n",
      "4\n",
      "7\n"
     ]
    }
   ],
   "source": [
    "#5) wap to print ascii numbers(digits)characters in a given string\n",
    "st=\"hell9oev4er7one\"\n",
    "for i in st:\n",
    "    if \"0\"<=i<=\"9\":\n",
    "        print(i)"
   ]
  },
  {
   "cell_type": "code",
   "execution_count": 14,
   "metadata": {},
   "outputs": [
    {
     "name": "stdout",
     "output_type": "stream",
     "text": [
      "(\n",
      "^\n",
      "$\n",
      ")\n"
     ]
    }
   ],
   "source": [
    "#6)wap to print special characters in given string\n",
    "st=\"hell(owl^co$)\"\n",
    "for i in st:\n",
    "    if not(\"a\"<=i<=\"z\" or \"A\"<=i<=\"Z\" or \"0\"<=i<=\"9\"):\n",
    "        print(i)"
   ]
  },
  {
   "cell_type": "code",
   "execution_count": 8,
   "metadata": {},
   "outputs": [
    {
     "name": "stdout",
     "output_type": "stream",
     "text": [
      "e\n",
      "o\n"
     ]
    }
   ],
   "source": [
    "#7) wap to print the vowels in a given sting\n",
    "st=\"hello\"\n",
    "for i in st:\n",
    "    if i in \"aeiouAEIOU\":\n",
    "        print(i)"
   ]
  },
  {
   "cell_type": "code",
   "execution_count": 9,
   "metadata": {},
   "outputs": [
    {
     "name": "stdout",
     "output_type": "stream",
     "text": [
      "h\n",
      "l\n",
      "l\n"
     ]
    }
   ],
   "source": [
    "#8) wap to print the consonants in a given sting\n",
    "st=\"hello\"\n",
    "for i in st:\n",
    "    if i not in \"aeiouAEIOU\":\n",
    "        print(i)"
   ]
  },
  {
   "cell_type": "code",
   "execution_count": 10,
   "metadata": {},
   "outputs": [
    {
     "name": "stdout",
     "output_type": "stream",
     "text": [
      "olleh\n"
     ]
    }
   ],
   "source": [
    "#9)wap to print the reverse of the characters in a given string\n",
    "st=\"hello\"\n",
    "res=\"\"     \n",
    "for i in st:\n",
    "    res=i+res\n",
    "print(res)"
   ]
  },
  {
   "cell_type": "code",
   "execution_count": 3,
   "metadata": {},
   "outputs": [
    {
     "name": "stdout",
     "output_type": "stream",
     "text": [
      "h\n",
      "l\n",
      "o\n",
      "e\n",
      "e\n",
      "y\n",
      "n\n",
      "7\n"
     ]
    }
   ],
   "source": [
    "#10)wap to print even position values character in a given string\n",
    "st=\"hello everyone\"\n",
    "for j in range(0,len(st)):\n",
    "    if j%2==0:\n",
    "        print(st[j])"
   ]
  },
  {
   "cell_type": "code",
   "execution_count": 4,
   "metadata": {},
   "outputs": [
    {
     "name": "stdout",
     "output_type": "stream",
     "text": [
      "e\n",
      "l\n",
      " \n",
      "v\n",
      "r\n",
      "o\n",
      "e\n"
     ]
    }
   ],
   "source": [
    "#11)wap to print odd position values character in a given string\n",
    "st=\"hello everyone\"\n",
    "for j in range(0,len(st)):\n",
    "    if j%2!=0:\n",
    "        print(st[j])"
   ]
  },
  {
   "cell_type": "code",
   "execution_count": 8,
   "metadata": {},
   "outputs": [
    {
     "name": "stdout",
     "output_type": "stream",
     "text": [
      "14\n"
     ]
    }
   ],
   "source": [
    "#12) wap to count the total Number of characters in a given string(with length function)\n",
    "st=\"hello everyone\"\n",
    "c=0\n",
    "for j in range(0,len(st)):\n",
    "    c+=1\n",
    "print(c)"
   ]
  },
  {
   "cell_type": "code",
   "execution_count": 9,
   "metadata": {},
   "outputs": [
    {
     "name": "stdout",
     "output_type": "stream",
     "text": [
      "14\n"
     ]
    }
   ],
   "source": [
    "#13) wap to count the total Number of characters in a given string(without length function)\n",
    "st=\"hello everyone\"\n",
    "c=0\n",
    "for j in st:\n",
    "    c+=1\n",
    "print(c)"
   ]
  },
  {
   "cell_type": "code",
   "execution_count": 10,
   "metadata": {},
   "outputs": [
    {
     "name": "stdout",
     "output_type": "stream",
     "text": [
      "13\n"
     ]
    }
   ],
   "source": [
    "#14)wap to count alphabets in a given string\n",
    "st=\"HeLl(o) EveryOnE\"\n",
    "c=0\n",
    "for i in st:\n",
    "    if \"a\"<=i<=\"z\" or \"A\"<=i<=\"Z\":\n",
    "        c+=1\n",
    "print(c)"
   ]
  },
  {
   "cell_type": "code",
   "execution_count": 11,
   "metadata": {},
   "outputs": [
    {
     "name": "stdout",
     "output_type": "stream",
     "text": [
      "5\n"
     ]
    }
   ],
   "source": [
    "#15)wap to count Number of Uppercase in a given string\n",
    "st=\"HeLl(o) EveryOnE\"\n",
    "c=0\n",
    "for i in st:\n",
    "    if  \"A\"<=i<=\"Z\":\n",
    "        c+=1\n",
    "print(c)"
   ]
  },
  {
   "cell_type": "code",
   "execution_count": 12,
   "metadata": {},
   "outputs": [
    {
     "name": "stdout",
     "output_type": "stream",
     "text": [
      "8\n"
     ]
    }
   ],
   "source": [
    "#16)wap to count lowercase in a given string\n",
    "st=\"HeLl(o) EveryOnE\"\n",
    "c=0\n",
    "for i in st:\n",
    "    if  \"a\"<=i<=\"z\":\n",
    "        c+=1\n",
    "print(c)"
   ]
  },
  {
   "cell_type": "code",
   "execution_count": 14,
   "metadata": {},
   "outputs": [
    {
     "name": "stdout",
     "output_type": "stream",
     "text": [
      "3\n"
     ]
    }
   ],
   "source": [
    "#17)wap to count Number of special symbols  in a given string\n",
    "st=\"HeLl(o) EveryOnE\"\n",
    "c=0\n",
    "for i in st:\n",
    "    if not(\"a\"<=i<=\"z\" or \"A\"<=i<=\"Z\" or \"0\"<=i<=\"9\") :\n",
    "        c+=1\n",
    "print(c)"
   ]
  },
  {
   "cell_type": "code",
   "execution_count": 13,
   "metadata": {},
   "outputs": [
    {
     "name": "stdout",
     "output_type": "stream",
     "text": [
      "13\n"
     ]
    }
   ],
   "source": [
    "#18)wap to count uppercase and lowercase in a given string\n",
    "st=\"HeLl(o) EveryOnE\"\n",
    "c=0\n",
    "for i in st:\n",
    "    if \"a\"<=i<=\"z\" or \"A\"<=i<=\"Z\":\n",
    "        c+=1\n",
    "print(c)"
   ]
  },
  {
   "cell_type": "code",
   "execution_count": 15,
   "metadata": {},
   "outputs": [
    {
     "name": "stdout",
     "output_type": "stream",
     "text": [
      "3\n"
     ]
    }
   ],
   "source": [
    "#19)wap to count ascii numbers in a given string\n",
    "st=\"H9eLl(o) E4veryO8nE\"\n",
    "c=0\n",
    "for i in st:\n",
    "    if \"0\"<=i<=\"9\":\n",
    "        c+=1\n",
    "print(c)"
   ]
  },
  {
   "cell_type": "code",
   "execution_count": 24,
   "metadata": {},
   "outputs": [
    {
     "name": "stdout",
     "output_type": "stream",
     "text": [
      "5\n"
     ]
    }
   ],
   "source": [
    "#20) wap to count total number of words in a string\n",
    "st=\"hello everyone welcome to all \"\n",
    "l=[]\n",
    "res=\"\"\n",
    "for i in st:\n",
    "    if i!=\" \":\n",
    "        res+=i\n",
    "    else:\n",
    "        l+=[res]\n",
    "        res=\"\"\n",
    "if len(res)!=0:\n",
    "    l+=[res]\n",
    "print(len(l),)"
   ]
  },
  {
   "cell_type": "code",
   "execution_count": 26,
   "metadata": {},
   "outputs": [
    {
     "name": "stdout",
     "output_type": "stream",
     "text": [
      "4\n"
     ]
    }
   ],
   "source": [
    "#21) wap to count total number of words in a string\n",
    "st=\"hello everyone welcome to all\"\n",
    "c=0\n",
    "for i in st:\n",
    "    if i==\" \":\n",
    "        c+=1\n",
    "print(c)"
   ]
  },
  {
   "cell_type": "code",
   "execution_count": 27,
   "metadata": {},
   "outputs": [
    {
     "name": "stdout",
     "output_type": "stream",
     "text": [
      "2\n"
     ]
    }
   ],
   "source": [
    "#22)wap to count  vowels in a given sting\n",
    "st=\"hello\"\n",
    "c=0\n",
    "for i in st:\n",
    "    if i in \"aeiouAEIOU\":\n",
    "        c+=1\n",
    "print(c)"
   ]
  },
  {
   "cell_type": "code",
   "execution_count": 28,
   "metadata": {},
   "outputs": [
    {
     "name": "stdout",
     "output_type": "stream",
     "text": [
      "3\n"
     ]
    }
   ],
   "source": [
    "#23)wap to count  consonants in a given sting\n",
    "st=\"hello\"\n",
    "c=0\n",
    "for i in st:\n",
    "    if i  not in \"aeiouAEIOU\":\n",
    "        c+=1\n",
    "print(c)"
   ]
  },
  {
   "cell_type": "code",
   "execution_count": 29,
   "metadata": {},
   "outputs": [
    {
     "name": "stdout",
     "output_type": "stream",
     "text": [
      "5\n"
     ]
    }
   ],
   "source": [
    "#24)wap to count  vowels and consonants in a given sting\n",
    "st=\"hello\"\n",
    "c=0\n",
    "for i in st:\n",
    "    if i in \"aeiouAEIOU\" or i not in \"aeiouAEIOU\":\n",
    "        c+=1\n",
    "print(c)"
   ]
  },
  {
   "cell_type": "code",
   "execution_count": 5,
   "metadata": {},
   "outputs": [
    {
     "name": "stdout",
     "output_type": "stream",
     "text": [
      "2\n"
     ]
    }
   ],
   "source": [
    "#25)wap to count Number of new lines in a given string\n",
    "st=\"hello\\nhi \\neverone\"\n",
    "c=0\n",
    "for i in st:\n",
    "    if i==\"\\n\":\n",
    "        c+=1\n",
    "print(c)"
   ]
  },
  {
   "cell_type": "code",
   "execution_count": 6,
   "metadata": {},
   "outputs": [
    {
     "name": "stdout",
     "output_type": "stream",
     "text": [
      "3\n"
     ]
    }
   ],
   "source": [
    "#26)wap to count Number of lines in a given string\n",
    "st=\"hello\\nhi \\neverone\"\n",
    "c=0\n",
    "for i in st:\n",
    "    if i==\"\\n\":\n",
    "        c+=1\n",
    "print(c+1)"
   ]
  },
  {
   "cell_type": "code",
   "execution_count": 7,
   "metadata": {},
   "outputs": [
    {
     "name": "stdout",
     "output_type": "stream",
     "text": [
      "no.of alphabet are 10\n",
      "no.of number are 2\n",
      "no.of special symbol are 5\n"
     ]
    }
   ],
   "source": [
    "#27)wap to count no of alphabtes,numbers,and special characters in a given string\n",
    "st=\"he1+llo) wo(r6l@d\"\n",
    "a=0\n",
    "n=0\n",
    "sp=0\n",
    "for i in st:\n",
    "    if \"a\"<=i<=\"z\" or \"A\"<=i<=\"Z\":\n",
    "        a+=1\n",
    "    elif \"0\"<=i<=\"9\":\n",
    "        n+=1\n",
    "    else:\n",
    "        sp+=1\n",
    "print(\"no.of alphabet are\",a)\n",
    "print(\"no.of number are\",n)\n",
    "print(\"no.of special symbol are\",sp)"
   ]
  },
  {
   "cell_type": "code",
   "execution_count": 27,
   "metadata": {},
   "outputs": [
    {
     "name": "stdout",
     "output_type": "stream",
     "text": [
      "3\n"
     ]
    }
   ],
   "source": [
    "#28)wap t count total no of words in a first line of the doc string\n",
    "st=\"hello world everyone\\nhi \\neverone\"\n",
    "c=0\n",
    "res=\"\"\n",
    "l=[]\n",
    "for i in st:\n",
    "    if i!=\" \":\n",
    "        res+=i\n",
    "        if i==\"\\n\":\n",
    "            break\n",
    "    else:\n",
    "        l+=[res]\n",
    "        res=\"\"\n",
    "if len(res)!=0:-------------------\n",
    "    l+=[res]\n",
    "print(len(l))\n",
    "\n",
    "# st=\"hello world everyone\\nhi \\neverone\"\n",
    "# c=0\n",
    "# res=\"\"\n",
    "# for i in st:\n",
    "#     if i!=\" \":\n",
    "#         res+=i\n",
    "#         if i==\"\\n\":\n",
    "#             break\n",
    "#     else:\n",
    "#         c+=1\n",
    "#         res=\"\"\n",
    "# if len(res)!=0:\n",
    "#     c+=1\n",
    "# print(c)"
   ]
  },
  {
   "cell_type": "code",
   "execution_count": 15,
   "metadata": {},
   "outputs": [
    {
     "name": "stdout",
     "output_type": "stream",
     "text": [
      "20\n"
     ]
    }
   ],
   "source": [
    "#29)wap to sum of digits in a given string\n",
    "st=\"hell9oev4er7one\"\n",
    "sum=0\n",
    "for i in st:\n",
    "    if \"0\"<=i<=\"9\":\n",
    "        sum+=int(i)\n",
    "print(sum)"
   ]
  },
  {
   "cell_type": "code",
   "execution_count": 14,
   "metadata": {},
   "outputs": [
    {
     "name": "stdout",
     "output_type": "stream",
     "text": [
      "c\n"
     ]
    }
   ],
   "source": [
    "#30)wap to print first occurrence of a character in a string\n",
    "st='cabcabb'\n",
    "uni=''\n",
    "dup=''\n",
    "for i in st:\n",
    "    if i not in uni:\n",
    "        uni+=i\n",
    "    else:\n",
    "        dup+=i\n",
    "# print(uni)\n",
    "# print(dup)\n",
    "print(dup[0])\n",
    "#dot"
   ]
  },
  {
   "cell_type": "code",
   "execution_count": 16,
   "metadata": {},
   "outputs": [
    {
     "name": "stdout",
     "output_type": "stream",
     "text": [
      "c\n"
     ]
    }
   ],
   "source": [
    "#31)wap to print last occurrence of a character in a string\n",
    "st='abcabbc'\n",
    "uni=''\n",
    "dup=''\n",
    "for i in st:\n",
    "    if i not in uni:\n",
    "        uni+=i\n",
    "    else:\n",
    "        dup+=i\n",
    "# print(uni)\n",
    "# print(dup)\n",
    "print(dup[-1])\n",
    "#dot"
   ]
  },
  {
   "cell_type": "code",
   "execution_count": null,
   "metadata": {},
   "outputs": [],
   "source": [
    "#32)wap to print not first occurrence of a character in a string"
   ]
  },
  {
   "cell_type": "code",
   "execution_count": null,
   "metadata": {},
   "outputs": [],
   "source": [
    "#33)wap to print last not occurrence of a character in a string"
   ]
  },
  {
   "cell_type": "code",
   "execution_count": null,
   "metadata": {},
   "outputs": [],
   "source": [
    "#34)wap to remove first occurence of a character in a string\n"
   ]
  },
  {
   "cell_type": "code",
   "execution_count": null,
   "metadata": {},
   "outputs": [],
   "source": [
    "#35)wap to remove last occurred character in a sting"
   ]
  },
  {
   "cell_type": "code",
   "execution_count": 17,
   "metadata": {},
   "outputs": [
    {
     "name": "stdout",
     "output_type": "stream",
     "text": [
      "2\n"
     ]
    }
   ],
   "source": [
    "#36)wap to count the occurred of specific character in a given string\n",
    "st='hello'\n",
    "n='l'\n",
    "c=0\n",
    "for i in st:\n",
    "    if n==i:\n",
    "        c+=1\n",
    "print(c)"
   ]
  },
  {
   "cell_type": "code",
   "execution_count": null,
   "metadata": {},
   "outputs": [],
   "source": [
    "#37)wap to count max occurrence of a character in a given string\n"
   ]
  },
  {
   "cell_type": "code",
   "execution_count": null,
   "metadata": {},
   "outputs": [],
   "source": [
    "#38)wap to count min occurrence of a character in a given string"
   ]
  },
  {
   "cell_type": "code",
   "execution_count": 18,
   "metadata": {},
   "outputs": [
    {
     "name": "stdout",
     "output_type": "stream",
     "text": [
      "1\n"
     ]
    }
   ],
   "source": [
    "#39)wap to count the repeats of a specific character in a given string\n",
    "st='hello'\n",
    "n='l'\n",
    "c=0\n",
    "for i in st:\n",
    "    if n==i:\n",
    "        c+=1\n",
    "print(c-1)"
   ]
  },
  {
   "cell_type": "code",
   "execution_count": null,
   "metadata": {},
   "outputs": [],
   "source": [
    "#40)wap to count the max repeated character in a given string\n"
   ]
  },
  {
   "cell_type": "code",
   "execution_count": null,
   "metadata": {},
   "outputs": [],
   "source": [
    "#41)wap to count the min repeated character in a given string"
   ]
  },
  {
   "cell_type": "code",
   "execution_count": 20,
   "metadata": {},
   "outputs": [
    {
     "name": "stdout",
     "output_type": "stream",
     "text": [
      "good mor@i@g\n"
     ]
    }
   ],
   "source": [
    "#42)wap to replace specific character into a new character\n",
    "st='good morning'\n",
    "sp='n'\n",
    "n='@'\n",
    "res=''\n",
    "for i in st:\n",
    "    if i==sp:\n",
    "        res+=n\n",
    "    else:\n",
    "        res+=i\n",
    "print(res)"
   ]
  },
  {
   "cell_type": "code",
   "execution_count": 21,
   "metadata": {},
   "outputs": [
    {
     "name": "stdout",
     "output_type": "stream",
     "text": [
      "HELLO WORLD\n"
     ]
    }
   ],
   "source": [
    "#43)wap to convert lowercase to uppercase in a given string\n",
    "st='heLlO WorlD'\n",
    "res=''\n",
    "for i in st:\n",
    "    if 'a'<=i<='z':\n",
    "        res+=chr(ord(i)-32)\n",
    "    else:\n",
    "        res+=i\n",
    "print(res)"
   ]
  },
  {
   "cell_type": "code",
   "execution_count": 22,
   "metadata": {},
   "outputs": [
    {
     "name": "stdout",
     "output_type": "stream",
     "text": [
      "hello world\n"
     ]
    }
   ],
   "source": [
    "#44)wap to convert uppercase to lowercase in a given string\n",
    "st='heLlO WorlD'\n",
    "res=''\n",
    "for i in st:\n",
    "    if 'A'<=i<='Z':\n",
    "        res+=chr(ord(i)+32)\n",
    "    else:\n",
    "        res+=i\n",
    "print(res)"
   ]
  },
  {
   "cell_type": "code",
   "execution_count": 26,
   "metadata": {},
   "outputs": [
    {
     "name": "stdout",
     "output_type": "stream",
     "text": [
      "hello world\n"
     ]
    }
   ],
   "source": [
    "#45)wap to convert uppercase to lowercase in even position characters in a given string\n",
    "st='heLlO WorlD'\n",
    "res=''\n",
    "for i in range(0,len(st)):\n",
    "    if i%2==0:\n",
    "        if 'A'<=st[i]<='Z':\n",
    "            res+=chr(ord(st[i])+32)\n",
    "        else:\n",
    "            res+=st[i]\n",
    "    else:\n",
    "        res+=st[i]\n",
    "print(res)"
   ]
  },
  {
   "cell_type": "code",
   "execution_count": 27,
   "metadata": {},
   "outputs": [
    {
     "name": "stdout",
     "output_type": "stream",
     "text": [
      "heLlO WorlD\n"
     ]
    }
   ],
   "source": [
    "#46)wap to convert uppercase to lowercase in odd position characters in a given string\n",
    "st='heLlO WorlD'\n",
    "res=''\n",
    "for i in range(0,len(st)):\n",
    "    if i%2!=0:\n",
    "        if 'A'<=st[i]<='Z':\n",
    "            res+=chr(ord(st[i])+32)\n",
    "        else:\n",
    "            res+=st[i]\n",
    "    else:\n",
    "        res+=st[i]\n",
    "print(res)"
   ]
  },
  {
   "cell_type": "code",
   "execution_count": 5,
   "metadata": {},
   "outputs": [
    {
     "name": "stdout",
     "output_type": "stream",
     "text": [
      "H*El*Lo*wOR*Ld\n"
     ]
    }
   ],
   "source": [
    "#47)wap to convert the uppercase letter to lowercase letter and lowercase letter  to uppercase letter,\n",
    "#if the character is specialsymbol replace with * for the given input string \n",
    "st='h$eL%lO Wor&lD'\n",
    "res=''\n",
    "for i in st:\n",
    "    if \"A\"<=i<=\"Z\":\n",
    "        res+=chr(ord(i)+32)\n",
    "    elif 'a'<=i<='z':\n",
    "        res+=chr(ord(i)-32)\n",
    "    elif not('0'<=i<='9'):\n",
    "        res+='*'\n",
    "print(res)"
   ]
  },
  {
   "cell_type": "code",
   "execution_count": 2,
   "metadata": {},
   "outputs": [
    {
     "name": "stdout",
     "output_type": "stream",
     "text": [
      "H$El%Lo W4O&Ld\n"
     ]
    }
   ],
   "source": [
    "#48)wap to convert title case in a given string\n",
    "st='h$epL%lO w4or&lD'\n",
    "res=''\n",
    "if 'a'<=st[0]<='z':\n",
    "    res+=chr(ord(st[0])-32)\n",
    "for i in range(1,len(st)):\n",
    "    if not(\"a\"<=st[i]<='z' or \"A\"<=st[i]<=\"Z\"):\n",
    "        res+=st[i]\n",
    "        #print(i)\n",
    "        if (\"a\"<=st[i+1]<='z'):\n",
    "            res+=chr(ord(st[i+1])-32)\n",
    "        else:\n",
    "            res+=st[i+1]\n",
    "    elif 'A'<=st[i]<='Z':\n",
    "        res+=chr(ord(st[i])+32)\n",
    "print(res)\n",
    "#dot samll characters are not storing has it is"
   ]
  },
  {
   "cell_type": "code",
   "execution_count": 74,
   "metadata": {},
   "outputs": [
    {
     "name": "stdout",
     "output_type": "stream",
     "text": [
      "hello_world_\n"
     ]
    }
   ],
   "source": [
    "#49)wap to convet snake case in a given string\n",
    "st='heLLo WorlD'\n",
    "re=''\n",
    "for i in st:\n",
    "    if 'A'<=i<='Z':\n",
    "        re+=chr(ord(i)+32)\n",
    "    elif i==' ':\n",
    "        re+='_'\n",
    "    else:\n",
    "        re+=i\n",
    "print(re)"
   ]
  },
  {
   "cell_type": "code",
   "execution_count": 75,
   "metadata": {},
   "outputs": [
    {
     "name": "stdout",
     "output_type": "stream",
     "text": [
      "H$El%Lo wOR&Ld\n"
     ]
    }
   ],
   "source": [
    "#50)wap to toggle character case in a string\n",
    "st='h$eL%lO Wor&lD'\n",
    "res=''\n",
    "for i in st:\n",
    "    if \"A\"<=i<=\"Z\":\n",
    "        res+=chr(ord(i)+32)\n",
    "    elif 'a'<=i<='z':\n",
    "        res+=chr(ord(i)-32)\n",
    "    else:\n",
    "        res+=i\n",
    "print(res)"
   ]
  },
  {
   "cell_type": "code",
   "execution_count": 3,
   "metadata": {},
   "outputs": [
    {
     "name": "stdout",
     "output_type": "stream",
     "text": [
      "h101ll111 w79rld\n"
     ]
    }
   ],
   "source": [
    "#51)wap to replace vowels into ascii values in a given string(both with and without temp variables)\n",
    "st='hello wOrld'\n",
    "res=''\n",
    "for i in st:\n",
    "    if i in 'aeiouAEIOU':\n",
    "        res+=str(ord(i))\n",
    "    else:\n",
    "        res+=i\n",
    "print(res)\n",
    "\n",
    "# for i in st:\n",
    "#     if i in 'aeiouAEIOU':\n",
    "#         st+=str(ord(i))\n",
    "#     else:\n",
    "#         st+=i\n",
    "# print(st)"
   ]
  },
  {
   "cell_type": "code",
   "execution_count": 4,
   "metadata": {},
   "outputs": [
    {
     "name": "stdout",
     "output_type": "stream",
     "text": [
      "104e108108o32119O114108100\n"
     ]
    }
   ],
   "source": [
    "#52)wap to replace consonants into ascii values in a given string(both with and without temp variables)\n",
    "st='hello wOrld'\n",
    "res=''\n",
    "for i in st:\n",
    "    if i not in 'aeiouAEIOU':\n",
    "        res+=str(ord(i))\n",
    "    else:\n",
    "        res+=i\n",
    "print(res)\n",
    "\n",
    "# for i in st:\n",
    "#     if i not in 'aeiouAEIOU':\n",
    "#         st+=str(ord(i))\n",
    "#     else:\n",
    "#         st+=i\n",
    "# print(st)"
   ]
  },
  {
   "cell_type": "code",
   "execution_count": 7,
   "metadata": {},
   "outputs": [
    {
     "name": "stdout",
     "output_type": "stream",
     "text": [
      "hel108o32wOr108d\n"
     ]
    }
   ],
   "source": [
    "#53)wap to replace consonants to  ascii values in odd position characters in a given string(both with and without temp \n",
    "#variables)\n",
    "st='hello wOrld'\n",
    "res=''\n",
    "for i in range(0,len(st)):\n",
    "    if st[i] not in 'aeiouAEIOU':\n",
    "        if i%2!=0:\n",
    "            res+=str(ord(st[i]))\n",
    "        else:\n",
    "            res+=st[i]\n",
    "    else:\n",
    "        res+=st[i]\n",
    "print(res)"
   ]
  },
  {
   "cell_type": "code",
   "execution_count": 8,
   "metadata": {},
   "outputs": [
    {
     "name": "stdout",
     "output_type": "stream",
     "text": [
      "hell111 wOrld\n"
     ]
    }
   ],
   "source": [
    "#54)wap to replace vowels to  ascii values in even position characters in a given string(both with and without temp \n",
    "#variables)54)\n",
    "st='hello wOrld'\n",
    "res=''\n",
    "for i in range(0,len(st)):\n",
    "    if st[i] in 'aeiouAEIOU':\n",
    "        if i%2==0:\n",
    "            res+=str(ord(st[i]))\n",
    "        else:\n",
    "            res+=st[i]\n",
    "    else:\n",
    "        res+=st[i]\n",
    "print(res)"
   ]
  },
  {
   "cell_type": "code",
   "execution_count": 11,
   "metadata": {},
   "outputs": [
    {
     "name": "stdout",
     "output_type": "stream",
     "text": [
      "hello_wOrld\n"
     ]
    }
   ],
   "source": [
    "#55)wap to replace white space with Hyphen in a string(both with and without temp variable)\n",
    "st='hello wOrld'\n",
    "res=''\n",
    "for i in st:\n",
    "    if i==' ':\n",
    "        res+='_'\n",
    "    else:\n",
    "        res+=i\n",
    "print(res)\n"
   ]
  },
  {
   "cell_type": "code",
   "execution_count": 13,
   "metadata": {},
   "outputs": [
    {
     "name": "stdout",
     "output_type": "stream",
     "text": [
      "hlowrd\n"
     ]
    }
   ],
   "source": [
    "#56)wap to remove odd positions characters in a given string\n",
    "st='hello wOrld'\n",
    "res=''\n",
    "for i in range(0,len(st)):\n",
    "    if not(i%2!=0):\n",
    "        res+=st[i]\n",
    "print(res)"
   ]
  },
  {
   "cell_type": "code",
   "execution_count": 15,
   "metadata": {},
   "outputs": [
    {
     "name": "stdout",
     "output_type": "stream",
     "text": [
      "el Ol\n"
     ]
    }
   ],
   "source": [
    "#57)wap to remove even positions characters in a given string\n",
    "st='hello wOrld'\n",
    "res=''\n",
    "for i in range(0,len(st)):\n",
    "    if not(i%2==0):\n",
    "        res+=st[i]\n",
    "print(res)"
   ]
  },
  {
   "cell_type": "code",
   "execution_count": 17,
   "metadata": {},
   "outputs": [
    {
     "name": "stdout",
     "output_type": "stream",
     "text": [
      "2324 5621\n"
     ]
    }
   ],
   "source": [
    "#58)wap to remove alphabets  in a given string\n",
    "st='hel2324lo wO56rl21d'\n",
    "res=''\n",
    "for i in st:\n",
    "    if not('a'<=i<='z' or \"A\"<=i<=\"Z\"):\n",
    "        res+=i\n",
    "print(res)"
   ]
  },
  {
   "cell_type": "code",
   "execution_count": 18,
   "metadata": {},
   "outputs": [
    {
     "name": "stdout",
     "output_type": "stream",
     "text": [
      "hello wOrld\n"
     ]
    }
   ],
   "source": [
    "#59)wap to remove ascii numbers in a given string\n",
    "st='hel2324lo wO56rl21d'\n",
    "res=''\n",
    "for i in st:\n",
    "    if not('0'<=i<='9'):\n",
    "        res+=i\n",
    "print(res)"
   ]
  },
  {
   "cell_type": "code",
   "execution_count": 19,
   "metadata": {},
   "outputs": [
    {
     "name": "stdout",
     "output_type": "stream",
     "text": [
      "hel2lowO56rl21d\n"
     ]
    }
   ],
   "source": [
    "#60)wap to remove special chacters in a given string\n",
    "st='h*el2lo w(O56rl2#1d'\n",
    "res=''\n",
    "for i in st:\n",
    "    if ('a'<=i<='z' or \"A\"<=i<=\"Z\" or '0'<=i<='9'):\n",
    "        res+=i\n",
    "print(res)"
   ]
  },
  {
   "cell_type": "code",
   "execution_count": 31,
   "metadata": {},
   "outputs": [
    {
     "name": "stdout",
     "output_type": "stream",
     "text": [
      "given srting is not palindrome\n"
     ]
    }
   ],
   "source": [
    "#61)wap to check whether the given string is palindrome or not\n",
    "st='123921'\n",
    "res=''\n",
    "for i in range(0,len(st)):\n",
    "    res=st[i]+res\n",
    "if res==st:\n",
    "    print(\"given string is palindrome\")\n",
    "else:\n",
    "    print(\"given srting is not palindrome\")"
   ]
  },
  {
   "cell_type": "code",
   "execution_count": 33,
   "metadata": {},
   "outputs": [
    {
     "name": "stdout",
     "output_type": "stream",
     "text": [
      "given string is lowercase \n"
     ]
    }
   ],
   "source": [
    "#62)wap to check whether the given string is lowercase or not\n",
    "st='helloworld'\n",
    "c=0\n",
    "for i in st:\n",
    "    if \"a\"<=i<='z':\n",
    "        c+=1\n",
    "if c==len(st):\n",
    "    print('given string is lowercase ')\n",
    "else:\n",
    "    print('given string is not an lowercase')\n",
    "\n",
    "# if we give space between words it will give not an lowercase"
   ]
  },
  {
   "cell_type": "code",
   "execution_count": 20,
   "metadata": {},
   "outputs": [
    {
     "name": "stdout",
     "output_type": "stream",
     "text": [
      "given number is string\n"
     ]
    }
   ],
   "source": [
    "#63)wap to check whether the given number is string or not\n",
    "st='hel2324lo wO56rl21d'\n",
    "if type(st)==str:\n",
    "    print(\"given number is string\")\n",
    "else:\n",
    "    print(\"given number is not string\")"
   ]
  },
  {
   "cell_type": "code",
   "execution_count": 6,
   "metadata": {},
   "outputs": [
    {
     "name": "stdout",
     "output_type": "stream",
     "text": [
      "eoo123aii\n"
     ]
    }
   ],
   "source": [
    "#64)i/p:-'hello world 123 haii' o/p:-'eoo123aii'\n",
    "st='hello world 123 haii'\n",
    "res=''\n",
    "for i in st:\n",
    "    if (i in 'aeiouAEIOU') or ('0'<=i<='9'):\n",
    "        res+=i\n",
    "print(res)"
   ]
  },
  {
   "cell_type": "code",
   "execution_count": 7,
   "metadata": {},
   "outputs": [
    {
     "name": "stdout",
     "output_type": "stream",
     "text": [
      "eo o 123 aii\n"
     ]
    }
   ],
   "source": [
    "#65)i/p:-'hello world 123 haii' o/p:-'eo o 123 aii'\n",
    "st='hello world 123 haii'\n",
    "res=''\n",
    "for i in st:\n",
    "    if (i in 'aeiouAEIOU') or not('a'<=i<='z' or 'A'<=i<='Z'):\n",
    "        res+=i\n",
    "print(res)"
   ]
  },
  {
   "cell_type": "code",
   "execution_count": 8,
   "metadata": {},
   "outputs": [
    {
     "name": "stdout",
     "output_type": "stream",
     "text": [
      "eo o  aii\n"
     ]
    }
   ],
   "source": [
    "#66)i/p:-'hello world 123 haii' o/p:-'eo o aii'\n",
    "st='hello world 123 haii'\n",
    "res=''\n",
    "for i in st:\n",
    "    if (i in 'aeiouAEIOU') or not('a'<=i<='z' or 'A'<=i<='Z' or '0'<=i<='9'):\n",
    "        res+=i\n",
    "print(res)"
   ]
  },
  {
   "cell_type": "code",
   "execution_count": 13,
   "metadata": {},
   "outputs": [
    {
     "name": "stdout",
     "output_type": "stream",
     "text": [
      "hll world  haii\n"
     ]
    }
   ],
   "source": [
    "#67)i/p:-'hello world 123 haii' o/p:-'hll world haii'\n",
    "st='hello world 123 haii'\n",
    "res=''\n",
    "l=[]\n",
    "for i in st:\n",
    "    if i!=' ':\n",
    "        res+=i\n",
    "    else:\n",
    "        l+=[res]\n",
    "        res=''\n",
    "if len(res)>0:\n",
    "    l+=[res]\n",
    "#print(l)\n",
    "q=''\n",
    "y=''\n",
    "for j in l[0]:\n",
    "    if j not in 'aeiouAEIOU':\n",
    "        q+=j\n",
    "#print(q)\n",
    "for o in range(1,len(l)):\n",
    "    y+=\" \"\n",
    "    for k in l[o]:\n",
    "        if  not ( '0'<=k<='9'):\n",
    "            y+=k\n",
    "#print(y)\n",
    "print(q+y)\n",
    "\n"
   ]
  },
  {
   "cell_type": "code",
   "execution_count": 18,
   "metadata": {},
   "outputs": [
    {
     "name": "stdout",
     "output_type": "stream",
     "text": [
      "hll wrld\n",
      "eoo\n"
     ]
    }
   ],
   "source": [
    "#68) i/p:-hello world o/p:-hll wrld o/p:-eoo\n",
    "st='hello world'\n",
    "v=''\n",
    "c=''\n",
    "for i in st:\n",
    "    if i  in 'AEIOUaeiou':\n",
    "        v+=i\n",
    "    else:\n",
    "        c+=i\n",
    "print(c)\n",
    "print(v)"
   ]
  },
  {
   "cell_type": "code",
   "execution_count": 19,
   "metadata": {},
   "outputs": [
    {
     "name": "stdout",
     "output_type": "stream",
     "text": [
      "hll wrld\n",
      "eoo\n",
      "1234\n"
     ]
    }
   ],
   "source": [
    "#69) i/p:-12hello3 4world o/p:-hll wrld o/p:-eooo/p:-1234\n",
    "st='12hello3 4world'\n",
    "v=''\n",
    "c=''\n",
    "n=''\n",
    "for i in st:\n",
    "    if i not in 'AEIOUaeiou':\n",
    "        if '0'<=i<='9':\n",
    "            n+=i\n",
    "        else:\n",
    "            c+=i\n",
    "    else:\n",
    "        v+=i\n",
    "print(c)\n",
    "print(v)\n",
    "print(n)"
   ]
  },
  {
   "cell_type": "code",
   "execution_count": 21,
   "metadata": {},
   "outputs": [
    {
     "name": "stdout",
     "output_type": "stream",
     "text": [
      "hllwrld\n",
      "eoo\n",
      "12344\n",
      "(*$ $#*)\n"
     ]
    }
   ],
   "source": [
    "#70) i/p:-(*12hello3$ $4#world4*) o/p:-hll wrld o/p:-eooo/p:-1234o/p:-(*$ $#*)\n",
    "st='(*12hello3$ $4#world4*)'\n",
    "v=''\n",
    "c=''\n",
    "n=''\n",
    "sp=''\n",
    "for i in st:\n",
    "    if i not in 'AEIOUaeiou':\n",
    "        if '0'<=i<='9':\n",
    "            n+=i\n",
    "        elif ('a'<=i<='z' or 'A'<=i<='Z'):\n",
    "            c+=i\n",
    "        else:\n",
    "            sp+=i\n",
    "    else:\n",
    "        v+=i\n",
    "print(c)\n",
    "print(v)\n",
    "print(n)\n",
    "print(sp)"
   ]
  },
  {
   "cell_type": "code",
   "execution_count": 27,
   "metadata": {},
   "outputs": [
    {
     "name": "stdout",
     "output_type": "stream",
     "text": [
      ")*#$ $*( , 44321 , ooe , dlrwllh\n"
     ]
    }
   ],
   "source": [
    "#71)i/p:-(*12hello3$ $4#world4*) o/p:-')*#$$*(,44321,ooe,dlrwllh'\n",
    "st='(*12hello3$ $4#world4*)'\n",
    "v=''\n",
    "c=''\n",
    "n=''\n",
    "sp=''\n",
    "for i in st:\n",
    "    if i not in 'AEIOUaeiou':\n",
    "        if '0'<=i<='9':\n",
    "            n=i+n\n",
    "        elif ('a'<=i<='z' or 'A'<=i<='Z'):\n",
    "            c=i+c\n",
    "        else:\n",
    "            sp=i+sp\n",
    "    else:\n",
    "        v=i+v\n",
    "print(sp,',',n,',',v,',',c)"
   ]
  },
  {
   "cell_type": "code",
   "execution_count": 26,
   "metadata": {},
   "outputs": [
    {
     "name": "stdout",
     "output_type": "stream",
     "text": [
      "hllwrld , eoo , 12344 , (*$ $#*)\n"
     ]
    }
   ],
   "source": [
    "#72)i/p:-(*12hello3$ $4#world4*) o/p:-hllwrld , eoo , 12344 , (*$ $#*)\n",
    "st='(*12hello3$ $4#world4*)'\n",
    "v=''\n",
    "c=''\n",
    "n=''\n",
    "sp=''\n",
    "for i in st:\n",
    "    if i not in 'AEIOUaeiou':\n",
    "        if '0'<=i<='9':\n",
    "            n+=i\n",
    "        elif ('a'<=i<='z' or 'A'<=i<='Z'):\n",
    "            c+=i\n",
    "        else:\n",
    "            sp+=i\n",
    "    else:\n",
    "        v+=i\n",
    "print(c,\",\",v,',',n,',',sp)"
   ]
  },
  {
   "cell_type": "code",
   "execution_count": 28,
   "metadata": {},
   "outputs": [
    {
     "name": "stdout",
     "output_type": "stream",
     "text": [
      "hllwrld , (*$ $#*) , eoo , 12344\n"
     ]
    }
   ],
   "source": [
    "#73)i/p:-(*12hello3$ $4#world4*) o/p:-hllwrld , (*$ $#*) , eoo , 12344\n",
    "st='(*12hello3$ $4#world4*)'\n",
    "v=''\n",
    "c=''\n",
    "n=''\n",
    "sp=''\n",
    "for i in st:\n",
    "    if i not in 'AEIOUaeiou':\n",
    "        if '0'<=i<='9':\n",
    "            n+=i\n",
    "        elif ('a'<=i<='z' or 'A'<=i<='Z'):\n",
    "            c+=i\n",
    "        else:\n",
    "            sp+=i\n",
    "    else:\n",
    "        v+=i\n",
    "print(c,\",\",sp,',',v,',',n)"
   ]
  },
  {
   "cell_type": "code",
   "execution_count": 29,
   "metadata": {},
   "outputs": [
    {
     "name": "stdout",
     "output_type": "stream",
     "text": [
      ")*#$ $*( , 44321 , ooe , dlrwllh\n"
     ]
    }
   ],
   "source": [
    "#74)i/p:-(*12hello3$ $4#world4*) o/p:-')*#$$*(,44321,ooe,dlrwllh'\n",
    "st='(*12hello3$ $4#world4*)'\n",
    "v=''\n",
    "c=''\n",
    "n=''\n",
    "sp=''\n",
    "for i in st:\n",
    "    if i not in 'AEIOUaeiou':\n",
    "        if '0'<=i<='9':\n",
    "            n=i+n\n",
    "        elif ('a'<=i<='z' or 'A'<=i<='Z'):\n",
    "            c=i+c\n",
    "        else:\n",
    "            sp=i+sp\n",
    "    else:\n",
    "        v=i+v\n",
    "print(sp,',',n,',',v,',',c)"
   ]
  },
  {
   "cell_type": "code",
   "execution_count": 30,
   "metadata": {},
   "outputs": [
    {
     "name": "stdout",
     "output_type": "stream",
     "text": [
      "dlrwllh )*#$ $*( ooe 44321\n"
     ]
    }
   ],
   "source": [
    "#75)i/p:-(*12hello3$ $4#world4*) o/p:-dlrwllh )*#$ $*( ooe 44321\n",
    "st='(*12hello3$ $4#world4*)'\n",
    "v=''\n",
    "c=''\n",
    "n=''\n",
    "sp=''\n",
    "for i in st:\n",
    "    if i not in 'AEIOUaeiou':\n",
    "        if '0'<=i<='9':\n",
    "            n=i+n\n",
    "        elif ('a'<=i<='z' or 'A'<=i<='Z'):\n",
    "            c=i+c\n",
    "        else:\n",
    "            sp=i+sp\n",
    "    else:\n",
    "        v=i+v\n",
    "print(c,sp,v,n)"
   ]
  }
 ],
 "metadata": {
  "kernelspec": {
   "display_name": "Python 3",
   "language": "python",
   "name": "python3"
  },
  "language_info": {
   "codemirror_mode": {
    "name": "ipython",
    "version": 3
   },
   "file_extension": ".py",
   "mimetype": "text/x-python",
   "name": "python",
   "nbconvert_exporter": "python",
   "pygments_lexer": "ipython3",
   "version": "3.11.4"
  },
  "orig_nbformat": 4
 },
 "nbformat": 4,
 "nbformat_minor": 2
}
