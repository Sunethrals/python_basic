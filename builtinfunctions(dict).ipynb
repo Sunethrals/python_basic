{
 "cells": [
  {
   "cell_type": "code",
   "execution_count": 1,
   "metadata": {},
   "outputs": [
    {
     "name": "stdout",
     "output_type": "stream",
     "text": [
      "2002398388032 {'a': 10, 'b': 20, 'c': 30, 'd': 40}\n",
      "2002398388032 {}\n"
     ]
    }
   ],
   "source": [
    "#clear()\n",
    "d={'a':10,'b':20,'c':30,'d':40}\n",
    "print(id(d),d)\n",
    "def clear(coll):\n",
    "    if type(coll)!=dict:\n",
    "        return -1\n",
    "    keys=list(coll)\n",
    "    for i in keys:\n",
    "        del coll[i]\n",
    "clear(d)\n",
    "print(id(d),d)"
   ]
  },
  {
   "cell_type": "code",
   "execution_count": 4,
   "metadata": {},
   "outputs": [
    {
     "name": "stdout",
     "output_type": "stream",
     "text": [
      "2002403803008 {'a': 10, 'b': 20, 'c': 30, 'd': 40}\n",
      "2002403935680 {'a': 10, 'b': 20, 'c': 30, 'd': 40}\n"
     ]
    }
   ],
   "source": [
    "#copy()\n",
    "d={'a':10,'b':20,'c':30,'d':40}\n",
    "print(id(d),d)\n",
    "# res=d.copy()\n",
    "# print(id(res),res)\n",
    "def copy(coll):\n",
    "    if type(coll)!=dict:\n",
    "        return -1\n",
    "    temp={}\n",
    "    for i in coll:\n",
    "        temp[i]=coll[i]\n",
    "    return temp\n",
    "res=copy(d)\n",
    "print(id(res),res)\n"
   ]
  },
  {
   "cell_type": "code",
   "execution_count": 6,
   "metadata": {},
   "outputs": [
    {
     "name": "stdout",
     "output_type": "stream",
     "text": [
      "10\n",
      "10\n"
     ]
    }
   ],
   "source": [
    "#get()\n",
    "d={'a':10,'b':20,'c':30,'d':40}\n",
    "print(d.get('a'))\n",
    "print(d['a'])"
   ]
  },
  {
   "cell_type": "code",
   "execution_count": 7,
   "metadata": {},
   "outputs": [
    {
     "name": "stdout",
     "output_type": "stream",
     "text": [
      "2002404029888 {'a': 10, 'b': 20, 'c': 30, 'd': 40}\n",
      "10\n",
      "2002404029888 {'b': 20, 'c': 30, 'd': 40}\n"
     ]
    }
   ],
   "source": [
    "#pop()\n",
    "d={'a':10,'b':20,'c':30,'d':40}\n",
    "print(id(d),d)\n",
    "def pop(coll,key):\n",
    "    if type(coll)!=dict or type(key)in [list,set,dict]:\n",
    "        return -1\n",
    "    res=coll[key]\n",
    "    del coll[key]\n",
    "    return res\n",
    "r=pop(d,'a')\n",
    "print(r)\n",
    "print(id(d),d)"
   ]
  },
  {
   "cell_type": "code",
   "execution_count": 9,
   "metadata": {},
   "outputs": [
    {
     "name": "stdout",
     "output_type": "stream",
     "text": [
      "2002404330944 {'a': 10, 'b': 20, 'c': 30, 'd': 40}\n",
      "('d', 40)\n",
      "2002404330944 {'a': 10, 'b': 20, 'c': 30}\n"
     ]
    }
   ],
   "source": [
    "#popitems()\n",
    "d={'a':10,'b':20,'c':30,'d':40}\n",
    "print(id(d),d)\n",
    "def popitem(coll):\n",
    "    if type(coll)!=dict:\n",
    "        return -1\n",
    "    key=list(coll)[-1]\n",
    "    val=coll[key]\n",
    "    del coll[key]\n",
    "    return (key,val)\n",
    "print(popitem(d))\n",
    "print(id(d),d)"
   ]
  },
  {
   "cell_type": "code",
   "execution_count": 12,
   "metadata": {},
   "outputs": [
    {
     "name": "stdout",
     "output_type": "stream",
     "text": [
      "2002404229760 {'a': 10, 'b': 20, 'c': 30, 'd': 40}\n",
      "2002404229760 {'a': 50, 'b': 20, 'c': 30, 'd': 40}\n"
     ]
    }
   ],
   "source": [
    "#update()\n",
    "d={'a':10,'b':20,'c':30,'d':40}\n",
    "print(id(d),d)\n",
    "# d.update({'a':50})\n",
    "# print(id(d),d)\n",
    "def update(coll,ele):\n",
    "    if type(coll)!=dict or type(ele)!=dict:\n",
    "        return -1\n",
    "    coll|=ele\n",
    "update(d,{'a':50})\n",
    "print(id(d),d)"
   ]
  },
  {
   "cell_type": "code",
   "execution_count": 22,
   "metadata": {},
   "outputs": [
    {
     "name": "stdout",
     "output_type": "stream",
     "text": [
      "2002404584640 {'a': 10, 'b': 20, 'c': 30, 'd': 40}\n",
      "['a', 'b', 'c', 'd']\n",
      "2002404584640 {'a': 10, 'b': 20, 'c': 30, 'd': 40}\n"
     ]
    }
   ],
   "source": [
    "#keys()\n",
    "d={'a':10,'b':20,'c':30,'d':40}\n",
    "print(id(d),d)\n",
    "# print(d.keys())\n",
    "def keys(coll):\n",
    "    l=[]\n",
    "    for i in coll:\n",
    "        l+=[i]\n",
    "    return l\n",
    "print(keys(d))\n",
    "print(id(d),d)"
   ]
  },
  {
   "cell_type": "code",
   "execution_count": 32,
   "metadata": {},
   "outputs": [
    {
     "name": "stdout",
     "output_type": "stream",
     "text": [
      "2002394507904 {'a': 10, 'b': 20, 'c': 30, 'd': 40}\n",
      "[10, 20, 30, 40]\n",
      "2002394507904 {'a': 10, 'b': 20, 'c': 30, 'd': 40}\n"
     ]
    }
   ],
   "source": [
    "#values()\n",
    "d={'a':10,'b':20,'c':30,'d':40}\n",
    "print(id(d),d)\n",
    "# print(d.values())\n",
    "def values(coll):\n",
    "    l=[]\n",
    "    for i in coll:\n",
    "        l+=[coll[i]]\n",
    "    return l\n",
    "print(values(d))\n",
    "print(id(d),d)"
   ]
  },
  {
   "cell_type": "code",
   "execution_count": 36,
   "metadata": {},
   "outputs": [
    {
     "name": "stdout",
     "output_type": "stream",
     "text": [
      "2002405354240 {'a': 10, 'b': 20, 'c': 30, 'd': 40}\n",
      "dict_items([('a', 10), ('b', 20), ('c', 30), ('d', 40)])\n",
      "[('a', 10), ('b', 20), ('c', 30), ('d', 40)]\n",
      "2002405354240 {'a': 10, 'b': 20, 'c': 30, 'd': 40}\n"
     ]
    }
   ],
   "source": [
    "d={'a':10,'b':20,'c':30,'d':40}\n",
    "print(id(d),d)\n",
    "print(d.items())\n",
    "def items(coll):\n",
    "    l=[]\n",
    "    for i in coll:\n",
    "        l+=[(i,coll[i])]\n",
    "    return l\n",
    "print(items(d))\n",
    "print(id(d),d)"
   ]
  }
 ],
 "metadata": {
  "kernelspec": {
   "display_name": "Python 3",
   "language": "python",
   "name": "python3"
  },
  "language_info": {
   "codemirror_mode": {
    "name": "ipython",
    "version": 3
   },
   "file_extension": ".py",
   "mimetype": "text/x-python",
   "name": "python",
   "nbconvert_exporter": "python",
   "pygments_lexer": "ipython3",
   "version": "3.11.4"
  },
  "orig_nbformat": 4
 },
 "nbformat": 4,
 "nbformat_minor": 2
}
