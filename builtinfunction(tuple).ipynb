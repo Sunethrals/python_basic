{
 "cells": [
  {
   "cell_type": "code",
   "execution_count": 7,
   "metadata": {},
   "outputs": [
    {
     "data": {
      "text/plain": [
       "1"
      ]
     },
     "execution_count": 7,
     "metadata": {},
     "output_type": "execute_result"
    }
   ],
   "source": [
    "#count\n",
    "a=(10,30.40,43,435,34415,45)\n",
    "# a.count(10)\n",
    "def count(coll,ele):\n",
    "    if type(coll)!=tuple:\n",
    "        return -1\n",
    "    co=0\n",
    "    for i in coll:\n",
    "        if i==ele:\n",
    "            co+=1\n",
    "    return co\n",
    "count(a,435)"
   ]
  },
  {
   "cell_type": "code",
   "execution_count": 15,
   "metadata": {},
   "outputs": [
    {
     "data": {
      "text/plain": [
       "4"
      ]
     },
     "execution_count": 15,
     "metadata": {},
     "output_type": "execute_result"
    }
   ],
   "source": [
    "#index()\n",
    "t=(1,20.34,30,50,70,'hello',(1,3,4),True)\n",
    "# t.index(70)\n",
    "def index(coll,ele):\n",
    "    if type(coll)!=tuple:\n",
    "        return -1\n",
    "    for i in range(0,len(coll)):\n",
    "        if coll[i]==ele:\n",
    "            return i\n",
    "index(t,70)"
   ]
  }
 ],
 "metadata": {
  "kernelspec": {
   "display_name": "Python 3",
   "language": "python",
   "name": "python3"
  },
  "language_info": {
   "codemirror_mode": {
    "name": "ipython",
    "version": 3
   },
   "file_extension": ".py",
   "mimetype": "text/x-python",
   "name": "python",
   "nbconvert_exporter": "python",
   "pygments_lexer": "ipython3",
   "version": "3.11.4"
  },
  "orig_nbformat": 4
 },
 "nbformat": 4,
 "nbformat_minor": 2
}
