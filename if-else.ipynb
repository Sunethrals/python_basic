{
 "cells": [
  {
   "cell_type": "code",
   "execution_count": 3,
   "metadata": {},
   "outputs": [
    {
     "name": "stdout",
     "output_type": "stream",
     "text": [
      "negative\n"
     ]
    }
   ],
   "source": [
    "#1) wap to check whether a number is positive or negative. if positive print positive message or elsr print negative number\n",
    "n=-10\n",
    "if n>0:\n",
    "    print(\"positive\")\n",
    "else:\n",
    "    print(\"negative\")"
   ]
  },
  {
   "cell_type": "code",
   "execution_count": 1,
   "metadata": {},
   "outputs": [
    {
     "name": "stdout",
     "output_type": "stream",
     "text": [
      "even\n"
     ]
    }
   ],
   "source": [
    "#2)wap to check whether a number is even or odd if even print message an even or else print message as odd\n",
    "n=10\n",
    "if n%2==0:\n",
    "    print(\"even\")\n",
    "else:\n",
    "    print(\"odd\")"
   ]
  },
  {
   "cell_type": "code",
   "execution_count": 6,
   "metadata": {},
   "outputs": [
    {
     "name": "stdout",
     "output_type": "stream",
     "text": [
      "greater than\n"
     ]
    }
   ],
   "source": [
    "#3) wap to check whether a given number is greater than 10 or not if it is greater than 10 print message as greater or \n",
    "#else print that number with not a greater than\n",
    "n=110\n",
    "if n>10:\n",
    "    print(\"greater than\")\n",
    "else:\n",
    "    print(n, \"is not greater than 10\")"
   ]
  },
  {
   "cell_type": "code",
   "execution_count": 7,
   "metadata": {},
   "outputs": [
    {
     "name": "stdout",
     "output_type": "stream",
     "text": [
      "good morning\n"
     ]
    }
   ],
   "source": [
    "#4) wap to check whether the given two input numbers are divisible by 3 and 5 if it is divisible print\"good morning\",if it \n",
    "#is not divisible print\"good evening\"\n",
    "n=15\n",
    "if n%3==0 and n%5==0:\n",
    "    print(\"good morning\")\n",
    "else:\n",
    "    print(\"good evening\")"
   ]
  },
  {
   "cell_type": "code",
   "execution_count": 12,
   "metadata": {},
   "outputs": [
    {
     "name": "stdout",
     "output_type": "stream",
     "text": [
      "100\n"
     ]
    }
   ],
   "source": [
    "#5) wap to accept two integers and check whether those two values are equal or not if equal multiply to value or else to \n",
    "#display the quotation value\n",
    "a=10\n",
    "b=10\n",
    "if a==b and type(a)==int and type(b)==int:\n",
    "    print(a*b)\n",
    "else:\n",
    "    print(a/b)"
   ]
  },
  {
   "cell_type": "code",
   "execution_count": 14,
   "metadata": {},
   "outputs": [
    {
     "name": "stdout",
     "output_type": "stream",
     "text": [
      "100 is largest number\n"
     ]
    }
   ],
   "source": [
    "#6) wap to find the largest of two numbers\n",
    "n=10\n",
    "m=20\n",
    "if n<m:\n",
    "    print( m,\"is largest number\")\n",
    "else:\n",
    "    print(n,\"is largest number\")"
   ]
  },
  {
   "cell_type": "code",
   "execution_count": 113,
   "metadata": {},
   "outputs": [
    {
     "name": "stdout",
     "output_type": "stream",
     "text": [
      "12 is greater than 10\n"
     ]
    }
   ],
   "source": [
    "#7)wap to check whether the input number is greater than 10 or not if it is greater than 10 print messages as greater with \n",
    "#number. if it is not a greater than 10 print that number n=int(input(\"enter the number\"))\n",
    "\n",
    "n=12\n",
    "if n>10:\n",
    "    print(n,\"is greater than 10\")\n",
    "else:\n",
    "    print(n)"
   ]
  },
  {
   "cell_type": "code",
   "execution_count": 107,
   "metadata": {},
   "outputs": [
    {
     "name": "stdout",
     "output_type": "stream",
     "text": [
      "12\n"
     ]
    }
   ],
   "source": [
    "#8)wap to the given number integer if n is greater than 21 print the absolute difference between n and 21 otherwise print \n",
    "#twice the absolute difference\n",
    "n=15\n",
    "d=n-21\n",
    "if type(n)==int and n>21:\n",
    "    \n",
    "    print(abs(d))\n",
    "else:\n",
    "    print((abs(d))*2)"
   ]
  },
  {
   "cell_type": "code",
   "execution_count": 20,
   "metadata": {},
   "outputs": [
    {
     "name": "stdout",
     "output_type": "stream",
     "text": [
      "10 is smallest number\n"
     ]
    }
   ],
   "source": [
    "#9)wap to find the smallest of two number\n",
    "n=10\n",
    "m=20\n",
    "if n>m:\n",
    "    print( m,\"is smallest number\")\n",
    "else:\n",
    "    print(n,\"is smallest number\")\n"
   ]
  },
  {
   "cell_type": "code",
   "execution_count": 23,
   "metadata": {},
   "outputs": [
    {
     "name": "stdout",
     "output_type": "stream",
     "text": [
      "11\n"
     ]
    }
   ],
   "source": [
    "#10)wap to check whether the given number is even or odd if it is even then make it as an odd number, if it is an odd number \n",
    "#then make it as even number\n",
    "n=10\n",
    "if n%2==0:\n",
    "    print(n+1,\"odd number\")\n",
    "else:\n",
    "    print(n+1,\"even number\")\n"
   ]
  },
  {
   "cell_type": "code",
   "execution_count": 26,
   "metadata": {},
   "outputs": [
    {
     "name": "stdout",
     "output_type": "stream",
     "text": [
      "64\n"
     ]
    }
   ],
   "source": [
    "#11) wap to check whether the given number is divisible ny 3 or not if yes print the number or else print the cube of the \n",
    "# number\n",
    "n=4\n",
    "if n%3==0:\n",
    "    print(n)\n",
    "else:\n",
    "        print(n**3)"
   ]
  },
  {
   "cell_type": "code",
   "execution_count": 32,
   "metadata": {},
   "outputs": [
    {
     "name": "stdout",
     "output_type": "stream",
     "text": [
      "4 <class 'str'>\n"
     ]
    }
   ],
   "source": [
    "#12)wap to check whether the given input is divisible by 3 or 5 if yes print the actual number or else print string of that\n",
    "# number\n",
    "n=4\n",
    "if n%3==0 or n%5==0:\n",
    "    print(n)\n",
    "else:\n",
    "    d=str(n)\n",
    "    print(d,type(d))\n"
   ]
  },
  {
   "cell_type": "code",
   "execution_count": 36,
   "metadata": {},
   "outputs": [
    {
     "name": "stdout",
     "output_type": "stream",
     "text": [
      "4\n"
     ]
    }
   ],
   "source": [
    "#13)wap to check whether the given number lies between 1 to 19, if it is true square that number or else false cube tha \n",
    "#number and display the number\n",
    "n=2\n",
    "if 1<n<19:\n",
    "    print(n*2)\n",
    "else:\n",
    "    print(n**3)\n"
   ]
  },
  {
   "cell_type": "code",
   "execution_count": 39,
   "metadata": {},
   "outputs": [
    {
     "name": "stdout",
     "output_type": "stream",
     "text": [
      "PASS 50\n"
     ]
    }
   ],
   "source": [
    "#14) wap to check whether the student has passed or failed. if the student got more than 40 marks print \"PASS\" along with \n",
    "#those marks, if it is not printed \"FAIL\" along with those marks\n",
    "n=50\n",
    "if n>40:\n",
    "    print(\"PASS\" , n)\n",
    "else:\n",
    "    print(\"FAIL\", n)\n"
   ]
  },
  {
   "cell_type": "code",
   "execution_count": 47,
   "metadata": {},
   "outputs": [
    {
     "name": "stdout",
     "output_type": "stream",
     "text": [
      "4\n"
     ]
    }
   ],
   "source": [
    "#15)wap to check whether a given value is even and in range of 47 to 58 and not in 0 or odd if condition is true, to perform\n",
    "# display the ascii character or else to perform floor division with 5 and display it.\n",
    "n=52\n",
    "if n%2==0 and 47<=n<=58:\n",
    "    print(chr(n))\n",
    "else:\n",
    "    print(n//5)"
   ]
  },
  {
   "cell_type": "code",
   "execution_count": 109,
   "metadata": {},
   "outputs": [
    {
     "name": "stdout",
     "output_type": "stream",
     "text": [
      "[654] <class 'list'>\n"
     ]
    }
   ],
   "source": [
    "#16)wap to check whether a given value is less than 125 and in between 47 to 125 or not if condition is True to perform \n",
    "#store the given value as key  and value as a character into dict or else to append the value in lsit and display it\n",
    "a=654\n",
    "s={}\n",
    "l=[]\n",
    "if 47<a<125:\n",
    "    s[a]=chr(a)\n",
    "    print(s)\n",
    "else:\n",
    "    l+=[a]\n",
    "    print(l, type(l) )"
   ]
  },
  {
   "cell_type": "code",
   "execution_count": 125,
   "metadata": {},
   "outputs": [
    {
     "name": "stdout",
     "output_type": "stream",
     "text": [
      "not alphabet %\n"
     ]
    }
   ],
   "source": [
    "#17)wap to check whether a given character is in the alphabet or not if alphabet, display the alphabet with character or\n",
    "# else display the not alphabet with character\n",
    "n=\"%\"\n",
    "if \"a\"<=n<=\"z\" or \"A\"<=n<=\"Z\":\n",
    "    print(alphabet , n)\n",
    "else:\n",
    "    print(\"not alphabet\",n)"
   ]
  },
  {
   "cell_type": "code",
   "execution_count": 91,
   "metadata": {},
   "outputs": [
    {
     "name": "stdout",
     "output_type": "stream",
     "text": [
      "lowercase s\n"
     ]
    }
   ],
   "source": [
    "#18) wap to check whether a given character is uppercase or other character if uppercase display the uppercase with character\n",
    "# or else display the other character with character\n",
    "n=\"s\"\n",
    "if \"A\"<=n<=\"Z\":\n",
    "    print(\"uppercase\",n)\n",
    "else:\n",
    "    print(\"lowercase\",n)"
   ]
  },
  {
   "cell_type": "code",
   "execution_count": 92,
   "metadata": {},
   "outputs": [
    {
     "name": "stdout",
     "output_type": "stream",
     "text": [
      "lowercase s\n"
     ]
    }
   ],
   "source": [
    "#19) wap to check whether a given character is lowercase or other character if lowercase display the lowercase with character\n",
    "# or else display the other character with character\n",
    "n=\"s\"\n",
    "if \"a\"<=n<=\"z\":\n",
    "    print(\"lowercase\",n)\n",
    "else:\n",
    "    print(\"uppercase\",n)"
   ]
  },
  {
   "cell_type": "code",
   "execution_count": 112,
   "metadata": {},
   "outputs": [
    {
     "name": "stdout",
     "output_type": "stream",
     "text": [
      "s\n"
     ]
    }
   ],
   "source": [
    "#20)wap to check whether a given character is uppercase or other character. if uppercase, convert to lowercase or else \n",
    "#display the ascii number\n",
    "n=\"S\"\n",
    "if \"A\"<=n<=\"Z\":\n",
    "    print(chr(ord(n)+32))\n",
    "else:\n",
    "    print(ord(n))"
   ]
  },
  {
   "cell_type": "code",
   "execution_count": 124,
   "metadata": {},
   "outputs": [
    {
     "name": "stdout",
     "output_type": "stream",
     "text": [
      "a 97\n"
     ]
    }
   ],
   "source": [
    "#21) wap to check whether the given character is in lowercase or uppercase if it is in lowercase convert it into uppercase\n",
    "# or else it is in uppercase and convert it into lowercase display the value\n",
    "a=\"A\"\n",
    "if \"a\"<=a<=\"z\":\n",
    "    print(chr(ord(a)-32))\n",
    "else:\n",
    "    n=chr(ord(a)+32)\n",
    "    print(n,ord(n))\n"
   ]
  },
  {
   "cell_type": "code",
   "execution_count": 161,
   "metadata": {},
   "outputs": [
    {
     "name": "stdout",
     "output_type": "stream",
     "text": [
      "@sunethra , middle of the string is e\n"
     ]
    }
   ],
   "source": [
    "#22)wap to check whether the given string of the first character is a special symbol or not if a special symbol to extract\n",
    "# and display the middle character or else to reverse the string and display the half of the string\n",
    "s=\"@sunethra\"\n",
    "a=s[0]\n",
    "if not (\"a\"<=a<=\"z\" or \"A\"<=a<=\"Z\" or \"0\"<=a<=\"9\"):\n",
    "    print(s,\", middle of the string is\",s[len(s)//2])\n",
    "else:\n",
    "    m=s[::-1]\n",
    "    n=m[:len(s)//2:]\n",
    "    print(n)\n"
   ]
  },
  {
   "cell_type": "code",
   "execution_count": 145,
   "metadata": {},
   "outputs": [
    {
     "name": "stdout",
     "output_type": "stream",
     "text": [
      "consonant\n"
     ]
    }
   ],
   "source": [
    "#23)wap to check whether the input character is a vowel or not. if it is vaowel print \"VPWEL\" along with that character, if\n",
    "# it is not just print\"CONSONANT\n",
    "n=\"s\"\n",
    "if n in \"aeiouAEIOU\":\n",
    "    print(\"vowel\",n)\n",
    "else:\n",
    "    print('consonant')"
   ]
  },
  {
   "cell_type": "code",
   "execution_count": 147,
   "metadata": {},
   "outputs": [
    {
     "name": "stdout",
     "output_type": "stream",
     "text": [
      "b\n"
     ]
    }
   ],
   "source": [
    "#24)wap to check whether a given character is a vowel or consonant if vaowel to print the next character of a given \n",
    "#character or else print previous characters.\n",
    "n=\"a\"\n",
    "if n in \"aeiouAEIOU\":\n",
    "    print(chr(ord(n)+1))\n",
    "else:\n",
    "    print(chr(ord(n)-1))\n",
    "    "
   ]
  },
  {
   "cell_type": "code",
   "execution_count": 150,
   "metadata": {},
   "outputs": [
    {
     "name": "stdout",
     "output_type": "stream",
     "text": [
      "arhtenus\n"
     ]
    }
   ],
   "source": [
    "#25) wap to check whether a given string of first character is alphabet or not if the alphabet prints, reverse the string\n",
    "# or else print the middle character\n",
    "s=\"sunethra\"\n",
    "if \"a\"<=s<=\"z\" or \"A\"<=s<=\"Z\":\n",
    "    print(s[::-1])\n",
    "else:\n",
    "    print(s[len(s)//2])\n"
   ]
  },
  {
   "cell_type": "code",
   "execution_count": 159,
   "metadata": {},
   "outputs": [
    {
     "name": "stdout",
     "output_type": "stream",
     "text": [
      "s\n"
     ]
    }
   ],
   "source": [
    "#26)wap to check whether the given input character is uppercase or lowercase if the input character is uppercase convert \n",
    "#into lower case and vice versa n=str(input(\"enter the character\"))\n",
    "n=\"S\"\n",
    "if  \"A\"<=n<=\"Z\":\n",
    "    print(chr(ord(n)+32))\n",
    "else:\n",
    "    \n",
    "    print(chr(ord(n)-32))\n"
   ]
  },
  {
   "cell_type": "code",
   "execution_count": 167,
   "metadata": {},
   "outputs": [
    {
     "name": "stdout",
     "output_type": "stream",
     "text": [
      "thra\n"
     ]
    }
   ],
   "source": [
    "#27)wap to check whether a given string is less than 3 characters, to print the entire string otherwise to print after\n",
    "# third positions to the remaining string\n",
    "n=\"sunethra\"\n",
    "if len(n)//2<3:\n",
    "    print(n)\n",
    "else:\n",
    "    print(n[len(n)//2::])"
   ]
  },
  {
   "cell_type": "code",
   "execution_count": 169,
   "metadata": {},
   "outputs": [
    {
     "name": "stdout",
     "output_type": "stream",
     "text": [
      "sunethra bye\n"
     ]
    }
   ],
   "source": [
    "#28)wap to check whether a given length of the string is even or not. if even, to append the new string called \"bye\" or\n",
    "# else print the first and last characters.\n",
    "n=\"sunethra\"\n",
    "if (len(n)//2)%2==0:\n",
    "    print(n+\" bye\")\n",
    "else:\n",
    "    print( \"first character of string is\",n[0],\"last character of string is\",n[-1])"
   ]
  },
  {
   "cell_type": "code",
   "execution_count": 172,
   "metadata": {},
   "outputs": [
    {
     "name": "stdout",
     "output_type": "stream",
     "text": [
      "unethr\n"
     ]
    }
   ],
   "source": [
    "#29)wap to check whether a givne length of the string is odd or not if odd to append the new string(\"haii\") from the \n",
    "#starting of the given string, or else to avoid the string and to display the remaining characters.\n",
    "n=\"sunethra\"\n",
    "if (len(n)//2)%2!=0:\n",
    "    print(\"haii \"+n)\n",
    "else:\n",
    "    print(n[1:-1:])"
   ]
  },
  {
   "cell_type": "code",
   "execution_count": 334,
   "metadata": {},
   "outputs": [
    {
     "name": "stdout",
     "output_type": "stream",
     "text": [
      "ethr\n"
     ]
    }
   ],
   "source": [
    "#30) wap to check whether the last of the given stirng is a special character or not, if the special characters prints \n",
    "#reverse the string except the last character or else to check if the length of the string is odd or not, if odd to extract \n",
    "#the middle character to the end of the string\n",
    "n=\"sunethr\"\n",
    "s=ord(n[-1])\n",
    "if not(65<=s<=90 or 97<=s<=122 or 48<=s<=57):\n",
    "     a=n[-2::-1]\n",
    "     print(a)\n",
    "else:\n",
    "     if (len(n)//2)%2!=0:\n",
    "          print(n[len(n)//2::])\n"
   ]
  },
  {
   "cell_type": "code",
   "execution_count": 244,
   "metadata": {},
   "outputs": [
    {
     "name": "stdout",
     "output_type": "stream",
     "text": [
      "leap year\n"
     ]
    }
   ],
   "source": [
    "#31)wap to check whether a given year is a leap yeaar or not. if leap year, print leap year or else not a leap year.\n",
    "n=2012\n",
    "if n%4==0:\n",
    "    print(\"leap year\")\n",
    "else:\n",
    "    print(\"not a leap year\")\n"
   ]
  },
  {
   "cell_type": "code",
   "execution_count": 245,
   "metadata": {},
   "outputs": [
    {
     "name": "stdout",
     "output_type": "stream",
     "text": [
      "40\n",
      "greatest message 40\n"
     ]
    }
   ],
   "source": [
    "#32) wap to find out the greatest of two  numbers and display the gratest number i fthe gratest number, display the greatest\n",
    "# message with value\n",
    "n=30\n",
    "m=40\n",
    "if n<m:\n",
    "    print(m)\n",
    "    print(\"greatest message\",m)\n",
    "\n",
    "#dot"
   ]
  },
  {
   "cell_type": "code",
   "execution_count": 249,
   "metadata": {},
   "outputs": [
    {
     "name": "stdout",
     "output_type": "stream",
     "text": [
      "value is present\n"
     ]
    }
   ],
   "source": [
    "#33) wap to check whether the given value is present inside the given collection or not if value is present, display the\n",
    "# value is available or else the valuew is not present\n",
    "m=10\n",
    "n=[10,20,30,40]\n",
    "if m in n:\n",
    "    print(\"value is present\")\n",
    "else:\n",
    "    print(\"value is not present\")\n"
   ]
  },
  {
   "cell_type": "code",
   "execution_count": 253,
   "metadata": {},
   "outputs": [
    {
     "name": "stdout",
     "output_type": "stream",
     "text": [
      "ias\n"
     ]
    }
   ],
   "source": [
    "#34)wap whether a given string , if string length is more than 2 then it display a new string with the first and last \n",
    "#characters switched, otherwise the display the 3 copies of given string\n",
    "n=\"sai\"\n",
    "if len(n)//2<=2:\n",
    "    print(n[-1]+n[1:-1:1]+n[0])\n",
    "else:\n",
    "    print(n*3)"
   ]
  },
  {
   "cell_type": "code",
   "execution_count": 260,
   "metadata": {},
   "outputs": [
    {
     "name": "stdout",
     "output_type": "stream",
     "text": [
      "[4.0, 20, 30, -41]\n"
     ]
    }
   ],
   "source": [
    "#35)wap to check whether a given value is a list and first and last values should be integer if condition is satisfied \n",
    "#first value is True division by 3 and perform the bitwise not for last value and those are stored in same positions in \n",
    "#given list or else to perform length of the collection power by 2 and display value.\n",
    "n=[12,20,30,40]\n",
    "a=n[0]\n",
    "b=n[-1]\n",
    "if type(n)==list and type(a)==int and type(b)==int:\n",
    "    n[0]=a/3\n",
    "    n[-1]=~b\n",
    "    print(n)\n",
    "else:\n",
    "    print(len(n)**2)\n"
   ]
  },
  {
   "cell_type": "code",
   "execution_count": 265,
   "metadata": {},
   "outputs": [
    {
     "name": "stdout",
     "output_type": "stream",
     "text": [
      "suneHAIIthra\n"
     ]
    }
   ],
   "source": [
    "#36) wap to check whether  agiven value is a string or not and length of the value should be more than 7, if condition is\n",
    "# satisifed to append the new string in the middle of the given string or else to perform the replictions with 3 and display\n",
    "# the result\n",
    "n=\"sunethra\"\n",
    "if type(n)==str and len(n)>7:\n",
    "    print(n[:len(n)//2]+\"HAII\"+n[len(n)//2::])\n",
    "else:\n",
    "    print(n*3)"
   ]
  },
  {
   "cell_type": "code",
   "execution_count": 266,
   "metadata": {},
   "outputs": [
    {
     "name": "stdout",
     "output_type": "stream",
     "text": [
      "value is not found\n"
     ]
    }
   ],
   "source": [
    "#37)wap to check whether a given value is present inside the collection or not if present print the value or else print \n",
    "#value is not found\n",
    "l=10\n",
    "m=[50,20,30]\n",
    "if l in m:\n",
    "    print(l)\n",
    "else:\n",
    "    print(\"value is not found\")"
   ]
  },
  {
   "cell_type": "code",
   "execution_count": 268,
   "metadata": {},
   "outputs": [
    {
     "name": "stdout",
     "output_type": "stream",
     "text": [
      "{1: 20, 30: 40, 10: 20}\n"
     ]
    }
   ],
   "source": [
    "#38)wap to check whether a given key is present in the dict or not if key is present: display the value or else add key and new value inside the dict\n",
    "n={1:20,30:40}\n",
    "k=10\n",
    "if k in n:\n",
    "    print(n[k])\n",
    "else:\n",
    "    n[k]=50\n",
    "    print(n)\n"
   ]
  },
  {
   "cell_type": "code",
   "execution_count": 276,
   "metadata": {},
   "outputs": [
    {
     "name": "stdout",
     "output_type": "stream",
     "text": [
      "{10, 20, 30}\n"
     ]
    }
   ],
   "source": [
    "#39) wap to check whether a given collection is set or not. if set, append the new value, or else eliminate the duplicate values in collection. final results should be set type\n",
    "s=[10,20,30,20,30]\n",
    "if type(s)==set:\n",
    "    s|={40,50}\n",
    "    print(s)\n",
    "else:\n",
    "    print(set(s))"
   ]
  },
  {
   "cell_type": "code",
   "execution_count": 278,
   "metadata": {},
   "outputs": [
    {
     "name": "stdout",
     "output_type": "stream",
     "text": [
      "not eligible\n"
     ]
    }
   ],
   "source": [
    "#41)#wap to read the age of a candidate and determine whether it is eligible for his/her own vote or note . it eligible print age and eligible messages o relse print not eligible.\n",
    "n=20\n",
    "if n>=18:\n",
    "    print(n,\"eligible\")\n",
    "else:\n",
    "    print(\"not eligible\")"
   ]
  },
  {
   "cell_type": "code",
   "execution_count": 282,
   "metadata": {},
   "outputs": [
    {
     "name": "stdout",
     "output_type": "stream",
     "text": [
      "100\n"
     ]
    }
   ],
   "source": [
    "#42) wap to check whether a given value is even and in between 47 to 58 and no tin 0 or odd. if condition is True, to perform display the ascii character or else to perform floor division with 5 and display it\n",
    "n=500\n",
    "if n%2==0 and 47<n<58:\n",
    "    print(chr(n))\n",
    "else:\n",
    "    print(n//5)"
   ]
  },
  {
   "cell_type": "code",
   "execution_count": 306,
   "metadata": {},
   "outputs": [
    {
     "name": "stdout",
     "output_type": "stream",
     "text": [
      "not palindrome\n"
     ]
    }
   ],
   "source": [
    "#43)wap to check whether the given string is palindrome or not if it is a palindrome string palindrome along with the string if it is not a palindrome print not palindrome\n",
    "n=\"madam\"\n",
    "a=n[::]\n",
    "b=n[::-1]\n",
    "if a == b:\n",
    "    print(\"palindrome\",n)\n",
    "else:\n",
    "    print(\"not palindrome\")"
   ]
  },
  {
   "cell_type": "code",
   "execution_count": 307,
   "metadata": {},
   "outputs": [
    {
     "name": "stdout",
     "output_type": "stream",
     "text": [
      "12321\n"
     ]
    }
   ],
   "source": [
    "#44)wap to check whether the given number is palindrome or not if it is a palindrome display the given value as a palindrome or else  not palindrome\n",
    "n=\"12321\"\n",
    "a=n[::]\n",
    "b=n[::-1]\n",
    "if a == b:\n",
    "    print(n)\n",
    "else:\n",
    "    print(\"not palindrome\")"
   ]
  },
  {
   "cell_type": "code",
   "execution_count": 309,
   "metadata": {},
   "outputs": [
    {
     "name": "stdout",
     "output_type": "stream",
     "text": [
      "sunethralakshmia\n"
     ]
    }
   ],
   "source": [
    "#45)wap to check length of both string collection are equal or not if both are equal print the concat the two string and display , or else if any one of the coolection not equal print both the collections with lenghts\n",
    "s=\"sunethra\"\n",
    "l=\"lakshmim\"\n",
    "if len(s)==len(l):\n",
    "    s+=l\n",
    "    print(s)\n",
    "else:\n",
    "    print(s,len(s))\n",
    "    print(l,len(l))"
   ]
  },
  {
   "cell_type": "code",
   "execution_count": 313,
   "metadata": {},
   "outputs": [
    {
     "name": "stdout",
     "output_type": "stream",
     "text": [
      "sa 1775165622320\n"
     ]
    }
   ],
   "source": [
    "#46)wap to check whether both given values point to the same memory locations or not. if it is true print the middle item of the second collecion, or else if it is false print the first item and last of the first collection along with the memory addres\n",
    "a=\"sunethra\"\n",
    "b=\"sunethram\"\n",
    "if id(a)==id(b):\n",
    "    print(b[len(n)//2])\n",
    "else:\n",
    "    print(a[0]+a[-1],id(a))"
   ]
  },
  {
   "cell_type": "code",
   "execution_count": 315,
   "metadata": {},
   "outputs": [
    {
     "name": "stdout",
     "output_type": "stream",
     "text": [
      "115 97 105\n"
     ]
    }
   ],
   "source": [
    "#47)wap to check whether a given string collection is more than ten, and the first+last chracter of the ascii values should be divisible by 5, if condition is satisfied print first,middle , last characters ascii values or else print the string three times\n",
    "n=\"sunethralakshmi\"\n",
    "f=n[0]\n",
    "l=n[-1]\n",
    "if ord(f)%5==0 and ord(l)%5==0 and len(n)>10:\n",
    "    print(ord(f),ord(n[len(n)//2]),ord(l))\n",
    "else:\n",
    "    print(n*3)"
   ]
  },
  {
   "cell_type": "code",
   "execution_count": 320,
   "metadata": {},
   "outputs": [
    {
     "name": "stdout",
     "output_type": "stream",
     "text": [
      "[10, 20, 'sai', 40, 60]\n"
     ]
    }
   ],
   "source": [
    "#48)wap to check whether the middle of the item present in the list is string data type or not it it is string print that list or else if it is not string then print that middle item\n",
    "l=[10,20,\"sai\",40,60]\n",
    "m=l[len(l)//2]\n",
    "if type(m)==str:\n",
    "    print(l)\n",
    "else:\n",
    "    print(m)"
   ]
  },
  {
   "cell_type": "code",
   "execution_count": 321,
   "metadata": {},
   "outputs": [
    {
     "name": "stdout",
     "output_type": "stream",
     "text": [
      "aunethrs\n"
     ]
    }
   ],
   "source": [
    "#49)wap given string, return a new string where the first and last characters have been exchanged\n",
    "n=\"sunethra\"\n",
    "s=n[-1]+n[1:-1:]+n[0]\n",
    "print(s)\n"
   ]
  },
  {
   "cell_type": "code",
   "execution_count": 324,
   "metadata": {},
   "outputs": [
    {
     "name": "stdout",
     "output_type": "stream",
     "text": [
      "24\n"
     ]
    }
   ],
   "source": [
    "#50)wap to find out such numbers which are divisible by 7 but are not a multiple of 5. both the conditional is satisfied \n",
    "#and print actual value. if one condition is not satisfied actual number is multiple by 4 and print result\n",
    "n=6\n",
    "if n%7==0 and n%5!=0:\n",
    "    print(n)\n",
    "else:\n",
    "    print(n*4)\n",
    "\n",
    "    #dot"
   ]
  },
  {
   "cell_type": "code",
   "execution_count": 333,
   "metadata": {},
   "outputs": [
    {
     "name": "stdout",
     "output_type": "stream",
     "text": [
      "140716496905288\n"
     ]
    }
   ],
   "source": [
    "#51)wap to check whether two values are pointing to the same memory address or not. if the same memory displays the address or else displays the two values addresses\n",
    "a=10\n",
    "b=10\n",
    "if id(a)==id(b):\n",
    "    print(id(a))\n",
    "else:\n",
    "    print(\"address of a is \",id(a),\"address of b is \",id(b))"
   ]
  },
  {
   "cell_type": "code",
   "execution_count": 335,
   "metadata": {},
   "outputs": [
    {
     "name": "stdout",
     "output_type": "stream",
     "text": [
      "@@@\n"
     ]
    }
   ],
   "source": [
    "#52)wap to check whether a given input character is a special symbol or not if it is a special symbol then print that\n",
    "#  charactr three times and tell print that character 5 times\n",
    "n=\"@\"\n",
    "a=ord(n)\n",
    "if not(65<=a<=90 or 97<=a<=122 or 48<=a<=57):\n",
    "    print(n*3)\n",
    "else:\n",
    "    print(n*5)\n",
    "\n",
    "#dot"
   ]
  },
  {
   "cell_type": "code",
   "execution_count": 339,
   "metadata": {},
   "outputs": [
    {
     "name": "stdout",
     "output_type": "stream",
     "text": [
      "sunethra\n",
      "lakshmi\n"
     ]
    }
   ],
   "source": [
    "#53)wap to check length of both string collections equal or not if it is equal print the connection of any one of the \n",
    "# colletions if it is not equal print both the collection\n",
    "n=\"sunethra\"\n",
    "m=\"lakshmi\"\n",
    "if len(n) is len(m):\n",
    "    print(n)\n",
    "else:\n",
    "    print(n)\n",
    "    print(m)\n",
    " "
   ]
  },
  {
   "cell_type": "code",
   "execution_count": 345,
   "metadata": {},
   "outputs": [
    {
     "name": "stdout",
     "output_type": "stream",
     "text": [
      "30\n"
     ]
    }
   ],
   "source": [
    "#54)wap to check whether both inputs variables point to the same memory location or not if it is true the last item of the \n",
    "# second collection, if it is false print the first item of the first collection along with the memory address\n",
    "n=[10,20,30]\n",
    "#m=[10,20,30] different address\n",
    "m=n # same address\n",
    "if n is m:\n",
    "    print(m[-1])\n",
    "else:\n",
    "    print(n[0], id(n))\n",
    "\n"
   ]
  },
  {
   "cell_type": "code",
   "execution_count": 364,
   "metadata": {},
   "outputs": [
    {
     "name": "stdout",
     "output_type": "stream",
     "text": [
      "suneehrasuneehrasuneehrasuneehrasuneehra\n",
      "suneehrasuneehrasuneehra\n"
     ]
    }
   ],
   "source": [
    "#55)wap to print the string collection five times when the length of the string collection should be more than 3 and the \n",
    "#middle character of the string should be vowel and the first chracter ASCII values should be even, to print the  previous\n",
    "#character of middle character or else if ASCII value is odd then print string  three times as print that string\n",
    "n=\"suneehra\"\n",
    "a=n[len(n)//2]\n",
    "if len(n)//2>3 and a in \"aeiouAEIOU\" :\n",
    "    print(n*5)\n",
    "if (ord(n[0]))%2==0:\n",
    "    print(chr(ord(n[0])-1))\n",
    "else:\n",
    "    print(n*3)\n"
   ]
  },
  {
   "cell_type": "code",
   "execution_count": null,
   "metadata": {},
   "outputs": [],
   "source": [
    "#56)ravi would like to buy a new cello or red pen the cost of the pen should be 10. if the pen is available in the shop, \n",
    "# he will buy the pen if it is not there he will come out of the shop\n",
    "\n",
    "ravi=10\n",
    "\n",
    "\n",
    "\n"
   ]
  },
  {
   "cell_type": "code",
   "execution_count": 373,
   "metadata": {},
   "outputs": [
    {
     "name": "stdout",
     "output_type": "stream",
     "text": [
      "[10, 20, 30, 40, 50, 60]\n"
     ]
    }
   ],
   "source": [
    "#57)wap to perform additon and subraction operation by using list collection if the first and middle data items number are \n",
    "# even performing addition operation or else performing subraction\n",
    "m=[10,20,30,40,50]\n",
    "f=m[0]\n",
    "l=m[len(n)//2]\n",
    "if f%2==0 and l%2==0:\n",
    "    m+=[60]\n",
    "    \n",
    "else:\n",
    "    m\n",
    "print(m)\n",
    "\n",
    "#dot"
   ]
  },
  {
   "cell_type": "code",
   "execution_count": 382,
   "metadata": {},
   "outputs": [
    {
     "name": "stdout",
     "output_type": "stream",
     "text": [
      "[10, 20, 30, 40, 50, 60]\n"
     ]
    }
   ],
   "source": [
    "#58)wap to check whether the first item of these two lists is either integer or not if it is an integer, concation these \n",
    "# two lists or else print the memory address of these two lists\n",
    "a=[10,20,30]\n",
    "b=[40,50,60]\n",
    "c=a[0]\n",
    "d=b[0]\n",
    "if type(c)==int and type(d)==int:\n",
    "    a+=b\n",
    "    print(a)\n",
    "else:\n",
    "    print(\"address of first list is\",id(a),\"address of second list\",id(b))"
   ]
  }
 ],
 "metadata": {
  "kernelspec": {
   "display_name": "Python 3",
   "language": "python",
   "name": "python3"
  },
  "language_info": {
   "codemirror_mode": {
    "name": "ipython",
    "version": 3
   },
   "file_extension": ".py",
   "mimetype": "text/x-python",
   "name": "python",
   "nbconvert_exporter": "python",
   "pygments_lexer": "ipython3",
   "version": "3.11.4"
  },
  "orig_nbformat": 4
 },
 "nbformat": 4,
 "nbformat_minor": 2
}
