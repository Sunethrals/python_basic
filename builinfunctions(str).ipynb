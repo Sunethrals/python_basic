{
 "cells": [
  {
   "cell_type": "code",
   "execution_count": 3,
   "metadata": {},
   "outputs": [
    {
     "data": {
      "text/plain": [
       "'Hello world @#$ 1234'"
      ]
     },
     "execution_count": 3,
     "metadata": {},
     "output_type": "execute_result"
    }
   ],
   "source": [
    "#captilize()\n",
    "st='hello WOrLD @#$ 1234'\n",
    "def capitlize(coll):\n",
    "    res=''\n",
    "    if 'a'<=coll[0]<='z':\n",
    "        res+=chr(ord(coll[0])-32)\n",
    "    else:\n",
    "        res+=coll[0] \n",
    "    for i in range(1,len(coll)):\n",
    "        if \"A\"<=coll[i]<=\"Z\":\n",
    "            res+=chr(ord(coll[i])+32)\n",
    "        else:\n",
    "            res+=coll[i]\n",
    "    return res\n",
    "capitlize(st)\n",
    "\n"
   ]
  },
  {
   "cell_type": "code",
   "execution_count": 10,
   "metadata": {},
   "outputs": [
    {
     "data": {
      "text/plain": [
       "'hello world @#$ 1234'"
      ]
     },
     "execution_count": 10,
     "metadata": {},
     "output_type": "execute_result"
    }
   ],
   "source": [
    "#casefold()\n",
    "st='hello WOrLD @#$ 1234'\n",
    "def casefold(coll):\n",
    "    res=''\n",
    "    for i in coll:\n",
    "        if 'A'<=i<=\"Z\":\n",
    "            res+=chr(ord(i)+32)\n",
    "        else:\n",
    "            res+=i\n",
    "    return res\n",
    "casefold(st)\n",
    "            "
   ]
  },
  {
   "cell_type": "code",
   "execution_count": 11,
   "metadata": {},
   "outputs": [
    {
     "data": {
      "text/plain": [
       "'HELLO WORLD @#$ 1234'"
      ]
     },
     "execution_count": 11,
     "metadata": {},
     "output_type": "execute_result"
    }
   ],
   "source": [
    "#upper()\n",
    "st='hello WOrLD @#$ 1234'\n",
    "def upper(coll):\n",
    "    res=''\n",
    "    for i in coll:\n",
    "        if 'a'<=i<=\"z\":\n",
    "            res+=chr(ord(i)-32)\n",
    "        else:\n",
    "            res+=i\n",
    "    return res\n",
    "upper(st)"
   ]
  },
  {
   "cell_type": "code",
   "execution_count": 12,
   "metadata": {},
   "outputs": [
    {
     "data": {
      "text/plain": [
       "'hello world @#$ 1234'"
      ]
     },
     "execution_count": 12,
     "metadata": {},
     "output_type": "execute_result"
    }
   ],
   "source": [
    "#lower()\n",
    "st='hello WOrLD @#$ 1234'\n",
    "def lower(coll):\n",
    "    res=''\n",
    "    for i in coll:\n",
    "        if 'A'<=i<=\"Z\":\n",
    "            res+=chr(ord(i)+32)\n",
    "        else:\n",
    "            res+=i\n",
    "    return res\n",
    "lower(st)"
   ]
  },
  {
   "cell_type": "code",
   "execution_count": 13,
   "metadata": {},
   "outputs": [
    {
     "data": {
      "text/plain": [
       "'HELLO woRld @#$ 1234'"
      ]
     },
     "execution_count": 13,
     "metadata": {},
     "output_type": "execute_result"
    }
   ],
   "source": [
    "#swapcase()\n",
    "st='hello WOrLD @#$ 1234'\n",
    "def casefold(coll):\n",
    "    res=''\n",
    "    for i in coll:\n",
    "        if 'A'<=i<=\"Z\":\n",
    "            res+=chr(ord(i)+32)\n",
    "        elif 'a'<=i<='z' :\n",
    "            res+=chr(ord(i)-32)\n",
    "        else:\n",
    "            res+=i\n",
    "    return res\n",
    "casefold(st)"
   ]
  },
  {
   "cell_type": "code",
   "execution_count": 6,
   "metadata": {},
   "outputs": [
    {
     "data": {
      "text/plain": [
       "'Hello World 123abc @#$ *&Xyz Ijkl $dmb'"
      ]
     },
     "execution_count": 6,
     "metadata": {},
     "output_type": "execute_result"
    }
   ],
   "source": [
    "#title()\n",
    "st='HELLO World 123abc @#$ *&xyz ijkl $dmb'\n",
    "def title(coll):\n",
    "    temp=0\n",
    "    res=''\n",
    "    if 'a'<=coll[0]<='z':\n",
    "        res+=chr(ord(coll[0])-32)\n",
    "        temp=1\n",
    "    elif \"A\"<=coll[0]<=\"Z\":\n",
    "        res+=coll[0]\n",
    "        temp=1\n",
    "    while temp<len(coll):\n",
    "        if  not(\"A\"<=coll[temp]<=\"Z\" or \"a\"<=coll[temp]<=\"z\"):\n",
    "            res+=coll[temp]\n",
    "            if \"a\"<=coll[temp+1]<=\"z\":\n",
    "                res+=chr(ord(coll[temp+1])-32)\n",
    "            else:\n",
    "                res+=coll[temp+1]\n",
    "            temp+=1\n",
    "        elif \"A\"<=coll[temp]<=\"Z\":\n",
    "            res+=chr(ord(coll[temp])+32)\n",
    "        else:\n",
    "            res+=coll[temp]\n",
    "        temp+=1\n",
    "    return res\n",
    "title(st)\n",
    "#after number charater are not converting to upper case"
   ]
  },
  {
   "cell_type": "code",
   "execution_count": 14,
   "metadata": {},
   "outputs": [
    {
     "data": {
      "text/plain": [
       "'#Wed1Fv 23Dfvgh C4Rfcxcvg34fdsx$^fs2S #h'"
      ]
     },
     "execution_count": 14,
     "metadata": {},
     "output_type": "execute_result"
    }
   ],
   "source": [
    "st=\"#wed1fv 23dfvgh c4rfcxcvg34fdsx$^fs2s #h\"\n",
    "def titlecase(coll):\n",
    "    i=0\n",
    "    x=len(coll)\n",
    "    res=\"\"\n",
    "    d=\"\"\n",
    "    if 'a'<=coll[0]<='z':\n",
    "        res+=chr(ord(coll[0])-32)\n",
    "        i=1\n",
    "    elif 'A'<=coll[0]<='Z':\n",
    "        res+=coll[0]\n",
    "        i=1\n",
    "    if ('a'<=coll[-2]<='z' or 'A'<=coll[-2]<='Z'):\n",
    "        if not('a'<=coll[-1]<='z' or 'A'<=coll[-1]<='Z'):\n",
    "            d+=coll[-1]\n",
    "            x=len(coll)-1\n",
    "    while i <x:\n",
    "        if not('a'<=coll[i]<='z' or 'A'<=coll[i]<='Z'):\n",
    "            res+=coll[i]\n",
    "            if 'a'<=coll[i+1]<='z':\n",
    "                res+=chr(ord(coll[i+1])-32)\n",
    "            else:\n",
    "                res+=coll[i+1]\n",
    "            i+=1\n",
    "        elif 'A'<=coll[i]<='Z':\n",
    "            res+=chr(ord(coll[i])+32)\n",
    "        else:\n",
    "            res+=coll[i]\n",
    "        i+=1\n",
    "    #if not('a'<=coll[-1]<='z' or 'A'<=coll[-1]<='Z'):\n",
    "        #res+=coll[-1]\n",
    "    res+=d\n",
    "    return res\n",
    "titlecase(st)"
   ]
  },
  {
   "cell_type": "code",
   "execution_count": 34,
   "metadata": {},
   "outputs": [
    {
     "data": {
      "text/plain": [
       "'---abc----'"
      ]
     },
     "execution_count": 34,
     "metadata": {},
     "output_type": "execute_result"
    }
   ],
   "source": [
    "#center()\n",
    "st='abc'\n",
    "def center(coll,width,fillchar=' '):\n",
    "    res=width-len(coll)\n",
    "    l=res//2\n",
    "    r=res-l\n",
    "    res=fillchar*l+coll+fillchar*r\n",
    "    return res\n",
    "center(st,10,'-')"
   ]
  },
  {
   "cell_type": "code",
   "execution_count": 40,
   "metadata": {},
   "outputs": [
    {
     "data": {
      "text/plain": [
       "'Type error: the fill char must be exactly one char'"
      ]
     },
     "execution_count": 40,
     "metadata": {},
     "output_type": "execute_result"
    }
   ],
   "source": [
    "#center() by using return typer error\n",
    "st='abc'\n",
    "def center(coll,width,fillchar=' '):\n",
    "    if len(fillchar)>1:\n",
    "        return'Type error: the fill char must be exactly one char'\n",
    "    res=width-len(coll)\n",
    "    l=res//2\n",
    "    r=res-l\n",
    "    res=fillchar*l+coll+fillchar*r\n",
    "    return res\n",
    "center(st,10,'--')"
   ]
  },
  {
   "cell_type": "code",
   "execution_count": 41,
   "metadata": {},
   "outputs": [
    {
     "ename": "TypeError",
     "evalue": "",
     "output_type": "error",
     "traceback": [
      "\u001b[1;31m---------------------------------------------------------------------------\u001b[0m",
      "\u001b[1;31mTypeError\u001b[0m                                 Traceback (most recent call last)",
      "\u001b[1;32mc:\\Users\\M.Sunethra\\Documents\\GitHub\\python\\builinfunctions(str).ipynb Cell 9\u001b[0m line \u001b[0;36m1\n\u001b[0;32m      <a href='vscode-notebook-cell:/c%3A/Users/M.Sunethra/Documents/GitHub/python/builinfunctions%28str%29.ipynb#X12sZmlsZQ%3D%3D?line=7'>8</a>\u001b[0m     res\u001b[39m=\u001b[39mfillchar\u001b[39m*\u001b[39ml\u001b[39m+\u001b[39mcoll\u001b[39m+\u001b[39mfillchar\u001b[39m*\u001b[39mr\n\u001b[0;32m      <a href='vscode-notebook-cell:/c%3A/Users/M.Sunethra/Documents/GitHub/python/builinfunctions%28str%29.ipynb#X12sZmlsZQ%3D%3D?line=8'>9</a>\u001b[0m     \u001b[39mreturn\u001b[39;00m res\n\u001b[1;32m---> <a href='vscode-notebook-cell:/c%3A/Users/M.Sunethra/Documents/GitHub/python/builinfunctions%28str%29.ipynb#X12sZmlsZQ%3D%3D?line=9'>10</a>\u001b[0m center(st,\u001b[39m10\u001b[39;49m,\u001b[39m'\u001b[39;49m\u001b[39m--\u001b[39;49m\u001b[39m'\u001b[39;49m)\n",
      "\u001b[1;32mc:\\Users\\M.Sunethra\\Documents\\GitHub\\python\\builinfunctions(str).ipynb Cell 9\u001b[0m line \u001b[0;36m4\n\u001b[0;32m      <a href='vscode-notebook-cell:/c%3A/Users/M.Sunethra/Documents/GitHub/python/builinfunctions%28str%29.ipynb#X12sZmlsZQ%3D%3D?line=1'>2</a>\u001b[0m \u001b[39mdef\u001b[39;00m \u001b[39mcenter\u001b[39m(coll,width,fillchar\u001b[39m=\u001b[39m\u001b[39m'\u001b[39m\u001b[39m \u001b[39m\u001b[39m'\u001b[39m):\n\u001b[0;32m      <a href='vscode-notebook-cell:/c%3A/Users/M.Sunethra/Documents/GitHub/python/builinfunctions%28str%29.ipynb#X12sZmlsZQ%3D%3D?line=2'>3</a>\u001b[0m     \u001b[39mif\u001b[39;00m \u001b[39mlen\u001b[39m(fillchar)\u001b[39m>\u001b[39m\u001b[39m1\u001b[39m:\n\u001b[1;32m----> <a href='vscode-notebook-cell:/c%3A/Users/M.Sunethra/Documents/GitHub/python/builinfunctions%28str%29.ipynb#X12sZmlsZQ%3D%3D?line=3'>4</a>\u001b[0m         \u001b[39mraise\u001b[39;00m \u001b[39mTypeError\u001b[39;00m\n\u001b[0;32m      <a href='vscode-notebook-cell:/c%3A/Users/M.Sunethra/Documents/GitHub/python/builinfunctions%28str%29.ipynb#X12sZmlsZQ%3D%3D?line=4'>5</a>\u001b[0m     res\u001b[39m=\u001b[39mwidth\u001b[39m-\u001b[39m\u001b[39mlen\u001b[39m(coll)\n\u001b[0;32m      <a href='vscode-notebook-cell:/c%3A/Users/M.Sunethra/Documents/GitHub/python/builinfunctions%28str%29.ipynb#X12sZmlsZQ%3D%3D?line=5'>6</a>\u001b[0m     l\u001b[39m=\u001b[39mres\u001b[39m/\u001b[39m\u001b[39m/\u001b[39m\u001b[39m2\u001b[39m\n",
      "\u001b[1;31mTypeError\u001b[0m: "
     ]
    }
   ],
   "source": [
    "#center() by using  raise\n",
    "st='abc'\n",
    "def center(coll,width,fillchar=' '):\n",
    "    if len(fillchar)>1:\n",
    "        raise TypeError\n",
    "    res=width-len(coll)\n",
    "    l=res//2\n",
    "    r=res-l\n",
    "    res=fillchar*l+coll+fillchar*r\n",
    "    return res\n",
    "center(st,10,'--')"
   ]
  },
  {
   "cell_type": "code",
   "execution_count": 42,
   "metadata": {},
   "outputs": [
    {
     "data": {
      "text/plain": [
       "-1"
      ]
     },
     "execution_count": 42,
     "metadata": {},
     "output_type": "execute_result"
    }
   ],
   "source": [
    "#center() by using return -1\n",
    "st='abc'\n",
    "def center(coll,width,fillchar=' '):\n",
    "    if len(fillchar)>1:\n",
    "        return-1\n",
    "    res=width-len(coll)\n",
    "    l=res//2\n",
    "    r=res-l\n",
    "    res=fillchar*l+coll+fillchar*r\n",
    "    return res\n",
    "center(st,10,'--')"
   ]
  },
  {
   "cell_type": "code",
   "execution_count": 7,
   "metadata": {},
   "outputs": [
    {
     "data": {
      "text/plain": [
       "True"
      ]
     },
     "execution_count": 7,
     "metadata": {},
     "output_type": "execute_result"
    }
   ],
   "source": [
    "#istitle()\n",
    "st='Hello World 123Abc @#$ *&Xyz Ijkl $R'\n",
    "def istitle(coll):\n",
    "    if 'a'<=coll[0]<='z':\n",
    "        return False\n",
    "    i=0\n",
    "    while i<len(coll):\n",
    "        if not(\"A\"<=coll[i]<='Z' or 'a'<=coll[i]<='z'):\n",
    "            if 'a'<=coll[i+1]<='z':\n",
    "                return False\n",
    "        i+=1\n",
    "    return True\n",
    "istitle(st)"
   ]
  },
  {
   "cell_type": "code",
   "execution_count": 71,
   "metadata": {},
   "outputs": [
    {
     "data": {
      "text/plain": [
       "True"
      ]
     },
     "execution_count": 71,
     "metadata": {},
     "output_type": "execute_result"
    }
   ],
   "source": [
    "#isupper()\n",
    "st='H2EL34LO WO%$RL(D'\n",
    "def isupper(coll):\n",
    "    for i in coll:\n",
    "        if 'a'<=i<='z':\n",
    "            return False\n",
    "    return True\n",
    "isupper(st)"
   ]
  },
  {
   "cell_type": "code",
   "execution_count": 70,
   "metadata": {},
   "outputs": [
    {
     "data": {
      "text/plain": [
       "True"
      ]
     },
     "execution_count": 70,
     "metadata": {},
     "output_type": "execute_result"
    }
   ],
   "source": [
    "#islower()\n",
    "st='h1e5llo wo#@ rld'\n",
    "def islower(coll):\n",
    "    for i in coll:\n",
    "        if 'A'<=i<='Z':\n",
    "            return False\n",
    "    return True\n",
    "islower(st)"
   ]
  },
  {
   "cell_type": "code",
   "execution_count": 73,
   "metadata": {},
   "outputs": [
    {
     "data": {
      "text/plain": [
       "False"
      ]
     },
     "execution_count": 73,
     "metadata": {},
     "output_type": "execute_result"
    }
   ],
   "source": [
    "#isalpha()\n",
    "st='hellowo13rld'\n",
    "def isalpha(coll):\n",
    "    for i in coll:\n",
    "        if not('a'<=i<='z' or 'A'<=i<='Z'):\n",
    "            return False\n",
    "    return True\n",
    "isalpha(st)"
   ]
  },
  {
   "cell_type": "code",
   "execution_count": 75,
   "metadata": {},
   "outputs": [
    {
     "data": {
      "text/plain": [
       "True"
      ]
     },
     "execution_count": 75,
     "metadata": {},
     "output_type": "execute_result"
    }
   ],
   "source": [
    "#isalnum\n",
    "st='hellowo13rld'\n",
    "def isalnum(coll):\n",
    "    for i in coll:\n",
    "        if not('a'<=i<='z' or 'A'<=i<='Z'or '0'<=i<='9'):\n",
    "            return False\n",
    "    return True\n",
    "isalnum(st)"
   ]
  },
  {
   "cell_type": "code",
   "execution_count": 81,
   "metadata": {},
   "outputs": [
    {
     "data": {
      "text/plain": [
       "False"
      ]
     },
     "execution_count": 81,
     "metadata": {},
     "output_type": "execute_result"
    }
   ],
   "source": [
    "#isnumeric or isdigit or isdecimal\n",
    "st='123.12'\n",
    "def isnumericisdigitisdecimal(coll):\n",
    "    for i in st:\n",
    "        if not('0'<=i<='9'):\n",
    "            return False\n",
    "    return True\n",
    "isnumericisdigitisdecimal(st)\n"
   ]
  },
  {
   "cell_type": "code",
   "execution_count": 82,
   "metadata": {},
   "outputs": [
    {
     "data": {
      "text/plain": [
       "True"
      ]
     },
     "execution_count": 82,
     "metadata": {},
     "output_type": "execute_result"
    }
   ],
   "source": [
    "#isspace()\n",
    "st=' '\n",
    "def isspace(coll):\n",
    "    for i in st:\n",
    "        if i!=' ':\n",
    "            return False\n",
    "    return True\n",
    "isspace(st)"
   ]
  },
  {
   "cell_type": "code",
   "execution_count": 2,
   "metadata": {},
   "outputs": [
    {
     "data": {
      "text/plain": [
       "(7, 11)"
      ]
     },
     "execution_count": 2,
     "metadata": {},
     "output_type": "execute_result"
    }
   ],
   "source": [
    "#wap to check the given sub string is present inside the given string or not if substring is present to display the \n",
    "#starting index and ending index\n",
    "st='python is a programming'\n",
    "s='is a'\n",
    "def occ(coll,occu):\n",
    "    \n",
    "        if occu in coll:\n",
    "            for i in range(0,len(coll)):\n",
    "                  if occu[0]==coll[i]:\n",
    "                        if st[i:i+len(occu)]==s:\n",
    "                              res=i,i+len(s)\n",
    "                              return res\n",
    "        else:\n",
    "              return \"string is not present\"\n",
    "occ(st,s)\n",
    "            \n",
    "    "
   ]
  },
  {
   "cell_type": "code",
   "execution_count": 14,
   "metadata": {},
   "outputs": [
    {
     "data": {
      "text/plain": [
       "(15, 19)"
      ]
     },
     "execution_count": 14,
     "metadata": {},
     "output_type": "execute_result"
    }
   ],
   "source": [
    "#wap to check the given sub string is present inside the given string or not if substring is present to display the \n",
    "# n th occurance of starting index and ending index\n",
    "st='python is a programming java is a programming'\n",
    "s='gram'\n",
    "def nthoccu(coll,occu,n=1):\n",
    "    c=0\n",
    "    if occu in coll:\n",
    "        for i in range(0,len(coll)):\n",
    "            if occu[0]==coll[i]:\n",
    "                if coll[i:i+len(occu)]==occu:\n",
    "                    c+=1\n",
    "                    if c==n:\n",
    "                        res=i,i+len(occu)\n",
    "                        return res\n",
    "    else:\n",
    "        return \"string is not present\"\n",
    "nthoccu(st,s)"
   ]
  },
  {
   "cell_type": "code",
   "execution_count": 35,
   "metadata": {},
   "outputs": [
    {
     "data": {
      "text/plain": [
       "['a', 1, 'p', 2, 'p', 5]"
      ]
     },
     "execution_count": 35,
     "metadata": {},
     "output_type": "execute_result"
    }
   ],
   "source": [
    "#wap to display the index position value for the given string\n",
    "st='laptop'\n",
    "s='ap'\n",
    "def indpos(coll,str):\n",
    "    l=[]\n",
    "    for i in range (0,len(coll)):\n",
    "        for j in range(0,len(str)):\n",
    "            if coll[i]==str[j]:\n",
    "                l+=[coll[i],i]\n",
    "    return l\n",
    "indpos(st,s)\n"
   ]
  },
  {
   "cell_type": "code",
   "execution_count": 36,
   "metadata": {},
   "outputs": [
    {
     "ename": "IndexError",
     "evalue": "string index out of range",
     "output_type": "error",
     "traceback": [
      "\u001b[1;31m---------------------------------------------------------------------------\u001b[0m",
      "\u001b[1;31mIndexError\u001b[0m                                Traceback (most recent call last)",
      "\u001b[1;32mc:\\Users\\M.Sunethra\\Documents\\GitHub\\python\\builinfunctions(str).ipynb Cell 22\u001b[0m line \u001b[0;36m1\n\u001b[0;32m      <a href='vscode-notebook-cell:/c%3A/Users/M.Sunethra/Documents/GitHub/python/builinfunctions%28str%29.ipynb#X32sZmlsZQ%3D%3D?line=8'>9</a>\u001b[0m                 l\u001b[39m+\u001b[39m\u001b[39m=\u001b[39m[occurance[j],j]\n\u001b[0;32m     <a href='vscode-notebook-cell:/c%3A/Users/M.Sunethra/Documents/GitHub/python/builinfunctions%28str%29.ipynb#X32sZmlsZQ%3D%3D?line=9'>10</a>\u001b[0m     \u001b[39mreturn\u001b[39;00m l\n\u001b[1;32m---> <a href='vscode-notebook-cell:/c%3A/Users/M.Sunethra/Documents/GitHub/python/builinfunctions%28str%29.ipynb#X32sZmlsZQ%3D%3D?line=10'>11</a>\u001b[0m indpos1(st,s)\n",
      "\u001b[1;32mc:\\Users\\M.Sunethra\\Documents\\GitHub\\python\\builinfunctions(str).ipynb Cell 22\u001b[0m line \u001b[0;36m9\n\u001b[0;32m      <a href='vscode-notebook-cell:/c%3A/Users/M.Sunethra/Documents/GitHub/python/builinfunctions%28str%29.ipynb#X32sZmlsZQ%3D%3D?line=6'>7</a>\u001b[0m     \u001b[39mfor\u001b[39;00m j \u001b[39min\u001b[39;00m \u001b[39mrange\u001b[39m(\u001b[39m0\u001b[39m,\u001b[39mlen\u001b[39m(coll)):\n\u001b[0;32m      <a href='vscode-notebook-cell:/c%3A/Users/M.Sunethra/Documents/GitHub/python/builinfunctions%28str%29.ipynb#X32sZmlsZQ%3D%3D?line=7'>8</a>\u001b[0m         \u001b[39mif\u001b[39;00m occurance[i]\u001b[39m==\u001b[39mcoll[j]:\n\u001b[1;32m----> <a href='vscode-notebook-cell:/c%3A/Users/M.Sunethra/Documents/GitHub/python/builinfunctions%28str%29.ipynb#X32sZmlsZQ%3D%3D?line=8'>9</a>\u001b[0m             l\u001b[39m+\u001b[39m\u001b[39m=\u001b[39m[occurance[j],j]\n\u001b[0;32m     <a href='vscode-notebook-cell:/c%3A/Users/M.Sunethra/Documents/GitHub/python/builinfunctions%28str%29.ipynb#X32sZmlsZQ%3D%3D?line=9'>10</a>\u001b[0m \u001b[39mreturn\u001b[39;00m l\n",
      "\u001b[1;31mIndexError\u001b[0m: string index out of range"
     ]
    }
   ],
   "source": [
    "#wap to display the index position value of the n th occurance for the given string\n",
    "st='python is programming'\n",
    "s='ap'\n",
    "def indpos1(coll,occurance):\n",
    "    l=[]\n",
    "    for i in range(0,len(occurance)):\n",
    "        for j in range(0,len(coll)):\n",
    "            if occurance[i]==coll[j]:\n",
    "                l+=[occurance[j],j]\n",
    "    return l\n",
    "indpos1(st,s)\n",
    "#dot"
   ]
  },
  {
   "cell_type": "code",
   "execution_count": 37,
   "metadata": {},
   "outputs": [
    {
     "data": {
      "text/plain": [
       "('p', 2)"
      ]
     },
     "execution_count": 37,
     "metadata": {},
     "output_type": "execute_result"
    }
   ],
   "source": [
    "#wap to display the index value gor specific character in given string to display only first occurance\n",
    "st='laptop'\n",
    "ch='p'\n",
    "def index(coll,chr):\n",
    "    for i in range (0,len(coll)):\n",
    "        if coll[i]==chr:\n",
    "            return coll[i],i\n",
    "index(st,ch)"
   ]
  },
  {
   "cell_type": "code",
   "execution_count": 41,
   "metadata": {},
   "outputs": [
    {
     "data": {
      "text/plain": [
       "('a', 1)"
      ]
     },
     "execution_count": 41,
     "metadata": {},
     "output_type": "execute_result"
    }
   ],
   "source": [
    "#wap to display the nth occurance index value gor specific character in given string to display only first occurance\n",
    "st='laptopa'\n",
    "ch='a'\n",
    "def indexnth(coll,chr,n=1):\n",
    "    c=0\n",
    "    for i in range (0,len(coll)):\n",
    "        if coll[i]==chr:\n",
    "            c+=1\n",
    "            if c==n:\n",
    "                return coll[i],i\n",
    "indexnth(st,ch)\n"
   ]
  },
  {
   "cell_type": "code",
   "execution_count": 42,
   "metadata": {},
   "outputs": [
    {
     "data": {
      "text/plain": [
       "['p', 2, 'p', 5]"
      ]
     },
     "execution_count": 42,
     "metadata": {},
     "output_type": "execute_result"
    }
   ],
   "source": [
    "#wap to display the index value gor specific character in given string \n",
    "st='laptop'\n",
    "ch='p'\n",
    "def index(coll,chr):\n",
    "    l=[]\n",
    "    for i in range (0,len(coll)):\n",
    "        if coll[i]==chr:\n",
    "            l+= [coll[i],i]\n",
    "    return l\n",
    "index(st,ch)"
   ]
  },
  {
   "cell_type": "code",
   "execution_count": 47,
   "metadata": {},
   "outputs": [
    {
     "data": {
      "text/plain": [
       "6"
      ]
     },
     "execution_count": 47,
     "metadata": {},
     "output_type": "execute_result"
    }
   ],
   "source": [
    "#wap to count the least occurance character in given string\n",
    "st='hello world'\n",
    "def countoccurance(coll):\n",
    "    d={}\n",
    "    for i in coll:\n",
    "        if i not in d:\n",
    "            d[i]=1\n",
    "        else:\n",
    "            d[i]+=1\n",
    "    #print(d)\n",
    "    res={}\n",
    "    for j in d:\n",
    "        if d[j] not in res:\n",
    "            res[d[j]]=[j]\n",
    "        else:\n",
    "            res[d[j]]+=[j]\n",
    "    #print(res)\n",
    "    max=len(d)\n",
    "    for k in res:\n",
    "        if max>k:\n",
    "            max=k\n",
    "    return (len(res[max]))\n",
    "countoccurance(st)"
   ]
  },
  {
   "cell_type": "code",
   "execution_count": 48,
   "metadata": {},
   "outputs": [
    {
     "data": {
      "text/plain": [
       "{1: ['h', 'e', ' ', 'w', 'r', 'd'], 3: ['l'], 2: ['o']}"
      ]
     },
     "execution_count": 48,
     "metadata": {},
     "output_type": "execute_result"
    }
   ],
   "source": [
    "#wap to count the each character\n",
    "st='hello world'\n",
    "def occurance(coll):\n",
    "    d={}\n",
    "    for i in coll:\n",
    "        if i not in d:\n",
    "            d[i]=1\n",
    "        else:\n",
    "            d[i]+=1\n",
    "    #print(d)\n",
    "    res={}\n",
    "    for j in d:\n",
    "        if d[j] not in res:\n",
    "            res[d[j]]=[j]\n",
    "        else:\n",
    "            res[d[j]]+=[j]\n",
    "    return (res)\n",
    "occurance(st)"
   ]
  },
  {
   "cell_type": "code",
   "execution_count": 63,
   "metadata": {},
   "outputs": [
    {
     "data": {
      "text/plain": [
       "('h', 1)"
      ]
     },
     "execution_count": 63,
     "metadata": {},
     "output_type": "execute_result"
    }
   ],
   "source": [
    "#wap to find out the minimum occurance of the character in given stirng\n",
    "st='hello'\n",
    "def minocc1(coll):\n",
    "    d={}\n",
    "    for i in coll:\n",
    "        if i not in d:\n",
    "            d[i]=1\n",
    "        else:\n",
    "            d[i]+=1\n",
    "    #print(d)\n",
    "    min=len(coll)\n",
    "    ch=None\n",
    "    u=[]\n",
    "    for i in d:\n",
    "        if min>d[i]:\n",
    "            min=d[i]\n",
    "            ch=i\n",
    "    return ch,min\n",
    "    \n",
    "minocc1(st)"
   ]
  },
  {
   "cell_type": "code",
   "execution_count": 62,
   "metadata": {},
   "outputs": [
    {
     "name": "stdout",
     "output_type": "stream",
     "text": [
      "h 1\n"
     ]
    },
    {
     "data": {
      "text/plain": [
       "[['h', 1], ['e', 1], ['h', 1], ['h', 1], ['o', 1], ['h', 1]]"
      ]
     },
     "execution_count": 62,
     "metadata": {},
     "output_type": "execute_result"
    }
   ],
   "source": [
    "#wap to find out the minimum occurance of the character in given stirng\n",
    "st='hello'\n",
    "def minocc(coll):\n",
    "    d={}\n",
    "    for i in coll:\n",
    "        if i not in d:\n",
    "            d[i]=1\n",
    "        else:\n",
    "            d[i]+=1\n",
    "    #print(d)\n",
    "    min=len(coll)\n",
    "    ch=None\n",
    "    u=[]\n",
    "    for i in d:\n",
    "        if min>d[i]:\n",
    "            min=d[i]\n",
    "            ch=i\n",
    "        elif min==d[i]:\n",
    "            u+=[[i,d[i]]]\n",
    "        u+=[[ch,min]]\n",
    "    print( ch,min)\n",
    "    return u\n",
    "    \n",
    "minocc(st)\n",
    "#dot\n"
   ]
  },
  {
   "cell_type": "code",
   "execution_count": 64,
   "metadata": {},
   "outputs": [
    {
     "data": {
      "text/plain": [
       "('l', 2)"
      ]
     },
     "execution_count": 64,
     "metadata": {},
     "output_type": "execute_result"
    }
   ],
   "source": [
    "#wap to find out the maximim occurance of the character in given stirng\n",
    "st='hello'\n",
    "def maxocc(coll):\n",
    "    d={}\n",
    "    for i in coll:\n",
    "        if i not in d:\n",
    "            d[i]=1\n",
    "        else:\n",
    "            d[i]+=1\n",
    "    #print(d)\n",
    "    max=0\n",
    "    ch=None\n",
    "    for i in d:\n",
    "        if max<d[i]:\n",
    "            max=d[i]\n",
    "            ch=i\n",
    "    return ch,max\n",
    "    \n",
    "maxocc(st)"
   ]
  },
  {
   "cell_type": "code",
   "execution_count": 77,
   "metadata": {},
   "outputs": [
    {
     "data": {
      "text/plain": [
       "('o', 1)"
      ]
     },
     "execution_count": 77,
     "metadata": {},
     "output_type": "execute_result"
    }
   ],
   "source": [
    "#wap to find out the maximim occurance of the character in given stirng\n",
    "st='hello'\n",
    "def maxocc1(coll):\n",
    "    uni=''\n",
    "    for i in coll:\n",
    "        if i not in uni:\n",
    "            uni+=i\n",
    "        \n",
    "    #print(uni)\n",
    "    for j in uni:\n",
    "        c=0\n",
    "        max=0\n",
    "        for k in coll:\n",
    "            if j==k:\n",
    "                c+=1\n",
    "        if max<c:\n",
    "            max==c\n",
    "    return j,c\n",
    "    \n",
    "maxocc1(st)\n",
    "\n",
    "#dot"
   ]
  }
 ],
 "metadata": {
  "kernelspec": {
   "display_name": "Python 3",
   "language": "python",
   "name": "python3"
  },
  "language_info": {
   "codemirror_mode": {
    "name": "ipython",
    "version": 3
   },
   "file_extension": ".py",
   "mimetype": "text/x-python",
   "name": "python",
   "nbconvert_exporter": "python",
   "pygments_lexer": "ipython3",
   "version": "3.11.4"
  },
  "orig_nbformat": 4
 },
 "nbformat": 4,
 "nbformat_minor": 2
}
