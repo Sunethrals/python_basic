{
 "cells": [
  {
   "cell_type": "code",
   "execution_count": 1,
   "metadata": {},
   "outputs": [
    {
     "name": "stdout",
     "output_type": "stream",
     "text": [
      "Positive\n"
     ]
    }
   ],
   "source": [
    "#1) wap to check whether a number is positive. If positive,print a message Positive\n",
    "n=10\n",
    "if n>=0:\n",
    "    print('Positive')"
   ]
  },
  {
   "cell_type": "code",
   "execution_count": 10,
   "metadata": {},
   "outputs": [
    {
     "name": "stdout",
     "output_type": "stream",
     "text": [
      "hello world\n"
     ]
    }
   ],
   "source": [
    "#2) wap to display hello world if the number is greater than 1 and less than 5\n",
    "n=2\n",
    "if  1<n<5:\n",
    "    print('hello world')"
   ]
  },
  {
   "cell_type": "code",
   "execution_count": 11,
   "metadata": {},
   "outputs": [
    {
     "name": "stdout",
     "output_type": "stream",
     "text": [
      "fizz\n"
     ]
    }
   ],
   "source": [
    "#3) wap to check whether the given number is divisible by 3 or not if print fizz\n",
    "n=15\n",
    "if n%3==0 or n%5==0:\n",
    "    print('fizz')"
   ]
  },
  {
   "cell_type": "code",
   "execution_count": 15,
   "metadata": {},
   "outputs": [
    {
     "name": "stdout",
     "output_type": "stream",
     "text": [
      " complex of given number is (12+0j)\n"
     ]
    }
   ],
   "source": [
    "#4) wap to check whether given input is divisible by 2 and 6. if condition is satisfied, convert the given number into a complex number\n",
    "n=12\n",
    "if n%2==0 and n%6==0:\n",
    "    print(\" complex of given number is\",complex(n))"
   ]
  },
  {
   "cell_type": "code",
   "execution_count": 17,
   "metadata": {},
   "outputs": [
    {
     "name": "stdout",
     "output_type": "stream",
     "text": [
      "['3', '0']\n"
     ]
    }
   ],
   "source": [
    "#5) wap to check whether a given input is divisible by 3 or 5. if condition is satisfied the number is converted to a list i/p:30 o/p:['3','0']\n",
    "n=30\n",
    "if n%3==0 or n%5==0:\n",
    "    m=str(n)\n",
    "    print(list(m))"
   ]
  },
  {
   "cell_type": "code",
   "execution_count": 19,
   "metadata": {},
   "outputs": [
    {
     "name": "stdout",
     "output_type": "stream",
     "text": [
      "given number is multiple of 5\n"
     ]
    }
   ],
   "source": [
    "#6) wap to check whether a given number is multiple of 5 or not\n",
    "n=25\n",
    "if n%5==0:\n",
    "    print('given number is multiple of 5')"
   ]
  },
  {
   "cell_type": "code",
   "execution_count": 20,
   "metadata": {},
   "outputs": [
    {
     "name": "stdout",
     "output_type": "stream",
     "text": [
      "0\n"
     ]
    }
   ],
   "source": [
    "#7) wap to check whether the given input is 0 or not if 0 prints 0\n",
    "n=0\n",
    "if n==0:\n",
    "    print('0')"
   ]
  },
  {
   "cell_type": "code",
   "execution_count": 21,
   "metadata": {},
   "outputs": [
    {
     "name": "stdout",
     "output_type": "stream",
     "text": [
      "negative\n"
     ]
    }
   ],
   "source": [
    "#8) wap to check whether a number is negative. If positive,print a message negative\n",
    "n=-10\n",
    "if n<=0:\n",
    "    print('negative')"
   ]
  },
  {
   "cell_type": "code",
   "execution_count": 24,
   "metadata": {},
   "outputs": [
    {
     "name": "stdout",
     "output_type": "stream",
     "text": [
      "['1', '2']\n"
     ]
    }
   ],
   "source": [
    "#9) wap to check whether a number is even or not  if even, store the value inside the list\n",
    "n=12\n",
    "if n%2==0:\n",
    "    m=str(n)\n",
    "    print(list(m))"
   ]
  },
  {
   "cell_type": "code",
   "execution_count": 26,
   "metadata": {},
   "outputs": [
    {
     "name": "stdout",
     "output_type": "stream",
     "text": [
      "('1', '3')\n"
     ]
    }
   ],
   "source": [
    "#10) wap to check whether a number is odd or not  if odd, store the value inside the tuple\n",
    "n=13\n",
    "if n%2!=0:\n",
    "    m=str(n)\n",
    "    print(tuple(m))"
   ]
  },
  {
   "cell_type": "code",
   "execution_count": 27,
   "metadata": {},
   "outputs": [
    {
     "name": "stdout",
     "output_type": "stream",
     "text": [
      "20736\n"
     ]
    }
   ],
   "source": [
    "#11) wap to check whether a number is even or not  if it is yes, to print the power of 4 in a given number\n",
    "n=12\n",
    "if n%2==0:\n",
    "    print(n**4)"
   ]
  },
  {
   "cell_type": "code",
   "execution_count": 97,
   "metadata": {},
   "outputs": [
    {
     "name": "stdout",
     "output_type": "stream",
     "text": [
      "40\n"
     ]
    }
   ],
   "source": [
    "#12)wap  to take the input from the user as a number and check whether it is a number or not. if yes take the number and add some value and print it\n",
    "n=20\n",
    "if type(n)in [int,float,complex,bytes]:\n",
    "    n+=20\n",
    "    print(n)"
   ]
  },
  {
   "cell_type": "code",
   "execution_count": 28,
   "metadata": {},
   "outputs": [
    {
     "name": "stdout",
     "output_type": "stream",
     "text": [
      "hello world\n"
     ]
    }
   ],
   "source": [
    "#13) wap to display hello world if the number is greater than 1 and less than 5\n",
    "n=2\n",
    "if  1<n<5:\n",
    "    print('hello world')"
   ]
  },
  {
   "cell_type": "code",
   "execution_count": 31,
   "metadata": {},
   "outputs": [
    {
     "name": "stdout",
     "output_type": "stream",
     "text": [
      "the square of given number is 1225\n"
     ]
    }
   ],
   "source": [
    "#14) wap to check whether given input is divisible by 5 and 7. if the value is divisible to display the square of the values\n",
    "n=35\n",
    "if n%5==0 and n%7==0:\n",
    "    print ('the square of given number is',n**2)"
   ]
  },
  {
   "cell_type": "code",
   "execution_count": 12,
   "metadata": {},
   "outputs": [
    {
     "name": "stdout",
     "output_type": "stream",
     "text": [
      "14\n"
     ]
    }
   ],
   "source": [
    "#15) wap to check the given value last digit is greater thsn 5 or not if greater to perform the bitwise right shift operator (skipping value is 2)\n",
    "n=56\n",
    "if n%10>5:\n",
    " print(n>>2)"
   ]
  },
  {
   "cell_type": "code",
   "execution_count": 8,
   "metadata": {},
   "outputs": [
    {
     "name": "stdout",
     "output_type": "stream",
     "text": [
      "225\n"
     ]
    }
   ],
   "source": [
    "#16) wap to check whether the given value is divisible by 3 and less than 30. if the value is divisible ,to display the square of the values\n",
    "n=15\n",
    "if n%3==0 and n<30:\n",
    "    print(n**2)"
   ]
  },
  {
   "cell_type": "code",
   "execution_count": 14,
   "metadata": {},
   "outputs": [
    {
     "name": "stdout",
     "output_type": "stream",
     "text": [
      "1728\n"
     ]
    }
   ],
   "source": [
    "#17) wap to check whether a given value is an even number and divisible by 4 if satisfied to diaplay the cube of the values\n",
    "n=12\n",
    "if n%2==0 and n%4==0:\n",
    "    print(n**3)"
   ]
  },
  {
   "cell_type": "code",
   "execution_count": 17,
   "metadata": {},
   "outputs": [
    {
     "name": "stdout",
     "output_type": "stream",
     "text": [
      "['1', '2']\n"
     ]
    }
   ],
   "source": [
    "#18) wap to check whether a given value is even or not. if even number stores the value inside the list\n",
    "n=12\n",
    "if n%2==0:\n",
    "    \n",
    "    print(list(str(n)))\n"
   ]
  },
  {
   "cell_type": "code",
   "execution_count": 58,
   "metadata": {},
   "outputs": [
    {
     "name": "stdout",
     "output_type": "stream",
     "text": [
      "6\n"
     ]
    }
   ],
   "source": [
    "#19) wap to check a given value is a negative or even number. if satisfied to display the last digit of the values\n",
    "n=-446\n",
    "if n<0 or n%2==0:\n",
    "    print(abs(n)%10)"
   ]
  },
  {
   "cell_type": "code",
   "execution_count": 37,
   "metadata": {},
   "outputs": [
    {
     "name": "stdout",
     "output_type": "stream",
     "text": [
      "-4096\n"
     ]
    }
   ],
   "source": [
    "#20) wap to check whether a given value is a nagative or odd number and divisible by 4 if satisfied to display the cube of the values\n",
    "n=-16\n",
    "if (n<0 or n%2!=0) and n%4==0:\n",
    "    print(n**3)"
   ]
  },
  {
   "cell_type": "code",
   "execution_count": 46,
   "metadata": {},
   "outputs": [
    {
     "name": "stdout",
     "output_type": "stream",
     "text": [
      "D\n"
     ]
    }
   ],
   "source": [
    "#21) wap to check whether a given ascii value is divisible by 4 and even value. if satisfied, to display the ascii character\n",
    "n=68\n",
    "if n%4==0 and n%2==0:\n",
    "    print(chr(n))"
   ]
  },
  {
   "cell_type": "code",
   "execution_count": 48,
   "metadata": {},
   "outputs": [
    {
     "name": "stdout",
     "output_type": "stream",
     "text": [
      "P\n"
     ]
    }
   ],
   "source": [
    "#22) wap to check whether a given values is present in between 45 to 125 and the number should be divisible by 4 and 5 and even value if satisfied to display the ascii character\n",
    "n=80\n",
    "if (45<n<125 and (n%4==0 and n%5==0)) and n%2==0:\n",
    "    print(chr(n))"
   ]
  },
  {
   "cell_type": "code",
   "execution_count": 53,
   "metadata": {},
   "outputs": [
    {
     "name": "stdout",
     "output_type": "stream",
     "text": [
      "400\n"
     ]
    }
   ],
   "source": [
    "#23) wap to check whether a given value is present in between 25 to 100 and the number should br divisible by 4 and 5 if satisfied to display multiplication of given value with 5\n",
    "n=80\n",
    "if (25<n<100 and (n%4==0 and n%5==0)):\n",
    "    print(n*5)\n"
   ]
  },
  {
   "cell_type": "code",
   "execution_count": 59,
   "metadata": {},
   "outputs": [
    {
     "name": "stdout",
     "output_type": "stream",
     "text": [
      "0\n"
     ]
    }
   ],
   "source": [
    "#24) wap to check whether a given number is an integer and odd number.if the condition is satisfied the integer is divisible by 5 and display the result\n",
    "n=15\n",
    "if type(n)==int and n%2!=0:\n",
    "    print(n%5)"
   ]
  },
  {
   "cell_type": "code",
   "execution_count": 94,
   "metadata": {},
   "outputs": [
    {
     "name": "stdout",
     "output_type": "stream",
     "text": [
      "10 <class 'int'>\n"
     ]
    }
   ],
   "source": [
    "#25) wap to check whether a given value is an integer or not if integer the given value is converted to string and display the result\n",
    "n=10\n",
    "if type(n)==int:\n",
    "    m=str(n)\n",
    "    print(m,type(n))"
   ]
  },
  {
   "cell_type": "code",
   "execution_count": 68,
   "metadata": {},
   "outputs": [
    {
     "name": "stdout",
     "output_type": "stream",
     "text": [
      "t\n"
     ]
    }
   ],
   "source": [
    "#26) wap to check whether a given value is less than 125 and greater than 60 or not. if the condition is satisfied, take the name and extract the middle character and display it\n",
    "n=70\n",
    "s=\"sunethra\"\n",
    "if 60<n<125:\n",
    "    print(s[len(s)//2])\n"
   ]
  },
  {
   "cell_type": "code",
   "execution_count": 109,
   "metadata": {},
   "outputs": [
    {
     "name": "stdout",
     "output_type": "stream",
     "text": [
      "60\n"
     ]
    }
   ],
   "source": [
    "#27) wap to check whether a given integer two integer are equal or not if both are wqual to perform addition and display the result.\n",
    "n=30\n",
    "m=30\n",
    "if n==m:\n",
    "    res=n+m\n",
    "    print(res)\n"
   ]
  },
  {
   "cell_type": "code",
   "execution_count": 69,
   "metadata": {},
   "outputs": [
    {
     "name": "stdout",
     "output_type": "stream",
     "text": [
      "300.0\n"
     ]
    }
   ],
   "source": [
    "#28)wap to check whether two values are equal or not. if equal to perform multiplication of two numbers and that result is division by 3 and display the value.\n",
    "n=30\n",
    "m=30\n",
    "if n==m:\n",
    "    res=n*m\n",
    "    print(res/3)\n"
   ]
  },
  {
   "cell_type": "code",
   "execution_count": 111,
   "metadata": {},
   "outputs": [
    {
     "name": "stdout",
     "output_type": "stream",
     "text": [
      "{'a': 97}\n"
     ]
    }
   ],
   "source": [
    "#29) wap to check whether a character is in alphabet or not if the alphabet store the value inside the dict(key as a character and value as an ascii value)\n",
    "n=\"a\"\n",
    "s={}\n",
    "if (\"a\"<=n<=\"z\") or (\"A\"<=n<=\"Z\"):\n",
    "    s[chr(ord(n))]=ord(n)\n",
    "    print(s)\n",
    "    "
   ]
  },
  {
   "cell_type": "code",
   "execution_count": 112,
   "metadata": {},
   "outputs": [
    {
     "name": "stdout",
     "output_type": "stream",
     "text": [
      "{'A': 65}\n"
     ]
    }
   ],
   "source": [
    "#30) wap to check whether a character is an uppercase or not if the uppercase store the value inside the dict(key as a character and value as an ascii value)\n",
    "n=\"A\"\n",
    "s={}\n",
    "if (\"A\"<=n<=\"Z\"):\n",
    "    s[chr(ord(n))]=ord(n)\n",
    "    print(s)"
   ]
  },
  {
   "cell_type": "code",
   "execution_count": 114,
   "metadata": {},
   "outputs": [
    {
     "name": "stdout",
     "output_type": "stream",
     "text": [
      "{'a': 97}\n"
     ]
    }
   ],
   "source": [
    "#31) wap to check whether a character is an uppercase or not if the uppercase convert to lowercase and  store the value inside the dict(key as a character and value as an ascii value)\n",
    "n=\"A\"\n",
    "s={}\n",
    "if (\"A\"<=n<=\"Z\"):\n",
    "    s[chr(ord(n)+32)]=ord(n)+32\n",
    "    print(s)"
   ]
  },
  {
   "cell_type": "code",
   "execution_count": 115,
   "metadata": {},
   "outputs": [
    {
     "name": "stdout",
     "output_type": "stream",
     "text": [
      "aaa\n"
     ]
    }
   ],
   "source": [
    "#32) wap to check whether a character is an lowercase or not if the lowercase to perform the replication operation on that character\n",
    "n=\"a\"\n",
    "s=n*3\n",
    "if (\"a\"<=n<=\"z\"):\n",
    "    \n",
    "    print(s)"
   ]
  },
  {
   "cell_type": "code",
   "execution_count": 8,
   "metadata": {},
   "outputs": [
    {
     "name": "stdout",
     "output_type": "stream",
     "text": [
      "2 <class 'int'>\n"
     ]
    }
   ],
   "source": [
    "#33)wap to check whether a character is in the ascii number or not if the ascii number to convert into integer\n",
    "n=\"2\"\n",
    "if (\"0\"<=n<=\"9\"):\n",
    "    s=int(n)\n",
    "    print(s, type(s))\n"
   ]
  },
  {
   "cell_type": "code",
   "execution_count": 142,
   "metadata": {},
   "outputs": [
    {
     "name": "stdout",
     "output_type": "stream",
     "text": [
      "ascii value of  $ is 36\n"
     ]
    }
   ],
   "source": [
    "#34)wap to check whether a character is in the special symbol or not. if the special symbol, to display a symbot with ascii value\n",
    "n=\"$\"\n",
    "if not(\"a\"<=n<=\"z\" or \"A\"<=n<=\"Z\" or \"0\"<=n<=\"9\"):\n",
    "    print(\"ascii value of \",n,\"is\",ord(n))"
   ]
  },
  {
   "cell_type": "code",
   "execution_count": 143,
   "metadata": {},
   "outputs": [
    {
     "name": "stdout",
     "output_type": "stream",
     "text": [
      "10\n"
     ]
    }
   ],
   "source": [
    "#35)#wap to check whether a character is an eeven number or not. if the even number to display an even number\n",
    "n=10\n",
    "if (n%2==0):\n",
    "    print(n)"
   ]
  },
  {
   "cell_type": "code",
   "execution_count": 145,
   "metadata": {},
   "outputs": [
    {
     "name": "stdout",
     "output_type": "stream",
     "text": [
      "100\n"
     ]
    }
   ],
   "source": [
    "#36) wap to check whether a given two integer a and b if any of the integers is 10 or if their sum is 10, to perform the sum of the numbers and to display the square of the result\n",
    "a=6\n",
    "b=4\n",
    "c=a+b\n",
    "if (type(a)==int and type(b)==int) or (a==10) or (b==10) or (c==10):\n",
    "    print(c**2)"
   ]
  },
  {
   "cell_type": "code",
   "execution_count": 149,
   "metadata": {},
   "outputs": [
    {
     "name": "stdout",
     "output_type": "stream",
     "text": [
      "b\n"
     ]
    }
   ],
   "source": [
    "#37)wap to check whether is in the character is in the vowel or not if the vowel print the next character\n",
    "n=\"a\"\n",
    "if n in\"aeiouAEIOU\":\n",
    "    print(chr(ord(n)+1))\n"
   ]
  },
  {
   "cell_type": "code",
   "execution_count": 150,
   "metadata": {},
   "outputs": [
    {
     "name": "stdout",
     "output_type": "stream",
     "text": [
      "v\n"
     ]
    }
   ],
   "source": [
    "#38)wap to check whether is in the character is in the not  vowel or not if it's  vowel print the previous character\n",
    "n=\"u\"\n",
    "if n in\"aeiouAEIOU\":\n",
    "    print(chr(ord(n)+1))"
   ]
  },
  {
   "cell_type": "code",
   "execution_count": 157,
   "metadata": {},
   "outputs": [
    {
     "name": "stdout",
     "output_type": "stream",
     "text": [
      "<class 'int'>\n"
     ]
    }
   ],
   "source": [
    "#39)wap to check whether a given value is a single value data type or not if single value,display the given value data type\n",
    "n=10\n",
    "s=type(n)\n",
    "if s in [int,float,bytes,complex,bool]:\n",
    "    print(s)"
   ]
  },
  {
   "cell_type": "code",
   "execution_count": 3,
   "metadata": {},
   "outputs": [
    {
     "name": "stdout",
     "output_type": "stream",
     "text": [
      "('s', 'u', 'n', 'e', 't', 'h', 'r', 'a')\n"
     ]
    }
   ],
   "source": [
    "#40)wap to check whether a given value is a multi-value data type or not. if multi value, store the given value inside the tuple and display it.\n",
    "n=\"sunethra\"\n",
    "s=type(n)\n",
    "t=()\n",
    "if s in[str,list,tuple,set,dict]:\n",
    "    t=tuple(n)\n",
    "    m=(n)\n",
    "    print(t)\n",
    "    \n",
    "\n",
    "\n"
   ]
  },
  {
   "cell_type": "code",
   "execution_count": 164,
   "metadata": {},
   "outputs": [
    {
     "name": "stdout",
     "output_type": "stream",
     "text": [
      "{10}\n"
     ]
    }
   ],
   "source": [
    "#41)wap to check whether a given value is a immutable data type or not. if an immutable data type value store the given value inside the set and display it.\n",
    "n=10\n",
    "s=type(n)\n",
    "t=set()\n",
    "if s in [str,tuple,int,float,bytes,complex,bool]:\n",
    "    t|={n}\n",
    "    print(t) "
   ]
  },
  {
   "cell_type": "code",
   "execution_count": 171,
   "metadata": {},
   "outputs": [
    {
     "name": "stdout",
     "output_type": "stream",
     "text": [
      "13 is odd numner\n"
     ]
    }
   ],
   "source": [
    "#42)wap to check whether the middle element of an given list is odd or not if it is odd then print odd then print the number else directly print ther number\n",
    "\n",
    "n=[10,13,15]\n",
    "s=n[len(n)//2]\n",
    "if s%2!=0:\n",
    "    print(s,\"is odd numner\")\n",
    "else:\n",
    "    print(s)"
   ]
  },
  {
   "cell_type": "code",
   "execution_count": 14,
   "metadata": {},
   "outputs": [
    {
     "name": "stdout",
     "output_type": "stream",
     "text": [
      "notnopy\n"
     ]
    }
   ],
   "source": [
    "#43)wap return a new string with \"not\" prefixed to the front of the original string. return the string unmodified if the string already has the word \"not\" at the beginning.\n",
    "st=\"nopy\"\n",
    "s=st[0:3]\n",
    "if s!=\"not\":\n",
    "    r=\"not\"+st\n",
    "    print(r)\n",
    "else:\n",
    "    print(st)"
   ]
  },
  {
   "cell_type": "code",
   "execution_count": 11,
   "metadata": {},
   "outputs": [
    {
     "name": "stdout",
     "output_type": "stream",
     "text": [
      "pe\n"
     ]
    }
   ],
   "source": [
    "#44)wap to check whether a given string(str) and one integer(n) value, to display a new string that is devoid of the character at index n. if you are given a non - empty string and an int n. the value of n. the value of b will be legitimate character index from theoriginal string therefore it will fall within the range of 0 to len(str)-1 inclusive.\n",
    "s=\"pen\"\n",
    "n=2\n",
    "if len(s)!=0 and type (n)==int and 0<=n<=len(s)-1:\n",
    "    print(s[:n]+s[n+1:])"
   ]
  },
  {
   "cell_type": "code",
   "execution_count": 174,
   "metadata": {},
   "outputs": [
    {
     "name": "stdout",
     "output_type": "stream",
     "text": [
      "id of a 140716394144840\n",
      "id of b 140716394144840\n"
     ]
    }
   ],
   "source": [
    "#45) wap to check whether the two variables are pointing to the same memory location or not if they are pointing to the same memory location then print the address of both the variables\n",
    "a=10\n",
    "b=10\n",
    "if id(a)==id(b):\n",
    "    print( \"id of a\",id(a))\n",
    "    print(\"id of b\",id(b))"
   ]
  },
  {
   "cell_type": "code",
   "execution_count": 184,
   "metadata": {},
   "outputs": [
    {
     "name": "stdout",
     "output_type": "stream",
     "text": [
      "suneth\n"
     ]
    }
   ],
   "source": [
    "#46)wap to check whether the given length of the string is even or not if the condition is satisfied display the sequence of characters from zero position to length of collection-2\n",
    "n=\"sunethra\"\n",
    "s=len(n)\n",
    "if s%2==0:\n",
    "    t=n[:-2:]\n",
    "    print(t)\n"
   ]
  },
  {
   "cell_type": "code",
   "execution_count": 189,
   "metadata": {},
   "outputs": [
    {
     "name": "stdout",
     "output_type": "stream",
     "text": [
      "a is A b is A\n"
     ]
    }
   ],
   "source": [
    "#47)wap to check whether the two given strings are having the same values or not if both are not the same values then swap the values of one variable to another variable after swapping print the two values\n",
    "a=\"A\"\n",
    "b=\"A\"\n",
    "if a==b:\n",
    "    c=a\n",
    "    a=b\n",
    "    b=c\n",
    "    print(\"a is\",a,\"b is\",b)\n",
    "    "
   ]
  },
  {
   "cell_type": "code",
   "execution_count": 191,
   "metadata": {},
   "outputs": [
    {
     "name": "stdout",
     "output_type": "stream",
     "text": [
      "{'_': 95}\n"
     ]
    }
   ],
   "source": [
    "#48)wap to check whether a given character is a special symbot or not if satisfied, stor the symbot as a key and value as a ascii value of the given character inside the dictionary\n",
    "n=\"_\"\n",
    "s={}\n",
    "if not(\"a\"<=n<=\"z\" or \"A\"<=n<=\"Z\" or \"0\"<=n<=\"9\"):\n",
    "    s[n]=ord(n)\n",
    "    print(s)\n"
   ]
  },
  {
   "cell_type": "code",
   "execution_count": 194,
   "metadata": {},
   "outputs": [
    {
     "name": "stdout",
     "output_type": "stream",
     "text": [
      "{10: 230, 20: 234, 40: 235}\n"
     ]
    }
   ],
   "source": [
    "#49)wap to check whether a given key is not presenet in the dictionary or not if the key is not present append the new kwy inside the dictionary\n",
    "n={10:230,20:234}\n",
    "if 40 not in n:\n",
    "    n[40]=235\n",
    "    print(n)\n"
   ]
  },
  {
   "cell_type": "code",
   "execution_count": 196,
   "metadata": {},
   "outputs": [
    {
     "name": "stdout",
     "output_type": "stream",
     "text": [
      "aunethrs\n"
     ]
    }
   ],
   "source": [
    "#50)wap whether a given srting and it display a new string with the first and last character switched\n",
    "n=\"sunethra\"\n",
    "if type(n)==str:\n",
    "    s=n[-1]+n[1:-1:1]+n[0]\n",
    "    print(s)"
   ]
  },
  {
   "cell_type": "code",
   "execution_count": 197,
   "metadata": {},
   "outputs": [
    {
     "name": "stdout",
     "output_type": "stream",
     "text": [
      "2\n"
     ]
    }
   ],
   "source": [
    "#51) wap to check whether the last digit should be 2 in the given number then print the last digit\n",
    "n=12\n",
    "s=n%10\n",
    "if s==2:\n",
    "    print(s)"
   ]
  },
  {
   "cell_type": "code",
   "execution_count": 199,
   "metadata": {},
   "outputs": [
    {
     "name": "stdout",
     "output_type": "stream",
     "text": [
      "256\n"
     ]
    }
   ],
   "source": [
    "#52)wap to check whether a given two integers a and b if any of the integers is 10 or if their sum is 10 to perform the sum of the numbers and to display the square of the result\n",
    "a=6\n",
    "b=10\n",
    "c=a+b\n",
    "if (type(a)==int and type(b)==int) or (a==10) or (b==10) or (c==10):\n",
    "    print(c**2)"
   ]
  },
  {
   "cell_type": "code",
   "execution_count": 15,
   "metadata": {},
   "outputs": [
    {
     "name": "stdout",
     "output_type": "stream",
     "text": [
      "pe\n"
     ]
    }
   ],
   "source": [
    "#53)wap to check whether a given string(str) and one integer(n) value, to display a new string that is devoid of the character at index n. if you are given a non - empty string and an int n. the value of n. the value of b will be legitimate character index from theoriginal string therefore it will fall within the range of 0 to len(str)-1, inclusive.\n",
    "#dot\n",
    "s=\"pen\"\n",
    "n=2\n",
    "if len(s)!=0 and type (n)==int and 0<=n<=len(s)-1:\n",
    "    print(s[:n]+s[n+1:])\n"
   ]
  },
  {
   "cell_type": "code",
   "execution_count": 204,
   "metadata": {},
   "outputs": [
    {
     "name": "stdout",
     "output_type": "stream",
     "text": [
      "length of sunethra is 8\n",
      "length of lakshmi is 7\n"
     ]
    }
   ],
   "source": [
    "#54)wap to check whether both string collections are equal or not if it is not equal print the both strings alongwith the length of a string if both are equal igone it\n",
    "n=\"sunethra\"\n",
    "m=\"lakshmi\"\n",
    "if len(n)!=len(m):\n",
    "    print(\"length of\",n,\"is\",len(n) )\n",
    "    \n",
    "    print(\"length of\",m,\"is\",len(m) )"
   ]
  }
 ],
 "metadata": {
  "kernelspec": {
   "display_name": "Python 3",
   "language": "python",
   "name": "python3"
  },
  "language_info": {
   "codemirror_mode": {
    "name": "ipython",
    "version": 3
   },
   "file_extension": ".py",
   "mimetype": "text/x-python",
   "name": "python",
   "nbconvert_exporter": "python",
   "pygments_lexer": "ipython3",
   "version": "3.11.4"
  },
  "orig_nbformat": 4
 },
 "nbformat": 4,
 "nbformat_minor": 2
}
