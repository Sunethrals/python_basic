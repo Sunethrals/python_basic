{
 "cells": [
  {
   "cell_type": "code",
   "execution_count": 1,
   "metadata": {},
   "outputs": [
    {
     "name": "stdout",
     "output_type": "stream",
     "text": [
      "1798425431552 [10, 20, 30, 40]\n",
      "1798425431552 [10, 20, 30, 40, {'a': 10}]\n",
      "[10, 20, 30, 40, {'a': 10}]\n"
     ]
    }
   ],
   "source": [
    "#append()\n",
    "l=[10,20,30,40]\n",
    "print(id(l),l)\n",
    "def append(coll,ele):\n",
    "    if type(coll)!=list:\n",
    "        return -1\n",
    "    coll+=[ele]\n",
    "    return coll\n",
    "res=append(l,{'a':10})\n",
    "print(id(res),res)\n",
    "print(l)"
   ]
  },
  {
   "cell_type": "code",
   "execution_count": 2,
   "metadata": {},
   "outputs": [
    {
     "name": "stdout",
     "output_type": "stream",
     "text": [
      "1798425428480 [10, 20, 30, 40]\n",
      " ele should be in coll\n",
      "1798425431552 [10, 20, 30, 40, {'a': 10}]\n"
     ]
    }
   ],
   "source": [
    "#extend()\n",
    "l=[10,20,30,40]\n",
    "print(id(l),l)\n",
    "def extend(coll,ele):\n",
    "    if type(coll)!=list:\n",
    "        return \"main object should be list\"\n",
    "    if type(ele) not in ['str','list','tuple','set','dict']:\n",
    "        return \" ele should be in coll\"\n",
    "    for i in ele:\n",
    "        coll+=[i]\n",
    "    return coll\n",
    "print(extend(l,10))\n",
    "print(id(res),res)\n"
   ]
  },
  {
   "cell_type": "code",
   "execution_count": 4,
   "metadata": {},
   "outputs": [
    {
     "name": "stdout",
     "output_type": "stream",
     "text": [
      "1798425276160 [10, 20, 30, 40]\n",
      "1798425276160 [10, 20, 30, 'hello', 40]\n"
     ]
    }
   ],
   "source": [
    "#insert()\n",
    "l=[10,20,30,40]\n",
    "print(id(l),l)\n",
    "def insert(coll,index,ele):\n",
    "    if type(coll)!=list and type(index)!=int:\n",
    "        return -1\n",
    "    coll[index:index]=[ele]\n",
    "insert(l,-1,'hello')\n",
    "print(id(l),l)\n"
   ]
  },
  {
   "cell_type": "code",
   "execution_count": 14,
   "metadata": {},
   "outputs": [
    {
     "data": {
      "text/plain": [
       "2"
      ]
     },
     "execution_count": 14,
     "metadata": {},
     "output_type": "execute_result"
    }
   ],
   "source": [
    "#count()\n",
    "l=[10,20,30,10,40,50]\n",
    "def count(coll,ele):\n",
    "    count=0\n",
    "    if type(coll)!=list:\n",
    "        return -1\n",
    "    for i in coll:\n",
    "        if i==ele:\n",
    "            count+=1\n",
    "    return count\n",
    "count(l,10)\n"
   ]
  },
  {
   "cell_type": "code",
   "execution_count": 16,
   "metadata": {},
   "outputs": [
    {
     "data": {
      "text/plain": [
       "3"
      ]
     },
     "execution_count": 16,
     "metadata": {},
     "output_type": "execute_result"
    }
   ],
   "source": [
    "#index()\n",
    "l=[110,20,30,10,40,50]\n",
    "def index(coll,ele):\n",
    "    if type(coll)!=list:\n",
    "        return -1\n",
    "    for i in range(0,len(coll)):\n",
    "        if coll[i]==ele:\n",
    "            return i\n",
    "    return -1\n",
    "index(l,10)\n"
   ]
  },
  {
   "cell_type": "code",
   "execution_count": 17,
   "metadata": {},
   "outputs": [
    {
     "data": {
      "text/plain": [
       "3"
      ]
     },
     "execution_count": 17,
     "metadata": {},
     "output_type": "execute_result"
    }
   ],
   "source": [
    "#index() with start and end range\n",
    "l=[110,20,30,10,40,50]\n",
    "def index(coll,ele,st=0,end=None):\n",
    "    if type(coll)!=list:\n",
    "        return -1\n",
    "    if end==None:\n",
    "        end=len(coll)\n",
    "    for i in range(st,end):\n",
    "        if coll[i]==ele:\n",
    "            return i\n",
    "    return -1\n",
    "index(l,10,2)\n"
   ]
  },
  {
   "cell_type": "code",
   "execution_count": 25,
   "metadata": {},
   "outputs": [
    {
     "ename": "IndentationError",
     "evalue": "expected an indented block after 'if' statement on line 10 (3451958622.py, line 11)",
     "output_type": "error",
     "traceback": [
      "\u001b[1;36m  Cell \u001b[1;32mIn[25], line 11\u001b[1;36m\u001b[0m\n\u001b[1;33m    return ValueError\u001b[0m\n\u001b[1;37m    ^\u001b[0m\n\u001b[1;31mIndentationError\u001b[0m\u001b[1;31m:\u001b[0m expected an indented block after 'if' statement on line 10\n"
     ]
    }
   ],
   "source": [
    "x=[10,20,4,50,8,234,23]\n",
    "def index(coll,ele,st=0,end=None):\n",
    "    if type(coll)!=list:\n",
    "        return -1\n",
    "    if st<0:\n",
    "        st=st+len(coll)\n",
    "    if end==None:end=len(coll)\n",
    "    if end<0:end=end+len(coll)\n",
    "    for i in range(st,end):\n",
    "        if coll[i]==ele:\n",
    "    return ValueError\n",
    "index(x,20,-1)\n"
   ]
  },
  {
   "cell_type": "code",
   "execution_count": 19,
   "metadata": {},
   "outputs": [
    {
     "name": "stdout",
     "output_type": "stream",
     "text": [
      "1798431395200 [60, 50, 40, 20, 10]\n"
     ]
    }
   ],
   "source": [
    "#reverse()\n",
    "x=[10,20,40,50,60]\n",
    "def reverse(coll):\n",
    "    j=-1\n",
    "    for i in range(0,(len(coll)//2)):\n",
    "        coll[i],coll[j]=coll[j],coll[i]\n",
    "        j-=1\n",
    "reverse(x)\n",
    "print(id(x),x)"
   ]
  },
  {
   "cell_type": "code",
   "execution_count": null,
   "metadata": {},
   "outputs": [],
   "source": []
  }
 ],
 "metadata": {
  "kernelspec": {
   "display_name": "Python 3",
   "language": "python",
   "name": "python3"
  },
  "language_info": {
   "codemirror_mode": {
    "name": "ipython",
    "version": 3
   },
   "file_extension": ".py",
   "mimetype": "text/x-python",
   "name": "python",
   "nbconvert_exporter": "python",
   "pygments_lexer": "ipython3",
   "version": "3.11.4"
  },
  "orig_nbformat": 4
 },
 "nbformat": 4,
 "nbformat_minor": 2
}
