{
 "cells": [
  {
   "cell_type": "code",
   "execution_count": 2,
   "metadata": {},
   "outputs": [
    {
     "name": "stdout",
     "output_type": "stream",
     "text": [
      "P\n",
      "S\n"
     ]
    }
   ],
   "source": [
    "s=\"PySpiders\"\n",
    "start=0\n",
    "end=len(s)\n",
    "while start<end:\n",
    "    l=s[start]\n",
    "    if \"A\"<=l<=\"Z\":\n",
    "        print(l)\n",
    "    start+=1"
   ]
  },
  {
   "cell_type": "code",
   "execution_count": 3,
   "metadata": {},
   "outputs": [
    {
     "name": "stdout",
     "output_type": "stream",
     "text": [
      "y\n",
      "p\n",
      "i\n",
      "d\n",
      "e\n",
      "r\n",
      "s\n"
     ]
    }
   ],
   "source": [
    "s=\"PySpiders\"\n",
    "start=0\n",
    "end=len(s)\n",
    "while start<end:\n",
    "    l=s[start]\n",
    "    if \"a\"<=l<=\"z\":\n",
    "        print(l)\n",
    "    start+=1"
   ]
  },
  {
   "cell_type": "code",
   "execution_count": 4,
   "metadata": {},
   "outputs": [
    {
     "name": "stdout",
     "output_type": "stream",
     "text": [
      "i\n",
      "e\n"
     ]
    }
   ],
   "source": [
    "s=\"PySpiders\"\n",
    "start=0\n",
    "end=len(s)\n",
    "while start<end:\n",
    "    l=s[start]\n",
    "    if l in \"aeiou\":\n",
    "        print(l)\n",
    "    start+=1"
   ]
  },
  {
   "cell_type": "code",
   "execution_count": 5,
   "metadata": {},
   "outputs": [
    {
     "name": "stdout",
     "output_type": "stream",
     "text": [
      "@\n"
     ]
    }
   ],
   "source": [
    "s=\"PySpiders@\"\n",
    "start=0\n",
    "end=len(s)\n",
    "while start<end:\n",
    "    l=s[start]\n",
    "    if not(\"a\"<=l<=\"z\" or \"A\"<=l<=\"Z\" or \"0\"<=l<=\"9\"):\n",
    "        print(l)\n",
    "    start+=1"
   ]
  },
  {
   "cell_type": "code",
   "execution_count": 7,
   "metadata": {},
   "outputs": [
    {
     "name": "stdout",
     "output_type": "stream",
     "text": [
      "P 80\n",
      "y 121\n",
      "S 83\n",
      "p 112\n",
      "i 105\n",
      "d 100\n",
      "e 101\n",
      "r 114\n",
      "s 115\n"
     ]
    }
   ],
   "source": [
    "s=\"PySpiders\"\n",
    "start=0\n",
    "end=len(s)\n",
    "while start<end:\n",
    "    print(s[start],ord(s[start]))\n",
    "    start+=1"
   ]
  },
  {
   "cell_type": "code",
   "execution_count": 52,
   "metadata": {},
   "outputs": [
    {
     "name": "stdout",
     "output_type": "stream",
     "text": [
      "9 9\n"
     ]
    }
   ],
   "source": [
    "#count the no.of characters\n",
    "s=\"pyspiders\"\n",
    "start=1\n",
    "end=len(s)\n",
    "while start<end:\n",
    "    start+=1\n",
    "print(start,len(s))"
   ]
  },
  {
   "cell_type": "code",
   "execution_count": 54,
   "metadata": {},
   "outputs": [
    {
     "name": "stdout",
     "output_type": "stream",
     "text": [
      "9 0\n"
     ]
    }
   ],
   "source": [
    "#count the no.of craracter without len collection\n",
    "s=\"pyspiders\"\n",
    "count=0\n",
    "while s:\n",
    "    count+=1\n",
    "    s=s[:-1]\n",
    "print(count)"
   ]
  },
  {
   "cell_type": "code",
   "execution_count": 58,
   "metadata": {},
   "outputs": [
    {
     "name": "stdout",
     "output_type": "stream",
     "text": [
      "2\n"
     ]
    }
   ],
   "source": [
    "#count the uppercase character from given string\n",
    "s=\"PYthon\"\n",
    "start=0\n",
    "end=len(s)\n",
    "c=0\n",
    "while start<end:\n",
    "    if \"A\"<=s[start]<=\"Z\":\n",
    "        c+=1\n",
    "    start+=1\n",
    "print(c)"
   ]
  },
  {
   "cell_type": "code",
   "execution_count": 60,
   "metadata": {},
   "outputs": [
    {
     "name": "stdout",
     "output_type": "stream",
     "text": [
      "thn\n"
     ]
    }
   ],
   "source": [
    "#extract and store the lowercase from given string\n",
    "s=\"PYthOn\"\n",
    "start=0\n",
    "end=len(s)\n",
    "c=\"\"\n",
    "while start<end:\n",
    "    if \"a\"<=s[start]<=\"z\":\n",
    "        c+=s[start]\n",
    "    start+=1\n",
    "print(c)"
   ]
  },
  {
   "cell_type": "code",
   "execution_count": 101,
   "metadata": {},
   "outputs": [
    {
     "name": "stdout",
     "output_type": "stream",
     "text": [
      "$\n"
     ]
    }
   ],
   "source": [
    "#extract and store the special character with ascci number  from given string\n",
    "s=\"$pyt&hon@\"\n",
    "n=0\n",
    "while n<=len(s):\n",
    "    c=\"\"\n",
    "    if not(\"a\"<=s[0]<=\"z\" or \"A\"<=s[0]<=\"Z\"):\n",
    "        c+=s[0]\n",
    "    n+=1\n",
    "print(c)\n",
    "\n",
    "#dot"
   ]
  },
  {
   "cell_type": "code",
   "execution_count": 107,
   "metadata": {},
   "outputs": [
    {
     "name": "stdout",
     "output_type": "stream",
     "text": [
      "\n",
      "\n",
      "\n",
      "\n"
     ]
    }
   ],
   "source": [
    "#segrate each character seperately\n",
    "s=\"Py$tH12o()n\"\n",
    "u=\"\"\n",
    "l=\"\"\n",
    "n=\"\"\n",
    "s=\"\"\n",
    "start=0\n",
    "while start<len(s):\n",
    "    if \"a\"<=s[start]<=\"z\":\n",
    "        l+=s[start]\n",
    "    elif \"A\"<=s[start]<=\"Z\":\n",
    "        u+=s[start]\n",
    "    elif \"0\"<=s[start]<=\"9\":\n",
    "        n+=s[start]\n",
    "    else:\n",
    "        s+=s[start]\n",
    "    start+=1\n",
    "print(l)\n",
    "print(u)\n",
    "print(n)\n",
    "print(s)\n",
    "\n",
    "#dot\n"
   ]
  },
  {
   "cell_type": "code",
   "execution_count": 115,
   "metadata": {},
   "outputs": [
    {
     "name": "stdout",
     "output_type": "stream",
     "text": [
      "valid password SUnhghj&@1\n"
     ]
    }
   ],
   "source": [
    "#passwaord\n",
    "st=\"SUnhghj&@1\"\n",
    "uc,lc,an,sp=0,0,0,0\n",
    "if 8<=len(st)<=16:\n",
    "    start=0\n",
    "    while start<len(st):\n",
    "        if \"A\"<=st[start]<=\"Z\":\n",
    "            uc+=1\n",
    "        elif \"a\"<=st[start]<=\"z\":\n",
    "            lc+=1\n",
    "        elif\"0\"<=st[start]<=\"9\":\n",
    "            an+=1\n",
    "        else:\n",
    "            sp+=1\n",
    "        start+=1\n",
    "    if uc>=2 and lc>=1 and sp<=2 and an<=1:\n",
    "        print(\"valid password\",st)\n",
    "    else:\n",
    "        print(\"invalid password\")\n",
    "else:\n",
    "        print(\"invalid password\")\n",
    "        #dot once check notes"
   ]
  },
  {
   "cell_type": "code",
   "execution_count": 23,
   "metadata": {},
   "outputs": [
    {
     "name": "stdout",
     "output_type": "stream",
     "text": [
      "8\n",
      "valid\n"
     ]
    }
   ],
   "source": [
    "st=\"Sunethra@gmail.com\"\n",
    "x=0\n",
    "temp=0\n",
    "while x<len(st):\n",
    "    if not(\"A\"<=st[x]<=\"Z\" or \"a\"<=st[x]<=\"z\" or \"0\"<=st[x]<=\"9\" or st[x] in \"@.\"):\n",
    "        temp+=1\n",
    "    x+=1\n",
    "if temp==0:\n",
    "    if \"@\" in st and \".\" in st:\n",
    "        start=0\n",
    "        pos=None\n",
    "        count=0\n",
    "        while start<len(st):\n",
    "            if \"@\"==st[start]:\n",
    "                pos=start\n",
    "                count+=1\n",
    "            start+=1\n",
    "        if count==1:\n",
    "            print(pos)\n",
    "            if \".\" in st[pos:]:\n",
    "                c=0\n",
    "                i=pos\n",
    "                while i<len(st):\n",
    "                    if \".\" == st[i]:\n",
    "                        c+=1\n",
    "                    i+=1\n",
    "                if 1<=c<=2:\n",
    "                    print(\"valid\")\n",
    "                else:\n",
    "                    print(\"invalid emailid\")\n",
    "            else:\n",
    "                print(\"invalid emailid\")\n",
    "        else:\n",
    "            print(\"invalid emailid\")\n",
    "    else:\n",
    "        print(\"invalid emailid\")\n",
    "else:\n",
    "    print(\"invalid emailid\")\n",
    "\n"
   ]
  },
  {
   "cell_type": "code",
   "execution_count": 7,
   "metadata": {},
   "outputs": [
    {
     "name": "stdout",
     "output_type": "stream",
     "text": [
      "python\n"
     ]
    }
   ],
   "source": [
    "#uppercase to lower case\n",
    "s=\"PYTHon\"\n",
    "start=0\n",
    "st=\"\"\n",
    "while start< len(s):\n",
    "    if \"A\"<=s[start]<=\"Z\":\n",
    "        st+=chr(ord(s[start])+32) \n",
    "          \n",
    "    else:\n",
    "        st+=s[start]\n",
    "    start+=1\n",
    "print(st)"
   ]
  },
  {
   "cell_type": "code",
   "execution_count": 16,
   "metadata": {},
   "outputs": [
    {
     "name": "stdout",
     "output_type": "stream",
     "text": [
      "pyth_pn\n"
     ]
    }
   ],
   "source": [
    "#given string into snake case\n",
    "s=\"PYTH on\"\n",
    "start=0\n",
    "st=\"\"\n",
    "while start< len(s):\n",
    "    if \"A\"<=s[start]<=\"Z\":\n",
    "        st+=chr(ord(s[start])+32) \n",
    "    elif s[start]==\" \":\n",
    "        st+=\"_\"     \n",
    "    else:\n",
    "        st+=s[start]\n",
    "    start+=1\n",
    "print(st)"
   ]
  },
  {
   "cell_type": "code",
   "execution_count": 24,
   "metadata": {},
   "outputs": [
    {
     "name": "stdout",
     "output_type": "stream",
     "text": [
      "@python\n"
     ]
    }
   ],
   "source": [
    "#given string into captilized\n",
    "s=\"@python\"\n",
    "start=1\n",
    "res=\"\"\n",
    "if \"a\"<=s[0]<=\"z\":\n",
    "    res+=chr(ord(s[0])-32)\n",
    "else:\n",
    "    res+=s[0]\n",
    "while start<len(s):\n",
    "    if \"A\"<=s[start]<=\"Z\":\n",
    "        res+=chr(ord(s[start])+32)\n",
    "    else:\n",
    "        res+=s[start]\n",
    "    start+=1\n",
    "print(res)"
   ]
  },
  {
   "cell_type": "code",
   "execution_count": 6,
   "metadata": {},
   "outputs": [
    {
     "name": "stdout",
     "output_type": "stream",
     "text": [
      "__ python __\n"
     ]
    }
   ],
   "source": [
    "#given string into dargon case\n",
    "s=\"PYthon&%\"\n",
    "start=0\n",
    "res=\"\"\n",
    "while start<len(s):\n",
    "    if \"A\"<=s[start]<=\"Z\" or \"a\"<=s[start]<=\"z\":\n",
    "        if s[start]==\" \":\n",
    "            res+=\"_\"\n",
    "        elif \"A\"<=s[start]<=\"Z\":\n",
    "            res+=chr(ord(s[start])+32)\n",
    "        else:\n",
    "            res+=s[start]\n",
    "    start+=1\n",
    "print(\"__\",res,\"__\")"
   ]
  },
  {
   "cell_type": "code",
   "execution_count": 87,
   "metadata": {},
   "outputs": [
    {
     "name": "stdout",
     "output_type": "stream",
     "text": [
      "Python\n"
     ]
    }
   ],
   "source": [
    "#captialized\n",
    "s=\"PytHon\"\n",
    "start=1\n",
    "res=\"\"\n",
    "if \"a\"<=s[0]<=\"z\":\n",
    "    res+=chr(ord(s[0])-32)\n",
    "else:\n",
    "    res+=s[0]\n",
    "while start<len(s):\n",
    "    if\"A\"<=s[start]<=\"Z\":\n",
    "        res+=chr(ord(s[start])+32)\n",
    "    else:\n",
    "        res+=s[start]\n",
    "    start+=1\n",
    "print(res)"
   ]
  },
  {
   "cell_type": "code",
   "execution_count": 44,
   "metadata": {},
   "outputs": [
    {
     "name": "stdout",
     "output_type": "stream",
     "text": [
      "hello haii world we1v3come to py$hon class\n",
      "hello Hhaii Wworld Wwe1v3come Tto Ppy Hhon Cclass\n"
     ]
    }
   ],
   "source": [
    "#title case\n",
    "st=\"hello haIi World We1v3coMe to Py$hon cLAsS\"\n",
    "i=0\n",
    "n=\"\"\n",
    "while i<len(st):\n",
    "    if \"A\"<=st[i]<=\"Z\":\n",
    "        n+=str(chr(ord(st[i])+32))\n",
    "    else:\n",
    "        n+=st[i]\n",
    "    i+=1\n",
    "j=0\n",
    "s=\"\"\n",
    "while j<len(n):\n",
    "    if not(\"a\"<=n[j]<=\"z\" or \"0\"<=n[j]<=\"9\"):\n",
    "        s+=\" \"\n",
    "        s+=chr(ord(n[j+1])-32)\n",
    "    else:\n",
    "        s+=n[j]\n",
    "    j+=1\n",
    "print(n)\n",
    "print(s)"
   ]
  },
  {
   "cell_type": "code",
   "execution_count": 56,
   "metadata": {},
   "outputs": [
    {
     "name": "stdout",
     "output_type": "stream",
     "text": [
      "hello haii world we1v3come to py$hon class\n",
      "hello@haii@world@we@v@come@to@py@hon@class\n",
      " class\n"
     ]
    }
   ],
   "source": [
    "#title case\n",
    "st=\"hello haIi World We1v3coMe to Py$hon cLAsS\"\n",
    "i=0\n",
    "n=\"\"\n",
    "while i<len(st):\n",
    "    if \"A\"<=st[i]<\"Z\":\n",
    "        n+=chr(ord(st[i])+32)\n",
    "    else:\n",
    "        n+=st[i]\n",
    "    i+=1\n",
    "j=0\n",
    "k=\"\"\n",
    "while j<len(n):\n",
    "    if not(\"a\"<=n[j]<=\"z\"):\n",
    "        k+=\"@\"\n",
    "    else:\n",
    "        k+=n[j]\n",
    "    j+=1\n",
    "p=0\n",
    "l=\"\"\n",
    "while p<len(k):\n",
    "    if k[p] ==\"@\":\n",
    "        z=p+1\n",
    "        l=chr(ord(k[p])-32)\n",
    "    else:\n",
    "        l+=k[p]\n",
    "    p+=1\n",
    "print(n)\n",
    "print(k)\n",
    "print(l)\n"
   ]
  },
  {
   "cell_type": "code",
   "execution_count": 86,
   "metadata": {},
   "outputs": [
    {
     "name": "stdout",
     "output_type": "stream",
     "text": [
      "H\n"
     ]
    }
   ],
   "source": [
    "st=\"hello haIi World We1v3coMe to Py$hon cLAsS\"\n",
    "s=0\n",
    "res=\"\"\n",
    "if \"a\"<=st[0]<=\"z\":\n",
    "    res+=chr(ord(st[0])-32)\n",
    "else:\n",
    "    res+=st[0]\n",
    "while s<len(st):\n",
    "    if not(\"A\"<=st[s]<=\"Z\" or \"a\"<=st[0]<=\"z\"):\n",
    "        res+=st[s]\n",
    "        print(\"hello\")\n",
    "    s+=1\n",
    "print(res)"
   ]
  },
  {
   "cell_type": "code",
   "execution_count": 15,
   "metadata": {},
   "outputs": [
    {
     "name": "stdout",
     "output_type": "stream",
     "text": [
      "hello haIi World We1v3coMe to Py$hon cLAsS\n",
      "h \n",
      "W w\n",
      "W w\n",
      "t \n",
      "P p\n",
      "c \n",
      "Hellohaiiwworldwwe1v3cometoppy$honclass\n"
     ]
    }
   ],
   "source": [
    "#captialized\n",
    "s=\"hello haIi World We1v3coMe to Py$hon cLAsS\"\n",
    "print(s)\n",
    "start=1\n",
    "res=\"\"\n",
    "if \"a\"<=s[0]<=\"z\":\n",
    "    res+=chr(ord(s[0])-32)\n",
    "else:\n",
    "    res+=s[0]\n",
    "while start<len(s):\n",
    "    if\"A\"<=s[start]<=\"Z\":\n",
    "        res+=chr(ord(s[start])+32)\n",
    "    elif s[start]==\" \" :\n",
    "        \n",
    "        i=s[start+1]\n",
    "        res+=chr(ord(i)+32)\n",
    "        print(i,chr(ord(i)+32))\n",
    "    else:\n",
    "        res+=s[start]\n",
    "    start+=1\n",
    "print(res)\n"
   ]
  },
  {
   "cell_type": "code",
   "execution_count": 2,
   "metadata": {},
   "outputs": [
    {
     "name": "stdout",
     "output_type": "stream",
     "text": [
      "['hello', 'haii', 'world', 'i', 'love', 'india', 'i', 'like', 'python']\n",
      "hwilp\n",
      "[['hello', 'haii'], ['world'], ['i', 'india', 'i'], ['love', 'like'], ['python']]\n"
     ]
    }
   ],
   "source": [
    "#split the world if the starting letter is not same\n",
    "st=\"hello haii world i love india i like python\"\n",
    "i=0\n",
    "l=[]\n",
    "res=\"\"\n",
    "while i<len(st):\n",
    "    if st[i]!=\" \":\n",
    "        res+=st[i]\n",
    "    else:\n",
    "        if len(res)!=0:\n",
    "            l+=[res]\n",
    "            res=\"\"\n",
    "    i+=1\n",
    "if len(res)!=0:\n",
    "    l+=[res]\n",
    "print(l)\n",
    "uni=\"\"\n",
    "j=0\n",
    "while j<len(l):\n",
    "    if l[j][0]not in uni:\n",
    "        uni+=l[j][0]\n",
    "    j+=1\n",
    "print(uni)\n",
    "d=[]\n",
    "k=0\n",
    "while k<len(uni):\n",
    "    d+=[[]]\n",
    "    x=0\n",
    "    while x<len(l):\n",
    "        if uni[k]==l[x][0]:\n",
    "            d[-1]+=[l[x]]\n",
    "        x+=1\n",
    "    k+=1\n",
    "print(d)\n"
   ]
  },
  {
   "cell_type": "code",
   "execution_count": 1,
   "metadata": {},
   "outputs": [
    {
     "name": "stdout",
     "output_type": "stream",
     "text": [
      "['hello', 'haii', 'world', 'i', 'love', 'india', 'i', 'like', 'python']\n",
      "5416\n",
      "[['hello', 'world', 'india'], ['haii', 'love', 'like'], ['i', 'i'], ['python']]\n"
     ]
    }
   ],
   "source": [
    "#split the word if the length of the string is not same\n",
    "st=\"hello haii world i love india i like python\"\n",
    "i=0\n",
    "l=[]\n",
    "res=\"\"\n",
    "while i<len(st):\n",
    "    if st[i]!=\" \":\n",
    "        res+=st[i]\n",
    "    else:\n",
    "        if len(res)!=0:\n",
    "            l+=[res]\n",
    "            res=\"\"\n",
    "    i+=1\n",
    "if len(res)!=0:\n",
    "    l+=[res]\n",
    "print(l)\n",
    "uni=\"\"\n",
    "j=0\n",
    "while j<len(l):\n",
    "    if str(len(l[j])) not in uni:\n",
    "        uni+=str(len(l[j]))\n",
    "    j+=1\n",
    "print(uni)\n",
    "d=[]\n",
    "k=0\n",
    "while k<len(uni):\n",
    "    d+=[[]]\n",
    "    x=0\n",
    "    while x<len(l):\n",
    "        if uni[k]==str(len(l[x])):\n",
    "            d[-1]+=[l[x]]\n",
    "        x+=1\n",
    "    k+=1\n",
    "print(d)"
   ]
  },
  {
   "cell_type": "code",
   "execution_count": 216,
   "metadata": {},
   "outputs": [
    {
     "name": "stdout",
     "output_type": "stream",
     "text": [
      "['hello', 'haii', 'world', 'i', 'love', 'india', 'i', 'like', 'python']\n",
      "hwilp 5416\n"
     ]
    },
    {
     "ename": "IndexError",
     "evalue": "string index out of range",
     "output_type": "error",
     "traceback": [
      "\u001b[1;31m---------------------------------------------------------------------------\u001b[0m",
      "\u001b[1;31mIndexError\u001b[0m                                Traceback (most recent call last)",
      "Cell \u001b[1;32mIn[216], line 32\u001b[0m\n\u001b[0;32m     30\u001b[0m k\u001b[39m=\u001b[39m\u001b[39m0\u001b[39m\n\u001b[0;32m     31\u001b[0m \u001b[39mwhile\u001b[39;00m k \u001b[39m<\u001b[39m\u001b[39mlen\u001b[39m(l):\n\u001b[1;32m---> 32\u001b[0m     \u001b[39mif\u001b[39;00m uni[x]\u001b[39m==\u001b[39ml[k][\u001b[39m0\u001b[39m] \u001b[39mand\u001b[39;00m uni[k]\u001b[39m==\u001b[39m\u001b[39mstr\u001b[39m(\u001b[39mlen\u001b[39m(l[x])):\n\u001b[0;32m     33\u001b[0m         d[\u001b[39m-\u001b[39m\u001b[39m1\u001b[39m]\u001b[39m+\u001b[39m\u001b[39m=\u001b[39m[l[k]]\n\u001b[0;32m     34\u001b[0m         d[\u001b[39m-\u001b[39m\u001b[39m1\u001b[39m]\u001b[39m+\u001b[39m\u001b[39m=\u001b[39m[l[k]]\n",
      "\u001b[1;31mIndexError\u001b[0m: string index out of range"
     ]
    }
   ],
   "source": [
    "st=\"hello haii world i love india i like python \"\n",
    "i=0\n",
    "l=[]\n",
    "res=\"\"\n",
    "while i<len(st):\n",
    "    if st[i]!=\" \":\n",
    "        res+=st[i]\n",
    "    else:\n",
    "        if len(res)!=0:\n",
    "            l+=[res]\n",
    "            res=\"\"\n",
    "    i+=1\n",
    "if len(res)!=0:\n",
    "    l+=[res]\n",
    "print(l)\n",
    "uni=\"\"\n",
    "length=\"\"\n",
    "p=0\n",
    "while p<len(l):\n",
    "    if l[p][0] not in uni:\n",
    "        uni+=l[p][0]\n",
    "    if str(len(l[p])) not in length:\n",
    "        length+=str(len(l[p]))\n",
    "    p+=1\n",
    "print(uni,length)\n",
    "d=[]\n",
    "x=0\n",
    "while x<len(uni):\n",
    "    d+=[[]]\n",
    "    k=0\n",
    "    while k <len(l):\n",
    "        if uni[x]==l[k][0] and uni[k]==str(len(l[x])):\n",
    "            d[-1]+=[l[k]]\n",
    "        k+=1\n",
    "    x+=1\n",
    "print(d)\n",
    "            \n",
    "    #dot\n"
   ]
  },
  {
   "cell_type": "code",
   "execution_count": 212,
   "metadata": {},
   "outputs": [
    {
     "name": "stdout",
     "output_type": "stream",
     "text": [
      "['hello', 'haii', 'world', 'i', 'love', 'india', 'i', 'like', 'python']\n"
     ]
    }
   ],
   "source": [
    "st=\"hello haii world i love india i    like python\"\n",
    "i=0\n",
    "l=[]\n",
    "res=\"\"\n",
    "while i<len(st):\n",
    "    if st[i]!=\" \":\n",
    "        res+=st[i]\n",
    "    else:\n",
    "        if len(res)!=0:\n",
    "            l+=[res]\n",
    "            res=\"\"\n",
    "    i+=1\n",
    "if len(res)!=0:\n",
    "    l+=[res]\n",
    "print(l)"
   ]
  },
  {
   "cell_type": "code",
   "execution_count": 184,
   "metadata": {},
   "outputs": [
    {
     "name": "stdout",
     "output_type": "stream",
     "text": [
      "['10', '30', '70'] ['+', '-', '*']\n"
     ]
    }
   ],
   "source": [
    "st=\"10+30-70*\"\n",
    "l=[]\n",
    "op=[]\n",
    "res=\"\"\n",
    "i=0\n",
    "while i<len(st):\n",
    "    if \"0\"<=st[i]<=\"9\":\n",
    "        res+=st[i]\n",
    "    elif st[i] in [\"+\",\"-\",\"*\"]:\n",
    "        l+=[res]\n",
    "        op+=st[i]\n",
    "        res=\"\"\n",
    "    else:\n",
    "        if len(res)!=0:\n",
    "            l+=[res]\n",
    "            res=\"\"\n",
    "    i+=1\n",
    "if len(res)!=0:\n",
    "    l+=[res]\n",
    "print(l,op)\n",
    "\n",
    "\n",
    "1,0   10\n"
   ]
  },
  {
   "cell_type": "code",
   "execution_count": 10,
   "metadata": {},
   "outputs": [
    {
     "name": "stdout",
     "output_type": "stream",
     "text": [
      "['qap@gmail.com', 'pys@ymail.com', 'jsp@email.com']\n",
      "['', '', '']\n"
     ]
    }
   ],
   "source": [
    "#my own code\n",
    "st=\"qap@gmail.com pys@ymail.com jsp@email.com\"\n",
    "s=\"\"\n",
    "i=0\n",
    "l=[]\n",
    "while i<len(st):\n",
    "    if st[i]!=\" \":\n",
    "        s+=st[i]\n",
    "    else:\n",
    "        if len(s)!=0:\n",
    "            l+=[s]\n",
    "            s=\"\"\n",
    "    i+=1\n",
    "if len(s)!=0:\n",
    "    l+=[s]      \n",
    "print(l)\n",
    "a=0\n",
    "b=[]\n",
    "pod=None\n",
    "while a<len(l):\n",
    "    c=\"\"\n",
    "    x=0\n",
    "    b+=[[]]\n",
    "    while x<len(l):\n",
    "        if l[a][x]==\"@\":\n",
    "            c+=l[a][x]\n",
    "        else:\n",
    "            pos=c\n",
    "            b[-1]=pos\n",
    "            c=\"\"\n",
    "        x+=1\n",
    "    a+=1\n",
    "print(b)\n",
    "        "
   ]
  },
  {
   "cell_type": "code",
   "execution_count": 13,
   "metadata": {},
   "outputs": [
    {
     "name": "stdout",
     "output_type": "stream",
     "text": [
      "['@gmail.com', '@ymail.com', '@email.com']\n"
     ]
    }
   ],
   "source": [
    "st=\"qap@gmail.com pys@ymail.com jsp@email.com\"\n",
    "s=\"\"\n",
    "i=0\n",
    "l=[]\n",
    "while i<len(st):\n",
    "    if st[i]==\"@\":\n",
    "        s=\"\"\n",
    "        s+=st[i]\n",
    "    elif st[i]!=\" \":\n",
    "        s+=st[i]\n",
    "    else:\n",
    "        if len(s)!=0:\n",
    "            l+=[s]\n",
    "            s=\"\"\n",
    "    i+=1\n",
    "if len(s)!=0:\n",
    "    l+=[s]      \n",
    "print(l)\n"
   ]
  },
  {
   "cell_type": "code",
   "execution_count": 111,
   "metadata": {},
   "outputs": [
    {
     "name": "stdout",
     "output_type": "stream",
     "text": [
      "['gmail.com', 'ymail.com', 'pys.com', 'outlook.com']\n",
      "['.com', '.com', '.com', '.com']\n",
      "['moc.liamg', 'moc.liamy', 'moc.syp', 'moc.kooltuo']\n"
     ]
    }
   ],
   "source": [
    "st=\"qspiders@gmail.com pyspiders@ymail.com jspiders@pys.com ramu@outlook.com\"\n",
    "s=\"\"\n",
    "i=0\n",
    "l=[]\n",
    "while i<len(st):\n",
    "    if st[i]==\"@\":\n",
    "        s=\"\"\n",
    "    elif st[i]!=\" \":\n",
    "        s+=st[i]\n",
    "    else:\n",
    "        if len(s)!=0:\n",
    "            l+=[s]\n",
    "            s=\"\"\n",
    "    i+=1\n",
    "if len(s)!=0:\n",
    "    l+=[s]      \n",
    "print(l)\n",
    "a=0\n",
    "t=[]\n",
    "b=\"\"      \n",
    "while a<len(st):\n",
    "    if st[a]==\".\" :\n",
    "        b=\"\"      \n",
    "        b+=st[a]\n",
    "    elif st[a]!=\" \":\n",
    "        b+=st[a]\n",
    "    else:\n",
    "        if len(b)!=0:\n",
    "            t+=[b]\n",
    "            b=\"\"\n",
    "    a+=1\n",
    "if len(b)!=0:\n",
    "    t+=[b] \n",
    "print(t)\n",
    "rev=[]\n",
    "r=\"\"\n",
    "q=0\n",
    "while q<len(l):\n",
    "    r=l[q]\n",
    "    rev+=[r[::-1]]\n",
    "    q+=1\n",
    "print(rev)\n",
    "    \n",
    "\n"
   ]
  },
  {
   "cell_type": "code",
   "execution_count": 16,
   "metadata": {},
   "outputs": [
    {
     "name": "stdout",
     "output_type": "stream",
     "text": [
      "['.com', '.in', '.edu', '.com', '.in', '.org.in']\n",
      "[['com', 'com'], ['in', 'in'], ['edu'], ['org.in']]\n",
      "437\n",
      "{4: ['com'], 3: ['in'], 7: ['org.in']}\n"
     ]
    }
   ],
   "source": [
    "st=\"qspiders@gmail.com pyspiders@ymail.in jspiders@oys.edu ramu@outlook.com seetha@fb.in ap@gmail.org.in\"\n",
    "a=0\n",
    "t=[]\n",
    "b=\"\"      \n",
    "while a<len(st):\n",
    "    if st[a]==\".\" and \".\" not in b:\n",
    "        b=\"\"      \n",
    "        b+=st[a]\n",
    "    elif st[a]!=\" \":\n",
    "        b+=st[a]\n",
    "    else:\n",
    "        if len(b)!=0:\n",
    "            t+=[b]\n",
    "            b=\"\"\n",
    "    a+=1\n",
    "if len(b)!=0:\n",
    "    t+=[b] \n",
    "print(t)\n",
    "p=0\n",
    "lt=[]\n",
    "while p<len(t):\n",
    "    lt+=[t[p][1::]]\n",
    "    p+=1\n",
    "#print(lt)\n",
    "f=0\n",
    "uni=[]\n",
    "while f<len(lt):\n",
    "    if (lt[f][0]) not in uni:\n",
    "        uni+=[lt[f][0]]\n",
    "    f+=1\n",
    "# print(uni)\n",
    "\n",
    "ud=[]\n",
    "yk=0\n",
    "while yk<len(uni):\n",
    "    ud+=[[]]\n",
    "    xx=0\n",
    "    while xx<len(lt):\n",
    "        if uni[yk]==lt[xx][0]:\n",
    "            ud[-1]+=[lt[xx]]\n",
    "        xx+=1\n",
    "    yk+=1\n",
    "print(ud)\n",
    "uniuni=\"\"\n",
    "# bbb=\"\"\n",
    "ii=0\n",
    "while ii<len(t):\n",
    "    if str(len(t[ii]))not in uniuni:\n",
    "        uniuni+=str(len(t[ii]))\n",
    "    ii+=1\n",
    "print(uniuni)\n",
    "# print(bbb)\n",
    "\n",
    "dd={}\n",
    "ccc=0\n",
    "while ccc<len(t):\n",
    "    if t[ccc]not in dd:\n",
    "        lll=[t[ccc][1::]]\n",
    "        dd[len(t[ccc])]=lll\n",
    "        lll=[]\n",
    "    else:\n",
    "        lll+=[t[ccc][1::]]\n",
    "        dd[len(t(ccc))]=lll\n",
    "        lll=[]\n",
    "        print(\"p\")\n",
    "    ccc+=1\n",
    "print(dd)\n",
    "\n",
    "#error vundhi naku o/p ela ravadem ledt {3:['com','com','edu'];2:['in','in'];6:['org.in']}"
   ]
  },
  {
   "cell_type": "code",
   "execution_count": 1,
   "metadata": {},
   "outputs": [
    {
     "name": "stdout",
     "output_type": "stream",
     "text": [
      "['.com', '.in', '.edu', '.com', '.in', '.org.in']\n",
      "[['com', 'com'], ['in', 'in'], ['edu'], ['org.in']]\n",
      "[['.com', '.edu', '.com'], ['.in', '.in'], ['.org.in']]\n"
     ]
    }
   ],
   "source": [
    "st=\"qspiders@gmail.com pyspiders@ymail.in jspiders@oys.edu ramu@outlook.com seetha@fb.in ap@gmail.org.in\"\n",
    "a=0\n",
    "t=[]\n",
    "b=\"\"      \n",
    "while a<len(st):\n",
    "    if st[a]==\".\" and \".\" not in b:\n",
    "        b=\"\"      \n",
    "        b+=st[a]\n",
    "    elif st[a]!=\" \":\n",
    "        b+=st[a]\n",
    "    else:\n",
    "        if len(b)!=0:\n",
    "            t+=[b]\n",
    "            b=\"\"\n",
    "    a+=1\n",
    "if len(b)!=0:\n",
    "    t+=[b] \n",
    "print(t)\n",
    "p=0\n",
    "lt=[]\n",
    "while p<len(t):\n",
    "    lt+=[t[p][1::]]\n",
    "    p+=1\n",
    "#print(lt)\n",
    "f=0\n",
    "uni=[]\n",
    "while f<len(lt):\n",
    "    if (lt[f][0]) not in uni:\n",
    "        uni+=[lt[f][0]]\n",
    "    f+=1\n",
    "#print(uni)\n",
    "\n",
    "ud=[]\n",
    "yk=0\n",
    "while yk<len(uni):\n",
    "    ud+=[[]]\n",
    "    xx=0\n",
    "    while xx<len(lt):\n",
    "        if uni[yk]==lt[xx][0]:\n",
    "            ud[-1]+=[lt[xx]]\n",
    "        xx+=1\n",
    "    yk+=1\n",
    "print(ud)\n",
    "aa=0\n",
    "dup=\"\"\n",
    "while aa<len(t):\n",
    "    if str(len(t[aa])) not in dup:\n",
    "        dup+=str(len(t[aa]))\n",
    "    aa+=1\n",
    "#print(dup)\n",
    "dd=[]\n",
    "kk=0\n",
    "while kk<len(dup):\n",
    "    dd+=[[]]\n",
    "    xx=0\n",
    "    while xx<len(t):\n",
    "        if dup[kk]==str(len(t[xx])):\n",
    "            dd[-1]+=[t[xx]]\n",
    "        xx+=1\n",
    "    kk+=1\n",
    "print(dd)\n",
    "#some what error vundhi"
   ]
  },
  {
   "cell_type": "code",
   "execution_count": 12,
   "metadata": {},
   "outputs": [],
   "source": [
    "st=\"abcrwefs def1fgdfgvgh ijkdfdg lmno\"\n",
    "s=0\n",
    "res=\"\"\n",
    "while s<len(st):\n",
    "    if (ord(st[s]))==(ord(st[s+1])-1):\n",
    "        while s!=\" \":\n",
    "            if (ord(st[s+1]))==(ord(st[s+2])-1):\n",
    "                res+=st[s]+st[s+1]+st[s+2]\n",
    "                print(res) \n",
    "        res=\"\"    \n",
    "    s+=1\n",
    "\n",
    "\n"
   ]
  },
  {
   "cell_type": "code",
   "execution_count": 65,
   "metadata": {},
   "outputs": [
    {
     "name": "stdout",
     "output_type": "stream",
     "text": [
      " abc\n",
      " def\n",
      " def\n",
      " ijk\n",
      " lmno\n"
     ]
    }
   ],
   "source": [
    "st=\"abcrwdefs def1fgdfgvgh ijkdfdg lmnoq\"\n",
    "i=0\n",
    "s=\" \"\n",
    "while i<len(st):\n",
    "    if  i!=len(st)-1 and ord(st[i]) == ord(st[i+1])-1:     \n",
    "        s+=st[i]\n",
    "    elif ord(st[i-1])+1 == ord(st[i]):\n",
    "        s+=st[i]\n",
    "    else:\n",
    "        if len(s)>3:\n",
    "            print(s)\n",
    "        s=\" \"\n",
    "    i+=1\n",
    "#dot"
   ]
  },
  {
   "cell_type": "code",
   "execution_count": 26,
   "metadata": {},
   "outputs": [
    {
     "name": "stdout",
     "output_type": "stream",
     "text": [
      "first largest value 6\n",
      "first largest value 4\n"
     ]
    }
   ],
   "source": [
    "n=152346\n",
    "i=0\n",
    "p=0\n",
    "while n:\n",
    "    ld=n%10\n",
    "    if i<ld:\n",
    "        i=ld\n",
    "    n=n//10\n",
    "    d=n%10\n",
    "    if p<d:\n",
    "        p=d\n",
    "    n=n//10\n",
    "print(\"first largest value\",i)\n",
    "print(\"first largest value\",p)"
   ]
  },
  {
   "cell_type": "code",
   "execution_count": 45,
   "metadata": {},
   "outputs": [
    {
     "name": "stdout",
     "output_type": "stream",
     "text": [
      "first largest value 7\n",
      "second largest value 0\n"
     ]
    }
   ],
   "source": [
    "n=172346\n",
    "i=0\n",
    "while n:\n",
    "    ld=n%10\n",
    "    if i<ld:\n",
    "        i=ld\n",
    "    n=n//10\n",
    "p=0\n",
    "while n:\n",
    "    d=n%10\n",
    "    if d<ld:\n",
    "        p=d\n",
    "    n=n//10\n",
    "\n",
    "print(\"first largest value\",i)\n",
    "print(\"second largest value\",p)"
   ]
  },
  {
   "cell_type": "code",
   "execution_count": 71,
   "metadata": {},
   "outputs": [
    {
     "name": "stdout",
     "output_type": "stream",
     "text": [
      "['maths', 'science', 'english', 'social', 'hindi']\n",
      "large value is 99 and key is  english\n",
      "small value is 67 and key is  hindi\n"
     ]
    }
   ],
   "source": [
    "d={\"maths\":96,\"science\":78,\"english\":99,\"social\":95,\"hindi\":67}\n",
    "l=list(d)\n",
    "print(l)\n",
    "sm=0\n",
    "smv=\"\"\n",
    "lav=\"\"\n",
    "la=100\n",
    "i=0\n",
    "while i <len(l):\n",
    "    if sm<d[l[i]]:\n",
    "        sm=d[l[i]]\n",
    "        smv=l[i]\n",
    "    if la>d[l[i]]:\n",
    "        la=d[l[i]]\n",
    "        lav=l[i]\n",
    "    i+=1\n",
    "print(\"large value is\" ,sm ,\"and key is \",smv)\n",
    "print(\"small value is\" ,la,\"and key is \",lav)"
   ]
  },
  {
   "cell_type": "code",
   "execution_count": 7,
   "metadata": {},
   "outputs": [
    {
     "name": "stdout",
     "output_type": "stream",
     "text": [
      "Python@123\n"
     ]
    }
   ],
   "source": [
    "s=\"pytHoN@123\"\n",
    "i=0\n",
    "res=\"\"\n",
    "while i<len(s):\n",
    "    if i==0 and \"a\"<=s[i]<=\"z\":\n",
    "        res+=chr(ord(s[i])-32)\n",
    "    elif \"A\"<=s[i]<=\"Z\":\n",
    "        res+=chr(ord(s[i])+32)\n",
    "    else:\n",
    "        res+=s[i]\n",
    "    i+=1\n",
    "print(res)\n",
    "        "
   ]
  }
 ],
 "metadata": {
  "kernelspec": {
   "display_name": "Python 3",
   "language": "python",
   "name": "python3"
  },
  "language_info": {
   "codemirror_mode": {
    "name": "ipython",
    "version": 3
   },
   "file_extension": ".py",
   "mimetype": "text/x-python",
   "name": "python",
   "nbconvert_exporter": "python",
   "pygments_lexer": "ipython3",
   "version": "3.11.4"
  },
  "orig_nbformat": 4
 },
 "nbformat": 4,
 "nbformat_minor": 2
}
