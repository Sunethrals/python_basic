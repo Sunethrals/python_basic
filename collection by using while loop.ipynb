{
 "cells": [
  {
   "cell_type": "code",
   "execution_count": 2,
   "metadata": {},
   "outputs": [
    {
     "name": "stdout",
     "output_type": "stream",
     "text": [
      "P\n",
      "S\n"
     ]
    }
   ],
   "source": [
    "s=\"PySpiders\"\n",
    "start=0\n",
    "end=len(s)\n",
    "while start<end:\n",
    "    l=s[start]\n",
    "    if \"A\"<=l<=\"Z\":\n",
    "        print(l)\n",
    "    start+=1"
   ]
  },
  {
   "cell_type": "code",
   "execution_count": 3,
   "metadata": {},
   "outputs": [
    {
     "name": "stdout",
     "output_type": "stream",
     "text": [
      "y\n",
      "p\n",
      "i\n",
      "d\n",
      "e\n",
      "r\n",
      "s\n"
     ]
    }
   ],
   "source": [
    "s=\"PySpiders\"\n",
    "start=0\n",
    "end=len(s)\n",
    "while start<end:\n",
    "    l=s[start]\n",
    "    if \"a\"<=l<=\"z\":\n",
    "        print(l)\n",
    "    start+=1"
   ]
  },
  {
   "cell_type": "code",
   "execution_count": 4,
   "metadata": {},
   "outputs": [
    {
     "name": "stdout",
     "output_type": "stream",
     "text": [
      "i\n",
      "e\n"
     ]
    }
   ],
   "source": [
    "s=\"PySpiders\"\n",
    "start=0\n",
    "end=len(s)\n",
    "while start<end:\n",
    "    l=s[start]\n",
    "    if l in \"aeiou\":\n",
    "        print(l)\n",
    "    start+=1"
   ]
  },
  {
   "cell_type": "code",
   "execution_count": 5,
   "metadata": {},
   "outputs": [
    {
     "name": "stdout",
     "output_type": "stream",
     "text": [
      "@\n"
     ]
    }
   ],
   "source": [
    "s=\"PySpiders@\"\n",
    "start=0\n",
    "end=len(s)\n",
    "while start<end:\n",
    "    l=s[start]\n",
    "    if not(\"a\"<=l<=\"z\" or \"A\"<=l<=\"Z\" or \"0\"<=l<=\"9\"):\n",
    "        print(l)\n",
    "    start+=1"
   ]
  },
  {
   "cell_type": "code",
   "execution_count": 7,
   "metadata": {},
   "outputs": [
    {
     "name": "stdout",
     "output_type": "stream",
     "text": [
      "P 80\n",
      "y 121\n",
      "S 83\n",
      "p 112\n",
      "i 105\n",
      "d 100\n",
      "e 101\n",
      "r 114\n",
      "s 115\n"
     ]
    }
   ],
   "source": [
    "s=\"PySpiders\"\n",
    "start=0\n",
    "end=len(s)\n",
    "while start<end:\n",
    "    print(s[start],ord(s[start]))\n",
    "    start+=1"
   ]
  }
 ],
 "metadata": {
  "kernelspec": {
   "display_name": "Python 3",
   "language": "python",
   "name": "python3"
  },
  "language_info": {
   "codemirror_mode": {
    "name": "ipython",
    "version": 3
   },
   "file_extension": ".py",
   "mimetype": "text/x-python",
   "name": "python",
   "nbconvert_exporter": "python",
   "pygments_lexer": "ipython3",
   "version": "3.11.4"
  },
  "orig_nbformat": 4
 },
 "nbformat": 4,
 "nbformat_minor": 2
}
