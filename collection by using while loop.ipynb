{
 "cells": [
  {
   "cell_type": "code",
   "execution_count": 2,
   "metadata": {},
   "outputs": [
    {
     "name": "stdout",
     "output_type": "stream",
     "text": [
      "P\n",
      "S\n"
     ]
    }
   ],
   "source": [
    "s=\"PySpiders\"\n",
    "start=0\n",
    "end=len(s)\n",
    "while start<end:\n",
    "    l=s[start]\n",
    "    if \"A\"<=l<=\"Z\":\n",
    "        print(l)\n",
    "    start+=1"
   ]
  },
  {
   "cell_type": "code",
   "execution_count": 3,
   "metadata": {},
   "outputs": [
    {
     "name": "stdout",
     "output_type": "stream",
     "text": [
      "y\n",
      "p\n",
      "i\n",
      "d\n",
      "e\n",
      "r\n",
      "s\n"
     ]
    }
   ],
   "source": [
    "s=\"PySpiders\"\n",
    "start=0\n",
    "end=len(s)\n",
    "while start<end:\n",
    "    l=s[start]\n",
    "    if \"a\"<=l<=\"z\":\n",
    "        print(l)\n",
    "    start+=1"
   ]
  },
  {
   "cell_type": "code",
   "execution_count": 4,
   "metadata": {},
   "outputs": [
    {
     "name": "stdout",
     "output_type": "stream",
     "text": [
      "i\n",
      "e\n"
     ]
    }
   ],
   "source": [
    "s=\"PySpiders\"\n",
    "start=0\n",
    "end=len(s)\n",
    "while start<end:\n",
    "    l=s[start]\n",
    "    if l in \"aeiou\":\n",
    "        print(l)\n",
    "    start+=1"
   ]
  },
  {
   "cell_type": "code",
   "execution_count": 5,
   "metadata": {},
   "outputs": [
    {
     "name": "stdout",
     "output_type": "stream",
     "text": [
      "@\n"
     ]
    }
   ],
   "source": [
    "s=\"PySpiders@\"\n",
    "start=0\n",
    "end=len(s)\n",
    "while start<end:\n",
    "    l=s[start]\n",
    "    if not(\"a\"<=l<=\"z\" or \"A\"<=l<=\"Z\" or \"0\"<=l<=\"9\"):\n",
    "        print(l)\n",
    "    start+=1"
   ]
  },
  {
   "cell_type": "code",
   "execution_count": 7,
   "metadata": {},
   "outputs": [
    {
     "name": "stdout",
     "output_type": "stream",
     "text": [
      "P 80\n",
      "y 121\n",
      "S 83\n",
      "p 112\n",
      "i 105\n",
      "d 100\n",
      "e 101\n",
      "r 114\n",
      "s 115\n"
     ]
    }
   ],
   "source": [
    "s=\"PySpiders\"\n",
    "start=0\n",
    "end=len(s)\n",
    "while start<end:\n",
    "    print(s[start],ord(s[start]))\n",
    "    start+=1"
   ]
  },
  {
   "cell_type": "code",
   "execution_count": 52,
   "metadata": {},
   "outputs": [
    {
     "name": "stdout",
     "output_type": "stream",
     "text": [
      "9 9\n"
     ]
    }
   ],
   "source": [
    "#count the no.of characters\n",
    "s=\"pyspiders\"\n",
    "start=1\n",
    "end=len(s)\n",
    "while start<end:\n",
    "    start+=1\n",
    "print(start,len(s))"
   ]
  },
  {
   "cell_type": "code",
   "execution_count": 54,
   "metadata": {},
   "outputs": [
    {
     "name": "stdout",
     "output_type": "stream",
     "text": [
      "9 0\n"
     ]
    }
   ],
   "source": [
    "#count the no.of craracter without len collection\n",
    "s=\"pyspiders\"\n",
    "count=0\n",
    "while s:\n",
    "    count+=1\n",
    "    s=s[:-1]\n",
    "print(count)"
   ]
  },
  {
   "cell_type": "code",
   "execution_count": 58,
   "metadata": {},
   "outputs": [
    {
     "name": "stdout",
     "output_type": "stream",
     "text": [
      "2\n"
     ]
    }
   ],
   "source": [
    "#count the uppercase character from given string\n",
    "s=\"PYthon\"\n",
    "start=0\n",
    "end=len(s)\n",
    "c=0\n",
    "while start<end:\n",
    "    if \"A\"<=s[start]<=\"Z\":\n",
    "        c+=1\n",
    "    start+=1\n",
    "print(c)"
   ]
  },
  {
   "cell_type": "code",
   "execution_count": 60,
   "metadata": {},
   "outputs": [
    {
     "name": "stdout",
     "output_type": "stream",
     "text": [
      "thn\n"
     ]
    }
   ],
   "source": [
    "#extract and store the lowercase from given string\n",
    "s=\"PYthOn\"\n",
    "start=0\n",
    "end=len(s)\n",
    "c=\"\"\n",
    "while start<end:\n",
    "    if \"a\"<=s[start]<=\"z\":\n",
    "        c+=s[start]\n",
    "    start+=1\n",
    "print(c)"
   ]
  },
  {
   "cell_type": "code",
   "execution_count": 101,
   "metadata": {},
   "outputs": [
    {
     "name": "stdout",
     "output_type": "stream",
     "text": [
      "$\n"
     ]
    }
   ],
   "source": [
    "#extract and store the special character with ascci number  from given string\n",
    "s=\"$pyt&hon@\"\n",
    "n=0\n",
    "while n<=len(s):\n",
    "    c=\"\"\n",
    "    if not(\"a\"<=s[0]<=\"z\" or \"A\"<=s[0]<=\"Z\"):\n",
    "        c+=s[0]\n",
    "    n+=1\n",
    "print(c)\n",
    "\n",
    "#dot"
   ]
  },
  {
   "cell_type": "code",
   "execution_count": 107,
   "metadata": {},
   "outputs": [
    {
     "name": "stdout",
     "output_type": "stream",
     "text": [
      "\n",
      "\n",
      "\n",
      "\n"
     ]
    }
   ],
   "source": [
    "#segrate each character seperately\n",
    "s=\"Py$tH12o()n\"\n",
    "u=\"\"\n",
    "l=\"\"\n",
    "n=\"\"\n",
    "s=\"\"\n",
    "start=0\n",
    "while start<len(s):\n",
    "    if \"a\"<=s[start]<=\"z\":\n",
    "        l+=s[start]\n",
    "    elif \"A\"<=s[start]<=\"Z\":\n",
    "        u+=s[start]\n",
    "    elif \"0\"<=s[start]<=\"9\":\n",
    "        n+=s[start]\n",
    "    else:\n",
    "        s+=s[start]\n",
    "    start+=1\n",
    "print(l)\n",
    "print(u)\n",
    "print(n)\n",
    "print(s)\n",
    "\n",
    "#dot\n"
   ]
  },
  {
   "cell_type": "code",
   "execution_count": 115,
   "metadata": {},
   "outputs": [
    {
     "name": "stdout",
     "output_type": "stream",
     "text": [
      "valid password SUnhghj&@1\n"
     ]
    }
   ],
   "source": [
    "#passwaord\n",
    "st=\"SUnhghj&@1\"\n",
    "uc,lc,an,sp=0,0,0,0\n",
    "if 8<=len(st)<=16:\n",
    "    start=0\n",
    "    while start<len(st):\n",
    "        if \"A\"<=st[start]<=\"Z\":\n",
    "            uc+=1\n",
    "        elif \"a\"<=st[start]<=\"z\":\n",
    "            lc+=1\n",
    "        elif\"0\"<=st[start]<=\"9\":\n",
    "            an+=1\n",
    "        else:\n",
    "            sp+=1\n",
    "        start+=1\n",
    "    if uc>=2 and lc>=1 and sp<=2 and an<=1:\n",
    "        print(\"valid password\",st)\n",
    "    else:\n",
    "        print(\"invalid password\")\n",
    "else:\n",
    "        print(\"invalid password\")\n",
    "        #dot once check notes"
   ]
  },
  {
   "cell_type": "code",
   "execution_count": 23,
   "metadata": {},
   "outputs": [
    {
     "name": "stdout",
     "output_type": "stream",
     "text": [
      "8\n",
      "valid\n"
     ]
    }
   ],
   "source": [
    "st=\"Sunethra@gmail.com\"\n",
    "x=0\n",
    "temp=0\n",
    "while x<len(st):\n",
    "    if not(\"A\"<=st[x]<=\"Z\" or \"a\"<=st[x]<=\"z\" or \"0\"<=st[x]<=\"9\" or st[x] in \"@.\"):\n",
    "        temp+=1\n",
    "    x+=1\n",
    "if temp==0:\n",
    "    if \"@\" in st and \".\" in st:\n",
    "        start=0\n",
    "        pos=None\n",
    "        count=0\n",
    "        while start<len(st):\n",
    "            if \"@\"==st[start]:\n",
    "                pos=start\n",
    "                count+=1\n",
    "            start+=1\n",
    "        if count==1:\n",
    "            print(pos)\n",
    "            if \".\" in st[pos:]:\n",
    "                c=0\n",
    "                i=pos\n",
    "                while i<len(st):\n",
    "                    if \".\" == st[i]:\n",
    "                        c+=1\n",
    "                    i+=1\n",
    "                if 1<=c<=2:\n",
    "                    print(\"valid\")\n",
    "                else:\n",
    "                    print(\"invalid emailid\")\n",
    "            else:\n",
    "                print(\"invalid emailid\")\n",
    "        else:\n",
    "            print(\"invalid emailid\")\n",
    "    else:\n",
    "        print(\"invalid emailid\")\n",
    "else:\n",
    "    print(\"invalid emailid\")\n",
    "\n"
   ]
  },
  {
   "cell_type": "code",
   "execution_count": 7,
   "metadata": {},
   "outputs": [
    {
     "name": "stdout",
     "output_type": "stream",
     "text": [
      "python\n"
     ]
    }
   ],
   "source": [
    "#uppercase to lower case\n",
    "s=\"PYTHon\"\n",
    "start=0\n",
    "st=\"\"\n",
    "while start< len(s):\n",
    "    if \"A\"<=s[start]<=\"Z\":\n",
    "        st+=chr(ord(s[start])+32) \n",
    "          \n",
    "    else:\n",
    "        st+=s[start]\n",
    "    start+=1\n",
    "print(st)"
   ]
  },
  {
   "cell_type": "code",
   "execution_count": 16,
   "metadata": {},
   "outputs": [
    {
     "name": "stdout",
     "output_type": "stream",
     "text": [
      "pyth_pn\n"
     ]
    }
   ],
   "source": [
    "#given string into snake case\n",
    "s=\"PYTH on\"\n",
    "start=0\n",
    "st=\"\"\n",
    "while start< len(s):\n",
    "    if \"A\"<=s[start]<=\"Z\":\n",
    "        st+=chr(ord(s[start])+32) \n",
    "    elif s[start]==\" \":\n",
    "        st+=\"_\"     \n",
    "    else:\n",
    "        st+=s[start]\n",
    "    start+=1\n",
    "print(st)"
   ]
  },
  {
   "cell_type": "code",
   "execution_count": 24,
   "metadata": {},
   "outputs": [
    {
     "name": "stdout",
     "output_type": "stream",
     "text": [
      "@python\n"
     ]
    }
   ],
   "source": [
    "#given string into captilized\n",
    "s=\"@python\"\n",
    "start=1\n",
    "res=\"\"\n",
    "if \"a\"<=s[0]<=\"z\":\n",
    "    res+=chr(ord(s[0])-32)\n",
    "else:\n",
    "    res+=s[0]\n",
    "while start<len(s):\n",
    "    if \"A\"<=s[start]<=\"Z\":\n",
    "        res+=chr(ord(s[start])+32)\n",
    "    else:\n",
    "        res+=s[start]\n",
    "    start+=1\n",
    "print(res)"
   ]
  },
  {
   "cell_type": "code",
   "execution_count": 6,
   "metadata": {},
   "outputs": [
    {
     "name": "stdout",
     "output_type": "stream",
     "text": [
      "__ python __\n"
     ]
    }
   ],
   "source": [
    "#given string into dargon case\n",
    "s=\"PYthon&%\"\n",
    "start=0\n",
    "res=\"\"\n",
    "while start<len(s):\n",
    "    if \"A\"<=s[start]<=\"Z\" or \"a\"<=s[start]<=\"z\":\n",
    "        if s[start]==\" \":\n",
    "            res+=\"_\"\n",
    "        elif \"A\"<=s[start]<=\"Z\":\n",
    "            res+=chr(ord(s[start])+32)\n",
    "        else:\n",
    "            res+=s[start]\n",
    "    start+=1\n",
    "print(\"__\",res,\"__\")"
   ]
  },
  {
   "cell_type": "code",
   "execution_count": 87,
   "metadata": {},
   "outputs": [
    {
     "name": "stdout",
     "output_type": "stream",
     "text": [
      "Python\n"
     ]
    }
   ],
   "source": [
    "#captialized\n",
    "s=\"PytHon\"\n",
    "start=1\n",
    "res=\"\"\n",
    "if \"a\"<=s[0]<=\"z\":\n",
    "    res+=chr(ord(s[0])-32)\n",
    "else:\n",
    "    res+=s[0]\n",
    "while start<len(s):\n",
    "    if\"A\"<=s[start]<=\"Z\":\n",
    "        res+=chr(ord(s[start])+32)\n",
    "    else:\n",
    "        res+=s[start]\n",
    "    start+=1\n",
    "print(res)"
   ]
  },
  {
   "cell_type": "code",
   "execution_count": 44,
   "metadata": {},
   "outputs": [
    {
     "name": "stdout",
     "output_type": "stream",
     "text": [
      "hello haii world we1v3come to py$hon class\n",
      "hello Hhaii Wworld Wwe1v3come Tto Ppy Hhon Cclass\n"
     ]
    }
   ],
   "source": [
    "#title case\n",
    "st=\"hello haIi World We1v3coMe to Py$hon cLAsS\"\n",
    "i=0\n",
    "n=\"\"\n",
    "while i<len(st):\n",
    "    if \"A\"<=st[i]<=\"Z\":\n",
    "        n+=str(chr(ord(st[i])+32))\n",
    "    else:\n",
    "        n+=st[i]\n",
    "    i+=1\n",
    "j=0\n",
    "s=\"\"\n",
    "while j<len(n):\n",
    "    if not(\"a\"<=n[j]<=\"z\" or \"0\"<=n[j]<=\"9\"):\n",
    "        s+=\" \"\n",
    "        s+=chr(ord(n[j+1])-32)\n",
    "    else:\n",
    "        s+=n[j]\n",
    "    j+=1\n",
    "print(n)\n",
    "print(s)"
   ]
  },
  {
   "cell_type": "code",
   "execution_count": 56,
   "metadata": {},
   "outputs": [
    {
     "name": "stdout",
     "output_type": "stream",
     "text": [
      "hello haii world we1v3come to py$hon class\n",
      "hello@haii@world@we@v@come@to@py@hon@class\n",
      " class\n"
     ]
    }
   ],
   "source": [
    "#title case\n",
    "st=\"hello haIi World We1v3coMe to Py$hon cLAsS\"\n",
    "i=0\n",
    "n=\"\"\n",
    "while i<len(st):\n",
    "    if \"A\"<=st[i]<\"Z\":\n",
    "        n+=chr(ord(st[i])+32)\n",
    "    else:\n",
    "        n+=st[i]\n",
    "    i+=1\n",
    "j=0\n",
    "k=\"\"\n",
    "while j<len(n):\n",
    "    if not(\"a\"<=n[j]<=\"z\"):\n",
    "        k+=\"@\"\n",
    "    else:\n",
    "        k+=n[j]\n",
    "    j+=1\n",
    "p=0\n",
    "l=\"\"\n",
    "while p<len(k):\n",
    "    if k[p] ==\"@\":\n",
    "        z=p+1\n",
    "        l=chr(ord(k[p])-32)\n",
    "    else:\n",
    "        l+=k[p]\n",
    "    p+=1\n",
    "print(n)\n",
    "print(k)\n",
    "print(l)\n"
   ]
  },
  {
   "cell_type": "code",
   "execution_count": 86,
   "metadata": {},
   "outputs": [
    {
     "name": "stdout",
     "output_type": "stream",
     "text": [
      "H\n"
     ]
    }
   ],
   "source": [
    "st=\"hello haIi World We1v3coMe to Py$hon cLAsS\"\n",
    "s=0\n",
    "res=\"\"\n",
    "if \"a\"<=st[0]<=\"z\":\n",
    "    res+=chr(ord(st[0])-32)\n",
    "else:\n",
    "    res+=st[0]\n",
    "while s<len(st):\n",
    "    if not(\"A\"<=st[s]<=\"Z\" or \"a\"<=st[0]<=\"z\"):\n",
    "        res+=st[s]\n",
    "        print(\"hello\")\n",
    "    s+=1\n",
    "print(res)"
   ]
  },
  {
   "cell_type": "code",
   "execution_count": 15,
   "metadata": {},
   "outputs": [
    {
     "name": "stdout",
     "output_type": "stream",
     "text": [
      "hello haIi World We1v3coMe to Py$hon cLAsS\n",
      "h \n",
      "W w\n",
      "W w\n",
      "t \n",
      "P p\n",
      "c \n",
      "Hellohaiiwworldwwe1v3cometoppy$honclass\n"
     ]
    }
   ],
   "source": [
    "#captialized\n",
    "s=\"hello haIi World We1v3coMe to Py$hon cLAsS\"\n",
    "print(s)\n",
    "start=1\n",
    "res=\"\"\n",
    "if \"a\"<=s[0]<=\"z\":\n",
    "    res+=chr(ord(s[0])-32)\n",
    "else:\n",
    "    res+=s[0]\n",
    "while start<len(s):\n",
    "    if\"A\"<=s[start]<=\"Z\":\n",
    "        res+=chr(ord(s[start])+32)\n",
    "    elif s[start]==\" \" :\n",
    "        \n",
    "        i=s[start+1]\n",
    "        res+=chr(ord(i)+32)\n",
    "        print(i,chr(ord(i)+32))\n",
    "    else:\n",
    "        res+=s[start]\n",
    "    start+=1\n",
    "print(res)\n"
   ]
  },
  {
   "cell_type": "code",
   "execution_count": null,
   "metadata": {},
   "outputs": [],
   "source": [
    "a=\"pythom#sdhkf uyu*hjkds\"\n",
    "y=a.split()\n",
    "print(y)\n",
    "r=\"\"\n",
    "for i in y: \n",
    "    r=r+i[0].upper+i[1:].lower()+ \" \"\n",
    "print(r)\n"
   ]
  }
 ],
 "metadata": {
  "kernelspec": {
   "display_name": "Python 3",
   "language": "python",
   "name": "python3"
  },
  "language_info": {
   "codemirror_mode": {
    "name": "ipython",
    "version": 3
   },
   "file_extension": ".py",
   "mimetype": "text/x-python",
   "name": "python",
   "nbconvert_exporter": "python",
   "pygments_lexer": "ipython3",
   "version": "3.11.4"
  },
  "orig_nbformat": 4
 },
 "nbformat": 4,
 "nbformat_minor": 2
}
