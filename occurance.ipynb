{
 "cells": [
  {
   "cell_type": "code",
   "execution_count": 18,
   "metadata": {},
   "outputs": [
    {
     "name": "stdout",
     "output_type": "stream",
     "text": [
      ".in\n",
      "{'.in': 0}\n"
     ]
    }
   ],
   "source": [
    "l=[\"www.google.com\",\"ww.yhaoo.in\",\"www.wikipeis.edu\",\"www.kcp.npu.in\"]\n",
    "def occur(a):\n",
    "    p=\"\"\n",
    "    l=[]\n",
    "    for i in a:\n",
    "        st=0\n",
    "        while st<len(i):\n",
    "            if i[st]==\".\":\n",
    "                p=i[st::]\n",
    "            st+=1\n",
    "            l+=p\n",
    "    print(p)\n",
    "    d={}\n",
    "    count=0\n",
    "    for i in range(0,len(p)):\n",
    "        if p[i] not in d:\n",
    "            d[p]=count\n",
    "        else:\n",
    "            d[p]=count+1\n",
    "    print(d)\n",
    "occur(l)\n"
   ]
  },
  {
   "cell_type": "code",
   "execution_count": null,
   "metadata": {},
   "outputs": [
    {
     "name": "stdout",
     "output_type": "stream",
     "text": [
      "['hello', ' hai', ' how', ' are', ' you']\n"
     ]
    }
   ],
   "source": [
    "a=\"hello hai how are you\"\n",
    "def reverse(l):\n",
    "    p=[]\n",
    "    res=\"\"\n",
    "    i=0\n",
    "    while i<len(l):\n",
    "        if l[i]!=\" \":\n",
    "            res+=l[i]\n",
    "        else:\n",
    "            p+=[res]\n",
    "            res=\" \"\n",
    "        i+=1\n",
    "    if len(res)!=0:\n",
    "        p+=[res]\n",
    "    # print(p)\n",
    "    q=\" \"\n",
    "    for i in range(1,len(p)):\n",
    "        q+=p[-i]\n",
    "    print(q)\n",
    "reverse(a)"
   ]
  }
 ],
 "metadata": {
  "kernelspec": {
   "display_name": "Python 3",
   "language": "python",
   "name": "python3"
  },
  "language_info": {
   "codemirror_mode": {
    "name": "ipython",
    "version": 3
   },
   "file_extension": ".py",
   "mimetype": "text/x-python",
   "name": "python",
   "nbconvert_exporter": "python",
   "pygments_lexer": "ipython3",
   "version": "3.11.4"
  }
 },
 "nbformat": 4,
 "nbformat_minor": 2
}
